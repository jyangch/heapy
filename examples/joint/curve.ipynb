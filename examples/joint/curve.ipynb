{
 "cells": [
  {
   "cell_type": "code",
   "execution_count": 2,
   "id": "3427ca76",
   "metadata": {},
   "outputs": [],
   "source": [
    "import numpy as np\n",
    "import matplotlib.pyplot as plt\n",
    "from matplotlib import rcParams\n",
    "from heapy.pipe.event import gbmTTE\n",
    "from heapy.pipe.image import epImage\n",
    "from heapy.util.time import fermi_utc_to_met, ep_utc_to_met"
   ]
  },
  {
   "cell_type": "code",
   "execution_count": 3,
   "id": "9db146f9",
   "metadata": {},
   "outputs": [],
   "source": [
    "utc = '2024-02-19T06:21:44.15'\n",
    "fermi_met = fermi_utc_to_met(utc)\n",
    "ep_met = ep_utc_to_met(utc)\n",
    "\n",
    "gbm_tte = gbmTTE.from_utc(utc=utc, det='n9')\n",
    "gbm_tte.timezero = fermi_met\n",
    "gbm_tte.filter_time([-200, 300])\n",
    "gbm_tte.filter_energy([8, 900])\n",
    "gbm_tte.lc_binsize = 2\n",
    "gbm_lc_time = gbm_tte.lc_time\n",
    "gbm_lc_net_rate = gbm_tte.lc_net_rate\n",
    "\n",
    "wxt_event = epImage.from_wxtobs('ep13600003859wxtCMOS44l23v2', 's2')\n",
    "wxt_event.timezero = ep_met\n",
    "wxt_event.filter_time([-200, 465])\n",
    "wxt_event.filter_pi([50, 400])\n",
    "wxt_event.lc_binsize = 2\n",
    "wxt_lc_time = wxt_event.lc_time\n",
    "wxt_lc_net_rate = wxt_event.lc_net_rate"
   ]
  },
  {
   "cell_type": "code",
   "execution_count": 4,
   "id": "e90585f1",
   "metadata": {},
   "outputs": [],
   "source": [
    "rcParams['font.family'] = 'serif'\n",
    "rcParams['font.sans-serif'] = 'Georgia'\n",
    "rcParams['font.size'] = 12\n",
    "rcParams['pdf.fonttype'] = 42\n",
    "\n",
    "fig, ax = plt.subplots(1, 1, figsize=(8, 5))\n",
    "p1, = ax.plot(gbm_lc_time, gbm_lc_net_rate, lw=1.0, c='r', label='Fermi/GBM')\n",
    "ax.set_xlim([-100, 300])    #\n",
    "ax.set_xlabel(f'Time since {utc} (s)')\n",
    "ax.set_ylabel('Fermi/GBM counts per second')\n",
    "ax.minorticks_on()\n",
    "ax.tick_params(axis='x', which='both', direction='in', labelcolor='k', colors='k')\n",
    "ax.tick_params(axis='y', which='both', direction='in', labelcolor='k', colors='k')\n",
    "ax.tick_params(which='major', width=1.0, length=5)\n",
    "ax.tick_params(which='minor', width=1.0, length=3)\n",
    "ax.xaxis.set_ticks_position('both')\n",
    "ax.yaxis.set_ticks_position('both')\n",
    "\n",
    "ax1 = ax.twinx()\n",
    "p2, = ax1.plot(wxt_lc_time, wxt_lc_net_rate, lw=1.0, c='b', label='EP-WXT')\n",
    "ax1.set_ylabel('EP-WXT counts per second')\n",
    "\n",
    "ratio = np.max(gbm_lc_net_rate) / np.max(wxt_lc_net_rate)\n",
    "gbm_ylim = [0.2 * np.min(gbm_lc_net_rate), 1.2 * np.max(gbm_lc_net_rate)]\n",
    "wxt_ylim = [lim / ratio for lim in gbm_ylim]\n",
    "ax.set_ylim(gbm_ylim)\n",
    "ax1.set_ylim(wxt_ylim)\n",
    "\n",
    "plt.legend(handles=[p1, p2], frameon=False)\n",
    "fig.savefig('./curve.pdf', bbox_inches='tight', pad_inches=0.1, dpi=300)\n",
    "plt.close(fig)"
   ]
  }
 ],
 "metadata": {
  "kernelspec": {
   "display_name": "base",
   "language": "python",
   "name": "python3"
  },
  "language_info": {
   "codemirror_mode": {
    "name": "ipython",
    "version": 3
   },
   "file_extension": ".py",
   "mimetype": "text/x-python",
   "name": "python",
   "nbconvert_exporter": "python",
   "pygments_lexer": "ipython3",
   "version": "3.12.8"
  }
 },
 "nbformat": 4,
 "nbformat_minor": 5
}
