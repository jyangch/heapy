{
 "cells": [
  {
   "cell_type": "code",
   "execution_count": 2,
   "id": "61b4dae0-f54e-4137-98b6-a03db2a43831",
   "metadata": {},
   "outputs": [],
   "source": [
    "import numpy as np\n",
    "from bayspec.model.local import *\n",
    "from bayspec.model.astro import *\n",
    "from bayspec.util.prior import unif\n",
    "from bayspec import DataUnit, Data, Infer, Plot"
   ]
  },
  {
   "cell_type": "code",
   "execution_count": 3,
   "id": "81de8aa7-7f95-485f-8f82-b1e9102b6a86",
   "metadata": {},
   "outputs": [],
   "source": [
    "tbabs_ins = AS_TbAbs()\n",
    "tbabs_ins.expr = 'tbabs'\n",
    "tbabs_ins.cfg[1].val = 0\n",
    "tbabs_ins.par[1].frozen_at(0.467)\n",
    "\n",
    "ztbabs_ins = AS_TbAbs()\n",
    "ztbabs_ins.expr = 'ztbabs'\n",
    "ztbabs_ins.cfg[1].val = 0\n",
    "\n",
    "pl_ins = pl()\n",
    "\n",
    "wxt_model = tbabs_ins*ztbabs_ins*pl_ins"
   ]
  },
  {
   "cell_type": "code",
   "execution_count": 4,
   "id": "3505187c-6a1b-492d-a47f-3458a4bb309d",
   "metadata": {},
   "outputs": [
    {
     "name": "stderr",
     "output_type": "stream",
     "text": [
      "/Users/jyang/Documents/python_works/bayspec/bayspec/data/spectrum.py:192: UserWarning: ../wxt/spectrum/p0d00-p160d00.src -> src error is not specified and will default to Poisson error\n",
      "  warnings.warn(f'{src_file} -> src error is not specified and will default to Poisson error')\n",
      "/Users/jyang/Documents/python_works/bayspec/bayspec/data/spectrum.py:321: UserWarning: ../wxt/spectrum/p0d00-p160d00.bkg -> bkg error is not specified and will default to Poisson error\n",
      "  warnings.warn(f'{bkg_file} -> bkg error is not specified and will default to Poisson error')\n"
     ]
    }
   ],
   "source": [
    "wxt = DataUnit(\n",
    "    src='../wxt/spectrum/p0d00-p160d00.src', \n",
    "    bkg='../wxt/spectrum/p0d00-p160d00.bkg', \n",
    "    rmf='../wxt/ep.rmf', \n",
    "    arf='../wxt/ep.arf', \n",
    "    notc=[0.5, 4], \n",
    "    stat='cstat', \n",
    "    grpg={'min_evt': 5})\n",
    "\n",
    "wxt_data = Data([('WXT', wxt)])"
   ]
  },
  {
   "cell_type": "code",
   "execution_count": 5,
   "id": "a6d283c1-d24c-47f5-9c17-89f06d517afa",
   "metadata": {},
   "outputs": [
    {
     "name": "stdout",
     "output_type": "stream",
     "text": [
      "╒════════╤═════════════════════╤═════════════╤═════════════╤═════════╕\n",
      "│  cfg#  │     Expression      │  Component  │  Parameter  │  Value  │\n",
      "╞════════╪═════════════════════╪═════════════╪═════════════╪═════════╡\n",
      "│   1    │ ((tbabs*ztbabs)*pl) │    tbabs    │  redshift   │    0    │\n",
      "├────────┼─────────────────────┼─────────────┼─────────────┼─────────┤\n",
      "│   2    │ ((tbabs*ztbabs)*pl) │   ztbabs    │  redshift   │    0    │\n",
      "├────────┼─────────────────────┼─────────────┼─────────────┼─────────┤\n",
      "│   3    │ ((tbabs*ztbabs)*pl) │     pl      │  redshift   │    0    │\n",
      "╘════════╧═════════════════════╧═════════════╧═════════════╧═════════╛\n",
      "╒════════╤═════════════════════╤═════════════╤═════════════╤═════════╤═════════════════╕\n",
      "│  par#  │     Expression      │  Component  │  Parameter  │  Value  │      Prior      │\n",
      "╞════════╪═════════════════════╪═════════════╪═════════════╪═════════╪═════════════════╡\n",
      "│   1    │ ((tbabs*ztbabs)*pl) │    tbabs    │     NH      │  0.467  │     frozen      │\n",
      "├────────┼─────────────────────┼─────────────┼─────────────┼─────────┼─────────────────┤\n",
      "│   2*   │ ((tbabs*ztbabs)*pl) │   ztbabs    │     NH      │    1    │ unif(0.0001, 2) │\n",
      "├────────┼─────────────────────┼─────────────┼─────────────┼─────────┼─────────────────┤\n",
      "│   3*   │ ((tbabs*ztbabs)*pl) │     pl      │  $\\alpha$   │   -1    │   unif(-8, 5)   │\n",
      "├────────┼─────────────────────┼─────────────┼─────────────┼─────────┼─────────────────┤\n",
      "│   4*   │ ((tbabs*ztbabs)*pl) │     pl      │   log$A$    │   -1    │  unif(-10, 8)   │\n",
      "╘════════╧═════════════════════╧═════════════╧═════════════╧═════════╧═════════════════╛\n",
      "\n"
     ]
    }
   ],
   "source": [
    "wxt_infer = Infer([(wxt_data, wxt_model)])\n",
    "wxt_infer.par[2].prior = unif(0.0001, 2)\n",
    "print(wxt_infer)"
   ]
  },
  {
   "cell_type": "code",
   "execution_count": 6,
   "id": "2d1c9225-823d-44b9-9baf-9aa71b83220c",
   "metadata": {},
   "outputs": [
    {
     "name": "stdout",
     "output_type": "stream",
     "text": [
      " *****************************************************\n",
      " MultiNest v3.10\n",
      " Copyright Farhan Feroz & Mike Hobson\n",
      " Release Jul 2015\n",
      "\n",
      " no. of live points =  400\n",
      " dimensionality =    3\n",
      " resuming from previous job\n",
      " *****************************************************\n",
      " Starting MultiNest\n",
      "Acceptance Rate:                        0.676352\n",
      "Replacements:                               4376\n",
      "Total Samples:                              6470\n",
      "Nested Sampling ln(Z):                -14.683524\n",
      "Importance Nested Sampling ln(Z):     -13.660188 +/-  0.192936\n",
      "  analysing data from ./wxt_bsp_nh/1-.txt\n",
      " ln(ev)=  -14.386031096664505      +/-  0.13596884842309326     \n",
      " Total Likelihood Evaluations:         6470\n",
      " Sampling finished. Exiting MultiNest\n"
     ]
    }
   ],
   "source": [
    "wxt_post = wxt_infer.multinest(nlive=400, resume=True, savepath='./wxt_bsp_nh')"
   ]
  },
  {
   "cell_type": "code",
   "execution_count": 7,
   "id": "38e4885c-c43b-4cef-861f-0aaa75dc08fa",
   "metadata": {},
   "outputs": [
    {
     "name": "stdout",
     "output_type": "stream",
     "text": [
      "╒════════╤═════════════════════╤═════════════╤═════════════╤════════╤══════════╤════════╤══════════════════╕\n",
      "│  par#  │     Expression      │  Component  │  Parameter  │  Mean  │  Median  │  Best  │    1sigma CI     │\n",
      "╞════════╪═════════════════════╪═════════════╪═════════════╪════════╪══════════╪════════╪══════════════════╡\n",
      "│   2    │ ((tbabs*ztbabs)*pl) │   ztbabs    │     NH      │ 0.699  │  0.669   │ 0.559  │  [0.378, 1.007]  │\n",
      "├────────┼─────────────────────┼─────────────┼─────────────┼────────┼──────────┼────────┼──────────────────┤\n",
      "│   3    │ ((tbabs*ztbabs)*pl) │     pl      │  $\\alpha$   │ -2.161 │  -2.147  │ -1.939 │ [-2.693, -1.634] │\n",
      "├────────┼─────────────────────┼─────────────┼─────────────┼────────┼──────────┼────────┼──────────────────┤\n",
      "│   4    │ ((tbabs*ztbabs)*pl) │     pl      │   log$A$    │ -4.12  │  -4.086  │ -3.754 │ [-4.978, -3.252] │\n",
      "╘════════╧═════════════════════╧═════════════╧═════════════╧════════╧══════════╧════════╧══════════════════╛\n",
      "╒════════╤═════════════════════╤═════════════╤══════════╤════════╕\n",
      "│  Data  │        Model        │  Statistic  │  Value   │  Bins  │\n",
      "╞════════╪═════════════════════╪═════════════╪══════════╪════════╡\n",
      "│  WXT   │ ((tbabs*ztbabs)*pl) │    cstat    │  10.88   │   20   │\n",
      "├────────┼─────────────────────┼─────────────┼──────────┼────────┤\n",
      "│ Total  │        Total        │  stat/dof   │ 10.88/17 │   20   │\n",
      "╘════════╧═════════════════════╧═════════════╧══════════╧════════╛\n",
      "╒═══════╤════════╤═══════╤════════╕\n",
      "│  AIC  │  AICc  │  BIC  │  lnZ   │\n",
      "╞═══════╪════════╪═══════╪════════╡\n",
      "│ 16.88 │ 18.38  │ 19.87 │ -13.66 │\n",
      "╘═══════╧════════╧═══════╧════════╛\n",
      "\n"
     ]
    }
   ],
   "source": [
    "print(wxt_post)"
   ]
  },
  {
   "cell_type": "code",
   "execution_count": 8,
   "id": "73c2b078-2d92-4eca-8c3c-6bd1c69c2eb7",
   "metadata": {},
   "outputs": [],
   "source": [
    "fig = Plot.infer_ctsspec(wxt_post, style='CE', show=False)\n",
    "fig.write_html('./wxt_bsp_nh/ctsspec.html')"
   ]
  },
  {
   "cell_type": "code",
   "execution_count": 9,
   "id": "e8da9e04-eed4-4931-9bb3-c7755b4a8d7a",
   "metadata": {},
   "outputs": [],
   "source": [
    "fig = Plot.post_corner(wxt_post, show=False)\n",
    "fig.write_html('./wxt_bsp_nh/corner.html')"
   ]
  },
  {
   "cell_type": "code",
   "execution_count": null,
   "id": "0ddb6629-11b5-483c-a024-c15843c2b94a",
   "metadata": {},
   "outputs": [],
   "source": []
  }
 ],
 "metadata": {
  "kernelspec": {
   "display_name": "Python 3 (ipykernel)",
   "language": "python",
   "name": "python3"
  },
  "language_info": {
   "codemirror_mode": {
    "name": "ipython",
    "version": 3
   },
   "file_extension": ".py",
   "mimetype": "text/x-python",
   "name": "python",
   "nbconvert_exporter": "python",
   "pygments_lexer": "ipython3",
   "version": "3.10.12"
  }
 },
 "nbformat": 4,
 "nbformat_minor": 5
}
