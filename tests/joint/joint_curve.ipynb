{
 "cells": [
  {
   "cell_type": "code",
   "execution_count": 1,
   "id": "986f17a4-f7e3-4dc0-b6f2-302e16d8e998",
   "metadata": {},
   "outputs": [],
   "source": [
    "from heapy.data.reduction import gbmTTE\n",
    "from heapy.data.xselect import epXselect\n",
    "from heapy.data.retrieve import gbmRetrieve\n",
    "from heapy.util.time import fermi_utc_to_met"
   ]
  },
  {
   "cell_type": "code",
   "execution_count": 2,
   "id": "efcb345a-b0d2-493f-b3f7-da1a1c24d57f",
   "metadata": {},
   "outputs": [],
   "source": [
    "utc = '2024-02-19T06:21:42'"
   ]
  },
  {
   "cell_type": "code",
   "execution_count": 3,
   "id": "80851f26-bd93-46c6-ae0d-7fb4e159496b",
   "metadata": {},
   "outputs": [],
   "source": [
    "fermi_met = fermi_utc_to_met(utc)\n",
    "gbm_rtv = gbmRetrieve.from_utc(utc=utc, t1=-400, t2=400)\n",
    "\n",
    "gbm_tte = gbmTTE(gbm_rtv.rtv_res['tte']['n9'])\n",
    "gbm_tte.timezero = fermi_met\n",
    "gbm_tte.time_slice(-200, 300)\n",
    "gbm_tte.energy_filter(10, 1000)\n",
    "\n",
    "gbm_event = gbm_tte.to_event\n",
    "gbm_event.lc_t1t2 = [-200, 300]\n",
    "gbm_event.lc_binsize = 2"
   ]
  },
  {
   "cell_type": "code",
   "execution_count": 4,
   "id": "e8f49d42-eaab-4bf5-93cd-5e58293541bc",
   "metadata": {},
   "outputs": [],
   "source": [
    "wxt_event = epXselect.from_wxtobs('ep13600003859wxtCMOS44l23v2', 's2')\n",
    "\n",
    "wxt_event.src_evtfile = '../wxt/curve/src.evt'\n",
    "wxt_event.bkg_evtfile = '../wxt/curve/bkg.evt'\n",
    "\n",
    "wxt_event.timezero = utc\n",
    "wxt_event.lc_t1t2 = [-200, 300]\n",
    "wxt_event.lc_binsize = 2"
   ]
  },
  {
   "cell_type": "code",
   "execution_count": 5,
   "id": "f168ff83-2001-40a9-a9b4-8e5e67aa21b3",
   "metadata": {},
   "outputs": [],
   "source": [
    "from matplotlib import rcParams\n",
    "import matplotlib.pyplot as plt\n",
    "\n",
    "rcParams['font.family'] = 'serif'\n",
    "rcParams['font.sans-serif'] = 'Georgia'\n",
    "rcParams['font.size'] = 12\n",
    "rcParams['pdf.fonttype'] = 42\n",
    "\n",
    "fig, ax = plt.subplots(1, 1, figsize=(8, 5))\n",
    "p1, = ax.plot(gbm_event.lc_time, gbm_event.net_rate, \n",
    "              lw=1.5, c='r', label='Fermi/GBM light curve')\n",
    "ax.set_xlim([-200, 300])\n",
    "ax.set_ylim([-36, 144])\n",
    "ax.set_xlabel(f'Time since {utc} (s)')\n",
    "ax.set_ylabel('Fermi/GBM counts per sencond')\n",
    "ax.minorticks_on()\n",
    "ax.tick_params(axis='x', which='both', direction='in', labelcolor='k', colors='k')\n",
    "ax.tick_params(axis='y', which='both', direction='in', labelcolor='k', colors='k')\n",
    "ax.tick_params(which='major', width=1.0, length=5)\n",
    "ax.tick_params(which='minor', width=1.0, length=3)\n",
    "ax.xaxis.set_ticks_position('both')\n",
    "ax.yaxis.set_ticks_position('both')\n",
    "\n",
    "ax1 = ax.twinx()\n",
    "p2, = ax1.plot(wxt_event.lc_time, wxt_event.net_rate, \n",
    "               lw=1.5, c='b', label='EP-WXT light curve')\n",
    "ax1.set_ylabel('EP-WXT counts per sencond')\n",
    "ax1.set_ylim([-1, 4])\n",
    "\n",
    "plt.legend(handles=[p1, p2], frameon=False)\n",
    "fig.savefig('./joint_curve.pdf', bbox_inches='tight', pad_inches=0.1, dpi=300)\n",
    "plt.close(fig)"
   ]
  },
  {
   "cell_type": "code",
   "execution_count": 10,
   "id": "47a7ba42-6c38-425e-9be7-cf1d0184ccd3",
   "metadata": {},
   "outputs": [
    {
     "name": "stdout",
     "output_type": "stream",
     "text": [
      "\n",
      "+-----------------------------------------------+\n",
      " lag (s)        lag_le (s)     lag_he (s)     \n",
      " 5.1445         4.9363         5.7665         \n",
      "+-----------------------------------------------+\n",
      "\n"
     ]
    }
   ],
   "source": [
    "from heapy.temporal.lag import Lag\n",
    "\n",
    "lag = Lag(gbm_event.src_cts, wxt_event.src_cts, gbm_event.bkg_cts, wxt_event.bkg_cts*wxt_event.regratio, \n",
    "          dt=2, xtype='pg', ytype='pp', xbcts_se=gbm_event.bkg_cts_err)\n",
    "lag.mc_simulation(nmc=1000)\n",
    "lag.callag(width=20, deg=4)\n",
    "lag.save('./spectral_lag')"
   ]
  },
  {
   "cell_type": "code",
   "execution_count": null,
   "id": "6c10420f-582a-4230-8faf-845a1ba61169",
   "metadata": {},
   "outputs": [],
   "source": []
  }
 ],
 "metadata": {
  "kernelspec": {
   "display_name": "Python 3 (ipykernel)",
   "language": "python",
   "name": "python3"
  },
  "language_info": {
   "codemirror_mode": {
    "name": "ipython",
    "version": 3
   },
   "file_extension": ".py",
   "mimetype": "text/x-python",
   "name": "python",
   "nbconvert_exporter": "python",
   "pygments_lexer": "ipython3",
   "version": "3.10.12"
  }
 },
 "nbformat": 4,
 "nbformat_minor": 5
}
