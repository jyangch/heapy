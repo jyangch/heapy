{
 "cells": [
  {
   "cell_type": "code",
   "execution_count": 1,
   "id": "546e89de-cf55-48c9-9527-fc636afdaa8d",
   "metadata": {},
   "outputs": [],
   "source": [
    "from heapy.util.data import msg_format\n",
    "from heapy.util.time import fermi_utc_to_met\n",
    "from heapy.data.retrieve import gbmRetrieve\n",
    "from heapy.data.geometry import gbmGeometry\n",
    "from heapy.data.event import gbmTTE\n",
    "from heapy.data.response import gbmResponse"
   ]
  },
  {
   "cell_type": "code",
   "execution_count": 2,
   "id": "2367793a-ebc8-4105-8365-3f3ac294cb12",
   "metadata": {},
   "outputs": [],
   "source": [
    "utc = '2024-02-19T06:21:42'\n",
    "fermi_met = fermi_utc_to_met(utc)"
   ]
  },
  {
   "cell_type": "code",
   "execution_count": 3,
   "id": "003e92d0-c470-4cad-9877-7425536e989e",
   "metadata": {},
   "outputs": [
    {
     "data": {
      "text/plain": [
       "{'utc': '2024-02-19T06:21:42.000',\n",
       " 't1': -400.0,\n",
       " 't2': 400.0,\n",
       " 'datapath': '/Users/jyang/Documents/fermi/data/gbm/daily',\n",
       " 'tte': {'n0': ['/Users/jyang/Documents/fermi/data/gbm/daily/2024/02/19/current/glg_tte_n0_240219_06z_v00.fit.gz'],\n",
       "  'n1': ['/Users/jyang/Documents/fermi/data/gbm/daily/2024/02/19/current/glg_tte_n1_240219_06z_v00.fit.gz'],\n",
       "  'n2': ['/Users/jyang/Documents/fermi/data/gbm/daily/2024/02/19/current/glg_tte_n2_240219_06z_v00.fit.gz'],\n",
       "  'n3': ['/Users/jyang/Documents/fermi/data/gbm/daily/2024/02/19/current/glg_tte_n3_240219_06z_v00.fit.gz'],\n",
       "  'n4': ['/Users/jyang/Documents/fermi/data/gbm/daily/2024/02/19/current/glg_tte_n4_240219_06z_v00.fit.gz'],\n",
       "  'n5': ['/Users/jyang/Documents/fermi/data/gbm/daily/2024/02/19/current/glg_tte_n5_240219_06z_v00.fit.gz'],\n",
       "  'n6': ['/Users/jyang/Documents/fermi/data/gbm/daily/2024/02/19/current/glg_tte_n6_240219_06z_v00.fit.gz'],\n",
       "  'n7': ['/Users/jyang/Documents/fermi/data/gbm/daily/2024/02/19/current/glg_tte_n7_240219_06z_v00.fit.gz'],\n",
       "  'n8': ['/Users/jyang/Documents/fermi/data/gbm/daily/2024/02/19/current/glg_tte_n8_240219_06z_v00.fit.gz'],\n",
       "  'n9': ['/Users/jyang/Documents/fermi/data/gbm/daily/2024/02/19/current/glg_tte_n9_240219_06z_v00.fit.gz'],\n",
       "  'na': ['/Users/jyang/Documents/fermi/data/gbm/daily/2024/02/19/current/glg_tte_na_240219_06z_v00.fit.gz'],\n",
       "  'nb': ['/Users/jyang/Documents/fermi/data/gbm/daily/2024/02/19/current/glg_tte_nb_240219_06z_v00.fit.gz'],\n",
       "  'b0': ['/Users/jyang/Documents/fermi/data/gbm/daily/2024/02/19/current/glg_tte_b0_240219_06z_v00.fit.gz'],\n",
       "  'b1': ['/Users/jyang/Documents/fermi/data/gbm/daily/2024/02/19/current/glg_tte_b1_240219_06z_v00.fit.gz']},\n",
       " 'cspec_pha': {'n0': ['/Users/jyang/Documents/fermi/data/gbm/daily/2024/02/19/current/glg_cspec_n0_240219_v00.pha'],\n",
       "  'n1': ['/Users/jyang/Documents/fermi/data/gbm/daily/2024/02/19/current/glg_cspec_n1_240219_v00.pha'],\n",
       "  'n2': ['/Users/jyang/Documents/fermi/data/gbm/daily/2024/02/19/current/glg_cspec_n2_240219_v00.pha'],\n",
       "  'n3': ['/Users/jyang/Documents/fermi/data/gbm/daily/2024/02/19/current/glg_cspec_n3_240219_v00.pha'],\n",
       "  'n4': ['/Users/jyang/Documents/fermi/data/gbm/daily/2024/02/19/current/glg_cspec_n4_240219_v00.pha'],\n",
       "  'n5': ['/Users/jyang/Documents/fermi/data/gbm/daily/2024/02/19/current/glg_cspec_n5_240219_v00.pha'],\n",
       "  'n6': ['/Users/jyang/Documents/fermi/data/gbm/daily/2024/02/19/current/glg_cspec_n6_240219_v00.pha'],\n",
       "  'n7': ['/Users/jyang/Documents/fermi/data/gbm/daily/2024/02/19/current/glg_cspec_n7_240219_v00.pha'],\n",
       "  'n8': ['/Users/jyang/Documents/fermi/data/gbm/daily/2024/02/19/current/glg_cspec_n8_240219_v00.pha'],\n",
       "  'n9': ['/Users/jyang/Documents/fermi/data/gbm/daily/2024/02/19/current/glg_cspec_n9_240219_v00.pha'],\n",
       "  'na': ['/Users/jyang/Documents/fermi/data/gbm/daily/2024/02/19/current/glg_cspec_na_240219_v00.pha'],\n",
       "  'nb': ['/Users/jyang/Documents/fermi/data/gbm/daily/2024/02/19/current/glg_cspec_nb_240219_v00.pha'],\n",
       "  'b0': ['/Users/jyang/Documents/fermi/data/gbm/daily/2024/02/19/current/glg_cspec_b0_240219_v00.pha'],\n",
       "  'b1': ['/Users/jyang/Documents/fermi/data/gbm/daily/2024/02/19/current/glg_cspec_b1_240219_v00.pha']},\n",
       " 'ctime_pha': {'n0': ['/Users/jyang/Documents/fermi/data/gbm/daily/2024/02/19/current/glg_ctime_n0_240219_v00.pha'],\n",
       "  'n1': ['/Users/jyang/Documents/fermi/data/gbm/daily/2024/02/19/current/glg_ctime_n1_240219_v00.pha'],\n",
       "  'n2': ['/Users/jyang/Documents/fermi/data/gbm/daily/2024/02/19/current/glg_ctime_n2_240219_v00.pha'],\n",
       "  'n3': ['/Users/jyang/Documents/fermi/data/gbm/daily/2024/02/19/current/glg_ctime_n3_240219_v00.pha'],\n",
       "  'n4': ['/Users/jyang/Documents/fermi/data/gbm/daily/2024/02/19/current/glg_ctime_n4_240219_v00.pha'],\n",
       "  'n5': ['/Users/jyang/Documents/fermi/data/gbm/daily/2024/02/19/current/glg_ctime_n5_240219_v00.pha'],\n",
       "  'n6': ['/Users/jyang/Documents/fermi/data/gbm/daily/2024/02/19/current/glg_ctime_n6_240219_v00.pha'],\n",
       "  'n7': ['/Users/jyang/Documents/fermi/data/gbm/daily/2024/02/19/current/glg_ctime_n7_240219_v00.pha'],\n",
       "  'n8': ['/Users/jyang/Documents/fermi/data/gbm/daily/2024/02/19/current/glg_ctime_n8_240219_v00.pha'],\n",
       "  'n9': ['/Users/jyang/Documents/fermi/data/gbm/daily/2024/02/19/current/glg_ctime_n9_240219_v00.pha'],\n",
       "  'na': ['/Users/jyang/Documents/fermi/data/gbm/daily/2024/02/19/current/glg_ctime_na_240219_v00.pha'],\n",
       "  'nb': ['/Users/jyang/Documents/fermi/data/gbm/daily/2024/02/19/current/glg_ctime_nb_240219_v00.pha'],\n",
       "  'b0': ['/Users/jyang/Documents/fermi/data/gbm/daily/2024/02/19/current/glg_ctime_b0_240219_v00.pha'],\n",
       "  'b1': ['/Users/jyang/Documents/fermi/data/gbm/daily/2024/02/19/current/glg_ctime_b1_240219_v00.pha']},\n",
       " 'poshist': ['/Users/jyang/Documents/fermi/data/gbm/daily/2024/02/19/current/glg_poshist_all_240219_v00.fit']}"
      ]
     },
     "execution_count": 3,
     "metadata": {},
     "output_type": "execute_result"
    }
   ],
   "source": [
    "gbm_rtv = gbmRetrieve.from_utc(utc=utc, t1=-400, t2=400)\n",
    "gbm_rtv.rtv_res"
   ]
  },
  {
   "cell_type": "code",
   "execution_count": 4,
   "id": "df5f0b84",
   "metadata": {},
   "outputs": [],
   "source": [
    "gbm_geo = gbmGeometry(utc, poshist_file=gbm_rtv.rtv_res['poshist'][0])"
   ]
  },
  {
   "cell_type": "code",
   "execution_count": 5,
   "id": "4c73dc12",
   "metadata": {},
   "outputs": [
    {
     "data": {
      "text/plain": [
       "array(False)"
      ]
     },
     "execution_count": 5,
     "metadata": {},
     "output_type": "execute_result"
    }
   ],
   "source": [
    "gbm_geo.saa_passage()"
   ]
  },
  {
   "cell_type": "code",
   "execution_count": 6,
   "id": "bacc3eb2",
   "metadata": {},
   "outputs": [
    {
     "data": {
      "text/plain": [
       "array([ True])"
      ]
     },
     "execution_count": 6,
     "metadata": {},
     "output_type": "execute_result"
    }
   ],
   "source": [
    "gbm_geo.location_visible(ra=80.016, dec=25.541)"
   ]
  },
  {
   "cell_type": "code",
   "execution_count": 7,
   "id": "265e0952",
   "metadata": {},
   "outputs": [
    {
     "name": "stdout",
     "output_type": "stream",
     "text": [
      "n0 57.40267111984303\n",
      "n1 57.59842957622196\n",
      "n2 61.09974603073652\n",
      "n3 105.78367734887475\n",
      "n4 151.96659750908262\n",
      "n5 109.3588447183001\n",
      "n6 70.98824728203138\n",
      "n7 83.91454465303927\n",
      "n8 117.43231754979529\n",
      "n9 23.381040023779185\n",
      "na 28.851258514959255\n",
      "nb 71.03535099237897\n",
      "b0 112.3796119823658\n",
      "b1 67.62038801763423\n"
     ]
    }
   ],
   "source": [
    "dets = ['n0','n1','n2','n3','n4','n5','n6','n7','n8','n9','na','nb','b0','b1']\n",
    "\n",
    "for det in dets:\n",
    "    angle = gbm_geo.detector_angle(ra=80.016, dec=25.541, det=det)\n",
    "    print(det, angle)"
   ]
  },
  {
   "cell_type": "code",
   "execution_count": 8,
   "id": "311873b9",
   "metadata": {},
   "outputs": [
    {
     "data": {
      "image/png": "[encoded data removed]",
      "text/plain": [
       "<Figure size 1000x500 with 1 Axes>"
      ]
     },
     "metadata": {},
     "output_type": "display_data"
    }
   ],
   "source": [
    "gbm_geo.extract_skymap(ra=80.016, dec=25.541, savepath='./geometry')"
   ]
  },
  {
   "cell_type": "code",
   "execution_count": 9,
   "id": "bbb12962",
   "metadata": {},
   "outputs": [
    {
     "data": {
      "text/html": [
       "<div><i>Table length=4098617</i>\n",
       "<table id=\"table5879168016\" class=\"table-striped table-bordered table-condensed\">\n",
       "<thead><tr><th>TIME</th><th>PHA</th><th>ENERGY</th><th>DEAD_TIME</th></tr></thead>\n",
       "<thead><tr><th>s</th><th>none</th><th>keV</th><th></th></tr></thead>\n",
       "<thead><tr><th>float64</th><th>int16</th><th>float64</th><th>float64</th></tr></thead>\n",
       "<tr><td>730015085.000096</td><td>15</td><td>19.0</td><td>2.6</td></tr>\n",
       "<tr><td>730015085.000168</td><td>24</td><td>35.0</td><td>2.6</td></tr>\n",
       "<tr><td>730015085.000454</td><td>49</td><td>97.0</td><td>2.6</td></tr>\n",
       "<tr><td>730015085.000886</td><td>23</td><td>32.0</td><td>2.6</td></tr>\n",
       "<tr><td>730015085.00157</td><td>21</td><td>29.0</td><td>2.6</td></tr>\n",
       "<tr><td>730015085.003632</td><td>62</td><td>151.0</td><td>2.6</td></tr>\n",
       "<tr><td>730015085.004286</td><td>126</td><td>961.0</td><td>2.6</td></tr>\n",
       "<tr><td>730015085.005996</td><td>61</td><td>146.0</td><td>2.6</td></tr>\n",
       "<tr><td>730015085.006344</td><td>20</td><td>27.0</td><td>2.6</td></tr>\n",
       "<tr><td>...</td><td>...</td><td>...</td><td>...</td></tr>\n",
       "<tr><td>730018744.600708</td><td>42</td><td>73.0</td><td>2.6</td></tr>\n",
       "<tr><td>730018744.60935</td><td>11</td><td>15.0</td><td>2.6</td></tr>\n",
       "<tr><td>730018744.6107861</td><td>10</td><td>14.0</td><td>2.6</td></tr>\n",
       "<tr><td>730018744.610826</td><td>127</td><td>1004.0</td><td>10.0</td></tr>\n",
       "<tr><td>730018744.6112441</td><td>3</td><td>7.0</td><td>2.6</td></tr>\n",
       "<tr><td>730018744.6226721</td><td>13</td><td>17.0</td><td>2.6</td></tr>\n",
       "<tr><td>730018744.625094</td><td>9</td><td>13.0</td><td>2.6</td></tr>\n",
       "<tr><td>730018744.6261641</td><td>3</td><td>7.0</td><td>2.6</td></tr>\n",
       "<tr><td>730018744.722854</td><td>3</td><td>7.0</td><td>2.6</td></tr>\n",
       "</table></div>"
      ],
      "text/plain": [
       "<Table length=4098617>\n",
       "       TIME        PHA   ENERGY DEAD_TIME\n",
       "        s          none   keV            \n",
       "     float64      int16 float64  float64 \n",
       "----------------- ----- ------- ---------\n",
       " 730015085.000096    15    19.0       2.6\n",
       " 730015085.000168    24    35.0       2.6\n",
       " 730015085.000454    49    97.0       2.6\n",
       " 730015085.000886    23    32.0       2.6\n",
       "  730015085.00157    21    29.0       2.6\n",
       " 730015085.003632    62   151.0       2.6\n",
       " 730015085.004286   126   961.0       2.6\n",
       " 730015085.005996    61   146.0       2.6\n",
       " 730015085.006344    20    27.0       2.6\n",
       "              ...   ...     ...       ...\n",
       " 730018744.600708    42    73.0       2.6\n",
       "  730018744.60935    11    15.0       2.6\n",
       "730018744.6107861    10    14.0       2.6\n",
       " 730018744.610826   127  1004.0      10.0\n",
       "730018744.6112441     3     7.0       2.6\n",
       "730018744.6226721    13    17.0       2.6\n",
       " 730018744.625094     9    13.0       2.6\n",
       "730018744.6261641     3     7.0       2.6\n",
       " 730018744.722854     3     7.0       2.6"
      ]
     },
     "execution_count": 9,
     "metadata": {},
     "output_type": "execute_result"
    }
   ],
   "source": [
    "gbm_tte = gbmTTE(gbm_rtv.rtv_res['tte']['n9'])\n",
    "gbm_tte.event"
   ]
  },
  {
   "cell_type": "code",
   "execution_count": 10,
   "id": "21b479b7",
   "metadata": {},
   "outputs": [],
   "source": [
    "gbm_tte.timezero = fermi_met"
   ]
  },
  {
   "cell_type": "code",
   "execution_count": 11,
   "id": "23d6e281",
   "metadata": {},
   "outputs": [
    {
     "data": {
      "text/html": [
       "<div><i>Table length=584494</i>\n",
       "<table id=\"table4423760960\" class=\"table-striped table-bordered table-condensed\">\n",
       "<thead><tr><th>TIME</th><th>PHA</th><th>ENERGY</th><th>DEAD_TIME</th></tr></thead>\n",
       "<thead><tr><th>s</th><th>none</th><th>keV</th><th></th></tr></thead>\n",
       "<thead><tr><th>float64</th><th>int16</th><th>float64</th><th>float64</th></tr></thead>\n",
       "<tr><td>730016307.000038</td><td>1</td><td>5.0</td><td>2.6</td></tr>\n",
       "<tr><td>730016307.001172</td><td>40</td><td>69.0</td><td>2.6</td></tr>\n",
       "<tr><td>730016307.001322</td><td>7</td><td>11.0</td><td>2.6</td></tr>\n",
       "<tr><td>730016307.001628</td><td>44</td><td>79.0</td><td>2.6</td></tr>\n",
       "<tr><td>730016307.002356</td><td>21</td><td>29.0</td><td>2.6</td></tr>\n",
       "<tr><td>730016307.00277</td><td>101</td><td>474.0</td><td>2.6</td></tr>\n",
       "<tr><td>730016307.004216</td><td>8</td><td>12.0</td><td>2.6</td></tr>\n",
       "<tr><td>730016307.004846</td><td>29</td><td>42.0</td><td>2.6</td></tr>\n",
       "<tr><td>730016307.00625</td><td>17</td><td>22.0</td><td>2.6</td></tr>\n",
       "<tr><td>...</td><td>...</td><td>...</td><td>...</td></tr>\n",
       "<tr><td>730016806.99088</td><td>4</td><td>8.0</td><td>2.6</td></tr>\n",
       "<tr><td>730016806.99211</td><td>14</td><td>18.0</td><td>2.6</td></tr>\n",
       "<tr><td>730016806.993956</td><td>125</td><td>920.0</td><td>2.6</td></tr>\n",
       "<tr><td>730016806.995522</td><td>43</td><td>77.0</td><td>2.6</td></tr>\n",
       "<tr><td>730016806.995656</td><td>18</td><td>25.0</td><td>2.6</td></tr>\n",
       "<tr><td>730016806.996218</td><td>105</td><td>534.0</td><td>2.6</td></tr>\n",
       "<tr><td>730016806.99658</td><td>20</td><td>27.0</td><td>2.6</td></tr>\n",
       "<tr><td>730016806.997754</td><td>60</td><td>139.0</td><td>2.6</td></tr>\n",
       "<tr><td>730016806.997886</td><td>66</td><td>167.0</td><td>2.6</td></tr>\n",
       "</table></div>"
      ],
      "text/plain": [
       "<Table length=584494>\n",
       "      TIME        PHA   ENERGY DEAD_TIME\n",
       "       s          none   keV            \n",
       "    float64      int16 float64  float64 \n",
       "---------------- ----- ------- ---------\n",
       "730016307.000038     1     5.0       2.6\n",
       "730016307.001172    40    69.0       2.6\n",
       "730016307.001322     7    11.0       2.6\n",
       "730016307.001628    44    79.0       2.6\n",
       "730016307.002356    21    29.0       2.6\n",
       " 730016307.00277   101   474.0       2.6\n",
       "730016307.004216     8    12.0       2.6\n",
       "730016307.004846    29    42.0       2.6\n",
       " 730016307.00625    17    22.0       2.6\n",
       "             ...   ...     ...       ...\n",
       " 730016806.99088     4     8.0       2.6\n",
       " 730016806.99211    14    18.0       2.6\n",
       "730016806.993956   125   920.0       2.6\n",
       "730016806.995522    43    77.0       2.6\n",
       "730016806.995656    18    25.0       2.6\n",
       "730016806.996218   105   534.0       2.6\n",
       " 730016806.99658    20    27.0       2.6\n",
       "730016806.997754    60   139.0       2.6\n",
       "730016806.997886    66   167.0       2.6"
      ]
     },
     "execution_count": 11,
     "metadata": {},
     "output_type": "execute_result"
    }
   ],
   "source": [
    "gbm_tte.filter_time([-200, 300])\n",
    "gbm_tte.event"
   ]
  },
  {
   "cell_type": "code",
   "execution_count": 12,
   "id": "e2cf776a",
   "metadata": {},
   "outputs": [
    {
     "data": {
      "text/html": [
       "<div><i>Table length=551282</i>\n",
       "<table id=\"table4423753280\" class=\"table-striped table-bordered table-condensed\">\n",
       "<thead><tr><th>TIME</th><th>PHA</th><th>ENERGY</th><th>DEAD_TIME</th></tr></thead>\n",
       "<thead><tr><th>s</th><th>none</th><th>keV</th><th></th></tr></thead>\n",
       "<thead><tr><th>float64</th><th>int16</th><th>float64</th><th>float64</th></tr></thead>\n",
       "<tr><td>730016307.001172</td><td>40</td><td>69.0</td><td>2.6</td></tr>\n",
       "<tr><td>730016307.001322</td><td>7</td><td>11.0</td><td>2.6</td></tr>\n",
       "<tr><td>730016307.001628</td><td>44</td><td>79.0</td><td>2.6</td></tr>\n",
       "<tr><td>730016307.002356</td><td>21</td><td>29.0</td><td>2.6</td></tr>\n",
       "<tr><td>730016307.00277</td><td>101</td><td>474.0</td><td>2.6</td></tr>\n",
       "<tr><td>730016307.004216</td><td>8</td><td>12.0</td><td>2.6</td></tr>\n",
       "<tr><td>730016307.004846</td><td>29</td><td>42.0</td><td>2.6</td></tr>\n",
       "<tr><td>730016307.00625</td><td>17</td><td>22.0</td><td>2.6</td></tr>\n",
       "<tr><td>730016307.006452</td><td>63</td><td>155.0</td><td>2.6</td></tr>\n",
       "<tr><td>...</td><td>...</td><td>...</td><td>...</td></tr>\n",
       "<tr><td>730016806.9902819</td><td>126</td><td>976.0</td><td>2.6</td></tr>\n",
       "<tr><td>730016806.99211</td><td>14</td><td>18.0</td><td>2.6</td></tr>\n",
       "<tr><td>730016806.993956</td><td>125</td><td>920.0</td><td>2.6</td></tr>\n",
       "<tr><td>730016806.995522</td><td>43</td><td>77.0</td><td>2.6</td></tr>\n",
       "<tr><td>730016806.995656</td><td>18</td><td>25.0</td><td>2.6</td></tr>\n",
       "<tr><td>730016806.996218</td><td>105</td><td>534.0</td><td>2.6</td></tr>\n",
       "<tr><td>730016806.99658</td><td>20</td><td>27.0</td><td>2.6</td></tr>\n",
       "<tr><td>730016806.997754</td><td>60</td><td>139.0</td><td>2.6</td></tr>\n",
       "<tr><td>730016806.997886</td><td>66</td><td>167.0</td><td>2.6</td></tr>\n",
       "</table></div>"
      ],
      "text/plain": [
       "<Table length=551282>\n",
       "       TIME        PHA   ENERGY DEAD_TIME\n",
       "        s          none   keV            \n",
       "     float64      int16 float64  float64 \n",
       "----------------- ----- ------- ---------\n",
       " 730016307.001172    40    69.0       2.6\n",
       " 730016307.001322     7    11.0       2.6\n",
       " 730016307.001628    44    79.0       2.6\n",
       " 730016307.002356    21    29.0       2.6\n",
       "  730016307.00277   101   474.0       2.6\n",
       " 730016307.004216     8    12.0       2.6\n",
       " 730016307.004846    29    42.0       2.6\n",
       "  730016307.00625    17    22.0       2.6\n",
       " 730016307.006452    63   155.0       2.6\n",
       "              ...   ...     ...       ...\n",
       "730016806.9902819   126   976.0       2.6\n",
       "  730016806.99211    14    18.0       2.6\n",
       " 730016806.993956   125   920.0       2.6\n",
       " 730016806.995522    43    77.0       2.6\n",
       " 730016806.995656    18    25.0       2.6\n",
       " 730016806.996218   105   534.0       2.6\n",
       "  730016806.99658    20    27.0       2.6\n",
       " 730016806.997754    60   139.0       2.6\n",
       " 730016806.997886    66   167.0       2.6"
      ]
     },
     "execution_count": 12,
     "metadata": {},
     "output_type": "execute_result"
    }
   ],
   "source": [
    "gbm_tte.filter_energy([10, 1000])\n",
    "gbm_tte.event"
   ]
  },
  {
   "cell_type": "code",
   "execution_count": 13,
   "id": "16877221",
   "metadata": {},
   "outputs": [
    {
     "name": "stdout",
     "output_type": "stream",
     "text": [
      "\n",
      "+------------------------------------------------+\n",
      " extract light curve for n9\n",
      "+------------------------------------------------+\n"
     ]
    },
    {
     "data": {
      "application/vnd.plotly.v1+json": {
       "config": {
        "plotlyServerURL": "https://plot.ly"
       },
       "data": [
        {
         "error_y": {
          "array": [
           23.426594099567872,
           23.257969368580355,
           22.872728239453817,
           23.425212213699194,
           23.187168809143834,
           22.718203152144334,
           22.657713531169506,
           23.121713036668154,
           23.02680442721872,
           22.84568332210153,
           23.41395946030407,
           23.41436111667977,
           23.08739389372414,
           23.2619960687481,
           23.65625830637673,
           23.376309011388717,
           23.29452914852624,
           23.371311611104478,
           23.377005511761695,
           23.18547090081214,
           23.071727694228585,
           23.602159547339674,
           23.365630686651926,
           23.087312838527836,
           23.136308670227283,
           23.125183266172765,
           23.39057715549644,
           23.12906465865136,
           23.3818890555085,
           23.301202169770484,
           23.060379826733943,
           23.004690856165656,
           22.80668351681967,
           23.500382119243557,
           23.463419092597515,
           23.251458941235313,
           22.916012356230766,
           23.235356634026218,
           23.549241294821627,
           23.268189283478282,
           23.655085948684953,
           23.609203950757337,
           23.52174254714979,
           23.14715754560743,
           23.18626400238469,
           22.922182085881467,
           23.539168092095164,
           23.42456832936905,
           23.032621334333673,
           23.15791535085594,
           23.490747961113964,
           22.905942130182048,
           23.16976029054283,
           23.37870589744077,
           22.811519767350834,
           23.2243078283135,
           23.517528468597856,
           23.299769339659456,
           23.284859995205107,
           23.29637065540136,
           23.203103421079284,
           23.3386611138858,
           23.538778437040992,
           23.364079070493926,
           23.625281526646496,
           23.500228878903837,
           23.251722510989303,
           23.64074360188205,
           22.951121672188016,
           23.34417459967831,
           23.53358643075616,
           23.212394962169707,
           23.158695880199236,
           23.235825143779852,
           23.262838484881808,
           23.012183737536027,
           23.300461189946393,
           23.03816674593865,
           23.825724654746956,
           23.241536699436065,
           23.687705210702088,
           23.006234670939115,
           23.169295457328985,
           23.469726845954426,
           24.17538435960172,
           23.561107871593528,
           23.843838261051854,
           23.45238003552158,
           23.28472684985845,
           23.28421764135237,
           23.16351071253738,
           23.45294706587288,
           23.25571103787357,
           23.115859230575218,
           23.33820457367292,
           23.338047715260974,
           23.46181619279773,
           23.81209474335646,
           23.365691630465317,
           23.591399687951732,
           23.998351063659666,
           23.93377217153526,
           23.810147739998385,
           24.31445434104981,
           23.693607636576722,
           24.10582506618452,
           23.467991609902857,
           24.11241618669644,
           23.60519071816682,
           24.037910661532873,
           23.848141336724577,
           23.81631054562496,
           23.656690256924865,
           23.9982523341773,
           23.489673354905673,
           24.4094828567971,
           24.0270098053569,
           24.211711979888918,
           24.174593591654666,
           24.064516783570596,
           24.29739306793498,
           24.080849042575544,
           24.164017797115946,
           24.79123763116684,
           24.223537109743003,
           24.17986166455319,
           24.663730927866034,
           23.911920553386175,
           24.17577976297549,
           24.038554623744172,
           23.279809492482823,
           24.11754522329333,
           23.721459278547055,
           23.500672102586282,
           23.763256099402735,
           24.11153798094898,
           23.262250420652144,
           23.879283642196324,
           23.426288566545168,
           23.810916947448423,
           23.939517055772974,
           23.570594061234477,
           23.596383700550483,
           23.85468535972432,
           23.59133815367978,
           23.22383723502083,
           23.14741527463994,
           23.832642425729166,
           23.415540327875043,
           23.645920385960107,
           23.43710477526388,
           23.46318370445838,
           23.483261724541453,
           23.78936950521967,
           23.559382392464094,
           23.39831952791786,
           23.47419449114255,
           23.168317044363068,
           23.46848131131979,
           23.805261897086694,
           23.7616850596735,
           23.613971251019578,
           23.85367296695357,
           23.33860492335725,
           23.58781522242527,
           23.446902293176958,
           23.58584880426943,
           23.6894781541183,
           23.623484976315375,
           23.33849488435592,
           23.762726833680567,
           23.315053992053453,
           23.821530941123477,
           23.65583823773163,
           23.761994960016203,
           23.800902446898416,
           23.60745126000295,
           23.51595957973388,
           23.610582601193443,
           23.38762046139796,
           23.364805632464545,
           23.955505835968957,
           23.71485750569461,
           23.499434418720487,
           23.6987602075876,
           23.64122745889288,
           23.63002589388906,
           23.996311621977032,
           23.543038566020016,
           23.59164109473393,
           23.737579230800833,
           23.79027649268693,
           23.927049287167915,
           23.08121855215467,
           23.880126978181956,
           23.564459224641624,
           23.35988070844269,
           23.511628504062333,
           24.395125571431404,
           23.768714895766216,
           23.98046874800574,
           23.252426947976364,
           23.291191827996872,
           23.5433574167572,
           23.426048846214663,
           23.41822733263058,
           23.224661950692894,
           23.618895881377895,
           24.064038723424556,
           23.5104704189214,
           23.59450995349987,
           23.971186294035032,
           24.0131441966355,
           23.666282523405588,
           23.50517581642509,
           23.55942257198058,
           23.82879180637049,
           23.54981540454337,
           23.311153044571764,
           23.565383577050614,
           23.677603128473468,
           23.774012777278042,
           23.528596146645654,
           23.349501851330334,
           23.419907091628453,
           23.463760413788503,
           23.608033882377633,
           23.704872302621038,
           23.932305000452615,
           23.714888435428936,
           23.964002564632064,
           23.767596525445125,
           23.67754136665262,
           23.921533213339988,
           23.655864343257864,
           23.65560091740862,
           23.650365106742147,
           23.98505375478911,
           23.51691268425234,
           24.158108960793903,
           24.116098213893427,
           23.96536588730011,
           23.35013665127023,
           23.809230489252375,
           23.879044068974085,
           23.360072866626716,
           23.586366998175233,
           23.955452955538014,
           23.900719782043687,
           23.820398139796097
          ],
          "thickness": 1.5,
          "type": "data",
          "width": 0
         },
         "marker": {
          "size": 0,
          "symbol": "cross-thin"
         },
         "mode": "lines+markers",
         "name": "source lightcurve",
         "showlegend": true,
         "type": "scatter",
         "x": [
          -199,
          -197,
          -195,
          -193,
          -191,
          -189,
          -187,
          -185,
          -183,
          -181,
          -179,
          -177,
          -175,
          -173,
          -171,
          -169,
          -167,
          -165,
          -163,
          -161,
          -159,
          -157,
          -155,
          -153,
          -151,
          -149,
          -147,
          -145,
          -143,
          -141,
          -139,
          -137,
          -135,
          -133,
          -131,
          -129,
          -127,
          -125,
          -123,
          -121,
          -119,
          -117,
          -115,
          -113,
          -111,
          -109,
          -107,
          -105,
          -103,
          -101,
          -99,
          -97,
          -95,
          -93,
          -91,
          -89,
          -87,
          -85,
          -83,
          -81,
          -79,
          -77,
          -75,
          -73,
          -71,
          -69,
          -67,
          -65,
          -63,
          -61,
          -59,
          -57,
          -55,
          -53,
          -51,
          -49,
          -47,
          -45,
          -43,
          -41,
          -39,
          -37,
          -35,
          -33,
          -31,
          -29,
          -27,
          -25,
          -23,
          -21,
          -19,
          -17,
          -15,
          -13,
          -11,
          -9,
          -7,
          -5,
          -3,
          -1,
          1,
          3,
          5,
          7,
          9,
          11,
          13,
          15,
          17,
          19,
          21,
          23,
          25,
          27,
          29,
          31,
          33,
          35,
          37,
          39,
          41,
          43,
          45,
          47,
          49,
          51,
          53,
          55,
          57,
          59,
          61,
          63,
          65,
          67,
          69,
          71,
          73,
          75,
          77,
          79,
          81,
          83,
          85,
          87,
          89,
          91,
          93,
          95,
          97,
          99,
          101,
          103,
          105,
          107,
          109,
          111,
          113,
          115,
          117,
          119,
          121,
          123,
          125,
          127,
          129,
          131,
          133,
          135,
          137,
          139,
          141,
          143,
          145,
          147,
          149,
          151,
          153,
          155,
          157,
          159,
          161,
          163,
          165,
          167,
          169,
          171,
          173,
          175,
          177,
          179,
          181,
          183,
          185,
          187,
          189,
          191,
          193,
          195,
          197,
          199,
          201,
          203,
          205,
          207,
          209,
          211,
          213,
          215,
          217,
          219,
          221,
          223,
          225,
          227,
          229,
          231,
          233,
          235,
          237,
          239,
          241,
          243,
          245,
          247,
          249,
          251,
          253,
          255,
          257,
          259,
          261,
          263,
          265,
          267,
          269,
          271,
          273,
          275,
          277,
          279,
          281,
          283,
          285,
          287,
          289,
          291,
          293,
          295,
          297,
          299
         ],
         "y": [
          1094.0495343091125,
          1078.4276745206967,
          1043.1569057438526,
          1093.984998611577,
          1071.8894215398511,
          1029.1120347932147,
          1023.6172215247092,
          1065.8583063516528,
          1057.228776683993,
          1040.6704023808531,
          1092.9580098473562,
          1092.9767590706035,
          1062.7727022593374,
          1078.8651963203624,
          1115.6126885693943,
          1089.4463545981357,
          1081.8797924716816,
          1088.962683541124,
          1089.478814803549,
          1071.8109311474075,
          1061.299473934515,
          1110.5562231377316,
          1088.4472211942443,
          1062.7689710781392,
          1067.283711796083,
          1066.2690743550652,
          1090.8638969991764,
          1066.4480398022888,
          1089.957235354822,
          1082.4405372476415,
          1060.2760409112075,
          1055.210901251418,
          1037.1400452008502,
          1101.0123394641246,
          1097.5263521695208,
          1077.8750423325516,
          1047.1389035773636,
          1076.376485397042,
          1105.5610120197155,
          1079.4032505085283,
          1115.5574009960362,
          1111.138534244236,
          1103.0167482986005,
          1068.285833566885,
          1071.8475944068514,
          1047.6716162839764,
          1104.5865926663878,
          1093.9549284550467,
          1057.7466475600206,
          1069.2839849746542,
          1100.0594624024957,
          1046.1773452151529,
          1070.332587544579,
          1089.5580608033595,
          1037.6107570496347,
          1075.3631984030053,
          1102.568352215109,
          1082.3739761584814,
          1080.9292480394051,
          1081.9653185221628,
          1073.3786740523144,
          1085.9376442065002,
          1104.5683079187315,
          1088.374941857205,
          1112.6479274950855,
          1101.0051600274635,
          1077.8872607168025,
          1114.128829008965,
          1050.248945111703,
          1086.445008477381,
          1104.0738871727783,
          1074.310164478792,
          1069.3200248130395,
          1076.3981890829348,
          1078.9042666325056,
          1055.805409997078,
          1082.4061155644583,
          1058.2521145732953,
          1131.659220088155,
          1076.913600731599,
          1118.6015614473922,
          1055.2817150775481,
          1070.311114463705,
          1098.0722486392733,
          1164.9425149533567,
          1106.6198642379086,
          1133.2723235835124,
          1096.5084982418243,
          1080.9230671691112,
          1080.8994287032717,
          1069.7931442359013,
          1096.5350095638319,
          1078.3229600336397,
          1065.3377030235729,
          1085.9164015910455,
          1085.9091030380778,
          1097.4513748286988,
          1130.2595824491004,
          1088.4500601556756,
          1109.5484468879924,
          1147.9141576949082,
          1141.81904215028,
          1130.1671664216049,
          1178.4360943989018,
          1119.1311328737222,
          1158.334434478454,
          1097.991062583484,
          1158.9020231118175,
          1110.6988493079652,
          1151.8148106528822,
          1133.7276966666398,
          1130.7105397071027,
          1115.6330590568186,
          1147.9094351633357,
          1100.0091391548178,
          1187.5658692666082,
          1150.7909354997232,
          1168.4502967632973,
          1164.9044101113702,
          1154.3445445054756,
          1176.6061200377076,
          1155.880754043626,
          1163.8932228303677,
          1224.8477194650131,
          1169.5228076013063,
          1165.4091318509677,
          1212.2919985918145,
          1139.7736766660737,
          1164.9615683091922,
          1151.8456671288432,
          1080.4440233688906,
          1159.399408029024,
          1121.7015027890536,
          1101.0259254235766,
          1125.686284877087,
          1158.859814383768,
          1078.8769928753993,
          1136.7140996491937,
          1094.0352655571212,
          1130.203677451007,
          1142.343987517998,
          1107.5671414926053,
          1110.0336812207981,
          1134.28966175994,
          1109.5455528140171,
          1075.3414083581915,
          1068.2977282573577,
          1132.2386520289997,
          1093.0318043662683,
          1114.6236414583811,
          1095.042132786926,
          1097.5153416392704,
          1099.4581256425836,
          1128.1780861966183,
          1106.5388218060177,
          1091.4758047000673,
          1098.5321102942291,
          1070.265916444029,
          1098.0139741213807,
          1129.6844658854855,
          1125.6118633471083,
          1111.6137451240236,
          1134.2415225103048,
          1085.9350296859025,
          1109.1290703180807,
          1096.0016155615576,
          1109.036606835538,
          1118.6852849341585,
          1112.5633177942314,
          1085.9299096195332,
          1125.6612130955934,
          1083.8365909452248,
          1131.2092350818334,
          1115.592878424253,
          1125.6265435981645,
          1129.226787165683,
          1111.056045980766,
          1102.4947982610074,
          1111.2034187540235,
          1090.4752355281046,
          1088.4087874815134,
          1143.8597258730133,
          1121.1385430275416,
          1100.967938910775,
          1119.6253468731752,
          1114.151631973794,
          1113.1222109867722,
          1147.8166049932631,
          1105.0190436463963,
          1109.5598007086135,
          1123.2164987510675,
          1128.2210988281552,
          1141.2475144632429,
          1062.237700511158,
          1136.7542445681106,
          1107.0280985500792,
          1087.9286070049761,
          1102.0409678337467,
          1186.1149887304025,
          1126.1957238875093,
          1146.3065401278022,
          1077.9199165191403,
          1081.4740189912054,
          1105.0340092650304,
          1094.0240703353643,
          1093.4080435308813,
          1075.3795954546354,
          1112.096408575693,
          1154.3216125627114,
          1101.9866858741057,
          1109.69472859887,
          1145.3612418184182,
          1149.374541579665,
          1116.587147871251,
          1101.487750814178,
          1106.540708960532,
          1131.8049017185976,
          1105.5879646215865,
          1083.404490270225,
          1107.0715234417755,
          1117.6229984741537,
          1126.6975961711144,
          1103.5889817274758,
          1086.9437639272508,
          1093.4864722681798,
          1097.542317830799,
          1111.0834663958199,
          1120.164955702066,
          1141.7490471712917,
          1121.1400052550616,
          1144.7671999014358,
          1126.1427339013508,
          1117.6200832115305,
          1140.7336211419977,
          1115.5941095427138,
          1115.5816865628788,
          1115.0839914569417,
          1146.776564582483,
          1102.539482500672,
          1163.357810836515,
          1159.3298461467457,
          1144.8323262119945,
          1086.9733145292466,
          1130.1236284021086,
          1136.7026953598652,
          1087.9375562966304,
          1109.0609729720186,
          1143.8572008670437,
          1138.73824992686,
          1131.1554419261286
         ]
        },
        {
         "error_y": {
          "array": [
           5.747926516182776,
           5.571285919034172,
           5.399360239970297,
           5.2321770296470795,
           5.069766692460767,
           4.91216245640771,
           4.7594002939252205,
           4.611518782659662,
           4.468558893742462,
           4.33056369389815,
           4.197577946688067,
           4.0696475975763775,
           3.946819127500375,
           3.8291387604834934,
           3.7166515128263877,
           3.609400074840322,
           3.507423521220245,
           3.410755853200716,
           3.3194243846819766,
           3.2334479954514097,
           3.1528352870929615,
           3.0775826904947086,
           3.0076725870138037,
           2.943071517009822,
           2.8837285580704775,
           2.8295739592494003,
           2.780518115638022,
           2.7364509587029358,
           2.6972418218641185,
           2.662739818491401,
           2.6327747424982437,
           2.60715847242323,
           2.585686831172265,
           2.568141828335491,
           2.55429419265781,
           2.543906090503506,
           2.536733922679281,
           2.532531096401857,
           2.5310506802800723,
           2.5320478661045605,
           2.535282179927534,
           2.540519404364105,
           2.5475331925545803,
           2.556106370542167,
           2.566031938180389,
           2.5771137887805278,
           2.5891671745993468,
           2.602018949267028,
           2.6155076198316722,
           2.629483240777004,
           2.64380718067332,
           2.6583517895153355,
           2.672999991675536,
           2.6876448260654966,
           2.7021889517773685,
           2.7165441343293177,
           2.7306307247594286,
           2.7443771412541373,
           2.7577193607775383,
           2.770600426281565,
           2.78296997350343,
           2.794783780066663,
           2.806003338562184,
           2.8165954544619285,
           2.8265318690766805,
           2.835788907281599,
           2.8443471493701997,
           2.852191126136601,
           2.859309036106248,
           2.8656924837199353,
           2.871336237210477,
           2.876238004884076,
           2.8803982285198066,
           2.8838198926229004,
           2.8865083483047678,
           2.888471150609879,
           2.8897179081632807,
           2.8902601440695586,
           2.8901111670524573,
           2.8892859518824916,
           2.887801028196537,
           2.885674376867879,
           2.882925333136877,
           2.879574495761121,
           2.875643641489441,
           2.8711556442065214,
           2.866134398134159,
           2.86060474451167,
           2.8545924012117854,
           2.848123894779887,
           2.8412264944139873,
           2.8339281474307483,
           2.8262574157895073,
           2.8182434132721097,
           2.8099157429417034,
           2.8013044345290177,
           2.792439881420367,
           2.7833527769481514,
           2.774074049712318,
           2.7646347976904817,
           2.755066220925581,
           2.7453995526132586,
           2.7356659884469647,
           2.7258966141172345,
           2.7161223309027984,
           2.7063737793352067,
           2.6966812609654203,
           2.6870746583101273,
           2.677583353107166,
           2.668236143062851,
           2.65906115732875,
           2.65008577100075,
           2.6413365189883478,
           2.632839009655953,
           2.624617838689646,
           2.616696503691013,
           2.6090973200433036,
           2.6018413386328683,
           2.594948266039506,
           2.588436387831741,
           2.582322495616162,
           2.576621818492811,
           2.5713479595605824,
           2.5665128380971334,
           2.5621266380067955,
           2.5581977630875055,
           2.5547327996142895,
           2.551736486673141,
           2.549211694606288,
           2.547159411849294,
           2.5455787403537804,
           2.5444668996987274,
           2.5438192399002255,
           2.5436292628364288,
           2.543888652113285,
           2.544587311109528,
           2.5457134088582727,
           2.547253433349095,
           2.549192251770156,
           2.551513177155965,
           2.554198040863571,
           2.557227270268933,
           2.560579971056073,
           2.564234013464315,
           2.5681661218630056,
           2.5723519670379567,
           2.5767662605985686,
           2.5813828509481374,
           2.586174820301072,
           2.5911145822783967,
           2.596173979665782,
           2.6013243819751364,
           2.6065367825104,
           2.611781894699478,
           2.6170302475162415,
           2.6222522798784196,
           2.627418433968221,
           2.63249924748213,
           2.6374654448740635,
           2.6422880277116474,
           2.6469383643186384,
           2.651388278927335,
           2.6556101406133066,
           2.6595769523309927,
           2.663262440412865,
           2.6666411449371616,
           2.6696885114099143,
           2.672380984246414,
           2.6746961025756177,
           2.676612598928563,
           2.6781105014088014,
           2.679171239979323,
           2.679777757536433,
           2.6799146264765197,
           2.6795681714962534,
           2.6787265994002527,
           2.677380136721707,
           2.675521175990143,
           2.673144431504969,
           2.6702471054919976,
           2.666829065530534,
           2.6628930341380026,
           2.658444791383882,
           2.6534933913705436,
           2.648051393360052,
           2.6421351082366025,
           2.6357648608663,
           2.628965268740286,
           2.6217655370532733,
           2.6141997700650395,
           2.6063072982039945,
           2.598133019884353,
           2.5897277564059946,
           2.581148617572304,
           2.5724593747805695,
           2.563730837297986,
           2.5550412262242213,
           2.546476539255333,
           2.53813089781015,
           2.5301068663790605,
           2.522515732145358,
           2.5154777310730987,
           2.5091222048440254,
           2.503587671383693,
           2.4990217904037433,
           2.495581204598769,
           2.4934312370983327,
           2.492745426731635,
           2.4937048848577508,
           2.4964974611619972,
           2.5013167110669525,
           2.508360664294736,
           2.5178304025339298,
           2.5299284638111135,
           2.5448571015378705,
           2.562816436592689,
           2.5840025503373307,
           2.6086055742102965,
           2.6368078365658043,
           2.668782128972572,
           2.704690151776035,
           2.7446811922696814,
           2.788891078660798,
           2.8374414399164625,
           2.890439286632278,
           2.947976912566155,
           3.010132101728918,
           3.0769686130804605,
           3.1485369048198284,
           3.2248750534888457,
           3.3060098197597414,
           3.3919578126304417,
           3.48272670632739,
           3.5783164688729854,
           3.6787205673115007,
           3.783927121328483,
           3.893919983859121,
           4.008679733801273,
           4.128184571806494,
           4.25241111512642,
           4.381335091561728,
           4.5149319357040945,
           4.653177292944938,
           4.796047438253059,
           4.9435196176190725,
           5.095572320452538,
           5.252185491216939,
           5.41334068830295,
           5.5790211976619295,
           5.749212108121742
          ],
          "thickness": 1.5,
          "type": "data",
          "width": 0
         },
         "marker": {
          "size": 0,
          "symbol": "cross-thin"
         },
         "mode": "lines+markers",
         "name": "background lightcurve",
         "showlegend": true,
         "type": "scatter",
         "x": [
          -199,
          -197,
          -195,
          -193,
          -191,
          -189,
          -187,
          -185,
          -183,
          -181,
          -179,
          -177,
          -175,
          -173,
          -171,
          -169,
          -167,
          -165,
          -163,
          -161,
          -159,
          -157,
          -155,
          -153,
          -151,
          -149,
          -147,
          -145,
          -143,
          -141,
          -139,
          -137,
          -135,
          -133,
          -131,
          -129,
          -127,
          -125,
          -123,
          -121,
          -119,
          -117,
          -115,
          -113,
          -111,
          -109,
          -107,
          -105,
          -103,
          -101,
          -99,
          -97,
          -95,
          -93,
          -91,
          -89,
          -87,
          -85,
          -83,
          -81,
          -79,
          -77,
          -75,
          -73,
          -71,
          -69,
          -67,
          -65,
          -63,
          -61,
          -59,
          -57,
          -55,
          -53,
          -51,
          -49,
          -47,
          -45,
          -43,
          -41,
          -39,
          -37,
          -35,
          -33,
          -31,
          -29,
          -27,
          -25,
          -23,
          -21,
          -19,
          -17,
          -15,
          -13,
          -11,
          -9,
          -7,
          -5,
          -3,
          -1,
          1,
          3,
          5,
          7,
          9,
          11,
          13,
          15,
          17,
          19,
          21,
          23,
          25,
          27,
          29,
          31,
          33,
          35,
          37,
          39,
          41,
          43,
          45,
          47,
          49,
          51,
          53,
          55,
          57,
          59,
          61,
          63,
          65,
          67,
          69,
          71,
          73,
          75,
          77,
          79,
          81,
          83,
          85,
          87,
          89,
          91,
          93,
          95,
          97,
          99,
          101,
          103,
          105,
          107,
          109,
          111,
          113,
          115,
          117,
          119,
          121,
          123,
          125,
          127,
          129,
          131,
          133,
          135,
          137,
          139,
          141,
          143,
          145,
          147,
          149,
          151,
          153,
          155,
          157,
          159,
          161,
          163,
          165,
          167,
          169,
          171,
          173,
          175,
          177,
          179,
          181,
          183,
          185,
          187,
          189,
          191,
          193,
          195,
          197,
          199,
          201,
          203,
          205,
          207,
          209,
          211,
          213,
          215,
          217,
          219,
          221,
          223,
          225,
          227,
          229,
          231,
          233,
          235,
          237,
          239,
          241,
          243,
          245,
          247,
          249,
          251,
          253,
          255,
          257,
          259,
          261,
          263,
          265,
          267,
          269,
          271,
          273,
          275,
          277,
          279,
          281,
          283,
          285,
          287,
          289,
          291,
          293,
          295,
          297,
          299
         ],
         "y": [
          1067.9433874875783,
          1068.2700758801998,
          1068.5957432398618,
          1068.9203918664355,
          1069.2440240597923,
          1069.5666421198027,
          1069.8882483463387,
          1070.2088450392716,
          1070.5284344984718,
          1070.847019023811,
          1071.164600915161,
          1071.481182472392,
          1071.7967659953756,
          1072.1113537839833,
          1072.4249481380862,
          1072.737551357555,
          1073.0491657422617,
          1073.359793592077,
          1073.6694372068725,
          1073.978098886519,
          1074.285780930888,
          1074.5924856398508,
          1074.8982153132783,
          1075.202972251042,
          1075.506758753013,
          1075.8095771190624,
          1076.1114296490616,
          1076.4123186428817,
          1076.7122464003942,
          1077.01121522147,
          1077.3092274059802,
          1077.6062852537966,
          1077.90239106479,
          1078.1975471388316,
          1078.4917557757929,
          1078.7850192755448,
          1079.0773399379586,
          1079.3687200629056,
          1079.6591619502572,
          1079.9486678998842,
          1080.237240211658,
          1080.52488118545,
          1080.8115931211312,
          1081.0973783185732,
          1081.3822390776463,
          1081.6661776982228,
          1081.9491964801732,
          1082.2312977233694,
          1082.512483727682,
          1082.7927567929823,
          1083.0721192191415,
          1083.3505733060313,
          1083.6281213535224,
          1083.9047656614862,
          1084.1805085297942,
          1084.4553522583171,
          1084.7292991469265,
          1085.002351495493,
          1085.2745116038889,
          1085.5457817719844,
          1085.8161642996515,
          1086.085661486761,
          1086.3542756331842,
          1086.622009038792,
          1086.8888640034563,
          1087.1548428270476,
          1087.4199478094376,
          1087.6841812504977,
          1087.9475454500985,
          1088.2100427081114,
          1088.4716753244081,
          1088.7324455988594,
          1088.9923558313365,
          1089.2514083217106,
          1089.5096053698533,
          1089.7669492756352,
          1090.0234423389281,
          1090.279086859603,
          1090.5338851375311,
          1090.7878394725835,
          1091.0409521646318,
          1091.2932255135468,
          1091.5446618192,
          1091.7952633814623,
          1092.0450325002053,
          1092.2939714753002,
          1092.542082606618,
          1092.7893681940297,
          1093.0358305374073,
          1093.281471936621,
          1093.5262946915432,
          1093.770301102044,
          1094.0134934679952,
          1094.2558740892678,
          1094.4974452657334,
          1094.7382092972628,
          1094.9781684837276,
          1095.2173251249985,
          1095.455681520947,
          1095.6932399714447,
          1095.930002776362,
          1096.1659722355712,
          1096.4011506489426,
          1096.6355403163475,
          1096.8691435376575,
          1097.1019626127436,
          1097.3339998414772,
          1097.5652575237293,
          1097.7957379593713,
          1098.0254434482745,
          1098.2543762903097,
          1098.4825387853487,
          1098.709933233262,
          1098.9365619339214,
          1099.1624271871983,
          1099.387531292963,
          1099.6118765510876,
          1099.835465261443,
          1100.0582997239005,
          1100.280382238331,
          1100.5017151046063,
          1100.722300622597,
          1100.9421410921746,
          1101.1612388132105,
          1101.3795960855757,
          1101.5972152091415,
          1101.8140984837792,
          1102.0302482093596,
          1102.2456666857545,
          1102.4603562128348,
          1102.6743190904717,
          1102.8875576185364,
          1103.1000740969007,
          1103.3118708254349,
          1103.5229501040108,
          1103.7333142324994,
          1103.942965510772,
          1104.1519062387,
          1104.360138716154,
          1104.567665243006,
          1104.774488119127,
          1104.9806096443879,
          1105.1860321186603,
          1105.390757841815,
          1105.5947891137237,
          1105.798128234257,
          1106.0007775032868,
          1106.202739220684,
          1106.40401568632,
          1106.6046092000654,
          1106.8045220617923,
          1107.0037565713712,
          1107.2023150286739,
          1107.4001997335713,
          1107.5974129859346,
          1107.7939570856352,
          1107.989834332544,
          1108.1850470265324,
          1108.379597467472,
          1108.5734879552333,
          1108.766720789688,
          1108.9592982707074,
          1109.1512226981622,
          1109.342496371924,
          1109.5331215918643,
          1109.7231006578538,
          1109.9124358697638,
          1110.101129527466,
          1110.2891839308309,
          1110.47660137973,
          1110.6633841740347,
          1110.849534613616,
          1111.0350549983457,
          1111.2199476280941,
          1111.404214802733,
          1111.5878588221335,
          1111.7708819861668,
          1111.953286594704,
          1112.1350749476167,
          1112.3162493447758,
          1112.4968120860526,
          1112.6767654713183,
          1112.856111800444,
          1113.0348533733013,
          1113.212992489761,
          1113.3905314496947,
          1113.5674725529734,
          1113.7438180994682,
          1113.9195703890505,
          1114.0947317215914,
          1114.2693043969623,
          1114.4432907150342,
          1114.6166929756787,
          1114.7895134787666,
          1114.9617545241692,
          1115.133418411758,
          1115.3045074414038,
          1115.475023912978,
          1115.6449701263523,
          1115.8143483813972,
          1115.9831609779842,
          1116.1514102159845,
          1116.3190983952693,
          1116.48622781571,
          1116.6528007771776,
          1116.8188195795433,
          1116.9842865226788,
          1117.1492039064547,
          1117.3135740307423,
          1117.4773991954132,
          1117.6406817003385,
          1117.8034238453893,
          1117.9656279304365,
          1118.1272962553521,
          1118.2884311200066,
          1118.4490348242716,
          1118.6091096680184,
          1118.768657951118,
          1118.9276819734416,
          1119.0861840348603,
          1119.2441664352457,
          1119.401631474469,
          1119.558581452401,
          1119.7150186689134,
          1119.870945423877,
          1120.0263640171634,
          1120.1812767486433,
          1120.3356859181886,
          1120.48959382567,
          1120.643002770959,
          1120.7959150539266,
          1120.9483329744442,
          1121.1002588323831,
          1121.2516949276142,
          1121.402643560009,
          1121.5531070294385,
          1121.7030876357742,
          1121.8525876788867,
          1122.001609458648,
          1122.1501552749291,
          1122.2982274276012,
          1122.4458282165353,
          1122.5929599416027,
          1122.739624902675,
          1122.8858253996227,
          1123.0315637323176,
          1123.1768422006305,
          1123.3216631044334,
          1123.4660287435963,
          1123.6099414179916
         ]
        }
       ],
       "layout": {
        "height": 600,
        "legend": {
         "x": 1,
         "xanchor": "right",
         "y": 1,
         "yanchor": "bottom"
        },
        "template": {
         "data": {
          "bar": [
           {
            "error_x": {
             "color": "#2a3f5f"
            },
            "error_y": {
             "color": "#2a3f5f"
            },
            "marker": {
             "line": {
              "color": "white",
              "width": 0.5
             },
             "pattern": {
              "fillmode": "overlay",
              "size": 10,
              "solidity": 0.2
             }
            },
            "type": "bar"
           }
          ],
          "barpolar": [
           {
            "marker": {
             "line": {
              "color": "white",
              "width": 0.5
             },
             "pattern": {
              "fillmode": "overlay",
              "size": 10,
              "solidity": 0.2
             }
            },
            "type": "barpolar"
           }
          ],
          "carpet": [
           {
            "aaxis": {
             "endlinecolor": "#2a3f5f",
             "gridcolor": "#C8D4E3",
             "linecolor": "#C8D4E3",
             "minorgridcolor": "#C8D4E3",
             "startlinecolor": "#2a3f5f"
            },
            "baxis": {
             "endlinecolor": "#2a3f5f",
             "gridcolor": "#C8D4E3",
             "linecolor": "#C8D4E3",
             "minorgridcolor": "#C8D4E3",
             "startlinecolor": "#2a3f5f"
            },
            "type": "carpet"
           }
          ],
          "choropleth": [
           {
            "colorbar": {
             "outlinewidth": 0,
             "ticks": ""
            },
            "type": "choropleth"
           }
          ],
          "contour": [
           {
            "colorbar": {
             "outlinewidth": 0,
             "ticks": ""
            },
            "colorscale": [
             [
              0,
              "#0d0887"
             ],
             [
              0.1111111111111111,
              "#46039f"
             ],
             [
              0.2222222222222222,
              "#7201a8"
             ],
             [
              0.3333333333333333,
              "#9c179e"
             ],
             [
              0.4444444444444444,
              "#bd3786"
             ],
             [
              0.5555555555555556,
              "#d8576b"
             ],
             [
              0.6666666666666666,
              "#ed7953"
             ],
             [
              0.7777777777777778,
              "#fb9f3a"
             ],
             [
              0.8888888888888888,
              "#fdca26"
             ],
             [
              1,
              "#f0f921"
             ]
            ],
            "type": "contour"
           }
          ],
          "contourcarpet": [
           {
            "colorbar": {
             "outlinewidth": 0,
             "ticks": ""
            },
            "type": "contourcarpet"
           }
          ],
          "heatmap": [
           {
            "colorbar": {
             "outlinewidth": 0,
             "ticks": ""
            },
            "colorscale": [
             [
              0,
              "#0d0887"
             ],
             [
              0.1111111111111111,
              "#46039f"
             ],
             [
              0.2222222222222222,
              "#7201a8"
             ],
             [
              0.3333333333333333,
              "#9c179e"
             ],
             [
              0.4444444444444444,
              "#bd3786"
             ],
             [
              0.5555555555555556,
              "#d8576b"
             ],
             [
              0.6666666666666666,
              "#ed7953"
             ],
             [
              0.7777777777777778,
              "#fb9f3a"
             ],
             [
              0.8888888888888888,
              "#fdca26"
             ],
             [
              1,
              "#f0f921"
             ]
            ],
            "type": "heatmap"
           }
          ],
          "heatmapgl": [
           {
            "colorbar": {
             "outlinewidth": 0,
             "ticks": ""
            },
            "colorscale": [
             [
              0,
              "#0d0887"
             ],
             [
              0.1111111111111111,
              "#46039f"
             ],
             [
              0.2222222222222222,
              "#7201a8"
             ],
             [
              0.3333333333333333,
              "#9c179e"
             ],
             [
              0.4444444444444444,
              "#bd3786"
             ],
             [
              0.5555555555555556,
              "#d8576b"
             ],
             [
              0.6666666666666666,
              "#ed7953"
             ],
             [
              0.7777777777777778,
              "#fb9f3a"
             ],
             [
              0.8888888888888888,
              "#fdca26"
             ],
             [
              1,
              "#f0f921"
             ]
            ],
            "type": "heatmapgl"
           }
          ],
          "histogram": [
           {
            "marker": {
             "pattern": {
              "fillmode": "overlay",
              "size": 10,
              "solidity": 0.2
             }
            },
            "type": "histogram"
           }
          ],
          "histogram2d": [
           {
            "colorbar": {
             "outlinewidth": 0,
             "ticks": ""
            },
            "colorscale": [
             [
              0,
              "#0d0887"
             ],
             [
              0.1111111111111111,
              "#46039f"
             ],
             [
              0.2222222222222222,
              "#7201a8"
             ],
             [
              0.3333333333333333,
              "#9c179e"
             ],
             [
              0.4444444444444444,
              "#bd3786"
             ],
             [
              0.5555555555555556,
              "#d8576b"
             ],
             [
              0.6666666666666666,
              "#ed7953"
             ],
             [
              0.7777777777777778,
              "#fb9f3a"
             ],
             [
              0.8888888888888888,
              "#fdca26"
             ],
             [
              1,
              "#f0f921"
             ]
            ],
            "type": "histogram2d"
           }
          ],
          "histogram2dcontour": [
           {
            "colorbar": {
             "outlinewidth": 0,
             "ticks": ""
            },
            "colorscale": [
             [
              0,
              "#0d0887"
             ],
             [
              0.1111111111111111,
              "#46039f"
             ],
             [
              0.2222222222222222,
              "#7201a8"
             ],
             [
              0.3333333333333333,
              "#9c179e"
             ],
             [
              0.4444444444444444,
              "#bd3786"
             ],
             [
              0.5555555555555556,
              "#d8576b"
             ],
             [
              0.6666666666666666,
              "#ed7953"
             ],
             [
              0.7777777777777778,
              "#fb9f3a"
             ],
             [
              0.8888888888888888,
              "#fdca26"
             ],
             [
              1,
              "#f0f921"
             ]
            ],
            "type": "histogram2dcontour"
           }
          ],
          "mesh3d": [
           {
            "colorbar": {
             "outlinewidth": 0,
             "ticks": ""
            },
            "type": "mesh3d"
           }
          ],
          "parcoords": [
           {
            "line": {
             "colorbar": {
              "outlinewidth": 0,
              "ticks": ""
             }
            },
            "type": "parcoords"
           }
          ],
          "pie": [
           {
            "automargin": true,
            "type": "pie"
           }
          ],
          "scatter": [
           {
            "fillpattern": {
             "fillmode": "overlay",
             "size": 10,
             "solidity": 0.2
            },
            "type": "scatter"
           }
          ],
          "scatter3d": [
           {
            "line": {
             "colorbar": {
              "outlinewidth": 0,
              "ticks": ""
             }
            },
            "marker": {
             "colorbar": {
              "outlinewidth": 0,
              "ticks": ""
             }
            },
            "type": "scatter3d"
           }
          ],
          "scattercarpet": [
           {
            "marker": {
             "colorbar": {
              "outlinewidth": 0,
              "ticks": ""
             }
            },
            "type": "scattercarpet"
           }
          ],
          "scattergeo": [
           {
            "marker": {
             "colorbar": {
              "outlinewidth": 0,
              "ticks": ""
             }
            },
            "type": "scattergeo"
           }
          ],
          "scattergl": [
           {
            "marker": {
             "colorbar": {
              "outlinewidth": 0,
              "ticks": ""
             }
            },
            "type": "scattergl"
           }
          ],
          "scattermapbox": [
           {
            "marker": {
             "colorbar": {
              "outlinewidth": 0,
              "ticks": ""
             }
            },
            "type": "scattermapbox"
           }
          ],
          "scatterpolar": [
           {
            "marker": {
             "colorbar": {
              "outlinewidth": 0,
              "ticks": ""
             }
            },
            "type": "scatterpolar"
           }
          ],
          "scatterpolargl": [
           {
            "marker": {
             "colorbar": {
              "outlinewidth": 0,
              "ticks": ""
             }
            },
            "type": "scatterpolargl"
           }
          ],
          "scatterternary": [
           {
            "marker": {
             "colorbar": {
              "outlinewidth": 0,
              "ticks": ""
             }
            },
            "type": "scatterternary"
           }
          ],
          "surface": [
           {
            "colorbar": {
             "outlinewidth": 0,
             "ticks": ""
            },
            "colorscale": [
             [
              0,
              "#0d0887"
             ],
             [
              0.1111111111111111,
              "#46039f"
             ],
             [
              0.2222222222222222,
              "#7201a8"
             ],
             [
              0.3333333333333333,
              "#9c179e"
             ],
             [
              0.4444444444444444,
              "#bd3786"
             ],
             [
              0.5555555555555556,
              "#d8576b"
             ],
             [
              0.6666666666666666,
              "#ed7953"
             ],
             [
              0.7777777777777778,
              "#fb9f3a"
             ],
             [
              0.8888888888888888,
              "#fdca26"
             ],
             [
              1,
              "#f0f921"
             ]
            ],
            "type": "surface"
           }
          ],
          "table": [
           {
            "cells": {
             "fill": {
              "color": "#EBF0F8"
             },
             "line": {
              "color": "white"
             }
            },
            "header": {
             "fill": {
              "color": "#C8D4E3"
             },
             "line": {
              "color": "white"
             }
            },
            "type": "table"
           }
          ]
         },
         "layout": {
          "annotationdefaults": {
           "arrowcolor": "#2a3f5f",
           "arrowhead": 0,
           "arrowwidth": 1
          },
          "autotypenumbers": "strict",
          "coloraxis": {
           "colorbar": {
            "outlinewidth": 0,
            "ticks": ""
           }
          },
          "colorscale": {
           "diverging": [
            [
             0,
             "#8e0152"
            ],
            [
             0.1,
             "#c51b7d"
            ],
            [
             0.2,
             "#de77ae"
            ],
            [
             0.3,
             "#f1b6da"
            ],
            [
             0.4,
             "#fde0ef"
            ],
            [
             0.5,
             "#f7f7f7"
            ],
            [
             0.6,
             "#e6f5d0"
            ],
            [
             0.7,
             "#b8e186"
            ],
            [
             0.8,
             "#7fbc41"
            ],
            [
             0.9,
             "#4d9221"
            ],
            [
             1,
             "#276419"
            ]
           ],
           "sequential": [
            [
             0,
             "#0d0887"
            ],
            [
             0.1111111111111111,
             "#46039f"
            ],
            [
             0.2222222222222222,
             "#7201a8"
            ],
            [
             0.3333333333333333,
             "#9c179e"
            ],
            [
             0.4444444444444444,
             "#bd3786"
            ],
            [
             0.5555555555555556,
             "#d8576b"
            ],
            [
             0.6666666666666666,
             "#ed7953"
            ],
            [
             0.7777777777777778,
             "#fb9f3a"
            ],
            [
             0.8888888888888888,
             "#fdca26"
            ],
            [
             1,
             "#f0f921"
            ]
           ],
           "sequentialminus": [
            [
             0,
             "#0d0887"
            ],
            [
             0.1111111111111111,
             "#46039f"
            ],
            [
             0.2222222222222222,
             "#7201a8"
            ],
            [
             0.3333333333333333,
             "#9c179e"
            ],
            [
             0.4444444444444444,
             "#bd3786"
            ],
            [
             0.5555555555555556,
             "#d8576b"
            ],
            [
             0.6666666666666666,
             "#ed7953"
            ],
            [
             0.7777777777777778,
             "#fb9f3a"
            ],
            [
             0.8888888888888888,
             "#fdca26"
            ],
            [
             1,
             "#f0f921"
            ]
           ]
          },
          "colorway": [
           "#636efa",
           "#EF553B",
           "#00cc96",
           "#ab63fa",
           "#FFA15A",
           "#19d3f3",
           "#FF6692",
           "#B6E880",
           "#FF97FF",
           "#FECB52"
          ],
          "font": {
           "color": "#2a3f5f"
          },
          "geo": {
           "bgcolor": "white",
           "lakecolor": "white",
           "landcolor": "white",
           "showlakes": true,
           "showland": true,
           "subunitcolor": "#C8D4E3"
          },
          "hoverlabel": {
           "align": "left"
          },
          "hovermode": "closest",
          "mapbox": {
           "style": "light"
          },
          "paper_bgcolor": "white",
          "plot_bgcolor": "white",
          "polar": {
           "angularaxis": {
            "gridcolor": "#EBF0F8",
            "linecolor": "#EBF0F8",
            "ticks": ""
           },
           "bgcolor": "white",
           "radialaxis": {
            "gridcolor": "#EBF0F8",
            "linecolor": "#EBF0F8",
            "ticks": ""
           }
          },
          "scene": {
           "xaxis": {
            "backgroundcolor": "white",
            "gridcolor": "#DFE8F3",
            "gridwidth": 2,
            "linecolor": "#EBF0F8",
            "showbackground": true,
            "ticks": "",
            "zerolinecolor": "#EBF0F8"
           },
           "yaxis": {
            "backgroundcolor": "white",
            "gridcolor": "#DFE8F3",
            "gridwidth": 2,
            "linecolor": "#EBF0F8",
            "showbackground": true,
            "ticks": "",
            "zerolinecolor": "#EBF0F8"
           },
           "zaxis": {
            "backgroundcolor": "white",
            "gridcolor": "#DFE8F3",
            "gridwidth": 2,
            "linecolor": "#EBF0F8",
            "showbackground": true,
            "ticks": "",
            "zerolinecolor": "#EBF0F8"
           }
          },
          "shapedefaults": {
           "line": {
            "color": "#2a3f5f"
           }
          },
          "ternary": {
           "aaxis": {
            "gridcolor": "#DFE8F3",
            "linecolor": "#A2B1C6",
            "ticks": ""
           },
           "baxis": {
            "gridcolor": "#DFE8F3",
            "linecolor": "#A2B1C6",
            "ticks": ""
           },
           "bgcolor": "white",
           "caxis": {
            "gridcolor": "#DFE8F3",
            "linecolor": "#A2B1C6",
            "ticks": ""
           }
          },
          "title": {
           "x": 0.05
          },
          "xaxis": {
           "automargin": true,
           "gridcolor": "#EBF0F8",
           "linecolor": "#EBF0F8",
           "ticks": "",
           "title": {
            "standoff": 15
           },
           "zerolinecolor": "#EBF0F8",
           "zerolinewidth": 2
          },
          "yaxis": {
           "automargin": true,
           "gridcolor": "#EBF0F8",
           "linecolor": "#EBF0F8",
           "ticks": "",
           "title": {
            "standoff": 15
           },
           "zerolinecolor": "#EBF0F8",
           "zerolinewidth": 2
          }
         }
        },
        "width": 800,
        "xaxis": {
         "title": {
          "text": "Time since 2024-02-19T06:21:42.000 (s)"
         }
        },
        "yaxis": {
         "title": {
          "text": "Counts per second (binsize=2 s)"
         }
        }
       }
      }
     },
     "metadata": {},
     "output_type": "display_data"
    }
   ],
   "source": [
    "print(msg_format('extract light curve for n9'))\n",
    "\n",
    "gbm_tte.lc_binsize = 2\n",
    "gbm_tte.extract_curve(savepath='./n9/curve', show=True)"
   ]
  },
  {
   "cell_type": "code",
   "execution_count": 14,
   "id": "2dd9fe3b",
   "metadata": {},
   "outputs": [
    {
     "name": "stdout",
     "output_type": "stream",
     "text": [
      "\n",
      "+------------------------------------------------+\n",
      " calculate txx for n9\n",
      "+------------------------------------------------+\n",
      "\n",
      "+------------------------------------------------+\n",
      " id#  Txx       Txx-    Txx+    Txx1    Txx2    \n",
      "+-----------------------------------------------+\n",
      " 1    57.324    4.821   7.663   4.874   62.197  \n",
      "+------------------------------------------------+\n"
     ]
    }
   ],
   "source": [
    "print(msg_format('calculate txx for n9'))\n",
    "gbm_tte.calculate_txx(xx=0.9, savepath='./n9/curve/t90')"
   ]
  },
  {
   "cell_type": "code",
   "execution_count": 15,
   "id": "3d40c54d",
   "metadata": {},
   "outputs": [
    {
     "name": "stdout",
     "output_type": "stream",
     "text": [
      "\n",
      "+------------------------------------------------+\n",
      " extract spectrum for n9\n",
      "+------------------------------------------------+\n"
     ]
    },
    {
     "data": {
      "application/vnd.plotly.v1+json": {
       "config": {
        "plotlyServerURL": "https://plot.ly"
       },
       "data": [
        {
         "mode": "lines",
         "name": "total lightcurve",
         "showlegend": true,
         "type": "scatter",
         "x": [
          -398,
          -394,
          -390,
          -386,
          -382,
          -378,
          -374,
          -370,
          -366,
          -362,
          -358,
          -354,
          -350,
          -346,
          -342,
          -338,
          -334,
          -330,
          -326,
          -322,
          -318,
          -314,
          -310,
          -306,
          -302,
          -298,
          -294,
          -290,
          -286,
          -282,
          -278,
          -274,
          -270,
          -266,
          -262,
          -258,
          -254,
          -250,
          -246,
          -242,
          -238,
          -234,
          -230,
          -226,
          -222,
          -218,
          -214,
          -210,
          -206,
          -202,
          -198,
          -194,
          -190,
          -186,
          -182,
          -178,
          -174,
          -170,
          -166,
          -162,
          -158,
          -154,
          -150,
          -146,
          -142,
          -138,
          -134,
          -130,
          -126,
          -122,
          -118,
          -114,
          -110,
          -106,
          -102,
          -98,
          -94,
          -90,
          -86,
          -82,
          -78,
          -74,
          -70,
          -66,
          -62,
          -58,
          -54,
          -50,
          -46,
          -42,
          -38,
          -34,
          -30,
          -26,
          -22,
          -18,
          -14,
          -10,
          -6,
          -2,
          2,
          6,
          10,
          14,
          18,
          22,
          26,
          30,
          34,
          38,
          42,
          46,
          50,
          54,
          58,
          62,
          66,
          70,
          74,
          78,
          82,
          86,
          90,
          94,
          98,
          102,
          106,
          110,
          114,
          118,
          122,
          126,
          130,
          134,
          138,
          142,
          146,
          150,
          154,
          158,
          162,
          166,
          170,
          174,
          178,
          182,
          186,
          190,
          194,
          198,
          202,
          206,
          210,
          214,
          218,
          222,
          226,
          230,
          234,
          238,
          242,
          246,
          250,
          254,
          258,
          262,
          266,
          270,
          274,
          278,
          282,
          286,
          290,
          294,
          298,
          302,
          306,
          310,
          314,
          318,
          322,
          326,
          330,
          334,
          338,
          342,
          346,
          350,
          354,
          358,
          362,
          366,
          370,
          374,
          378,
          382,
          386,
          390,
          394,
          398
         ],
         "y": [
          1108.75,
          1092.5,
          1118.5,
          1060.25,
          1083,
          1112.5,
          1080,
          1089.5,
          1132,
          1096.5,
          1106.5,
          1090.5,
          1082,
          1105.75,
          1126,
          1108.75,
          1087.75,
          1104.75,
          1078.25,
          1125.25,
          1128.5,
          1079.5,
          1094.75,
          1130,
          1129.25,
          1109.5,
          1112.75,
          1098.75,
          1145,
          1115.5,
          1111.75,
          1104,
          1098,
          1120.75,
          1120.25,
          1129,
          1122,
          1127.25,
          1091.5,
          1121,
          1126,
          1135.75,
          1132.25,
          1134.75,
          1109,
          1136.5,
          1113.5,
          1129.25,
          1111.25,
          1144,
          1154.75,
          1127,
          1113.5,
          1114,
          1107,
          1154,
          1128,
          1163.5,
          1143.25,
          1136.25,
          1147.5,
          1137.25,
          1121.5,
          1141.5,
          1151.5,
          1116.75,
          1130.25,
          1146.75,
          1114.25,
          1161,
          1173.25,
          1147,
          1118.75,
          1162.75,
          1123.25,
          1138,
          1148.5,
          1117.5,
          1154.25,
          1147.75,
          1146.5,
          1154.25,
          1173,
          1160.25,
          1134.25,
          1151,
          1133.75,
          1132,
          1129.25,
          1169.5,
          1151.75,
          1147.25,
          1203.75,
          1180.75,
          1145.5,
          1141.5,
          1132.5,
          1144,
          1179,
          1161.25,
          1219.25,
          1212.25,
          1192.25,
          1188.5,
          1200.5,
          1196.5,
          1201.5,
          1205,
          1221.75,
          1221,
          1238.5,
          1259,
          1233.25,
          1240,
          1227,
          1186.5,
          1180,
          1201.25,
          1166.25,
          1179.75,
          1187.5,
          1193.5,
          1148.75,
          1161.75,
          1174,
          1159.75,
          1177.75,
          1161.25,
          1143.25,
          1180.75,
          1177.5,
          1176.5,
          1167.5,
          1177.75,
          1160,
          1162,
          1183.75,
          1189.5,
          1166.75,
          1171.25,
          1180.75,
          1167.25,
          1183.25,
          1195.5,
          1167.5,
          1188.75,
          1160,
          1183.25,
          1158.5,
          1224.25,
          1179,
          1154.5,
          1156.25,
          1157.25,
          1187.5,
          1202.5,
          1193.5,
          1164.5,
          1184.5,
          1159.25,
          1185.5,
          1164.25,
          1161.25,
          1183.25,
          1192.5,
          1193,
          1189,
          1176.5,
          1189.5,
          1191.75,
          1215,
          1168.5,
          1175,
          1195.5,
          1193,
          1213.5,
          1189,
          1222.25,
          1227.5,
          1178.25,
          1143.5,
          1162.75,
          1181.5,
          1191,
          1157,
          1179.5,
          1195.25,
          1182.75,
          1158.25,
          1218.25,
          1192,
          1189,
          1197,
          1198.25,
          1164.5,
          1174,
          1190.75,
          1199.25,
          1175,
          1158.25
         ]
        },
        {
         "mode": "lines",
         "name": "total background",
         "showlegend": true,
         "type": "scatter",
         "x": [
          -300,
          -293.93939393939394,
          -287.8787878787879,
          -281.8181818181818,
          -275.75757575757575,
          -269.6969696969697,
          -263.6363636363636,
          -257.57575757575756,
          -251.5151515151515,
          -245.45454545454544,
          -239.39393939393938,
          -233.33333333333331,
          -227.27272727272728,
          -221.21212121212122,
          -215.15151515151516,
          -209.0909090909091,
          -203.03030303030303,
          -196.96969696969697,
          -190.9090909090909,
          -184.84848484848484,
          -178.78787878787878,
          -172.72727272727275,
          -166.66666666666666,
          -160.6060606060606,
          -154.54545454545456,
          -148.4848484848485,
          -142.42424242424244,
          -136.36363636363637,
          -130.3030303030303,
          -124.24242424242425,
          -118.18181818181819,
          -112.12121212121212,
          -106.06060606060606,
          -100,
          -93.93939393939394,
          -87.87878787878788,
          -81.81818181818181,
          -75.75757575757575,
          -69.69696969696969,
          -63.636363636363626,
          -57.575757575757564,
          -51.51515151515153,
          -45.45454545454547,
          -39.39393939393938,
          -33.333333333333314,
          -27.272727272727252,
          -21.21212121212119,
          -15.151515151515127,
          -9.090909090909122,
          -3.0303030303030596,
          3.0303030303030027,
          9.090909090909065,
          15.151515151515127,
          21.21212121212119,
          27.272727272727252,
          33.333333333333314,
          39.39393939393938,
          45.45454545454544,
          51.5151515151515,
          57.575757575757564,
          63.636363636363626,
          69.69696969696969,
          75.75757575757575,
          81.81818181818181,
          87.87878787878788,
          93.93939393939394,
          100,
          106.06060606060606,
          112.12121212121212,
          118.18181818181819,
          124.24242424242425,
          130.3030303030303,
          136.36363636363637,
          142.42424242424244,
          148.4848484848485,
          154.54545454545456,
          160.60606060606062,
          166.66666666666669,
          172.72727272727275,
          178.7878787878788,
          184.84848484848487,
          190.90909090909088,
          196.96969696969694,
          203.030303030303,
          209.09090909090907,
          215.15151515151513,
          221.21212121212125,
          227.27272727272725,
          233.33333333333337,
          239.39393939393938,
          245.4545454545455,
          251.5151515151515,
          257.5757575757576,
          263.6363636363636,
          269.69696969696975,
          275.75757575757575,
          281.81818181818176,
          287.8787878787879,
          293.9393939393939,
          300
         ],
         "y": [
          1111.0280228605056,
          1112.109731481318,
          1113.1899473373965,
          1114.268501432467,
          1115.3452247702564,
          1116.419948354491,
          1117.4925031888965,
          1118.5627202772,
          1119.630430623127,
          1120.6954652304041,
          1121.7576551027578,
          1122.8168312439143,
          1123.8728246575997,
          1124.9254663475404,
          1125.974587317463,
          1127.0200185710933,
          1128.0615911121579,
          1129.0991359443829,
          1130.132484071495,
          1131.16146649722,
          1132.1859142252845,
          1133.2056582594148,
          1134.2205296033371,
          1135.2303592607775,
          1136.2349782354624,
          1137.2342175311187,
          1138.2279081514719,
          1139.2158811002485,
          1140.197967381175,
          1141.1739979979777,
          1142.1438039543827,
          1143.107216254116,
          1144.0640659009048,
          1145.0141838984748,
          1145.9574012505525,
          1146.8935489608637,
          1147.8224580331353,
          1148.7439594710934,
          1149.657884278464,
          1150.5640634589738,
          1151.4623280163491,
          1152.352508954316,
          1153.2344372766006,
          1154.1079439869297,
          1154.9728600890294,
          1155.8290165866256,
          1156.676244483445,
          1157.5143747832142,
          1158.343238489659,
          1159.1626666065056,
          1159.9724901374805,
          1160.7725400863103,
          1161.562647456721,
          1162.3426432524386,
          1163.11235847719,
          1163.871624134701,
          1164.6202712286984,
          1165.3581307629079,
          1166.0850337410561,
          1166.8008111668696,
          1167.505294044074,
          1168.1983133763963,
          1168.8797001675623,
          1169.5492854212985,
          1170.2069001413313,
          1170.8523753313868,
          1171.4855419951916,
          1172.1062311364715,
          1172.7142737589531,
          1173.3095008663627,
          1173.8917434624266,
          1174.460832550871,
          1175.0165991354222,
          1175.5588742198067,
          1176.0874888077506,
          1176.6022739029802,
          1177.1030605092217,
          1177.5896796302018,
          1178.0619622696465,
          1178.519739431282,
          1178.9628421188347,
          1179.391101336031,
          1179.8043480865972,
          1180.2024133742595,
          1180.5851282027443,
          1180.9523235757774,
          1181.303830497086,
          1181.6394799703958,
          1181.959102999433,
          1182.2625305879242,
          1182.5495937395956,
          1182.8201234581736,
          1183.073950747384,
          1183.3109066109541,
          1183.5308220526092,
          1183.733528076076,
          1183.9188556850809,
          1184.08663588335,
          1184.2366996746098,
          1184.3688780625862
         ]
        },
        {
         "mode": "lines",
         "name": "summing background",
         "showlegend": true,
         "type": "scatter",
         "x": [
          -300,
          -293.93939393939394,
          -287.8787878787879,
          -281.8181818181818,
          -275.75757575757575,
          -269.6969696969697,
          -263.6363636363636,
          -257.57575757575756,
          -251.5151515151515,
          -245.45454545454544,
          -239.39393939393938,
          -233.33333333333331,
          -227.27272727272728,
          -221.21212121212122,
          -215.15151515151516,
          -209.0909090909091,
          -203.03030303030303,
          -196.96969696969697,
          -190.9090909090909,
          -184.84848484848484,
          -178.78787878787878,
          -172.72727272727275,
          -166.66666666666666,
          -160.6060606060606,
          -154.54545454545456,
          -148.4848484848485,
          -142.42424242424244,
          -136.36363636363637,
          -130.3030303030303,
          -124.24242424242425,
          -118.18181818181819,
          -112.12121212121212,
          -106.06060606060606,
          -100,
          -93.93939393939394,
          -87.87878787878788,
          -81.81818181818181,
          -75.75757575757575,
          -69.69696969696969,
          -63.636363636363626,
          -57.575757575757564,
          -51.51515151515153,
          -45.45454545454547,
          -39.39393939393938,
          -33.333333333333314,
          -27.272727272727252,
          -21.21212121212119,
          -15.151515151515127,
          -9.090909090909122,
          -3.0303030303030596,
          3.0303030303030027,
          9.090909090909065,
          15.151515151515127,
          21.21212121212119,
          27.272727272727252,
          33.333333333333314,
          39.39393939393938,
          45.45454545454544,
          51.5151515151515,
          57.575757575757564,
          63.636363636363626,
          69.69696969696969,
          75.75757575757575,
          81.81818181818181,
          87.87878787878788,
          93.93939393939394,
          100,
          106.06060606060606,
          112.12121212121212,
          118.18181818181819,
          124.24242424242425,
          130.3030303030303,
          136.36363636363637,
          142.42424242424244,
          148.4848484848485,
          154.54545454545456,
          160.60606060606062,
          166.66666666666669,
          172.72727272727275,
          178.7878787878788,
          184.84848484848487,
          190.90909090909088,
          196.96969696969694,
          203.030303030303,
          209.09090909090907,
          215.15151515151513,
          221.21212121212125,
          227.27272727272725,
          233.33333333333337,
          239.39393939393938,
          245.4545454545455,
          251.5151515151515,
          257.5757575757576,
          263.6363636363636,
          269.69696969696975,
          275.75757575757575,
          281.81818181818176,
          287.8787878787879,
          293.9393939393939,
          300
         ],
         "y": [
          1111.0094073852656,
          1112.0954635129158,
          1113.1798119251496,
          1114.2622877969688,
          1115.3427263033743,
          1116.4209626193685,
          1117.496831919951,
          1118.5701693801257,
          1119.6408101748927,
          1120.708589479254,
          1121.7733424682117,
          1122.834904316765,
          1123.8931101999178,
          1124.9477952926695,
          1125.9987947700233,
          1127.045943806979,
          1128.0890775785401,
          1129.1280312597078,
          1130.1626400254818,
          1131.1927390508654,
          1132.2181635108584,
          1133.238748580463,
          1134.254329434682,
          1135.2647412485142,
          1136.2698191969641,
          1137.2693984550315,
          1138.2633141977174,
          1139.2514016000237,
          1140.2334958369538,
          1141.2094320835063,
          1142.1790455146836,
          1143.142171305488,
          1144.0986446309198,
          1145.0483006659817,
          1145.9909745856746,
          1146.926501565,
          1147.8547167789595,
          1148.7754554025532,
          1149.6885526107853,
          1150.593843578655,
          1151.4911634811647,
          1152.3803474933159,
          1153.2612307901093,
          1154.1336485465483,
          1154.9974359376313,
          1155.8524281383632,
          1156.6984603237422,
          1157.5353676687728,
          1158.3629853484551,
          1159.1811485377896,
          1159.989692411779,
          1160.7884521454248,
          1161.577262913728,
          1162.3559598916904,
          1163.1243782543127,
          1163.8823531765984,
          1164.6297198335465,
          1165.3663134001604,
          1166.0919690514404,
          1166.8065219623875,
          1167.5098073080044,
          1168.2016602632925,
          1168.8819160032529,
          1169.5504097028866,
          1170.206976537197,
          1170.8514516811833,
          1171.4836703098479,
          1172.1034675981916,
          1172.7106787212178,
          1173.305138853926,
          1173.8866831713178,
          1174.455146848397,
          1175.0103650601616,
          1175.5521729816164,
          1176.08040578776,
          1176.5948986535948,
          1177.0954867541238,
          1177.5820052643467,
          1178.0542893592649,
          1178.5121742138826,
          1178.9554950031984,
          1179.3840869022144,
          1179.7977850859318,
          1180.1964247293513,
          1180.5798410074797,
          1180.947869095312,
          1181.3003441678527,
          1181.6371014001018,
          1181.957975967062,
          1182.2628030437347,
          1182.5514178051199,
          1182.823655426222,
          1183.079351082042,
          1183.3183399475772,
          1183.540457197833,
          1183.7455380078109,
          1183.93341755251,
          1184.1039310069352,
          1184.2569135460833,
          1184.392200344959
         ]
        }
       ],
       "layout": {
        "height": 600,
        "legend": {
         "x": 1,
         "xanchor": "right",
         "y": 1,
         "yanchor": "bottom"
        },
        "template": {
         "data": {
          "bar": [
           {
            "error_x": {
             "color": "#2a3f5f"
            },
            "error_y": {
             "color": "#2a3f5f"
            },
            "marker": {
             "line": {
              "color": "white",
              "width": 0.5
             },
             "pattern": {
              "fillmode": "overlay",
              "size": 10,
              "solidity": 0.2
             }
            },
            "type": "bar"
           }
          ],
          "barpolar": [
           {
            "marker": {
             "line": {
              "color": "white",
              "width": 0.5
             },
             "pattern": {
              "fillmode": "overlay",
              "size": 10,
              "solidity": 0.2
             }
            },
            "type": "barpolar"
           }
          ],
          "carpet": [
           {
            "aaxis": {
             "endlinecolor": "#2a3f5f",
             "gridcolor": "#C8D4E3",
             "linecolor": "#C8D4E3",
             "minorgridcolor": "#C8D4E3",
             "startlinecolor": "#2a3f5f"
            },
            "baxis": {
             "endlinecolor": "#2a3f5f",
             "gridcolor": "#C8D4E3",
             "linecolor": "#C8D4E3",
             "minorgridcolor": "#C8D4E3",
             "startlinecolor": "#2a3f5f"
            },
            "type": "carpet"
           }
          ],
          "choropleth": [
           {
            "colorbar": {
             "outlinewidth": 0,
             "ticks": ""
            },
            "type": "choropleth"
           }
          ],
          "contour": [
           {
            "colorbar": {
             "outlinewidth": 0,
             "ticks": ""
            },
            "colorscale": [
             [
              0,
              "#0d0887"
             ],
             [
              0.1111111111111111,
              "#46039f"
             ],
             [
              0.2222222222222222,
              "#7201a8"
             ],
             [
              0.3333333333333333,
              "#9c179e"
             ],
             [
              0.4444444444444444,
              "#bd3786"
             ],
             [
              0.5555555555555556,
              "#d8576b"
             ],
             [
              0.6666666666666666,
              "#ed7953"
             ],
             [
              0.7777777777777778,
              "#fb9f3a"
             ],
             [
              0.8888888888888888,
              "#fdca26"
             ],
             [
              1,
              "#f0f921"
             ]
            ],
            "type": "contour"
           }
          ],
          "contourcarpet": [
           {
            "colorbar": {
             "outlinewidth": 0,
             "ticks": ""
            },
            "type": "contourcarpet"
           }
          ],
          "heatmap": [
           {
            "colorbar": {
             "outlinewidth": 0,
             "ticks": ""
            },
            "colorscale": [
             [
              0,
              "#0d0887"
             ],
             [
              0.1111111111111111,
              "#46039f"
             ],
             [
              0.2222222222222222,
              "#7201a8"
             ],
             [
              0.3333333333333333,
              "#9c179e"
             ],
             [
              0.4444444444444444,
              "#bd3786"
             ],
             [
              0.5555555555555556,
              "#d8576b"
             ],
             [
              0.6666666666666666,
              "#ed7953"
             ],
             [
              0.7777777777777778,
              "#fb9f3a"
             ],
             [
              0.8888888888888888,
              "#fdca26"
             ],
             [
              1,
              "#f0f921"
             ]
            ],
            "type": "heatmap"
           }
          ],
          "heatmapgl": [
           {
            "colorbar": {
             "outlinewidth": 0,
             "ticks": ""
            },
            "colorscale": [
             [
              0,
              "#0d0887"
             ],
             [
              0.1111111111111111,
              "#46039f"
             ],
             [
              0.2222222222222222,
              "#7201a8"
             ],
             [
              0.3333333333333333,
              "#9c179e"
             ],
             [
              0.4444444444444444,
              "#bd3786"
             ],
             [
              0.5555555555555556,
              "#d8576b"
             ],
             [
              0.6666666666666666,
              "#ed7953"
             ],
             [
              0.7777777777777778,
              "#fb9f3a"
             ],
             [
              0.8888888888888888,
              "#fdca26"
             ],
             [
              1,
              "#f0f921"
             ]
            ],
            "type": "heatmapgl"
           }
          ],
          "histogram": [
           {
            "marker": {
             "pattern": {
              "fillmode": "overlay",
              "size": 10,
              "solidity": 0.2
             }
            },
            "type": "histogram"
           }
          ],
          "histogram2d": [
           {
            "colorbar": {
             "outlinewidth": 0,
             "ticks": ""
            },
            "colorscale": [
             [
              0,
              "#0d0887"
             ],
             [
              0.1111111111111111,
              "#46039f"
             ],
             [
              0.2222222222222222,
              "#7201a8"
             ],
             [
              0.3333333333333333,
              "#9c179e"
             ],
             [
              0.4444444444444444,
              "#bd3786"
             ],
             [
              0.5555555555555556,
              "#d8576b"
             ],
             [
              0.6666666666666666,
              "#ed7953"
             ],
             [
              0.7777777777777778,
              "#fb9f3a"
             ],
             [
              0.8888888888888888,
              "#fdca26"
             ],
             [
              1,
              "#f0f921"
             ]
            ],
            "type": "histogram2d"
           }
          ],
          "histogram2dcontour": [
           {
            "colorbar": {
             "outlinewidth": 0,
             "ticks": ""
            },
            "colorscale": [
             [
              0,
              "#0d0887"
             ],
             [
              0.1111111111111111,
              "#46039f"
             ],
             [
              0.2222222222222222,
              "#7201a8"
             ],
             [
              0.3333333333333333,
              "#9c179e"
             ],
             [
              0.4444444444444444,
              "#bd3786"
             ],
             [
              0.5555555555555556,
              "#d8576b"
             ],
             [
              0.6666666666666666,
              "#ed7953"
             ],
             [
              0.7777777777777778,
              "#fb9f3a"
             ],
             [
              0.8888888888888888,
              "#fdca26"
             ],
             [
              1,
              "#f0f921"
             ]
            ],
            "type": "histogram2dcontour"
           }
          ],
          "mesh3d": [
           {
            "colorbar": {
             "outlinewidth": 0,
             "ticks": ""
            },
            "type": "mesh3d"
           }
          ],
          "parcoords": [
           {
            "line": {
             "colorbar": {
              "outlinewidth": 0,
              "ticks": ""
             }
            },
            "type": "parcoords"
           }
          ],
          "pie": [
           {
            "automargin": true,
            "type": "pie"
           }
          ],
          "scatter": [
           {
            "fillpattern": {
             "fillmode": "overlay",
             "size": 10,
             "solidity": 0.2
            },
            "type": "scatter"
           }
          ],
          "scatter3d": [
           {
            "line": {
             "colorbar": {
              "outlinewidth": 0,
              "ticks": ""
             }
            },
            "marker": {
             "colorbar": {
              "outlinewidth": 0,
              "ticks": ""
             }
            },
            "type": "scatter3d"
           }
          ],
          "scattercarpet": [
           {
            "marker": {
             "colorbar": {
              "outlinewidth": 0,
              "ticks": ""
             }
            },
            "type": "scattercarpet"
           }
          ],
          "scattergeo": [
           {
            "marker": {
             "colorbar": {
              "outlinewidth": 0,
              "ticks": ""
             }
            },
            "type": "scattergeo"
           }
          ],
          "scattergl": [
           {
            "marker": {
             "colorbar": {
              "outlinewidth": 0,
              "ticks": ""
             }
            },
            "type": "scattergl"
           }
          ],
          "scattermapbox": [
           {
            "marker": {
             "colorbar": {
              "outlinewidth": 0,
              "ticks": ""
             }
            },
            "type": "scattermapbox"
           }
          ],
          "scatterpolar": [
           {
            "marker": {
             "colorbar": {
              "outlinewidth": 0,
              "ticks": ""
             }
            },
            "type": "scatterpolar"
           }
          ],
          "scatterpolargl": [
           {
            "marker": {
             "colorbar": {
              "outlinewidth": 0,
              "ticks": ""
             }
            },
            "type": "scatterpolargl"
           }
          ],
          "scatterternary": [
           {
            "marker": {
             "colorbar": {
              "outlinewidth": 0,
              "ticks": ""
             }
            },
            "type": "scatterternary"
           }
          ],
          "surface": [
           {
            "colorbar": {
             "outlinewidth": 0,
             "ticks": ""
            },
            "colorscale": [
             [
              0,
              "#0d0887"
             ],
             [
              0.1111111111111111,
              "#46039f"
             ],
             [
              0.2222222222222222,
              "#7201a8"
             ],
             [
              0.3333333333333333,
              "#9c179e"
             ],
             [
              0.4444444444444444,
              "#bd3786"
             ],
             [
              0.5555555555555556,
              "#d8576b"
             ],
             [
              0.6666666666666666,
              "#ed7953"
             ],
             [
              0.7777777777777778,
              "#fb9f3a"
             ],
             [
              0.8888888888888888,
              "#fdca26"
             ],
             [
              1,
              "#f0f921"
             ]
            ],
            "type": "surface"
           }
          ],
          "table": [
           {
            "cells": {
             "fill": {
              "color": "#EBF0F8"
             },
             "line": {
              "color": "white"
             }
            },
            "header": {
             "fill": {
              "color": "#C8D4E3"
             },
             "line": {
              "color": "white"
             }
            },
            "type": "table"
           }
          ]
         },
         "layout": {
          "annotationdefaults": {
           "arrowcolor": "#2a3f5f",
           "arrowhead": 0,
           "arrowwidth": 1
          },
          "autotypenumbers": "strict",
          "coloraxis": {
           "colorbar": {
            "outlinewidth": 0,
            "ticks": ""
           }
          },
          "colorscale": {
           "diverging": [
            [
             0,
             "#8e0152"
            ],
            [
             0.1,
             "#c51b7d"
            ],
            [
             0.2,
             "#de77ae"
            ],
            [
             0.3,
             "#f1b6da"
            ],
            [
             0.4,
             "#fde0ef"
            ],
            [
             0.5,
             "#f7f7f7"
            ],
            [
             0.6,
             "#e6f5d0"
            ],
            [
             0.7,
             "#b8e186"
            ],
            [
             0.8,
             "#7fbc41"
            ],
            [
             0.9,
             "#4d9221"
            ],
            [
             1,
             "#276419"
            ]
           ],
           "sequential": [
            [
             0,
             "#0d0887"
            ],
            [
             0.1111111111111111,
             "#46039f"
            ],
            [
             0.2222222222222222,
             "#7201a8"
            ],
            [
             0.3333333333333333,
             "#9c179e"
            ],
            [
             0.4444444444444444,
             "#bd3786"
            ],
            [
             0.5555555555555556,
             "#d8576b"
            ],
            [
             0.6666666666666666,
             "#ed7953"
            ],
            [
             0.7777777777777778,
             "#fb9f3a"
            ],
            [
             0.8888888888888888,
             "#fdca26"
            ],
            [
             1,
             "#f0f921"
            ]
           ],
           "sequentialminus": [
            [
             0,
             "#0d0887"
            ],
            [
             0.1111111111111111,
             "#46039f"
            ],
            [
             0.2222222222222222,
             "#7201a8"
            ],
            [
             0.3333333333333333,
             "#9c179e"
            ],
            [
             0.4444444444444444,
             "#bd3786"
            ],
            [
             0.5555555555555556,
             "#d8576b"
            ],
            [
             0.6666666666666666,
             "#ed7953"
            ],
            [
             0.7777777777777778,
             "#fb9f3a"
            ],
            [
             0.8888888888888888,
             "#fdca26"
            ],
            [
             1,
             "#f0f921"
            ]
           ]
          },
          "colorway": [
           "#636efa",
           "#EF553B",
           "#00cc96",
           "#ab63fa",
           "#FFA15A",
           "#19d3f3",
           "#FF6692",
           "#B6E880",
           "#FF97FF",
           "#FECB52"
          ],
          "font": {
           "color": "#2a3f5f"
          },
          "geo": {
           "bgcolor": "white",
           "lakecolor": "white",
           "landcolor": "white",
           "showlakes": true,
           "showland": true,
           "subunitcolor": "#C8D4E3"
          },
          "hoverlabel": {
           "align": "left"
          },
          "hovermode": "closest",
          "mapbox": {
           "style": "light"
          },
          "paper_bgcolor": "white",
          "plot_bgcolor": "white",
          "polar": {
           "angularaxis": {
            "gridcolor": "#EBF0F8",
            "linecolor": "#EBF0F8",
            "ticks": ""
           },
           "bgcolor": "white",
           "radialaxis": {
            "gridcolor": "#EBF0F8",
            "linecolor": "#EBF0F8",
            "ticks": ""
           }
          },
          "scene": {
           "xaxis": {
            "backgroundcolor": "white",
            "gridcolor": "#DFE8F3",
            "gridwidth": 2,
            "linecolor": "#EBF0F8",
            "showbackground": true,
            "ticks": "",
            "zerolinecolor": "#EBF0F8"
           },
           "yaxis": {
            "backgroundcolor": "white",
            "gridcolor": "#DFE8F3",
            "gridwidth": 2,
            "linecolor": "#EBF0F8",
            "showbackground": true,
            "ticks": "",
            "zerolinecolor": "#EBF0F8"
           },
           "zaxis": {
            "backgroundcolor": "white",
            "gridcolor": "#DFE8F3",
            "gridwidth": 2,
            "linecolor": "#EBF0F8",
            "showbackground": true,
            "ticks": "",
            "zerolinecolor": "#EBF0F8"
           }
          },
          "shapedefaults": {
           "line": {
            "color": "#2a3f5f"
           }
          },
          "ternary": {
           "aaxis": {
            "gridcolor": "#DFE8F3",
            "linecolor": "#A2B1C6",
            "ticks": ""
           },
           "baxis": {
            "gridcolor": "#DFE8F3",
            "linecolor": "#A2B1C6",
            "ticks": ""
           },
           "bgcolor": "white",
           "caxis": {
            "gridcolor": "#DFE8F3",
            "linecolor": "#A2B1C6",
            "ticks": ""
           }
          },
          "title": {
           "x": 0.05
          },
          "xaxis": {
           "automargin": true,
           "gridcolor": "#EBF0F8",
           "linecolor": "#EBF0F8",
           "ticks": "",
           "title": {
            "standoff": 15
           },
           "zerolinecolor": "#EBF0F8",
           "zerolinewidth": 2
          },
          "yaxis": {
           "automargin": true,
           "gridcolor": "#EBF0F8",
           "linecolor": "#EBF0F8",
           "ticks": "",
           "title": {
            "standoff": 15
           },
           "zerolinecolor": "#EBF0F8",
           "zerolinewidth": 2
          }
         }
        },
        "width": 800,
        "xaxis": {
         "title": {
          "text": "Time since 2024-02-19T06:21:42.000 (s)"
         }
        },
        "yaxis": {
         "title": {
          "text": "Counts per second"
         }
        }
       }
      }
     },
     "metadata": {},
     "output_type": "display_data"
    }
   ],
   "source": [
    "print(msg_format('extract spectrum for n9'))\n",
    "\n",
    "gbm_tte.filter_time([-400, 400])\n",
    "\n",
    "gbm_tte.spec_slices = [[0, 70]]\n",
    "gbm_tte.extract_spectrum(savepath='./n9/spectrum', show=True)"
   ]
  },
  {
   "cell_type": "code",
   "execution_count": 16,
   "id": "6cbdb580",
   "metadata": {},
   "outputs": [
    {
     "name": "stderr",
     "output_type": "stream",
     "text": [
      "/Users/jyang/miniforge3/lib/python3.10/site-packages/responsum/response.py:108: RuntimeWarning:\n",
      "\n",
      "Minimum MC energy (5.0) is larger than minimum EBOUNDS energy (4.380217552185059)\n",
      "\n"
     ]
    }
   ],
   "source": [
    "gbm_resp = gbmResponse(utc, \n",
    "                       'n9', \n",
    "                       gbm_rtv.rtv_res['cspec_pha']['n9'][0], \n",
    "                       gbm_rtv.rtv_res['poshist'][0])\n",
    "gbm_resp.extract_response(ra=80.016, \n",
    "                          dec=25.541, \n",
    "                          spec_slices=[[0, 70]], \n",
    "                          savepath=f'./n9/spectrum')"
   ]
  },
  {
   "cell_type": "code",
   "execution_count": 17,
   "id": "c05c39e6-ecb0-459b-8b24-6200c8cdc936",
   "metadata": {},
   "outputs": [
    {
     "name": "stdout",
     "output_type": "stream",
     "text": [
      "\n",
      "+------------------------------------------------+\n",
      " extract light curve for n9\n",
      "+------------------------------------------------+\n"
     ]
    },
    {
     "data": {
      "application/vnd.plotly.v1+json": {
       "config": {
        "plotlyServerURL": "https://plot.ly"
       },
       "data": [
        {
         "error_y": {
          "array": [
           23.39972564927772,
           23.263377569878564,
           22.86722932646668,
           23.376829623912023,
           23.198016608010544,
           22.74586443494842,
           22.663263491701287,
           23.132591283817465,
           23.02680442721872,
           22.856690638241083,
           23.43007183252425,
           23.45730358488336,
           23.09284096089766,
           23.2457686540988,
           23.65625830637673,
           23.381689678743065,
           23.26751472548883,
           23.30663073539028,
           23.393144281728024,
           23.190895037253362,
           23.0826285820063,
           23.602159547339674,
           23.344085609975544,
           23.087312838527836,
           23.109111871511626,
           23.13605802965471,
           23.40670302928748,
           23.161679102103314,
           23.398023770980377,
           23.25797170179341,
           23.065833387133402,
           23.015622047495857,
           22.78461608686569,
           23.47360104829936,
           23.463419092597515,
           23.229809533429897,
           22.916012356230766,
           23.21369196112512,
           23.538554096043487,
           23.27899912809556,
           23.66040349083343,
           23.5932103592521,
           23.489630938256635,
           23.141723302652952,
           23.18626400238469,
           22.93315226219068,
           23.560538199167453,
           23.45676706392112,
           23.021697633774107,
           23.168774866271487,
           23.501457215356687,
           22.883969998381755,
           23.16976029054283,
           23.39484584130139,
           22.800491717507697,
           23.229723313481735,
           23.517528468597856,
           23.299769339659456,
           23.284859995205107,
           23.30716851028262,
           23.18140813496913,
           23.3386611138858,
           23.538778437040992,
           23.369461878783405,
           23.58263657937546,
           23.500228878903837,
           23.24090020530135,
           23.656704497321417,
           22.940158632789075,
           23.301024517315824,
           23.554961173065003,
           23.2178127227668,
           23.153264029325832,
           23.20331989334404,
           23.29526057515904,
           22.995779660077105,
           23.322045688497905,
           23.054538772223328,
           23.804593187481064,
           23.241536699436065,
           23.69832511942244,
           23.01170128255742,
           23.147570843590383,
           23.448273709070833,
           24.16497066781568,
           23.52904465709497,
           23.833280882513026,
           23.4631060274089,
           23.290128712093257,
           23.295019876979342,
           23.136345802625815,
           23.447582100215158,
           23.25571103787357,
           23.13217822959373,
           23.35436863280129,
           23.327265525858852,
           23.42962525672319,
           23.82266145998187,
           23.354921548477844,
           23.602062468016147,
           23.966864037989108,
           23.94428557954134,
           23.799577196640577,
           24.293743558466133,
           23.69891712855073,
           24.1110444719112,
           23.435806920551226,
           24.08630636183591,
           23.60519071816682,
           24.048377855872417,
           23.853416890674016,
           23.826874445255385,
           23.640729371093325,
           24.029697972039468,
           23.484317141552516,
           24.4094828567971,
           23.99556768527162,
           24.216909299253256,
           24.164180240496663,
           24.069745358707486,
           24.31810696178049,
           24.075622596709845,
           24.158809473357394,
           24.79123763116684,
           24.233926789444297,
           24.159034906455737,
           24.67903892412284,
           23.885594529161427,
           24.1861891411814,
           24.06994339179249,
           23.290614695892426,
           24.09666422784316,
           23.76385691609143,
           23.457807183905583,
           23.763256099402735,
           24.127189743701443,
           23.27306252926321,
           23.86874323839778,
           23.44239464515219,
           23.80563209177409,
           23.929001124206597,
           23.581266732852818,
           23.5697120703462,
           23.870505866841757,
           23.569998178119643,
           23.218420596524997,
           23.163710535563208,
           23.83792155801802,
           23.40479185802807,
           23.656559720755368,
           23.426366124173096,
           23.4256211221254,
           23.483261724541453,
           23.773497578952476,
           23.554041945293033,
           23.40369536245816,
           23.46347323253758,
           23.173744786511882,
           23.495268765892224,
           23.7735285856276,
           23.751093713009734,
           23.613971251019578,
           23.864220689320454,
           23.349382390993956,
           23.545102982360955,
           23.457630686460014,
           23.559164952752592,
           23.67885268681808,
           23.65009699892071,
           23.343884214732423,
           23.752135022664646,
           23.336622039211395,
           23.81096472594802,
           23.671787787743042,
           23.740807265245635,
           23.790326617695133,
           23.612779654441646,
           23.51060957179757,
           23.63721609257282,
           23.382240905153964,
           23.35942141632382,
           23.955505835968957,
           23.704244456380053,
           23.461933872558173,
           23.704068475143835,
           23.619929051453248,
           23.60871838198701,
           24.022517059098966,
           23.54838136390249,
           23.580973383994188,
           23.76406911654685,
           23.758520825816944,
           23.94282016614301,
           23.13020598303671,
           23.880126978181956,
           23.58580384788069,
           23.397544942266755,
           23.511628504062333,
           24.43636841671997,
           23.74223163974746,
           24.001449039637293,
           23.20910613354846,
           23.26957586804733,
           23.548700286998855,
           23.420677747016192,
           23.407482561552168,
           23.257136441433754,
           23.62422205032177,
           24.043113468403362,
           23.537208139854634,
           23.63181354984195,
           23.955431322701738,
           24.0131441966355,
           23.62371723261473,
           23.515877012434256,
           23.516664964013934,
           23.81822705665751,
           23.56583750554945,
           23.30575631963671,
           23.565383577050614,
           23.714769475353883,
           23.758129903145377,
           23.57667370054153,
           23.33333370038896,
           23.40916154984158,
           23.463760413788503,
           23.639987022039843,
           23.72609421582628,
           23.921787616951754,
           23.683034977888465,
           23.948245410557085,
           23.78876090766678,
           23.6669117179164,
           23.921533213339988,
           23.67712804583717,
           23.644962013826945,
           23.650365106742147,
           23.98505375478911,
           23.5115624594796,
           24.147689245424232,
           24.163011666625287,
           23.97586550045983,
           23.387819893437023,
           23.809230489252375,
           23.884312473686613,
           23.376222244889263,
           23.591700263816755,
           23.955452955538014,
           23.8638399984796,
           23.815115869381934
          ],
          "thickness": 1.5,
          "type": "data",
          "width": 0
         },
         "marker": {
          "size": 0,
          "symbol": "cross-thin"
         },
         "mode": "lines+markers",
         "name": "source lightcurve",
         "showlegend": true,
         "type": "scatter",
         "x": [
          -199,
          -197,
          -195,
          -193,
          -191,
          -189,
          -187,
          -185,
          -183,
          -181,
          -179,
          -177,
          -175,
          -173,
          -171,
          -169,
          -167,
          -165,
          -163,
          -161,
          -159,
          -157,
          -155,
          -153,
          -151,
          -149,
          -147,
          -145,
          -143,
          -141,
          -139,
          -137,
          -135,
          -133,
          -131,
          -129,
          -127,
          -125,
          -123,
          -121,
          -119,
          -117,
          -115,
          -113,
          -111,
          -109,
          -107,
          -105,
          -103,
          -101,
          -99,
          -97,
          -95,
          -93,
          -91,
          -89,
          -87,
          -85,
          -83,
          -81,
          -79,
          -77,
          -75,
          -73,
          -71,
          -69,
          -67,
          -65,
          -63,
          -61,
          -59,
          -57,
          -55,
          -53,
          -51,
          -49,
          -47,
          -45,
          -43,
          -41,
          -39,
          -37,
          -35,
          -33,
          -31,
          -29,
          -27,
          -25,
          -23,
          -21,
          -19,
          -17,
          -15,
          -13,
          -11,
          -9,
          -7,
          -5,
          -3,
          -1,
          1,
          3,
          5,
          7,
          9,
          11,
          13,
          15,
          17,
          19,
          21,
          23,
          25,
          27,
          29,
          31,
          33,
          35,
          37,
          39,
          41,
          43,
          45,
          47,
          49,
          51,
          53,
          55,
          57,
          59,
          61,
          63,
          65,
          67,
          69,
          71,
          73,
          75,
          77,
          79,
          81,
          83,
          85,
          87,
          89,
          91,
          93,
          95,
          97,
          99,
          101,
          103,
          105,
          107,
          109,
          111,
          113,
          115,
          117,
          119,
          121,
          123,
          125,
          127,
          129,
          131,
          133,
          135,
          137,
          139,
          141,
          143,
          145,
          147,
          149,
          151,
          153,
          155,
          157,
          159,
          161,
          163,
          165,
          167,
          169,
          171,
          173,
          175,
          177,
          179,
          181,
          183,
          185,
          187,
          189,
          191,
          193,
          195,
          197,
          199,
          201,
          203,
          205,
          207,
          209,
          211,
          213,
          215,
          217,
          219,
          221,
          223,
          225,
          227,
          229,
          231,
          233,
          235,
          237,
          239,
          241,
          243,
          245,
          247,
          249,
          251,
          253,
          255,
          257,
          259,
          261,
          263,
          265,
          267,
          269,
          271,
          273,
          275,
          277,
          279,
          281,
          283,
          285,
          287,
          289,
          291,
          293,
          295,
          297,
          299
         ],
         "y": [
          1091.5413969081287,
          1078.9292687879156,
          1042.6553880007066,
          1089.4706175994247,
          1072.8925936704452,
          1031.6196177239974,
          1024.1187488257992,
          1066.861467110572,
          1057.228776683993,
          1041.673458190377,
          1094.4627707604088,
          1096.9895236748096,
          1063.2742467153353,
          1077.360502880585,
          1115.6126885693943,
          1089.947941317564,
          1079.371957996782,
          1082.9435438808323,
          1090.9836197963718,
          1072.3124804834615,
          1062.3025925299162,
          1110.5562231377316,
          1086.4408668694623,
          1062.7689710781392,
          1064.7759963078404,
          1067.2721496837153,
          1092.3685368571064,
          1069.45777086476,
          1091.4620083442671,
          1078.4277827073352,
          1060.7775905994342,
          1056.2139534389191,
          1035.133971612454,
          1098.5043386908576,
          1097.5263521695208,
          1075.8687602621328,
          1047.1389035773636,
          1074.3701918548295,
          1104.5577806113492,
          1080.406413380748,
          1116.059000546844,
          1109.6336062068851,
          1100.0071528052893,
          1067.7842909220178,
          1071.8475944068514,
          1048.6746527763498,
          1106.5931078210951,
          1096.9644330725296,
          1056.743568709798,
          1070.2870656359812,
          1101.062708606237,
          1044.1712525110013,
          1070.332587544579,
          1091.0629752519828,
          1036.6077500346037,
          1075.864767058977,
          1102.568352215109,
          1082.3739761584814,
          1080.9292480394051,
          1082.9685316130501,
          1071.372358773712,
          1085.9376442065002,
          1104.5683079187315,
          1088.8764971299502,
          1108.6347699567802,
          1101.0051600274635,
          1076.8841083103653,
          1115.6337306240155,
          1049.2458420122648,
          1082.4322845310194,
          1106.0803821971722,
          1074.8117098403602,
          1068.8184675781365,
          1073.3886880882947,
          1081.9137624947998,
          1054.3006991989823,
          1084.412429031677,
          1059.7567384328781,
          1129.6527321092753,
          1076.913600731599,
          1119.604791547345,
          1055.7832748280603,
          1068.3049080635856,
          1096.0657210035688,
          1163.9391191609766,
          1103.6100187322752,
          1132.2689837662626,
          1097.5117082127683,
          1081.424655599352,
          1081.902583625502,
          1067.2854247229245,
          1096.0333924505821,
          1078.3229600336397,
          1066.8424172933803,
          1087.4211356348208,
          1084.9059537512067,
          1094.4419103639034,
          1131.262919850298,
          1087.4468803767302,
          1110.5516552486506,
          1144.9038932953586,
          1142.822398074841,
          1129.163911058603,
          1176.4293918115898,
          1119.6327604545709,
          1158.8360951256946,
          1094.981493659089,
          1156.393577174346,
          1110.6988493079652,
          1152.8181336586774,
          1134.2293460899436,
          1131.713832111457,
          1114.128158347659,
          1150.9196871786241,
          1099.5075390001643,
          1187.5658692666082,
          1147.7810202368644,
          1168.951992897588,
          1163.901047139698,
          1154.8462153201237,
          1178.613124080416,
          1155.3790696885724,
          1163.3915447170787,
          1224.8477194650131,
          1170.5262591736798,
          1163.402400672576,
          1213.7973280602646,
          1137.2653719198895,
          1165.9649805127315,
          1154.8557167816189,
          1081.4472211621764,
          1157.3926587291035,
          1125.7147460906244,
          1097.0130746703244,
          1125.686284877087,
          1160.3648271297209,
          1079.8801328036889,
          1135.7108215382943,
          1095.5401283708175,
          1129.702033563989,
          1141.3406111565416,
          1108.5703725990297,
          1107.5256973048001,
          1135.7946900594889,
          1107.5391413261075,
          1074.8398498654872,
          1069.802372945044,
          1132.7403084986627,
          1092.0285626917696,
          1115.6269030618541,
          1094.0388875896865,
          1094.0040951166586,
          1099.4581256425836,
          1126.6731799011136,
          1106.0372176256888,
          1091.977402036786,
          1097.5288846227274,
          1070.7674468641058,
          1100.5220005583872,
          1126.6746493689168,
          1124.6086442175654,
          1111.6137451240236,
          1135.2448321277398,
          1086.9382029234876,
          1105.115939353565,
          1097.0048207016598,
          1106.5286090815,
          1117.6819797458768,
          1115.07135052145,
          1086.4314938733992,
          1124.6579499823174,
          1085.8427669580803,
          1130.2059452946212,
          1117.097724932919,
          1123.6200791710735,
          1128.223475937637,
          1111.557651419132,
          1101.9932082708979,
          1113.7117786157708,
          1089.9736369837033,
          1087.9072166117062,
          1143.8597258730133,
          1120.1352870606265,
          1097.4568794244992,
          1120.1269711325272,
          1112.1450554191363,
          1111.1156815392972,
          1150.3249454762029,
          1105.5206410334351,
          1108.5565820822947,
          1125.724798212325,
          1125.2111714857945,
          1142.7524562405572,
          1066.7514584453415,
          1136.7542445681106,
          1109.0344929289647,
          1091.4396721267074,
          1102.0409678337467,
          1190.1289142421804,
          1123.687492876624,
          1148.3132036553784,
          1073.9071853268867,
          1079.4675736869544,
          1105.5356134453596,
          1093.5224545305339,
          1092.4049168854401,
          1078.389053277736,
          1112.5980307717127,
          1152.314969168426,
          1104.4946209807833,
          1113.2064207779802,
          1143.8561679132692,
          1149.374541579665,
          1112.5742560550023,
          1102.4909272721145,
          1102.5278686741835,
          1130.801528578776,
          1107.0928484209805,
          1082.9029141173223,
          1107.0715234417755,
          1121.1343813239378,
          1125.1926572626044,
          1108.1036639254519,
          1085.438996372206,
          1092.4832736697688,
          1097.542317830799,
          1114.0931733025354,
          1122.1715207816935,
          1140.7457527537422,
          1118.1302334288737,
          1143.2622474037564,
          1128.1492242958298,
          1116.6168335856673,
          1140.7336211419977,
          1117.60057376851,
          1114.578465621725,
          1115.0839914569417,
          1146.776564582483,
          1102.0378721810628,
          1162.354483703409,
          1163.8447611685203,
          1145.8356849553882,
          1090.484534280841,
          1130.1236284021086,
          1137.2043293825307,
          1089.4423108696549,
          1109.5625835432406,
          1143.8572008670437,
          1135.2267222839137,
          1130.6538208875802
         ]
        },
        {
         "error_y": {
          "array": [
           5.72522473270479,
           5.549281690868276,
           5.378034808342093,
           5.211511517729697,
           5.049742093772942,
           4.892759623372155,
           4.740599926796562,
           4.593301419077619,
           4.450904899217939,
           4.313453253596818,
           4.180991058936819,
           4.053564069580789,
           3.931218573823378,
           3.8140006048929265,
           3.70195499416707,
           3.59512425761855,
           3.4935473115979505,
           3.3972580210748964,
           3.306283592464343,
           3.2206428340558744,
           3.1403443194790945,
           3.065384502901028,
           2.9957458477478576,
           2.931395042350271,
           2.872281384494144,
           2.818335420844085,
           2.7694679252257792,
           2.7255692909071847,
           2.686509396135997,
           2.6521379799904623,
           2.622285538716599,
           2.59676472355646,
           2.5753721924687984,
           2.5578908429811373,
           2.5440923341468267,
           2.5337397938795667,
           2.526590604465156,
           2.52239916344443,
           2.5209195280925663,
           2.5219078675733404,
           2.5251246654582804,
           2.5303366346708245,
           2.537318325350706,
           2.545853422386204,
           2.5557357426718745,
           2.5667699522089125,
           2.5787720300315278,
           2.591569509929854,
           2.6050015325129148,
           2.6189187398390024,
           2.633183043152701,
           2.647667291672906,
           2.6622548672642976,
           2.6768392265022065,
           2.6913234083338433,
           2.7056195224028534,
           2.7196482302361145,
           2.7333382289431123,
           2.7466257448670093,
           2.7594540427473246,
           2.7717729543864724,
           2.78353842952718,
           2.794712110611768,
           2.8052609322733972,
           2.8151567457708757,
           2.8243759680921983,
           2.8328992550905885,
           2.840711197756766,
           2.8478000405521837,
           2.854157420612972,
           2.8597781265690485,
           2.8646598756956236,
           2.8688031081156273,
           2.8722107967937833,
           2.874888272100067,
           2.876843059767341,
           2.8780847311213265,
           2.8786247645179035,
           2.8784764169808925,
           2.877654605091339,
           2.876175794235776,
           2.8740578953751865,
           2.871320168547881,
           2.867983132368026,
           2.864068478826865,
           2.859598992745886,
           2.8545984752703597,
           2.8490916708279497,
           2.843104197010844,
           2.8366624768712243,
           2.829793673149336,
           2.8225256239812158,
           2.81488677965971,
           2.8069061400481354,
           2.798613192271231,
           2.7900378483333053,
           2.7812103823391214,
           2.7721613670195024,
           2.7629216092912268,
           2.753522084609954,
           2.7439938699059403,
           2.734368074925556,
           2.724675771837268,
           2.714947922999095,
           2.705215306825597,
           2.6955084417363313,
           2.685857508214317,
           2.676292269052182,
           2.6668419879150926,
           2.6575353464027995,
           2.64840035984766,
           2.639464292140598,
           2.6307535699318216,
           2.6222936966067807,
           2.6141091664892624,
           2.606223379771515,
           2.5986585587147064,
           2.59143566570057,
           2.584574323745595,
           2.578092740111382,
           2.5720076336577913,
           2.5663341665883204,
           2.5610858812290593,
           2.5562746424631744,
           2.551910586411874,
           2.548002075910492,
           2.5445556632749553,
           2.5415760607904248,
           2.539066119281298,
           2.537026815041472,
           2.5354572453174398,
           2.5343546324462705,
           2.5337143366578436,
           2.5335298774578923,
           2.5337929634176617,
           2.5344935301092426,
           2.5356197858448306,
           2.537158264805074,
           2.5390938870776187,
           2.541410025073279,
           2.544088575744683,
           2.547110038001383,
           2.550453594696421,
           2.554097198552115,
           2.558017661396983,
           2.562190746100553,
           2.5665912606174803,
           2.5711931535858517,
           2.575969610965653,
           2.5808931532508748,
           2.585935732841401,
           2.591068831217427,
           2.596263555618531,
           2.601490734990572,
           2.606721015025361,
           2.611924952179672,
           2.6170731066209485,
           2.622136134106399,
           2.6270848768597026,
           2.631890453564864,
           2.6365243486498007,
           2.640958501082855,
           2.645165392953692,
           2.6491181381560716,
           2.6527905715339384,
           2.656157338894385,
           2.65919398833162,
           2.6618770633452784,
           2.6641841982746484,
           2.666094216607749,
           2.6675872327610177,
           2.6686447579616357,
           2.669249810900373,
           2.6693870338581225,
           2.6690428150438006,
           2.6682054179145367,
           2.666865118280466,
           2.6650143500249177,
           2.6626478602951433,
           2.6597628750371296,
           2.656359275758352,
           2.652439788401601,
           2.64801018519779,
           2.6430795003314773,
           2.637660260194397,
           2.6317687289130673,
           2.6254251697088926,
           2.6186541224739437,
           2.611484697712233,
           2.603950886692779,
           2.5960918872734093,
           2.5879524443682302,
           2.579583203431208,
           2.5710410745969337,
           2.5623896042419756,
           2.5536993496923635,
           2.545048251595036,
           2.5365219970901545,
           2.5282143653734472,
           2.520227545543465,
           2.5126724148263544,
           2.5056687634227424,
           2.499345450418452,
           2.4938404735667508,
           2.489300934444601,
           2.4858828797033206,
           2.483750999100531,
           2.483078161958217,
           2.484044775883647,
           2.4868379552283995,
           2.4916504919927966,
           2.4986796287477984,
           2.508125641531881,
           2.520190250288706,
           2.535074884737904,
           2.5529788439121837,
           2.5740973970865126,
           2.5986198815246966,
           2.6267278574599895,
           2.658593382250836,
           2.6943774632376236,
           2.734228742382437,
           2.778282455646451,
           2.8266596970095805,
           2.8794670021560225,
           2.936796251418494,
           2.998724876893468,
           3.065316345861866,
           3.136620882643737,
           3.212676384287652,
           3.2935094821713307,
           3.379136701452728,
           3.469565672882572,
           3.5647963561304654,
           3.66482223978944,
           3.7696314899357692,
           3.8792080259505455,
           3.993532508799012,
           4.112583232793551,
           4.236336916845451,
           4.364769395260317,
           4.497856211259111,
           4.635573118678159,
           4.777896498821763,
           4.924803700331479,
           5.076273310321814,
           5.232285365030553,
           5.392821507948216,
           5.557865102914544,
           5.727401309072572
          ],
          "thickness": 1.5,
          "type": "data",
          "width": 0
         },
         "marker": {
          "size": 0,
          "symbol": "cross-thin"
         },
         "mode": "lines+markers",
         "name": "background lightcurve",
         "showlegend": true,
         "type": "scatter",
         "x": [
          -199,
          -197,
          -195,
          -193,
          -191,
          -189,
          -187,
          -185,
          -183,
          -181,
          -179,
          -177,
          -175,
          -173,
          -171,
          -169,
          -167,
          -165,
          -163,
          -161,
          -159,
          -157,
          -155,
          -153,
          -151,
          -149,
          -147,
          -145,
          -143,
          -141,
          -139,
          -137,
          -135,
          -133,
          -131,
          -129,
          -127,
          -125,
          -123,
          -121,
          -119,
          -117,
          -115,
          -113,
          -111,
          -109,
          -107,
          -105,
          -103,
          -101,
          -99,
          -97,
          -95,
          -93,
          -91,
          -89,
          -87,
          -85,
          -83,
          -81,
          -79,
          -77,
          -75,
          -73,
          -71,
          -69,
          -67,
          -65,
          -63,
          -61,
          -59,
          -57,
          -55,
          -53,
          -51,
          -49,
          -47,
          -45,
          -43,
          -41,
          -39,
          -37,
          -35,
          -33,
          -31,
          -29,
          -27,
          -25,
          -23,
          -21,
          -19,
          -17,
          -15,
          -13,
          -11,
          -9,
          -7,
          -5,
          -3,
          -1,
          1,
          3,
          5,
          7,
          9,
          11,
          13,
          15,
          17,
          19,
          21,
          23,
          25,
          27,
          29,
          31,
          33,
          35,
          37,
          39,
          41,
          43,
          45,
          47,
          49,
          51,
          53,
          55,
          57,
          59,
          61,
          63,
          65,
          67,
          69,
          71,
          73,
          75,
          77,
          79,
          81,
          83,
          85,
          87,
          89,
          91,
          93,
          95,
          97,
          99,
          101,
          103,
          105,
          107,
          109,
          111,
          113,
          115,
          117,
          119,
          121,
          123,
          125,
          127,
          129,
          131,
          133,
          135,
          137,
          139,
          141,
          143,
          145,
          147,
          149,
          151,
          153,
          155,
          157,
          159,
          161,
          163,
          165,
          167,
          169,
          171,
          173,
          175,
          177,
          179,
          181,
          183,
          185,
          187,
          189,
          191,
          193,
          195,
          197,
          199,
          201,
          203,
          205,
          207,
          209,
          211,
          213,
          215,
          217,
          219,
          221,
          223,
          225,
          227,
          229,
          231,
          233,
          235,
          237,
          239,
          241,
          243,
          245,
          247,
          249,
          251,
          253,
          255,
          257,
          259,
          261,
          263,
          265,
          267,
          269,
          271,
          273,
          275,
          277,
          279,
          281,
          283,
          285,
          287,
          289,
          291,
          293,
          295,
          297,
          299
         ],
         "y": [
          1067.9013498875556,
          1068.2206971677042,
          1068.5391276894816,
          1068.8566433673075,
          1069.1732461156016,
          1069.4889378487833,
          1069.8037204812733,
          1070.1175959274906,
          1070.4305661018554,
          1070.7426329187872,
          1071.0537982927062,
          1071.364064138032,
          1071.6734323691842,
          1071.981904900583,
          1072.2894836466476,
          1072.5961705217985,
          1072.901967440455,
          1073.2068763170373,
          1073.5108990659648,
          1073.8140376016577,
          1074.116293838535,
          1074.4176696910176,
          1074.7181670735245,
          1075.017787900476,
          1075.3165340862915,
          1075.6144075453908,
          1075.911410192194,
          1076.2075439411205,
          1076.5028107065907,
          1076.7972124030239,
          1077.09075094484,
          1077.383428246459,
          1077.6752462223005,
          1077.9662067867844,
          1078.25631185433,
          1078.545563339358,
          1078.8339631562874,
          1079.1215132195387,
          1079.408215443531,
          1079.6940717426846,
          1079.979084031419,
          1080.263254224154,
          1080.5465842353099,
          1080.8290759793058,
          1081.110731370562,
          1081.3915523234978,
          1081.6715407525337,
          1081.9506985720889,
          1082.2290276965832,
          1082.506530040437,
          1082.7832075180693,
          1083.0590620439007,
          1083.3340955323501,
          1083.6083098978384,
          1083.8817070547843,
          1084.1542889176085,
          1084.42605740073,
          1084.697014418569,
          1084.9671618855457,
          1085.2365017160791,
          1085.5050358245894,
          1085.7727661254964,
          1086.0396945332197,
          1086.3058229621797,
          1086.5711533267956,
          1086.8356875414872,
          1087.0994275206747,
          1087.3623751787773,
          1087.6245324302156,
          1087.8859011894085,
          1088.1464833707767,
          1088.4062808887393,
          1088.6652956577161,
          1088.9235295921278,
          1089.1809846063932,
          1089.4376626149324,
          1089.693565532165,
          1089.9486952725113,
          1090.203053750391,
          1090.4566428802236,
          1090.709464576429,
          1090.961520753427,
          1091.2128133256374,
          1091.46334420748,
          1091.7131153133748,
          1091.9621285577412,
          1092.2103858549995,
          1092.4578891195688,
          1092.7046402658696,
          1092.9506412083217,
          1093.195893861344,
          1093.4404001393573,
          1093.6841619567808,
          1093.9271812280347,
          1094.1694598675385,
          1094.4109997897122,
          1094.6518029089752,
          1094.8918711397478,
          1095.1312063964497,
          1095.3698105935005,
          1095.60768564532,
          1095.844833466328,
          1096.0812559709448,
          1096.3169550735893,
          1096.551932688682,
          1096.7861907306424,
          1097.0197311138907,
          1097.252555752846,
          1097.4846665619284,
          1097.716065455558,
          1097.9467543481544,
          1098.1767351541373,
          1098.4060097879265,
          1098.6345801639418,
          1098.8624481966033,
          1099.0896158003304,
          1099.3160848895432,
          1099.541857378661,
          1099.7669351821041,
          1099.9913202142923,
          1100.2150143896451,
          1100.4380196225825,
          1100.6603378275242,
          1100.8819709188901,
          1101.1029208111,
          1101.3231894185735,
          1101.5427786557304,
          1101.7616904369909,
          1101.9799266767745,
          1102.1974892895007,
          1102.41438018959,
          1102.6306012914617,
          1102.8461545095356,
          1103.0610417582318,
          1103.27526495197,
          1103.4888260051696,
          1103.7017268322506,
          1103.9139693476334,
          1104.125555465737,
          1104.3364871009817,
          1104.5467661677867,
          1104.7563945805725,
          1104.9653742537587,
          1105.1737071017649,
          1105.3813950390108,
          1105.5884399799165,
          1105.7948438389017,
          1106.0006085303862,
          1106.2057359687897,
          1106.4102280685322,
          1106.6140867440333,
          1106.817313909713,
          1107.019911479991,
          1107.2218813692868,
          1107.4232254920207,
          1107.623945762612,
          1107.824044095481,
          1108.0235224050473,
          1108.2223826057307,
          1108.4206266119509,
          1108.6182563381276,
          1108.8152736986808,
          1109.0116806080302,
          1109.2074789805959,
          1109.4026707307971,
          1109.5972577730543,
          1109.7912420217867,
          1109.9846253914145,
          1110.177409796357,
          1110.369597151035,
          1110.561189369867,
          1110.7521883672737,
          1110.9425960576746,
          1111.1324143554896,
          1111.3216451751382,
          1111.5102904310406,
          1111.6983520376166,
          1111.8858319092856,
          1112.0727319604675,
          1112.2590541055824,
          1112.4448002590498,
          1112.6299723352897,
          1112.8145722487216,
          1112.9986019137657,
          1113.1820632448419,
          1113.364958156369,
          1113.547288562768,
          1113.729056378458,
          1113.9102635178592,
          1114.090911895391,
          1114.2710034254735,
          1114.4505400225264,
          1114.6295236009692,
          1114.8079560752224,
          1114.985839359705,
          1115.1631753688375,
          1115.3399660170392,
          1115.5162132187302,
          1115.6919188883303,
          1115.8670849402588,
          1116.041713288936,
          1116.2158058487817,
          1116.3893645342155,
          1116.5623912596573,
          1116.7348879395267,
          1116.9068564882436,
          1117.0782988202282,
          1117.2492168498995,
          1117.419612491678,
          1117.5894876599832,
          1117.7588442692352,
          1117.9276842338534,
          1118.0960094682578,
          1118.2638218868678,
          1118.4311234041038,
          1118.5979159343854,
          1118.764201392132,
          1118.9299816917642,
          1119.0952587477009,
          1119.2600344743628,
          1119.424310786169,
          1119.5880895975392,
          1119.751372822894,
          1119.9141623766523,
          1120.0764601732346,
          1120.2382681270603,
          1120.3995881525493,
          1120.5604221641215,
          1120.7207720761965,
          1120.8806398031943,
          1121.0400272595346,
          1121.1989363596372,
          1121.3573690179217,
          1121.5153271488084,
          1121.6728126667167,
          1121.8298274860665,
          1121.9863735212773,
          1122.1424526867695,
          1122.2980668969626,
          1122.4532180662763,
          1122.6079081091307,
          1122.762138939945,
          1122.9159124731395,
          1123.0692306231338,
          1123.222095304348,
          1123.3745084312013,
          1123.5264719181143,
          1123.677987679506,
          1123.8290576297968,
          1123.9796836834064
         ]
        }
       ],
       "layout": {
        "height": 600,
        "legend": {
         "x": 1,
         "xanchor": "right",
         "y": 1,
         "yanchor": "bottom"
        },
        "template": {
         "data": {
          "bar": [
           {
            "error_x": {
             "color": "#2a3f5f"
            },
            "error_y": {
             "color": "#2a3f5f"
            },
            "marker": {
             "line": {
              "color": "white",
              "width": 0.5
             },
             "pattern": {
              "fillmode": "overlay",
              "size": 10,
              "solidity": 0.2
             }
            },
            "type": "bar"
           }
          ],
          "barpolar": [
           {
            "marker": {
             "line": {
              "color": "white",
              "width": 0.5
             },
             "pattern": {
              "fillmode": "overlay",
              "size": 10,
              "solidity": 0.2
             }
            },
            "type": "barpolar"
           }
          ],
          "carpet": [
           {
            "aaxis": {
             "endlinecolor": "#2a3f5f",
             "gridcolor": "#C8D4E3",
             "linecolor": "#C8D4E3",
             "minorgridcolor": "#C8D4E3",
             "startlinecolor": "#2a3f5f"
            },
            "baxis": {
             "endlinecolor": "#2a3f5f",
             "gridcolor": "#C8D4E3",
             "linecolor": "#C8D4E3",
             "minorgridcolor": "#C8D4E3",
             "startlinecolor": "#2a3f5f"
            },
            "type": "carpet"
           }
          ],
          "choropleth": [
           {
            "colorbar": {
             "outlinewidth": 0,
             "ticks": ""
            },
            "type": "choropleth"
           }
          ],
          "contour": [
           {
            "colorbar": {
             "outlinewidth": 0,
             "ticks": ""
            },
            "colorscale": [
             [
              0,
              "#0d0887"
             ],
             [
              0.1111111111111111,
              "#46039f"
             ],
             [
              0.2222222222222222,
              "#7201a8"
             ],
             [
              0.3333333333333333,
              "#9c179e"
             ],
             [
              0.4444444444444444,
              "#bd3786"
             ],
             [
              0.5555555555555556,
              "#d8576b"
             ],
             [
              0.6666666666666666,
              "#ed7953"
             ],
             [
              0.7777777777777778,
              "#fb9f3a"
             ],
             [
              0.8888888888888888,
              "#fdca26"
             ],
             [
              1,
              "#f0f921"
             ]
            ],
            "type": "contour"
           }
          ],
          "contourcarpet": [
           {
            "colorbar": {
             "outlinewidth": 0,
             "ticks": ""
            },
            "type": "contourcarpet"
           }
          ],
          "heatmap": [
           {
            "colorbar": {
             "outlinewidth": 0,
             "ticks": ""
            },
            "colorscale": [
             [
              0,
              "#0d0887"
             ],
             [
              0.1111111111111111,
              "#46039f"
             ],
             [
              0.2222222222222222,
              "#7201a8"
             ],
             [
              0.3333333333333333,
              "#9c179e"
             ],
             [
              0.4444444444444444,
              "#bd3786"
             ],
             [
              0.5555555555555556,
              "#d8576b"
             ],
             [
              0.6666666666666666,
              "#ed7953"
             ],
             [
              0.7777777777777778,
              "#fb9f3a"
             ],
             [
              0.8888888888888888,
              "#fdca26"
             ],
             [
              1,
              "#f0f921"
             ]
            ],
            "type": "heatmap"
           }
          ],
          "heatmapgl": [
           {
            "colorbar": {
             "outlinewidth": 0,
             "ticks": ""
            },
            "colorscale": [
             [
              0,
              "#0d0887"
             ],
             [
              0.1111111111111111,
              "#46039f"
             ],
             [
              0.2222222222222222,
              "#7201a8"
             ],
             [
              0.3333333333333333,
              "#9c179e"
             ],
             [
              0.4444444444444444,
              "#bd3786"
             ],
             [
              0.5555555555555556,
              "#d8576b"
             ],
             [
              0.6666666666666666,
              "#ed7953"
             ],
             [
              0.7777777777777778,
              "#fb9f3a"
             ],
             [
              0.8888888888888888,
              "#fdca26"
             ],
             [
              1,
              "#f0f921"
             ]
            ],
            "type": "heatmapgl"
           }
          ],
          "histogram": [
           {
            "marker": {
             "pattern": {
              "fillmode": "overlay",
              "size": 10,
              "solidity": 0.2
             }
            },
            "type": "histogram"
           }
          ],
          "histogram2d": [
           {
            "colorbar": {
             "outlinewidth": 0,
             "ticks": ""
            },
            "colorscale": [
             [
              0,
              "#0d0887"
             ],
             [
              0.1111111111111111,
              "#46039f"
             ],
             [
              0.2222222222222222,
              "#7201a8"
             ],
             [
              0.3333333333333333,
              "#9c179e"
             ],
             [
              0.4444444444444444,
              "#bd3786"
             ],
             [
              0.5555555555555556,
              "#d8576b"
             ],
             [
              0.6666666666666666,
              "#ed7953"
             ],
             [
              0.7777777777777778,
              "#fb9f3a"
             ],
             [
              0.8888888888888888,
              "#fdca26"
             ],
             [
              1,
              "#f0f921"
             ]
            ],
            "type": "histogram2d"
           }
          ],
          "histogram2dcontour": [
           {
            "colorbar": {
             "outlinewidth": 0,
             "ticks": ""
            },
            "colorscale": [
             [
              0,
              "#0d0887"
             ],
             [
              0.1111111111111111,
              "#46039f"
             ],
             [
              0.2222222222222222,
              "#7201a8"
             ],
             [
              0.3333333333333333,
              "#9c179e"
             ],
             [
              0.4444444444444444,
              "#bd3786"
             ],
             [
              0.5555555555555556,
              "#d8576b"
             ],
             [
              0.6666666666666666,
              "#ed7953"
             ],
             [
              0.7777777777777778,
              "#fb9f3a"
             ],
             [
              0.8888888888888888,
              "#fdca26"
             ],
             [
              1,
              "#f0f921"
             ]
            ],
            "type": "histogram2dcontour"
           }
          ],
          "mesh3d": [
           {
            "colorbar": {
             "outlinewidth": 0,
             "ticks": ""
            },
            "type": "mesh3d"
           }
          ],
          "parcoords": [
           {
            "line": {
             "colorbar": {
              "outlinewidth": 0,
              "ticks": ""
             }
            },
            "type": "parcoords"
           }
          ],
          "pie": [
           {
            "automargin": true,
            "type": "pie"
           }
          ],
          "scatter": [
           {
            "fillpattern": {
             "fillmode": "overlay",
             "size": 10,
             "solidity": 0.2
            },
            "type": "scatter"
           }
          ],
          "scatter3d": [
           {
            "line": {
             "colorbar": {
              "outlinewidth": 0,
              "ticks": ""
             }
            },
            "marker": {
             "colorbar": {
              "outlinewidth": 0,
              "ticks": ""
             }
            },
            "type": "scatter3d"
           }
          ],
          "scattercarpet": [
           {
            "marker": {
             "colorbar": {
              "outlinewidth": 0,
              "ticks": ""
             }
            },
            "type": "scattercarpet"
           }
          ],
          "scattergeo": [
           {
            "marker": {
             "colorbar": {
              "outlinewidth": 0,
              "ticks": ""
             }
            },
            "type": "scattergeo"
           }
          ],
          "scattergl": [
           {
            "marker": {
             "colorbar": {
              "outlinewidth": 0,
              "ticks": ""
             }
            },
            "type": "scattergl"
           }
          ],
          "scattermapbox": [
           {
            "marker": {
             "colorbar": {
              "outlinewidth": 0,
              "ticks": ""
             }
            },
            "type": "scattermapbox"
           }
          ],
          "scatterpolar": [
           {
            "marker": {
             "colorbar": {
              "outlinewidth": 0,
              "ticks": ""
             }
            },
            "type": "scatterpolar"
           }
          ],
          "scatterpolargl": [
           {
            "marker": {
             "colorbar": {
              "outlinewidth": 0,
              "ticks": ""
             }
            },
            "type": "scatterpolargl"
           }
          ],
          "scatterternary": [
           {
            "marker": {
             "colorbar": {
              "outlinewidth": 0,
              "ticks": ""
             }
            },
            "type": "scatterternary"
           }
          ],
          "surface": [
           {
            "colorbar": {
             "outlinewidth": 0,
             "ticks": ""
            },
            "colorscale": [
             [
              0,
              "#0d0887"
             ],
             [
              0.1111111111111111,
              "#46039f"
             ],
             [
              0.2222222222222222,
              "#7201a8"
             ],
             [
              0.3333333333333333,
              "#9c179e"
             ],
             [
              0.4444444444444444,
              "#bd3786"
             ],
             [
              0.5555555555555556,
              "#d8576b"
             ],
             [
              0.6666666666666666,
              "#ed7953"
             ],
             [
              0.7777777777777778,
              "#fb9f3a"
             ],
             [
              0.8888888888888888,
              "#fdca26"
             ],
             [
              1,
              "#f0f921"
             ]
            ],
            "type": "surface"
           }
          ],
          "table": [
           {
            "cells": {
             "fill": {
              "color": "#EBF0F8"
             },
             "line": {
              "color": "white"
             }
            },
            "header": {
             "fill": {
              "color": "#C8D4E3"
             },
             "line": {
              "color": "white"
             }
            },
            "type": "table"
           }
          ]
         },
         "layout": {
          "annotationdefaults": {
           "arrowcolor": "#2a3f5f",
           "arrowhead": 0,
           "arrowwidth": 1
          },
          "autotypenumbers": "strict",
          "coloraxis": {
           "colorbar": {
            "outlinewidth": 0,
            "ticks": ""
           }
          },
          "colorscale": {
           "diverging": [
            [
             0,
             "#8e0152"
            ],
            [
             0.1,
             "#c51b7d"
            ],
            [
             0.2,
             "#de77ae"
            ],
            [
             0.3,
             "#f1b6da"
            ],
            [
             0.4,
             "#fde0ef"
            ],
            [
             0.5,
             "#f7f7f7"
            ],
            [
             0.6,
             "#e6f5d0"
            ],
            [
             0.7,
             "#b8e186"
            ],
            [
             0.8,
             "#7fbc41"
            ],
            [
             0.9,
             "#4d9221"
            ],
            [
             1,
             "#276419"
            ]
           ],
           "sequential": [
            [
             0,
             "#0d0887"
            ],
            [
             0.1111111111111111,
             "#46039f"
            ],
            [
             0.2222222222222222,
             "#7201a8"
            ],
            [
             0.3333333333333333,
             "#9c179e"
            ],
            [
             0.4444444444444444,
             "#bd3786"
            ],
            [
             0.5555555555555556,
             "#d8576b"
            ],
            [
             0.6666666666666666,
             "#ed7953"
            ],
            [
             0.7777777777777778,
             "#fb9f3a"
            ],
            [
             0.8888888888888888,
             "#fdca26"
            ],
            [
             1,
             "#f0f921"
            ]
           ],
           "sequentialminus": [
            [
             0,
             "#0d0887"
            ],
            [
             0.1111111111111111,
             "#46039f"
            ],
            [
             0.2222222222222222,
             "#7201a8"
            ],
            [
             0.3333333333333333,
             "#9c179e"
            ],
            [
             0.4444444444444444,
             "#bd3786"
            ],
            [
             0.5555555555555556,
             "#d8576b"
            ],
            [
             0.6666666666666666,
             "#ed7953"
            ],
            [
             0.7777777777777778,
             "#fb9f3a"
            ],
            [
             0.8888888888888888,
             "#fdca26"
            ],
            [
             1,
             "#f0f921"
            ]
           ]
          },
          "colorway": [
           "#636efa",
           "#EF553B",
           "#00cc96",
           "#ab63fa",
           "#FFA15A",
           "#19d3f3",
           "#FF6692",
           "#B6E880",
           "#FF97FF",
           "#FECB52"
          ],
          "font": {
           "color": "#2a3f5f"
          },
          "geo": {
           "bgcolor": "white",
           "lakecolor": "white",
           "landcolor": "white",
           "showlakes": true,
           "showland": true,
           "subunitcolor": "#C8D4E3"
          },
          "hoverlabel": {
           "align": "left"
          },
          "hovermode": "closest",
          "mapbox": {
           "style": "light"
          },
          "paper_bgcolor": "white",
          "plot_bgcolor": "white",
          "polar": {
           "angularaxis": {
            "gridcolor": "#EBF0F8",
            "linecolor": "#EBF0F8",
            "ticks": ""
           },
           "bgcolor": "white",
           "radialaxis": {
            "gridcolor": "#EBF0F8",
            "linecolor": "#EBF0F8",
            "ticks": ""
           }
          },
          "scene": {
           "xaxis": {
            "backgroundcolor": "white",
            "gridcolor": "#DFE8F3",
            "gridwidth": 2,
            "linecolor": "#EBF0F8",
            "showbackground": true,
            "ticks": "",
            "zerolinecolor": "#EBF0F8"
           },
           "yaxis": {
            "backgroundcolor": "white",
            "gridcolor": "#DFE8F3",
            "gridwidth": 2,
            "linecolor": "#EBF0F8",
            "showbackground": true,
            "ticks": "",
            "zerolinecolor": "#EBF0F8"
           },
           "zaxis": {
            "backgroundcolor": "white",
            "gridcolor": "#DFE8F3",
            "gridwidth": 2,
            "linecolor": "#EBF0F8",
            "showbackground": true,
            "ticks": "",
            "zerolinecolor": "#EBF0F8"
           }
          },
          "shapedefaults": {
           "line": {
            "color": "#2a3f5f"
           }
          },
          "ternary": {
           "aaxis": {
            "gridcolor": "#DFE8F3",
            "linecolor": "#A2B1C6",
            "ticks": ""
           },
           "baxis": {
            "gridcolor": "#DFE8F3",
            "linecolor": "#A2B1C6",
            "ticks": ""
           },
           "bgcolor": "white",
           "caxis": {
            "gridcolor": "#DFE8F3",
            "linecolor": "#A2B1C6",
            "ticks": ""
           }
          },
          "title": {
           "x": 0.05
          },
          "xaxis": {
           "automargin": true,
           "gridcolor": "#EBF0F8",
           "linecolor": "#EBF0F8",
           "ticks": "",
           "title": {
            "standoff": 15
           },
           "zerolinecolor": "#EBF0F8",
           "zerolinewidth": 2
          },
          "yaxis": {
           "automargin": true,
           "gridcolor": "#EBF0F8",
           "linecolor": "#EBF0F8",
           "ticks": "",
           "title": {
            "standoff": 15
           },
           "zerolinecolor": "#EBF0F8",
           "zerolinewidth": 2
          }
         }
        },
        "width": 800,
        "xaxis": {
         "title": {
          "text": "Time since 2024-02-19T06:21:42.000 (s)"
         }
        },
        "yaxis": {
         "title": {
          "text": "Counts per second (binsize=2 s)"
         }
        }
       }
      }
     },
     "metadata": {},
     "output_type": "display_data"
    },
    {
     "name": "stdout",
     "output_type": "stream",
     "text": [
      "\n",
      "+------------------------------------------------+\n",
      " extract light curve for na\n",
      "+------------------------------------------------+\n"
     ]
    },
    {
     "data": {
      "application/vnd.plotly.v1+json": {
       "config": {
        "plotlyServerURL": "https://plot.ly"
       },
       "data": [
        {
         "error_y": {
          "array": [
           22.56033472412031,
           23.030669261389708,
           22.662337130789833,
           23.18965099382104,
           22.87312097382516,
           22.732411452538813,
           22.789299794787745,
           22.413613793123705,
           22.542069690837042,
           22.729638375276743,
           22.943224153434432,
           22.353543050401875,
           22.469765610525783,
           22.353036256122323,
           23.196218777676233,
           22.862003951565704,
           23.1532540263448,
           22.855460919395348,
           22.894324205534573,
           22.84913720934647,
           22.885695441324774,
           22.599661475120715,
           22.728461723940782,
           22.955501357101415,
           22.682576293232632,
           22.58383056177282,
           22.233047132536953,
           22.382270517035373,
           22.840400540084865,
           22.644919153638032,
           23.217758538211555,
           22.92139898697774,
           22.572994291640878,
           22.794257232780563,
           22.53292141184573,
           23.15207860726576,
           22.677366442786585,
           22.78291447522553,
           22.20589218155054,
           22.261275286223466,
           22.878899050132755,
           22.98747743655631,
           23.153360888542963,
           23.0275831268874,
           22.80385167647596,
           22.5332514496093,
           22.72702072005953,
           23.132819689643345,
           22.99770599931831,
           22.977385952849204,
           22.784592224199436,
           23.34398873644532,
           22.6042475886951,
           22.778897954154772,
           22.36342275989359,
           22.67294890067129,
           22.710621302407684,
           23.346971095435503,
           22.558506205901672,
           22.999775731735383,
           22.78940725235843,
           22.804016383380667,
           22.822903471502656,
           22.861075032845527,
           23.021097009358225,
           23.013843629516813,
           23.200625648191664,
           22.81752051145978,
           22.784409351277628,
           23.244824641830363,
           23.01964199947986,
           23.36357444859789,
           23.085988805581064,
           22.806411765175433,
           22.537312188490418,
           23.01502578480753,
           22.346522404329157,
           22.87075752636559,
           22.543994149212985,
           23.45139116009121,
           22.688940870961225,
           22.910800227878735,
           22.97523991385483,
           23.164256350893414,
           22.717431476154058,
           23.246142411749272,
           23.0428126285388,
           22.970717781647792,
           23.096021839895066,
           23.203198024046348,
           22.97742514311006,
           23.148243383860923,
           23.24995507933313,
           22.947767760704576,
           23.123694041890587,
           23.157324536718203,
           23.461203511973366,
           22.840590744014314,
           23.01563538108596,
           23.09843646409629,
           23.05017562478732,
           22.728388757327036,
           22.897498878245706,
           23.304863348427208,
           23.403588070755603,
           23.29388860560066,
           23.2346481972197,
           23.141629100986545,
           23.02455743826931,
           23.65996362563404,
           23.564632889041857,
           23.75848255190708,
           23.415097471063746,
           23.56346722329777,
           23.6747543185666,
           23.262531694423075,
           23.23443139314229,
           23.73647872066701,
           23.66589492396044,
           23.532933251181557,
           24.107086687221514,
           23.868830646084202,
           23.682941992534815,
           23.996058077991382,
           24.164929171871904,
           23.53119774529616,
           23.884838296992648,
           23.589938186218102,
           23.61204196675213,
           23.719459785455854,
           23.61270774375318,
           22.654445937301993,
           23.45051113146196,
           23.462872615631024,
           23.004708221387286,
           23.73003680929922,
           23.629119664840115,
           23.42508649470064,
           22.988981198137513,
           23.30580103833847,
           23.6023789080335,
           23.167479936572896,
           23.374899379094135,
           23.65605137287908,
           23.325745130206162,
           23.537052891052546,
           22.99807746232184,
           23.64929191116914,
           23.088117530452845,
           23.185820373497197,
           22.970385935996568,
           23.103468636244425,
           23.224915885886613,
           23.065018696161278,
           23.325869167242747,
           23.766420265065204,
           22.816623174332847,
           23.299640748596577,
           23.694120910564695,
           22.88739979253859,
           23.54341735021759,
           23.247476660229147,
           23.36417455728622,
           23.098651997324165,
           23.024898710119064,
           22.967083407556593,
           23.07536876947486,
           23.613264561178003,
           23.50098841025842,
           23.23419827499266,
           23.336154644621246,
           23.38665634544484,
           23.31529987825033,
           23.157552227464603,
           23.06413473772586,
           23.315203967519206,
           23.36378073248234,
           23.190851566192826,
           23.451739424955047,
           23.67097973345387,
           23.437360474806756,
           23.290563315494037,
           23.325253675670876,
           23.476194049196337,
           23.31261312462886,
           23.217334578780566,
           23.084019066763666,
           23.034332001797672,
           22.682974504709904,
           23.19126109217813,
           23.40872553003534,
           23.538491252296588,
           23.02767785526267,
           23.49927411086919,
           23.109860363646,
           23.22531904905697,
           23.054357631565438,
           23.167956427847468,
           23.16335924521545,
           23.365527259063683,
           23.211513843019667,
           22.883045857221813,
           23.032783571915033,
           23.29459912581219,
           23.391633218935397,
           23.097280069550173,
           23.643620944896597,
           23.336599503062246,
           22.94437048194263,
           23.65140167943314,
           23.467550923356796,
           23.23457825997846,
           23.38013675840259,
           22.849918890772503,
           22.877409397559695,
           23.28890880795999,
           23.46198271134766,
           23.390635767573347,
           23.407466611137327,
           23.72442274833317,
           23.793706962753856,
           23.40125637748814,
           23.677232143442282,
           23.35366264445685,
           22.651853547157113,
           23.008556552314978,
           23.471775555288946,
           23.709106376599312,
           23.66749796278632,
           23.342386681262877,
           23.283275779745818,
           23.623522153804718,
           23.403238169729264,
           23.457726738883398,
           23.148131898616437,
           22.983315584301536,
           23.729693923069604,
           23.137846249554407,
           23.215892766698577,
           23.994524208558914,
           23.455006016544505,
           23.46629591719603,
           23.258842022916554,
           23.752625684908278,
           23.697551857850286,
           23.581327281528537,
           23.504013321192357,
           23.35213028802463,
           23.38666573179099,
           23.249427903266827
          ],
          "thickness": 1.5,
          "type": "data",
          "width": 0
         },
         "marker": {
          "size": 0,
          "symbol": "cross-thin"
         },
         "mode": "lines+markers",
         "name": "source lightcurve",
         "showlegend": true,
         "type": "scatter",
         "x": [
          -199,
          -197,
          -195,
          -193,
          -191,
          -189,
          -187,
          -185,
          -183,
          -181,
          -179,
          -177,
          -175,
          -173,
          -171,
          -169,
          -167,
          -165,
          -163,
          -161,
          -159,
          -157,
          -155,
          -153,
          -151,
          -149,
          -147,
          -145,
          -143,
          -141,
          -139,
          -137,
          -135,
          -133,
          -131,
          -129,
          -127,
          -125,
          -123,
          -121,
          -119,
          -117,
          -115,
          -113,
          -111,
          -109,
          -107,
          -105,
          -103,
          -101,
          -99,
          -97,
          -95,
          -93,
          -91,
          -89,
          -87,
          -85,
          -83,
          -81,
          -79,
          -77,
          -75,
          -73,
          -71,
          -69,
          -67,
          -65,
          -63,
          -61,
          -59,
          -57,
          -55,
          -53,
          -51,
          -49,
          -47,
          -45,
          -43,
          -41,
          -39,
          -37,
          -35,
          -33,
          -31,
          -29,
          -27,
          -25,
          -23,
          -21,
          -19,
          -17,
          -15,
          -13,
          -11,
          -9,
          -7,
          -5,
          -3,
          -1,
          1,
          3,
          5,
          7,
          9,
          11,
          13,
          15,
          17,
          19,
          21,
          23,
          25,
          27,
          29,
          31,
          33,
          35,
          37,
          39,
          41,
          43,
          45,
          47,
          49,
          51,
          53,
          55,
          57,
          59,
          61,
          63,
          65,
          67,
          69,
          71,
          73,
          75,
          77,
          79,
          81,
          83,
          85,
          87,
          89,
          91,
          93,
          95,
          97,
          99,
          101,
          103,
          105,
          107,
          109,
          111,
          113,
          115,
          117,
          119,
          121,
          123,
          125,
          127,
          129,
          131,
          133,
          135,
          137,
          139,
          141,
          143,
          145,
          147,
          149,
          151,
          153,
          155,
          157,
          159,
          161,
          163,
          165,
          167,
          169,
          171,
          173,
          175,
          177,
          179,
          181,
          183,
          185,
          187,
          189,
          191,
          193,
          195,
          197,
          199,
          201,
          203,
          205,
          207,
          209,
          211,
          213,
          215,
          217,
          219,
          221,
          223,
          225,
          227,
          229,
          231,
          233,
          235,
          237,
          239,
          241,
          243,
          245,
          247,
          249,
          251,
          253,
          255,
          257,
          259,
          261,
          263,
          265,
          267,
          269,
          271,
          273,
          275,
          277,
          279,
          281,
          283,
          285,
          287,
          289,
          291,
          293,
          295,
          297,
          299
         ],
         "y": [
          1014.7135979647544,
          1057.406222665071,
          1023.8261038636217,
          1072.0041672218147,
          1042.9240238627438,
          1030.2573647100037,
          1035.3467583965166,
          1001.6152236686542,
          1013.1400248791078,
          1029.8808929955258,
          1049.3860539803786,
          996.175808477426,
          1006.6354681562129,
          996.1532234133928,
          1072.5586423193513,
          1041.9156077453106,
          1068.5671978766718,
          1041.3666341916783,
          1044.8945489210798,
          1040.8277344325277,
          1043.9991720248756,
          1018.2395290617097,
          1029.827578872854,
          1050.4493605652883,
          1025.7441209312692,
          1016.7741143255396,
          985.5536393963055,
          998.7108554001113,
          1039.9282273944284,
          1022.2870618185714,
          1074.5584001420705,
          1047.3850437228077,
          1015.7847431238396,
          1035.8228160114834,
          1012.2273857968747,
          1068.5129500258,
          1025.2577565213467,
          1034.8058943908104,
          983.0967547775492,
          988.0596254361255,
          1043.4383380114152,
          1053.4185538910874,
          1068.572129772617,
          1057.0137250247271,
          1036.7605081219929,
          1012.2422118044095,
          1029.7622869249783,
          1066.6211789023737,
          1054.3890171790167,
          1052.4545769032272,
          1034.8820981850786,
          1086.1855361426858,
          1018.6969767220469,
          1034.372675545885,
          997.1177878992032,
          1024.8072579829627,
          1028.2671130984477,
          1086.5751582431674,
          1014.631355288692,
          1054.4839093882279,
          1035.3516403300766,
          1036.767996401457,
          1038.3794057760983,
          1041.8732730963038,
          1056.4652058752708,
          1055.881566304246,
          1073.0132600159443,
          1037.8837084663421,
          1034.8737920494605,
          1077.0659499470848,
          1056.3984337614104,
          1088.1006338073319,
          1062.4572358454411,
          1036.8769006901678,
          1012.6754463972678,
          1055.935803918791,
          995.6121841263606,
          1042.816259988389,
          1013.2265185255928,
          1096.2114430828456,
          1026.2827706986336,
          1046.3992278918065,
          1052.356279883432,
          1069.5767716821824,
          1028.8262983050502,
          1077.1270097800323,
          1058.4655219654671,
          1051.898368057684,
          1063.4207053830055,
          1073.1322306611187,
          1052.4563719711905,
          1068.0851345626731,
          1077.5545291252254,
          1049.8447002304642,
          1065.9496261802444,
          1069.0059117883009,
          1097.1719052151836,
          1039.9368874192319,
          1055.9637723661153,
          1063.5318830303554,
          1059.0546108960114,
          1029.8242727524448,
          1045.2902601518801,
          1082.610614660956,
          1091.72156965881,
          1081.5992377835723,
          1076.0928588370853,
          1067.5291445991302,
          1056.6240090261579,
          1115.7874288484834,
          1106.7854275192012,
          1124.9585039838182,
          1092.7602974595882,
          1106.7306784439668,
          1117.237718788206,
          1078.6392208672842,
          1076.0828177416709,
          1122.9135784034518,
          1116.3180309293846,
          1103.792409962148,
          1158.1441873455788,
          1135.4641323789615,
          1117.875001906609,
          1147.5536184016419,
          1163.6862448973939,
          1103.7110075205865,
          1136.9785152204595,
          1109.2288947755671,
          1111.2721020231072,
          1121.3561194234735,
          1111.3034360097433,
          1023.218841832637,
          1096.1703070390588,
          1097.249961468314,
          1054.9609047441036,
          1122.3579933663977,
          1112.8286870979605,
          1093.7283010325598,
          1053.4874649038177,
          1082.6541743693315,
          1110.3157109723275,
          1069.9764605178686,
          1089.129851970648,
          1115.3520915184774,
          1084.5844431260875,
          1104.2365155212208,
          1054.4060478563906,
          1114.7825687339712,
          1062.5552034552409,
          1071.5762786724415,
          1051.883171845607,
          1064.0144396943103,
          1075.1405333600103,
          1060.489328036037,
          1084.5902105148464,
          1125.8361741799006,
          1037.842891954987,
          1082.1171931415142,
          1118.9045292452543,
          1044.3277503765748,
          1104.7859911129449,
          1077.1888331591535,
          1088.128582383675,
          1063.541806925423,
          1056.8905047392034,
          1051.4811386055815,
          1061.4669633958435,
          1111.3296419461465,
          1100.789909579692,
          1076.072021073955,
          1085.5702233505554,
          1090.1794647113472,
          1083.5972176835442,
          1069.0164226205682,
          1060.4486851690383,
          1083.5927601555718,
          1088.1102409685093,
          1072.0596669180347,
          1096.2277223699189,
          1116.8087646108288,
          1094.8032369648924,
          1081.1940074458394,
          1084.5615918113492,
          1098.6256844839338,
          1083.2215158398192,
          1074.5387785594298,
          1062.1157606840968,
          1057.574389923062,
          1025.762128721761,
          1072.07859836133,
          1092.2121012685816,
          1104.3039959749349,
          1057.0180732532085,
          1100.709611532788,
          1064.5596746400615,
          1075.1591968104246,
          1059.497613521758,
          1069.9984669876628,
          1069.5353490964383,
          1088.1915811197907,
          1074.0185923102676,
          1043.8783033531417,
          1057.5032969220433,
          1081.6322291888391,
          1090.6623350548807,
          1063.4786386269489,
          1114.2644309535335,
          1085.590917637361,
          1049.4384851967473,
          1114.8820191908223,
          1097.71962294234,
          1076.089619753574,
          1089.6247456789756,
          1040.8633417160872,
          1043.3703994011858,
          1081.1172019342314,
          1097.208344763632,
          1090.615827715207,
          1092.1533622119352,
          1121.8416344931584,
          1128.3837841466543,
          1091.612801728601,
          1117.3546500718178,
          1087.1374532046775,
          1022.8509620367286,
          1055.3882183361463,
          1098.168101091265,
          1120.3650352987736,
          1116.3936461195713,
          1086.1109932191557,
          1080.6048979395262,
          1112.3142367492367,
          1091.7052476103897,
          1096.7584816407345,
          1068.0799905121987,
          1052.9770354688217,
          1122.341775898902,
          1067.1038230311408,
          1074.472048979071,
          1147.4802647944925,
          1096.6312751413757,
          1097.660918696035,
          1078.4681378376583,
          1124.4303337887252,
          1119.3174321021845,
          1108.3223822318412,
          1101.1824642787947,
          1087.0661204079984,
          1090.179902260079,
          1077.5300963486477
         ]
        },
        {
         "error_y": {
          "array": [
           5.933198962606947,
           5.754351117395211,
           5.5802873909200565,
           5.411029147184506,
           5.246600031774564,
           5.087025900253344,
           4.9323347002403155,
           4.782556298134333,
           4.637722240551633,
           4.497865439807613,
           4.363019772276173,
           4.233219578340836,
           4.108499053060782,
           3.9888915177869855,
           3.874428564965829,
           3.7651390714444717,
           3.661048079903037,
           3.5621755536863517,
           3.4685350173018885,
           3.3801321030646645,
           3.2969630335033093,
           3.2190130786899807,
           3.1462550369047295,
           3.0786477950909057,
           3.0161350313810287,
           2.958644124541736,
           2.906085333608372,
           2.858351304662899,
           2.8153169505155673,
           2.7768397334031016,
           2.742760361720592,
           2.712903890776295,
           2.687081196449495,
           2.665090771380722,
           2.6467207776847292,
           2.6317512794705626,
           2.6199565733982557,
           2.6111075361512985,
           2.6049739134952827,
           2.601326485488059,
           2.599939055086932,
           2.6005902214707133,
           2.6030649135702175,
           2.607155672524032,
           2.6126636832922285,
           2.619399565027271,
           2.6271839368598244,
           2.635847780574408,
           2.6452326244513826,
           2.655190573656453,
           2.6655842123229627,
           2.6762864012476313,
           2.6871799932264446,
           2.698157485765318,
           2.709120628427243,
           2.71997999958812,
           2.73065456498391,
           2.741071228218339,
           2.7511643814071767,
           2.7608754623814478,
           2.770152523359793,
           2.7789498147191996,
           2.7872273864259354,
           2.794950708812897,
           2.8020903136824393,
           2.808621456151795,
           2.814523797219403,
           2.8197811066946317,
           2.824380985882488,
           2.828314609233172,
           2.8315764840402746,
           2.8341642271894467,
           2.8360783579120175,
           2.837322105477244,
           2.8379012307562093,
           2.83782386060457,
           2.8371003340361374,
           2.835743059191358,
           2.8337663801415123,
           2.8311864526088275,
           2.828021127723257,
           2.82428984297721,
           2.820013519579318,
           2.815214465446809,
           2.8099162831129645,
           2.8041437818613186,
           2.797922893431745,
           2.7912805906754516,
           2.7842448085665064,
           2.7768443670069893,
           2.769108894891772,
           2.761068754927494,
           2.7527549687291706,
           2.744199141747384,
           2.735433387609796,
           2.726490251493218,
           2.717402632177234,
           2.7082037024678733,
           2.69892682772054,
           2.689605482235693,
           2.6802731633490136,
           2.670963303090179,
           2.6617091773410317,
           2.6525438124848777,
           2.643499889603646,
           2.6346096463484066,
           2.625904776680651,
           2.617416328756096,
           2.6091746012985526,
           2.601209038887478,
           2.593548126657765,
           2.5862192849826013,
           2.5792487647781153,
           2.5726615441302045,
           2.566481226997553,
           2.56072994478852,
           2.555428261641568,
           2.5505950842575653,
           2.5462475771362763,
           2.5424010840576114,
           2.539069056620039,
           2.5362629906037713,
           2.5339923708651826,
           2.532264625392157,
           2.5310850890590046,
           2.5304569775160117,
           2.5303813715347796,
           2.530857212008927,
           2.531881305683295,
           2.533448341556613,
           2.5355509177757733,
           2.5381795787174894,
           2.5413228618381587,
           2.5449673537677406,
           2.5490977550308314,
           2.5536969526995716,
           2.558746100220039,
           2.5642247036071155,
           2.570110713172889,
           2.576380619940239,
           2.5830095558957953,
           2.5899713972539056,
           2.5972388699343094,
           2.604783656499264,
           2.612576503849179,
           2.620587331037501,
           2.628785336633821,
           2.637139105137057,
           2.6456167120164324,
           2.654185827035172,
           2.6628138155889993,
           2.6714678378674215,
           2.6801149457194158,
           2.6887221771757113,
           2.697256648646809,
           2.7056856448788142,
           2.713976706807877,
           2.7220977175085035,
           2.730016986481317,
           2.7377033325721976,
           2.7451261658575183,
           2.7522555688696526,
           2.7590623775736427,
           2.765518262540258,
           2.7715958107931478,
           2.777268608838887,
           2.782511327418887,
           2.7872998085517895,
           2.7916111554645386,
           2.7954238260400364,
           2.798717730439498,
           2.801474333588371,
           2.803676763246059,
           2.8053099244115396,
           2.80636062084902,
           2.806817684549538,
           2.806672113975086,
           2.805917221960427,
           2.8045487941728022,
           2.8025652590493415,
           2.7999678701437594,
           2.7967609018148347,
           2.7929518591753792,
           2.7885517031872604,
           2.7835750917297712,
           2.7780406373783677,
           2.7719711825002573,
           2.7653940920927167,
           2.758341564548075,
           2.7508509602129427,
           2.7429651472037753,
           2.7347328634301507,
           2.7262090931437837,
           2.7174554555574457,
           2.708540602146234,
           2.699540618138384,
           2.6905394224126336,
           2.681629158538904,
           2.6729105680342493,
           2.6644933350763655,
           2.6564963899619904,
           2.649048156582092,
           2.642286727205603,
           2.6363599460504936,
           2.631425381646351,
           2.627650167066829,
           2.625210686978194,
           2.6242920913786487,
           2.625087618160801,
           2.6277977104561296,
           2.632628920286587,
           2.6397925974102847,
           2.6495033712987572,
           2.6619774446114453,
           2.6774307278001506,
           2.6960768558207016,
           2.718125138408082,
           2.7437785039447347,
           2.7732315026020764,
           2.8066684363112655,
           2.844261680677998,
           2.8861702570768384,
           2.9325387022029665,
           2.983496268146878,
           3.0391564697863,
           3.0996169793717505,
           3.1649598520576236,
           3.2352520520787804,
           3.3105462382622695,
           3.390881760160221,
           3.4762858124366827,
           3.5667746949995958,
           3.6623551292109444,
           3.7630255856250585,
           3.8687775853241657,
           3.9795969442987533,
           4.095464937815725,
           4.216359368826825,
           4.342255530842847,
           4.473127061128929,
           4.608946684479262,
           4.749686851216432,
           4.895320275508579,
           5.04582038172312,
           5.201161667474778,
           5.3613199924160355,
           5.526272801789274,
           5.69599929342808,
           5.870480536356416,
           6.0496995484692135
          ],
          "thickness": 1.5,
          "type": "data",
          "width": 0
         },
         "marker": {
          "size": 0,
          "symbol": "cross-thin"
         },
         "mode": "lines+markers",
         "name": "background lightcurve",
         "showlegend": true,
         "type": "scatter",
         "x": [
          -199,
          -197,
          -195,
          -193,
          -191,
          -189,
          -187,
          -185,
          -183,
          -181,
          -179,
          -177,
          -175,
          -173,
          -171,
          -169,
          -167,
          -165,
          -163,
          -161,
          -159,
          -157,
          -155,
          -153,
          -151,
          -149,
          -147,
          -145,
          -143,
          -141,
          -139,
          -137,
          -135,
          -133,
          -131,
          -129,
          -127,
          -125,
          -123,
          -121,
          -119,
          -117,
          -115,
          -113,
          -111,
          -109,
          -107,
          -105,
          -103,
          -101,
          -99,
          -97,
          -95,
          -93,
          -91,
          -89,
          -87,
          -85,
          -83,
          -81,
          -79,
          -77,
          -75,
          -73,
          -71,
          -69,
          -67,
          -65,
          -63,
          -61,
          -59,
          -57,
          -55,
          -53,
          -51,
          -49,
          -47,
          -45,
          -43,
          -41,
          -39,
          -37,
          -35,
          -33,
          -31,
          -29,
          -27,
          -25,
          -23,
          -21,
          -19,
          -17,
          -15,
          -13,
          -11,
          -9,
          -7,
          -5,
          -3,
          -1,
          1,
          3,
          5,
          7,
          9,
          11,
          13,
          15,
          17,
          19,
          21,
          23,
          25,
          27,
          29,
          31,
          33,
          35,
          37,
          39,
          41,
          43,
          45,
          47,
          49,
          51,
          53,
          55,
          57,
          59,
          61,
          63,
          65,
          67,
          69,
          71,
          73,
          75,
          77,
          79,
          81,
          83,
          85,
          87,
          89,
          91,
          93,
          95,
          97,
          99,
          101,
          103,
          105,
          107,
          109,
          111,
          113,
          115,
          117,
          119,
          121,
          123,
          125,
          127,
          129,
          131,
          133,
          135,
          137,
          139,
          141,
          143,
          145,
          147,
          149,
          151,
          153,
          155,
          157,
          159,
          161,
          163,
          165,
          167,
          169,
          171,
          173,
          175,
          177,
          179,
          181,
          183,
          185,
          187,
          189,
          191,
          193,
          195,
          197,
          199,
          201,
          203,
          205,
          207,
          209,
          211,
          213,
          215,
          217,
          219,
          221,
          223,
          225,
          227,
          229,
          231,
          233,
          235,
          237,
          239,
          241,
          243,
          245,
          247,
          249,
          251,
          253,
          255,
          257,
          259,
          261,
          263,
          265,
          267,
          269,
          271,
          273,
          275,
          277,
          279,
          281,
          283,
          285,
          287,
          289,
          291,
          293,
          295,
          297,
          299
         ],
         "y": [
          1023.9540612929032,
          1024.3492019633886,
          1024.7441015540494,
          1025.1387507261977,
          1025.5331401411468,
          1025.9272604602083,
          1026.3211023446952,
          1026.71465645592,
          1027.107913455195,
          1027.500864003833,
          1027.893498763146,
          1028.2858083944468,
          1028.6777835590476,
          1029.0694149182616,
          1029.4606931334006,
          1029.8516088657773,
          1030.2421527767042,
          1030.6323155274938,
          1031.0220877794584,
          1031.411460193911,
          1031.8004234321636,
          1032.1889681555288,
          1032.577085025319,
          1032.964764702847,
          1033.351997849425,
          1033.738775126366,
          1034.1250871949817,
          1034.5109247165851,
          1034.8962783524885,
          1035.2811387640045,
          1035.6654966124458,
          1036.0493425591242,
          1036.4326672653528,
          1036.8154613924441,
          1037.1977156017101,
          1037.5794205544637,
          1037.9605669120176,
          1038.3411453356837,
          1038.7211464867748,
          1039.1005610266034,
          1039.479379616482,
          1039.8575929177227,
          1040.2351915916386,
          1040.612166299542,
          1040.9885077027452,
          1041.3642064625606,
          1041.7392532403012,
          1042.113638697279,
          1042.4873534948067,
          1042.8603882941966,
          1043.2327337567615,
          1043.6043805438137,
          1043.975319316666,
          1044.3455407366303,
          1044.7150354650194,
          1045.0837941631457,
          1045.451807492322,
          1045.8190661138603,
          1046.1855606890736,
          1046.5512818792743,
          1046.9162203457743,
          1047.2803667498868,
          1047.643711752924,
          1048.0062460161985,
          1048.3679602010225,
          1048.7288449687085,
          1049.0888909805697,
          1049.4480888979176,
          1049.8064293820655,
          1050.1639030943252,
          1050.5205006960098,
          1050.8762128484314,
          1051.2310302129026,
          1051.5849434507359,
          1051.937943223244,
          1052.290020191739,
          1052.6411650175335,
          1052.9913683619402,
          1053.3406208862714,
          1053.6889132518395,
          1054.0362361199573,
          1054.382580151937,
          1054.7279360090913,
          1055.0722943527326,
          1055.4156458441732,
          1055.757981144726,
          1056.0992909157032,
          1056.4395658184173,
          1056.778796514181,
          1057.1169736643067,
          1057.4540879301064,
          1057.7901299728933,
          1058.1250904539795,
          1058.4589600346776,
          1058.7917293763,
          1059.1233891401594,
          1059.4539299875682,
          1059.783342579839,
          1060.1116175782838,
          1060.4387456442155,
          1060.7647174389467,
          1061.0895236237895,
          1061.4131548600567,
          1061.7356018090609,
          1062.056855132114,
          1062.376905490529,
          1062.6957435456184,
          1063.013359958694,
          1063.3297453910695,
          1063.6448905040563,
          1063.9587859589676,
          1064.2714224171154,
          1064.5827905398125,
          1064.8928809883712,
          1065.201684424104,
          1065.5091915083237,
          1065.8153929023424,
          1066.1202792674728,
          1066.4238412650275,
          1066.7260695563186,
          1067.0269548026586,
          1067.3264876653604,
          1067.6246588057365,
          1067.921458885099,
          1068.2168785647607,
          1068.5109085060335,
          1068.8035393702307,
          1069.0947618186642,
          1069.3845665126473,
          1069.6729441134914,
          1069.9598852825097,
          1070.2453806810142,
          1070.5294209703181,
          1070.8119968117333,
          1071.0930988665723,
          1071.3727177961478,
          1071.6508442617724,
          1071.9274689247582,
          1072.2025824464183,
          1072.4761754880644,
          1072.7482387110097,
          1073.0187627765663,
          1073.2877383460466,
          1073.5551560807633,
          1073.8210066420293,
          1074.0852806911562,
          1074.347968889457,
          1074.6090618982441,
          1074.86855037883,
          1075.1264249925273,
          1075.3826764006485,
          1075.6372952645058,
          1075.8902722454118,
          1076.1415980046793,
          1076.3912632036204,
          1076.6392585035478,
          1076.8855745657738,
          1077.1302020516111,
          1077.373131622372,
          1077.6143539393695,
          1077.8538596639155,
          1078.0916394573226,
          1078.3276839809034,
          1078.5619838959703,
          1078.7945298638358,
          1079.0253125458125,
          1079.2543226032128,
          1079.4815506973491,
          1079.7069874895344,
          1079.9306236410805,
          1080.1524498133003,
          1080.372456667506,
          1080.5906348650105,
          1080.806975067126,
          1081.0214679351648,
          1081.2341041304398,
          1081.4448743142632,
          1081.6537691479477,
          1081.8607792928058,
          1082.0658954101498,
          1082.2691081612925,
          1082.4704082075457,
          1082.6697862102226,
          1082.8672328306357,
          1083.0627387300967,
          1083.2562945699192,
          1083.4478910114146,
          1083.6375187158962,
          1083.8251683446763,
          1084.010830559067,
          1084.1944960203812,
          1084.3761553899312,
          1084.5557993290297,
          1084.733418498989,
          1084.9090035611216,
          1085.08254517674,
          1085.2540340071566,
          1085.423460713684,
          1085.5908159576352,
          1085.7560904003217,
          1085.9192747030565,
          1086.080359527152,
          1086.239335533921,
          1086.3961933846756,
          1086.5509237407284,
          1086.7035172633919,
          1086.8539646139786,
          1087.002256453801,
          1087.1483834441717,
          1087.292336246403,
          1087.4341055218076,
          1087.5736819316976,
          1087.7110561373859,
          1087.846218800185,
          1087.9791605814069,
          1088.1098721423646,
          1088.23834414437,
          1088.3645672487366,
          1088.488532116776,
          1088.610229409801,
          1088.7296497891239,
          1088.8467839160576,
          1088.961622451914,
          1089.0741560580063,
          1089.1843753956464,
          1089.2922711261472,
          1089.397833910821,
          1089.50105441098,
          1089.601923287937,
          1089.7004312030047,
          1089.7965688174952,
          1089.8903267927212,
          1089.9816957899952,
          1090.0706664706297,
          1090.157229495937,
          1090.2413755272296,
          1090.32309522582,
          1090.402379253021,
          1090.4792182701449,
          1090.553602938504,
          1090.625523919411,
          1090.6949718741785,
          1090.7619374641188,
          1090.826411350544,
          1090.8883841947675,
          1090.9478466581008,
          1091.0047894018574,
          1091.059203087349,
          1091.1110783758886,
          1091.1604059287884
         ]
        }
       ],
       "layout": {
        "height": 600,
        "legend": {
         "x": 1,
         "xanchor": "right",
         "y": 1,
         "yanchor": "bottom"
        },
        "template": {
         "data": {
          "bar": [
           {
            "error_x": {
             "color": "#2a3f5f"
            },
            "error_y": {
             "color": "#2a3f5f"
            },
            "marker": {
             "line": {
              "color": "white",
              "width": 0.5
             },
             "pattern": {
              "fillmode": "overlay",
              "size": 10,
              "solidity": 0.2
             }
            },
            "type": "bar"
           }
          ],
          "barpolar": [
           {
            "marker": {
             "line": {
              "color": "white",
              "width": 0.5
             },
             "pattern": {
              "fillmode": "overlay",
              "size": 10,
              "solidity": 0.2
             }
            },
            "type": "barpolar"
           }
          ],
          "carpet": [
           {
            "aaxis": {
             "endlinecolor": "#2a3f5f",
             "gridcolor": "#C8D4E3",
             "linecolor": "#C8D4E3",
             "minorgridcolor": "#C8D4E3",
             "startlinecolor": "#2a3f5f"
            },
            "baxis": {
             "endlinecolor": "#2a3f5f",
             "gridcolor": "#C8D4E3",
             "linecolor": "#C8D4E3",
             "minorgridcolor": "#C8D4E3",
             "startlinecolor": "#2a3f5f"
            },
            "type": "carpet"
           }
          ],
          "choropleth": [
           {
            "colorbar": {
             "outlinewidth": 0,
             "ticks": ""
            },
            "type": "choropleth"
           }
          ],
          "contour": [
           {
            "colorbar": {
             "outlinewidth": 0,
             "ticks": ""
            },
            "colorscale": [
             [
              0,
              "#0d0887"
             ],
             [
              0.1111111111111111,
              "#46039f"
             ],
             [
              0.2222222222222222,
              "#7201a8"
             ],
             [
              0.3333333333333333,
              "#9c179e"
             ],
             [
              0.4444444444444444,
              "#bd3786"
             ],
             [
              0.5555555555555556,
              "#d8576b"
             ],
             [
              0.6666666666666666,
              "#ed7953"
             ],
             [
              0.7777777777777778,
              "#fb9f3a"
             ],
             [
              0.8888888888888888,
              "#fdca26"
             ],
             [
              1,
              "#f0f921"
             ]
            ],
            "type": "contour"
           }
          ],
          "contourcarpet": [
           {
            "colorbar": {
             "outlinewidth": 0,
             "ticks": ""
            },
            "type": "contourcarpet"
           }
          ],
          "heatmap": [
           {
            "colorbar": {
             "outlinewidth": 0,
             "ticks": ""
            },
            "colorscale": [
             [
              0,
              "#0d0887"
             ],
             [
              0.1111111111111111,
              "#46039f"
             ],
             [
              0.2222222222222222,
              "#7201a8"
             ],
             [
              0.3333333333333333,
              "#9c179e"
             ],
             [
              0.4444444444444444,
              "#bd3786"
             ],
             [
              0.5555555555555556,
              "#d8576b"
             ],
             [
              0.6666666666666666,
              "#ed7953"
             ],
             [
              0.7777777777777778,
              "#fb9f3a"
             ],
             [
              0.8888888888888888,
              "#fdca26"
             ],
             [
              1,
              "#f0f921"
             ]
            ],
            "type": "heatmap"
           }
          ],
          "heatmapgl": [
           {
            "colorbar": {
             "outlinewidth": 0,
             "ticks": ""
            },
            "colorscale": [
             [
              0,
              "#0d0887"
             ],
             [
              0.1111111111111111,
              "#46039f"
             ],
             [
              0.2222222222222222,
              "#7201a8"
             ],
             [
              0.3333333333333333,
              "#9c179e"
             ],
             [
              0.4444444444444444,
              "#bd3786"
             ],
             [
              0.5555555555555556,
              "#d8576b"
             ],
             [
              0.6666666666666666,
              "#ed7953"
             ],
             [
              0.7777777777777778,
              "#fb9f3a"
             ],
             [
              0.8888888888888888,
              "#fdca26"
             ],
             [
              1,
              "#f0f921"
             ]
            ],
            "type": "heatmapgl"
           }
          ],
          "histogram": [
           {
            "marker": {
             "pattern": {
              "fillmode": "overlay",
              "size": 10,
              "solidity": 0.2
             }
            },
            "type": "histogram"
           }
          ],
          "histogram2d": [
           {
            "colorbar": {
             "outlinewidth": 0,
             "ticks": ""
            },
            "colorscale": [
             [
              0,
              "#0d0887"
             ],
             [
              0.1111111111111111,
              "#46039f"
             ],
             [
              0.2222222222222222,
              "#7201a8"
             ],
             [
              0.3333333333333333,
              "#9c179e"
             ],
             [
              0.4444444444444444,
              "#bd3786"
             ],
             [
              0.5555555555555556,
              "#d8576b"
             ],
             [
              0.6666666666666666,
              "#ed7953"
             ],
             [
              0.7777777777777778,
              "#fb9f3a"
             ],
             [
              0.8888888888888888,
              "#fdca26"
             ],
             [
              1,
              "#f0f921"
             ]
            ],
            "type": "histogram2d"
           }
          ],
          "histogram2dcontour": [
           {
            "colorbar": {
             "outlinewidth": 0,
             "ticks": ""
            },
            "colorscale": [
             [
              0,
              "#0d0887"
             ],
             [
              0.1111111111111111,
              "#46039f"
             ],
             [
              0.2222222222222222,
              "#7201a8"
             ],
             [
              0.3333333333333333,
              "#9c179e"
             ],
             [
              0.4444444444444444,
              "#bd3786"
             ],
             [
              0.5555555555555556,
              "#d8576b"
             ],
             [
              0.6666666666666666,
              "#ed7953"
             ],
             [
              0.7777777777777778,
              "#fb9f3a"
             ],
             [
              0.8888888888888888,
              "#fdca26"
             ],
             [
              1,
              "#f0f921"
             ]
            ],
            "type": "histogram2dcontour"
           }
          ],
          "mesh3d": [
           {
            "colorbar": {
             "outlinewidth": 0,
             "ticks": ""
            },
            "type": "mesh3d"
           }
          ],
          "parcoords": [
           {
            "line": {
             "colorbar": {
              "outlinewidth": 0,
              "ticks": ""
             }
            },
            "type": "parcoords"
           }
          ],
          "pie": [
           {
            "automargin": true,
            "type": "pie"
           }
          ],
          "scatter": [
           {
            "fillpattern": {
             "fillmode": "overlay",
             "size": 10,
             "solidity": 0.2
            },
            "type": "scatter"
           }
          ],
          "scatter3d": [
           {
            "line": {
             "colorbar": {
              "outlinewidth": 0,
              "ticks": ""
             }
            },
            "marker": {
             "colorbar": {
              "outlinewidth": 0,
              "ticks": ""
             }
            },
            "type": "scatter3d"
           }
          ],
          "scattercarpet": [
           {
            "marker": {
             "colorbar": {
              "outlinewidth": 0,
              "ticks": ""
             }
            },
            "type": "scattercarpet"
           }
          ],
          "scattergeo": [
           {
            "marker": {
             "colorbar": {
              "outlinewidth": 0,
              "ticks": ""
             }
            },
            "type": "scattergeo"
           }
          ],
          "scattergl": [
           {
            "marker": {
             "colorbar": {
              "outlinewidth": 0,
              "ticks": ""
             }
            },
            "type": "scattergl"
           }
          ],
          "scattermapbox": [
           {
            "marker": {
             "colorbar": {
              "outlinewidth": 0,
              "ticks": ""
             }
            },
            "type": "scattermapbox"
           }
          ],
          "scatterpolar": [
           {
            "marker": {
             "colorbar": {
              "outlinewidth": 0,
              "ticks": ""
             }
            },
            "type": "scatterpolar"
           }
          ],
          "scatterpolargl": [
           {
            "marker": {
             "colorbar": {
              "outlinewidth": 0,
              "ticks": ""
             }
            },
            "type": "scatterpolargl"
           }
          ],
          "scatterternary": [
           {
            "marker": {
             "colorbar": {
              "outlinewidth": 0,
              "ticks": ""
             }
            },
            "type": "scatterternary"
           }
          ],
          "surface": [
           {
            "colorbar": {
             "outlinewidth": 0,
             "ticks": ""
            },
            "colorscale": [
             [
              0,
              "#0d0887"
             ],
             [
              0.1111111111111111,
              "#46039f"
             ],
             [
              0.2222222222222222,
              "#7201a8"
             ],
             [
              0.3333333333333333,
              "#9c179e"
             ],
             [
              0.4444444444444444,
              "#bd3786"
             ],
             [
              0.5555555555555556,
              "#d8576b"
             ],
             [
              0.6666666666666666,
              "#ed7953"
             ],
             [
              0.7777777777777778,
              "#fb9f3a"
             ],
             [
              0.8888888888888888,
              "#fdca26"
             ],
             [
              1,
              "#f0f921"
             ]
            ],
            "type": "surface"
           }
          ],
          "table": [
           {
            "cells": {
             "fill": {
              "color": "#EBF0F8"
             },
             "line": {
              "color": "white"
             }
            },
            "header": {
             "fill": {
              "color": "#C8D4E3"
             },
             "line": {
              "color": "white"
             }
            },
            "type": "table"
           }
          ]
         },
         "layout": {
          "annotationdefaults": {
           "arrowcolor": "#2a3f5f",
           "arrowhead": 0,
           "arrowwidth": 1
          },
          "autotypenumbers": "strict",
          "coloraxis": {
           "colorbar": {
            "outlinewidth": 0,
            "ticks": ""
           }
          },
          "colorscale": {
           "diverging": [
            [
             0,
             "#8e0152"
            ],
            [
             0.1,
             "#c51b7d"
            ],
            [
             0.2,
             "#de77ae"
            ],
            [
             0.3,
             "#f1b6da"
            ],
            [
             0.4,
             "#fde0ef"
            ],
            [
             0.5,
             "#f7f7f7"
            ],
            [
             0.6,
             "#e6f5d0"
            ],
            [
             0.7,
             "#b8e186"
            ],
            [
             0.8,
             "#7fbc41"
            ],
            [
             0.9,
             "#4d9221"
            ],
            [
             1,
             "#276419"
            ]
           ],
           "sequential": [
            [
             0,
             "#0d0887"
            ],
            [
             0.1111111111111111,
             "#46039f"
            ],
            [
             0.2222222222222222,
             "#7201a8"
            ],
            [
             0.3333333333333333,
             "#9c179e"
            ],
            [
             0.4444444444444444,
             "#bd3786"
            ],
            [
             0.5555555555555556,
             "#d8576b"
            ],
            [
             0.6666666666666666,
             "#ed7953"
            ],
            [
             0.7777777777777778,
             "#fb9f3a"
            ],
            [
             0.8888888888888888,
             "#fdca26"
            ],
            [
             1,
             "#f0f921"
            ]
           ],
           "sequentialminus": [
            [
             0,
             "#0d0887"
            ],
            [
             0.1111111111111111,
             "#46039f"
            ],
            [
             0.2222222222222222,
             "#7201a8"
            ],
            [
             0.3333333333333333,
             "#9c179e"
            ],
            [
             0.4444444444444444,
             "#bd3786"
            ],
            [
             0.5555555555555556,
             "#d8576b"
            ],
            [
             0.6666666666666666,
             "#ed7953"
            ],
            [
             0.7777777777777778,
             "#fb9f3a"
            ],
            [
             0.8888888888888888,
             "#fdca26"
            ],
            [
             1,
             "#f0f921"
            ]
           ]
          },
          "colorway": [
           "#636efa",
           "#EF553B",
           "#00cc96",
           "#ab63fa",
           "#FFA15A",
           "#19d3f3",
           "#FF6692",
           "#B6E880",
           "#FF97FF",
           "#FECB52"
          ],
          "font": {
           "color": "#2a3f5f"
          },
          "geo": {
           "bgcolor": "white",
           "lakecolor": "white",
           "landcolor": "white",
           "showlakes": true,
           "showland": true,
           "subunitcolor": "#C8D4E3"
          },
          "hoverlabel": {
           "align": "left"
          },
          "hovermode": "closest",
          "mapbox": {
           "style": "light"
          },
          "paper_bgcolor": "white",
          "plot_bgcolor": "white",
          "polar": {
           "angularaxis": {
            "gridcolor": "#EBF0F8",
            "linecolor": "#EBF0F8",
            "ticks": ""
           },
           "bgcolor": "white",
           "radialaxis": {
            "gridcolor": "#EBF0F8",
            "linecolor": "#EBF0F8",
            "ticks": ""
           }
          },
          "scene": {
           "xaxis": {
            "backgroundcolor": "white",
            "gridcolor": "#DFE8F3",
            "gridwidth": 2,
            "linecolor": "#EBF0F8",
            "showbackground": true,
            "ticks": "",
            "zerolinecolor": "#EBF0F8"
           },
           "yaxis": {
            "backgroundcolor": "white",
            "gridcolor": "#DFE8F3",
            "gridwidth": 2,
            "linecolor": "#EBF0F8",
            "showbackground": true,
            "ticks": "",
            "zerolinecolor": "#EBF0F8"
           },
           "zaxis": {
            "backgroundcolor": "white",
            "gridcolor": "#DFE8F3",
            "gridwidth": 2,
            "linecolor": "#EBF0F8",
            "showbackground": true,
            "ticks": "",
            "zerolinecolor": "#EBF0F8"
           }
          },
          "shapedefaults": {
           "line": {
            "color": "#2a3f5f"
           }
          },
          "ternary": {
           "aaxis": {
            "gridcolor": "#DFE8F3",
            "linecolor": "#A2B1C6",
            "ticks": ""
           },
           "baxis": {
            "gridcolor": "#DFE8F3",
            "linecolor": "#A2B1C6",
            "ticks": ""
           },
           "bgcolor": "white",
           "caxis": {
            "gridcolor": "#DFE8F3",
            "linecolor": "#A2B1C6",
            "ticks": ""
           }
          },
          "title": {
           "x": 0.05
          },
          "xaxis": {
           "automargin": true,
           "gridcolor": "#EBF0F8",
           "linecolor": "#EBF0F8",
           "ticks": "",
           "title": {
            "standoff": 15
           },
           "zerolinecolor": "#EBF0F8",
           "zerolinewidth": 2
          },
          "yaxis": {
           "automargin": true,
           "gridcolor": "#EBF0F8",
           "linecolor": "#EBF0F8",
           "ticks": "",
           "title": {
            "standoff": 15
           },
           "zerolinecolor": "#EBF0F8",
           "zerolinewidth": 2
          }
         }
        },
        "width": 800,
        "xaxis": {
         "title": {
          "text": "Time since 2024-02-19T06:21:42.000 (s)"
         }
        },
        "yaxis": {
         "title": {
          "text": "Counts per second (binsize=2 s)"
         }
        }
       }
      }
     },
     "metadata": {},
     "output_type": "display_data"
    }
   ],
   "source": [
    "for det in ['n9', 'na']:\n",
    "    gbm_tte = gbmTTE(gbm_rtv.rtv_res['tte'][det])\n",
    "    gbm_tte.timezero = fermi_met\n",
    "    gbm_tte.filter_time([-200, 300])\n",
    "    gbm_tte.filter_energy([10, 1000])\n",
    "\n",
    "    print(msg_format(f'extract light curve for {det}'))\n",
    "    \n",
    "    gbm_tte.lc_binsize = 2\n",
    "    gbm_tte.extract_curve(savepath=f'./{det}/curve', show=True)"
   ]
  },
  {
   "cell_type": "code",
   "execution_count": 18,
   "id": "1769a64a-1f9d-4c3f-ad99-bf4e924ed385",
   "metadata": {},
   "outputs": [
    {
     "name": "stdout",
     "output_type": "stream",
     "text": [
      "\n",
      "+------------------------------------------------+\n",
      " calculate txx for n9\n",
      "+------------------------------------------------+\n",
      "\n",
      "+------------------------------------------------+\n",
      " id#  Txx       Txx-    Txx+    Txx1    Txx2    \n",
      "+-----------------------------------------------+\n",
      " 1    57.324    5.305   7.957   5.372   62.696  \n",
      "+------------------------------------------------+\n",
      "\n",
      "+------------------------------------------------+\n",
      " id#  Txx       Txx-    Txx+    Txx1    Txx2    \n",
      "+-----------------------------------------------+\n",
      " 1    68.290    6.589   9.962   1.384   69.675  \n",
      "+------------------------------------------------+\n",
      "\n",
      "+------------------------------------------------+\n",
      " calculate txx for na\n",
      "+------------------------------------------------+\n",
      "\n",
      "+------------------------------------------------+\n",
      " id#  Txx       Txx-    Txx+    Txx1    Txx2    \n",
      "+-----------------------------------------------+\n",
      " 1    49.849    13.544  13.634  20.834  70.683  \n",
      "+------------------------------------------------+\n",
      "\n",
      "+------------------------------------------------+\n",
      " id#  Txx       Txx-    Txx+    Txx1    Txx2    \n",
      "+-----------------------------------------------+\n",
      " 1    55.332    11.911  19.836  18.342  73.674  \n",
      "+------------------------------------------------+\n"
     ]
    }
   ],
   "source": [
    "for det in ['n9', 'na']:\n",
    "    gbm_tte = gbmTTE(gbm_rtv.rtv_res['tte'][det])\n",
    "    gbm_tte.timezero = fermi_met\n",
    "    gbm_tte.filter_time([-200, 300])\n",
    "    gbm_tte.filter_energy([10, 1000])\n",
    "\n",
    "    print(msg_format(f'calculate txx for {det}'))\n",
    "    \n",
    "    gbm_tte.lc_binsize = 2\n",
    "    gbm_tte.calculate_txx(xx=0.9, savepath=f'./{det}/curve/t90')\n",
    "    gbm_tte.calculate_txx(xx=1.0, savepath=f'./{det}/curve/t100')"
   ]
  },
  {
   "cell_type": "code",
   "execution_count": 19,
   "id": "5b8deb79-5097-49f6-95c8-946d36399d66",
   "metadata": {},
   "outputs": [
    {
     "name": "stdout",
     "output_type": "stream",
     "text": [
      "\n",
      "+------------------------------------------------+\n",
      " extract spectrum for n9\n",
      "+------------------------------------------------+\n"
     ]
    },
    {
     "data": {
      "application/vnd.plotly.v1+json": {
       "config": {
        "plotlyServerURL": "https://plot.ly"
       },
       "data": [
        {
         "mode": "lines",
         "name": "total lightcurve",
         "showlegend": true,
         "type": "scatter",
         "x": [
          -398,
          -394,
          -390,
          -386,
          -382,
          -378,
          -374,
          -370,
          -366,
          -362,
          -358,
          -354,
          -350,
          -346,
          -342,
          -338,
          -334,
          -330,
          -326,
          -322,
          -318,
          -314,
          -310,
          -306,
          -302,
          -298,
          -294,
          -290,
          -286,
          -282,
          -278,
          -274,
          -270,
          -266,
          -262,
          -258,
          -254,
          -250,
          -246,
          -242,
          -238,
          -234,
          -230,
          -226,
          -222,
          -218,
          -214,
          -210,
          -206,
          -202,
          -198,
          -194,
          -190,
          -186,
          -182,
          -178,
          -174,
          -170,
          -166,
          -162,
          -158,
          -154,
          -150,
          -146,
          -142,
          -138,
          -134,
          -130,
          -126,
          -122,
          -118,
          -114,
          -110,
          -106,
          -102,
          -98,
          -94,
          -90,
          -86,
          -82,
          -78,
          -74,
          -70,
          -66,
          -62,
          -58,
          -54,
          -50,
          -46,
          -42,
          -38,
          -34,
          -30,
          -26,
          -22,
          -18,
          -14,
          -10,
          -6,
          -2,
          2,
          6,
          10,
          14,
          18,
          22,
          26,
          30,
          34,
          38,
          42,
          46,
          50,
          54,
          58,
          62,
          66,
          70,
          74,
          78,
          82,
          86,
          90,
          94,
          98,
          102,
          106,
          110,
          114,
          118,
          122,
          126,
          130,
          134,
          138,
          142,
          146,
          150,
          154,
          158,
          162,
          166,
          170,
          174,
          178,
          182,
          186,
          190,
          194,
          198,
          202,
          206,
          210,
          214,
          218,
          222,
          226,
          230,
          234,
          238,
          242,
          246,
          250,
          254,
          258,
          262,
          266,
          270,
          274,
          278,
          282,
          286,
          290,
          294,
          298,
          302,
          306,
          310,
          314,
          318,
          322,
          326,
          330,
          334,
          338,
          342,
          346,
          350,
          354,
          358,
          362,
          366,
          370,
          374,
          378,
          382,
          386,
          390,
          394,
          398
         ],
         "y": [
          1108.75,
          1092.5,
          1118.5,
          1060.25,
          1083,
          1112.5,
          1080,
          1089.5,
          1132,
          1096.5,
          1106.5,
          1090.5,
          1082,
          1105.75,
          1126,
          1108.75,
          1087.75,
          1104.75,
          1078.25,
          1125.25,
          1128.5,
          1079.5,
          1094.75,
          1130,
          1129.25,
          1109.5,
          1112.75,
          1098.75,
          1145,
          1115.5,
          1111.75,
          1104,
          1098,
          1120.75,
          1120.25,
          1129,
          1122,
          1127.25,
          1091.5,
          1121,
          1126,
          1135.75,
          1132.25,
          1134.75,
          1109,
          1136.5,
          1113.5,
          1129.25,
          1111.25,
          1144,
          1154.75,
          1127,
          1113.5,
          1114,
          1107,
          1154,
          1128,
          1163.5,
          1143.25,
          1136.25,
          1147.5,
          1137.25,
          1121.5,
          1141.5,
          1151.5,
          1116.75,
          1130.25,
          1146.75,
          1114.25,
          1161,
          1173.25,
          1147,
          1118.75,
          1162.75,
          1123.25,
          1138,
          1148.5,
          1117.5,
          1154.25,
          1147.75,
          1146.5,
          1154.25,
          1173,
          1160.25,
          1134.25,
          1151,
          1133.75,
          1132,
          1129.25,
          1169.5,
          1151.75,
          1147.25,
          1203.75,
          1180.75,
          1145.5,
          1141.5,
          1132.5,
          1144,
          1179,
          1161.25,
          1219.25,
          1212.25,
          1192.25,
          1188.5,
          1200.5,
          1196.5,
          1201.5,
          1205,
          1221.75,
          1221,
          1238.5,
          1259,
          1233.25,
          1240,
          1227,
          1186.5,
          1180,
          1201.25,
          1166.25,
          1179.75,
          1187.5,
          1193.5,
          1148.75,
          1161.75,
          1174,
          1159.75,
          1177.75,
          1161.25,
          1143.25,
          1180.75,
          1177.5,
          1176.5,
          1167.5,
          1177.75,
          1160,
          1162,
          1183.75,
          1189.5,
          1166.75,
          1171.25,
          1180.75,
          1167.25,
          1183.25,
          1195.5,
          1167.5,
          1188.75,
          1160,
          1183.25,
          1158.5,
          1224.25,
          1179,
          1154.5,
          1156.25,
          1157.25,
          1187.5,
          1202.5,
          1193.5,
          1164.5,
          1184.5,
          1159.25,
          1185.5,
          1164.25,
          1161.25,
          1183.25,
          1192.5,
          1193,
          1189,
          1176.5,
          1189.5,
          1191.75,
          1215,
          1168.5,
          1175,
          1195.5,
          1193,
          1213.5,
          1189,
          1222.25,
          1227.5,
          1178.25,
          1143.5,
          1162.75,
          1181.5,
          1191,
          1157,
          1179.5,
          1195.25,
          1182.75,
          1158.25,
          1218.25,
          1192,
          1189,
          1197,
          1198.25,
          1164.5,
          1174,
          1190.75,
          1199.25,
          1175,
          1158.25
         ]
        },
        {
         "mode": "lines",
         "name": "total background",
         "showlegend": true,
         "type": "scatter",
         "x": [
          -300,
          -293.93939393939394,
          -287.8787878787879,
          -281.8181818181818,
          -275.75757575757575,
          -269.6969696969697,
          -263.6363636363636,
          -257.57575757575756,
          -251.5151515151515,
          -245.45454545454544,
          -239.39393939393938,
          -233.33333333333331,
          -227.27272727272728,
          -221.21212121212122,
          -215.15151515151516,
          -209.0909090909091,
          -203.03030303030303,
          -196.96969696969697,
          -190.9090909090909,
          -184.84848484848484,
          -178.78787878787878,
          -172.72727272727275,
          -166.66666666666666,
          -160.6060606060606,
          -154.54545454545456,
          -148.4848484848485,
          -142.42424242424244,
          -136.36363636363637,
          -130.3030303030303,
          -124.24242424242425,
          -118.18181818181819,
          -112.12121212121212,
          -106.06060606060606,
          -100,
          -93.93939393939394,
          -87.87878787878788,
          -81.81818181818181,
          -75.75757575757575,
          -69.69696969696969,
          -63.636363636363626,
          -57.575757575757564,
          -51.51515151515153,
          -45.45454545454547,
          -39.39393939393938,
          -33.333333333333314,
          -27.272727272727252,
          -21.21212121212119,
          -15.151515151515127,
          -9.090909090909122,
          -3.0303030303030596,
          3.0303030303030027,
          9.090909090909065,
          15.151515151515127,
          21.21212121212119,
          27.272727272727252,
          33.333333333333314,
          39.39393939393938,
          45.45454545454544,
          51.5151515151515,
          57.575757575757564,
          63.636363636363626,
          69.69696969696969,
          75.75757575757575,
          81.81818181818181,
          87.87878787878788,
          93.93939393939394,
          100,
          106.06060606060606,
          112.12121212121212,
          118.18181818181819,
          124.24242424242425,
          130.3030303030303,
          136.36363636363637,
          142.42424242424244,
          148.4848484848485,
          154.54545454545456,
          160.60606060606062,
          166.66666666666669,
          172.72727272727275,
          178.7878787878788,
          184.84848484848487,
          190.90909090909088,
          196.96969696969694,
          203.030303030303,
          209.09090909090907,
          215.15151515151513,
          221.21212121212125,
          227.27272727272725,
          233.33333333333337,
          239.39393939393938,
          245.4545454545455,
          251.5151515151515,
          257.5757575757576,
          263.6363636363636,
          269.69696969696975,
          275.75757575757575,
          281.81818181818176,
          287.8787878787879,
          293.9393939393939,
          300
         ],
         "y": [
          1111.0280228605056,
          1112.109731481318,
          1113.1899473373965,
          1114.268501432467,
          1115.3452247702564,
          1116.419948354491,
          1117.4925031888965,
          1118.5627202772,
          1119.630430623127,
          1120.6954652304041,
          1121.7576551027578,
          1122.8168312439143,
          1123.8728246575997,
          1124.9254663475404,
          1125.974587317463,
          1127.0200185710933,
          1128.0615911121579,
          1129.0991359443829,
          1130.132484071495,
          1131.16146649722,
          1132.1859142252845,
          1133.2056582594148,
          1134.2205296033371,
          1135.2303592607775,
          1136.2349782354624,
          1137.2342175311187,
          1138.2279081514719,
          1139.2158811002485,
          1140.197967381175,
          1141.1739979979777,
          1142.1438039543827,
          1143.107216254116,
          1144.0640659009048,
          1145.0141838984748,
          1145.9574012505525,
          1146.8935489608637,
          1147.8224580331353,
          1148.7439594710934,
          1149.657884278464,
          1150.5640634589738,
          1151.4623280163491,
          1152.352508954316,
          1153.2344372766006,
          1154.1079439869297,
          1154.9728600890294,
          1155.8290165866256,
          1156.676244483445,
          1157.5143747832142,
          1158.343238489659,
          1159.1626666065056,
          1159.9724901374805,
          1160.7725400863103,
          1161.562647456721,
          1162.3426432524386,
          1163.11235847719,
          1163.871624134701,
          1164.6202712286984,
          1165.3581307629079,
          1166.0850337410561,
          1166.8008111668696,
          1167.505294044074,
          1168.1983133763963,
          1168.8797001675623,
          1169.5492854212985,
          1170.2069001413313,
          1170.8523753313868,
          1171.4855419951916,
          1172.1062311364715,
          1172.7142737589531,
          1173.3095008663627,
          1173.8917434624266,
          1174.460832550871,
          1175.0165991354222,
          1175.5588742198067,
          1176.0874888077506,
          1176.6022739029802,
          1177.1030605092217,
          1177.5896796302018,
          1178.0619622696465,
          1178.519739431282,
          1178.9628421188347,
          1179.391101336031,
          1179.8043480865972,
          1180.2024133742595,
          1180.5851282027443,
          1180.9523235757774,
          1181.303830497086,
          1181.6394799703958,
          1181.959102999433,
          1182.2625305879242,
          1182.5495937395956,
          1182.8201234581736,
          1183.073950747384,
          1183.3109066109541,
          1183.5308220526092,
          1183.733528076076,
          1183.9188556850809,
          1184.08663588335,
          1184.2366996746098,
          1184.3688780625862
         ]
        },
        {
         "mode": "lines",
         "name": "summing background",
         "showlegend": true,
         "type": "scatter",
         "x": [
          -300,
          -293.93939393939394,
          -287.8787878787879,
          -281.8181818181818,
          -275.75757575757575,
          -269.6969696969697,
          -263.6363636363636,
          -257.57575757575756,
          -251.5151515151515,
          -245.45454545454544,
          -239.39393939393938,
          -233.33333333333331,
          -227.27272727272728,
          -221.21212121212122,
          -215.15151515151516,
          -209.0909090909091,
          -203.03030303030303,
          -196.96969696969697,
          -190.9090909090909,
          -184.84848484848484,
          -178.78787878787878,
          -172.72727272727275,
          -166.66666666666666,
          -160.6060606060606,
          -154.54545454545456,
          -148.4848484848485,
          -142.42424242424244,
          -136.36363636363637,
          -130.3030303030303,
          -124.24242424242425,
          -118.18181818181819,
          -112.12121212121212,
          -106.06060606060606,
          -100,
          -93.93939393939394,
          -87.87878787878788,
          -81.81818181818181,
          -75.75757575757575,
          -69.69696969696969,
          -63.636363636363626,
          -57.575757575757564,
          -51.51515151515153,
          -45.45454545454547,
          -39.39393939393938,
          -33.333333333333314,
          -27.272727272727252,
          -21.21212121212119,
          -15.151515151515127,
          -9.090909090909122,
          -3.0303030303030596,
          3.0303030303030027,
          9.090909090909065,
          15.151515151515127,
          21.21212121212119,
          27.272727272727252,
          33.333333333333314,
          39.39393939393938,
          45.45454545454544,
          51.5151515151515,
          57.575757575757564,
          63.636363636363626,
          69.69696969696969,
          75.75757575757575,
          81.81818181818181,
          87.87878787878788,
          93.93939393939394,
          100,
          106.06060606060606,
          112.12121212121212,
          118.18181818181819,
          124.24242424242425,
          130.3030303030303,
          136.36363636363637,
          142.42424242424244,
          148.4848484848485,
          154.54545454545456,
          160.60606060606062,
          166.66666666666669,
          172.72727272727275,
          178.7878787878788,
          184.84848484848487,
          190.90909090909088,
          196.96969696969694,
          203.030303030303,
          209.09090909090907,
          215.15151515151513,
          221.21212121212125,
          227.27272727272725,
          233.33333333333337,
          239.39393939393938,
          245.4545454545455,
          251.5151515151515,
          257.5757575757576,
          263.6363636363636,
          269.69696969696975,
          275.75757575757575,
          281.81818181818176,
          287.8787878787879,
          293.9393939393939,
          300
         ],
         "y": [
          1111.0094073852656,
          1112.0954635129158,
          1113.1798119251496,
          1114.2622877969688,
          1115.3427263033743,
          1116.4209626193685,
          1117.496831919951,
          1118.5701693801257,
          1119.6408101748927,
          1120.708589479254,
          1121.7733424682117,
          1122.834904316765,
          1123.8931101999178,
          1124.9477952926695,
          1125.9987947700233,
          1127.045943806979,
          1128.0890775785401,
          1129.1280312597078,
          1130.1626400254818,
          1131.1927390508654,
          1132.2181635108584,
          1133.238748580463,
          1134.254329434682,
          1135.2647412485142,
          1136.2698191969641,
          1137.2693984550315,
          1138.2633141977174,
          1139.2514016000237,
          1140.2334958369538,
          1141.2094320835063,
          1142.1790455146836,
          1143.142171305488,
          1144.0986446309198,
          1145.0483006659817,
          1145.9909745856746,
          1146.926501565,
          1147.8547167789595,
          1148.7754554025532,
          1149.6885526107853,
          1150.593843578655,
          1151.4911634811647,
          1152.3803474933159,
          1153.2612307901093,
          1154.1336485465483,
          1154.9974359376313,
          1155.8524281383632,
          1156.6984603237422,
          1157.5353676687728,
          1158.3629853484551,
          1159.1811485377896,
          1159.989692411779,
          1160.7884521454248,
          1161.577262913728,
          1162.3559598916904,
          1163.1243782543127,
          1163.8823531765984,
          1164.6297198335465,
          1165.3663134001604,
          1166.0919690514404,
          1166.8065219623875,
          1167.5098073080044,
          1168.2016602632925,
          1168.8819160032529,
          1169.5504097028866,
          1170.206976537197,
          1170.8514516811833,
          1171.4836703098479,
          1172.1034675981916,
          1172.7106787212178,
          1173.305138853926,
          1173.8866831713178,
          1174.455146848397,
          1175.0103650601616,
          1175.5521729816164,
          1176.08040578776,
          1176.5948986535948,
          1177.0954867541238,
          1177.5820052643467,
          1178.0542893592649,
          1178.5121742138826,
          1178.9554950031984,
          1179.3840869022144,
          1179.7977850859318,
          1180.1964247293513,
          1180.5798410074797,
          1180.947869095312,
          1181.3003441678527,
          1181.6371014001018,
          1181.957975967062,
          1182.2628030437347,
          1182.5514178051199,
          1182.823655426222,
          1183.079351082042,
          1183.3183399475772,
          1183.540457197833,
          1183.7455380078109,
          1183.93341755251,
          1184.1039310069352,
          1184.2569135460833,
          1184.392200344959
         ]
        }
       ],
       "layout": {
        "height": 600,
        "legend": {
         "x": 1,
         "xanchor": "right",
         "y": 1,
         "yanchor": "bottom"
        },
        "template": {
         "data": {
          "bar": [
           {
            "error_x": {
             "color": "#2a3f5f"
            },
            "error_y": {
             "color": "#2a3f5f"
            },
            "marker": {
             "line": {
              "color": "white",
              "width": 0.5
             },
             "pattern": {
              "fillmode": "overlay",
              "size": 10,
              "solidity": 0.2
             }
            },
            "type": "bar"
           }
          ],
          "barpolar": [
           {
            "marker": {
             "line": {
              "color": "white",
              "width": 0.5
             },
             "pattern": {
              "fillmode": "overlay",
              "size": 10,
              "solidity": 0.2
             }
            },
            "type": "barpolar"
           }
          ],
          "carpet": [
           {
            "aaxis": {
             "endlinecolor": "#2a3f5f",
             "gridcolor": "#C8D4E3",
             "linecolor": "#C8D4E3",
             "minorgridcolor": "#C8D4E3",
             "startlinecolor": "#2a3f5f"
            },
            "baxis": {
             "endlinecolor": "#2a3f5f",
             "gridcolor": "#C8D4E3",
             "linecolor": "#C8D4E3",
             "minorgridcolor": "#C8D4E3",
             "startlinecolor": "#2a3f5f"
            },
            "type": "carpet"
           }
          ],
          "choropleth": [
           {
            "colorbar": {
             "outlinewidth": 0,
             "ticks": ""
            },
            "type": "choropleth"
           }
          ],
          "contour": [
           {
            "colorbar": {
             "outlinewidth": 0,
             "ticks": ""
            },
            "colorscale": [
             [
              0,
              "#0d0887"
             ],
             [
              0.1111111111111111,
              "#46039f"
             ],
             [
              0.2222222222222222,
              "#7201a8"
             ],
             [
              0.3333333333333333,
              "#9c179e"
             ],
             [
              0.4444444444444444,
              "#bd3786"
             ],
             [
              0.5555555555555556,
              "#d8576b"
             ],
             [
              0.6666666666666666,
              "#ed7953"
             ],
             [
              0.7777777777777778,
              "#fb9f3a"
             ],
             [
              0.8888888888888888,
              "#fdca26"
             ],
             [
              1,
              "#f0f921"
             ]
            ],
            "type": "contour"
           }
          ],
          "contourcarpet": [
           {
            "colorbar": {
             "outlinewidth": 0,
             "ticks": ""
            },
            "type": "contourcarpet"
           }
          ],
          "heatmap": [
           {
            "colorbar": {
             "outlinewidth": 0,
             "ticks": ""
            },
            "colorscale": [
             [
              0,
              "#0d0887"
             ],
             [
              0.1111111111111111,
              "#46039f"
             ],
             [
              0.2222222222222222,
              "#7201a8"
             ],
             [
              0.3333333333333333,
              "#9c179e"
             ],
             [
              0.4444444444444444,
              "#bd3786"
             ],
             [
              0.5555555555555556,
              "#d8576b"
             ],
             [
              0.6666666666666666,
              "#ed7953"
             ],
             [
              0.7777777777777778,
              "#fb9f3a"
             ],
             [
              0.8888888888888888,
              "#fdca26"
             ],
             [
              1,
              "#f0f921"
             ]
            ],
            "type": "heatmap"
           }
          ],
          "heatmapgl": [
           {
            "colorbar": {
             "outlinewidth": 0,
             "ticks": ""
            },
            "colorscale": [
             [
              0,
              "#0d0887"
             ],
             [
              0.1111111111111111,
              "#46039f"
             ],
             [
              0.2222222222222222,
              "#7201a8"
             ],
             [
              0.3333333333333333,
              "#9c179e"
             ],
             [
              0.4444444444444444,
              "#bd3786"
             ],
             [
              0.5555555555555556,
              "#d8576b"
             ],
             [
              0.6666666666666666,
              "#ed7953"
             ],
             [
              0.7777777777777778,
              "#fb9f3a"
             ],
             [
              0.8888888888888888,
              "#fdca26"
             ],
             [
              1,
              "#f0f921"
             ]
            ],
            "type": "heatmapgl"
           }
          ],
          "histogram": [
           {
            "marker": {
             "pattern": {
              "fillmode": "overlay",
              "size": 10,
              "solidity": 0.2
             }
            },
            "type": "histogram"
           }
          ],
          "histogram2d": [
           {
            "colorbar": {
             "outlinewidth": 0,
             "ticks": ""
            },
            "colorscale": [
             [
              0,
              "#0d0887"
             ],
             [
              0.1111111111111111,
              "#46039f"
             ],
             [
              0.2222222222222222,
              "#7201a8"
             ],
             [
              0.3333333333333333,
              "#9c179e"
             ],
             [
              0.4444444444444444,
              "#bd3786"
             ],
             [
              0.5555555555555556,
              "#d8576b"
             ],
             [
              0.6666666666666666,
              "#ed7953"
             ],
             [
              0.7777777777777778,
              "#fb9f3a"
             ],
             [
              0.8888888888888888,
              "#fdca26"
             ],
             [
              1,
              "#f0f921"
             ]
            ],
            "type": "histogram2d"
           }
          ],
          "histogram2dcontour": [
           {
            "colorbar": {
             "outlinewidth": 0,
             "ticks": ""
            },
            "colorscale": [
             [
              0,
              "#0d0887"
             ],
             [
              0.1111111111111111,
              "#46039f"
             ],
             [
              0.2222222222222222,
              "#7201a8"
             ],
             [
              0.3333333333333333,
              "#9c179e"
             ],
             [
              0.4444444444444444,
              "#bd3786"
             ],
             [
              0.5555555555555556,
              "#d8576b"
             ],
             [
              0.6666666666666666,
              "#ed7953"
             ],
             [
              0.7777777777777778,
              "#fb9f3a"
             ],
             [
              0.8888888888888888,
              "#fdca26"
             ],
             [
              1,
              "#f0f921"
             ]
            ],
            "type": "histogram2dcontour"
           }
          ],
          "mesh3d": [
           {
            "colorbar": {
             "outlinewidth": 0,
             "ticks": ""
            },
            "type": "mesh3d"
           }
          ],
          "parcoords": [
           {
            "line": {
             "colorbar": {
              "outlinewidth": 0,
              "ticks": ""
             }
            },
            "type": "parcoords"
           }
          ],
          "pie": [
           {
            "automargin": true,
            "type": "pie"
           }
          ],
          "scatter": [
           {
            "fillpattern": {
             "fillmode": "overlay",
             "size": 10,
             "solidity": 0.2
            },
            "type": "scatter"
           }
          ],
          "scatter3d": [
           {
            "line": {
             "colorbar": {
              "outlinewidth": 0,
              "ticks": ""
             }
            },
            "marker": {
             "colorbar": {
              "outlinewidth": 0,
              "ticks": ""
             }
            },
            "type": "scatter3d"
           }
          ],
          "scattercarpet": [
           {
            "marker": {
             "colorbar": {
              "outlinewidth": 0,
              "ticks": ""
             }
            },
            "type": "scattercarpet"
           }
          ],
          "scattergeo": [
           {
            "marker": {
             "colorbar": {
              "outlinewidth": 0,
              "ticks": ""
             }
            },
            "type": "scattergeo"
           }
          ],
          "scattergl": [
           {
            "marker": {
             "colorbar": {
              "outlinewidth": 0,
              "ticks": ""
             }
            },
            "type": "scattergl"
           }
          ],
          "scattermapbox": [
           {
            "marker": {
             "colorbar": {
              "outlinewidth": 0,
              "ticks": ""
             }
            },
            "type": "scattermapbox"
           }
          ],
          "scatterpolar": [
           {
            "marker": {
             "colorbar": {
              "outlinewidth": 0,
              "ticks": ""
             }
            },
            "type": "scatterpolar"
           }
          ],
          "scatterpolargl": [
           {
            "marker": {
             "colorbar": {
              "outlinewidth": 0,
              "ticks": ""
             }
            },
            "type": "scatterpolargl"
           }
          ],
          "scatterternary": [
           {
            "marker": {
             "colorbar": {
              "outlinewidth": 0,
              "ticks": ""
             }
            },
            "type": "scatterternary"
           }
          ],
          "surface": [
           {
            "colorbar": {
             "outlinewidth": 0,
             "ticks": ""
            },
            "colorscale": [
             [
              0,
              "#0d0887"
             ],
             [
              0.1111111111111111,
              "#46039f"
             ],
             [
              0.2222222222222222,
              "#7201a8"
             ],
             [
              0.3333333333333333,
              "#9c179e"
             ],
             [
              0.4444444444444444,
              "#bd3786"
             ],
             [
              0.5555555555555556,
              "#d8576b"
             ],
             [
              0.6666666666666666,
              "#ed7953"
             ],
             [
              0.7777777777777778,
              "#fb9f3a"
             ],
             [
              0.8888888888888888,
              "#fdca26"
             ],
             [
              1,
              "#f0f921"
             ]
            ],
            "type": "surface"
           }
          ],
          "table": [
           {
            "cells": {
             "fill": {
              "color": "#EBF0F8"
             },
             "line": {
              "color": "white"
             }
            },
            "header": {
             "fill": {
              "color": "#C8D4E3"
             },
             "line": {
              "color": "white"
             }
            },
            "type": "table"
           }
          ]
         },
         "layout": {
          "annotationdefaults": {
           "arrowcolor": "#2a3f5f",
           "arrowhead": 0,
           "arrowwidth": 1
          },
          "autotypenumbers": "strict",
          "coloraxis": {
           "colorbar": {
            "outlinewidth": 0,
            "ticks": ""
           }
          },
          "colorscale": {
           "diverging": [
            [
             0,
             "#8e0152"
            ],
            [
             0.1,
             "#c51b7d"
            ],
            [
             0.2,
             "#de77ae"
            ],
            [
             0.3,
             "#f1b6da"
            ],
            [
             0.4,
             "#fde0ef"
            ],
            [
             0.5,
             "#f7f7f7"
            ],
            [
             0.6,
             "#e6f5d0"
            ],
            [
             0.7,
             "#b8e186"
            ],
            [
             0.8,
             "#7fbc41"
            ],
            [
             0.9,
             "#4d9221"
            ],
            [
             1,
             "#276419"
            ]
           ],
           "sequential": [
            [
             0,
             "#0d0887"
            ],
            [
             0.1111111111111111,
             "#46039f"
            ],
            [
             0.2222222222222222,
             "#7201a8"
            ],
            [
             0.3333333333333333,
             "#9c179e"
            ],
            [
             0.4444444444444444,
             "#bd3786"
            ],
            [
             0.5555555555555556,
             "#d8576b"
            ],
            [
             0.6666666666666666,
             "#ed7953"
            ],
            [
             0.7777777777777778,
             "#fb9f3a"
            ],
            [
             0.8888888888888888,
             "#fdca26"
            ],
            [
             1,
             "#f0f921"
            ]
           ],
           "sequentialminus": [
            [
             0,
             "#0d0887"
            ],
            [
             0.1111111111111111,
             "#46039f"
            ],
            [
             0.2222222222222222,
             "#7201a8"
            ],
            [
             0.3333333333333333,
             "#9c179e"
            ],
            [
             0.4444444444444444,
             "#bd3786"
            ],
            [
             0.5555555555555556,
             "#d8576b"
            ],
            [
             0.6666666666666666,
             "#ed7953"
            ],
            [
             0.7777777777777778,
             "#fb9f3a"
            ],
            [
             0.8888888888888888,
             "#fdca26"
            ],
            [
             1,
             "#f0f921"
            ]
           ]
          },
          "colorway": [
           "#636efa",
           "#EF553B",
           "#00cc96",
           "#ab63fa",
           "#FFA15A",
           "#19d3f3",
           "#FF6692",
           "#B6E880",
           "#FF97FF",
           "#FECB52"
          ],
          "font": {
           "color": "#2a3f5f"
          },
          "geo": {
           "bgcolor": "white",
           "lakecolor": "white",
           "landcolor": "white",
           "showlakes": true,
           "showland": true,
           "subunitcolor": "#C8D4E3"
          },
          "hoverlabel": {
           "align": "left"
          },
          "hovermode": "closest",
          "mapbox": {
           "style": "light"
          },
          "paper_bgcolor": "white",
          "plot_bgcolor": "white",
          "polar": {
           "angularaxis": {
            "gridcolor": "#EBF0F8",
            "linecolor": "#EBF0F8",
            "ticks": ""
           },
           "bgcolor": "white",
           "radialaxis": {
            "gridcolor": "#EBF0F8",
            "linecolor": "#EBF0F8",
            "ticks": ""
           }
          },
          "scene": {
           "xaxis": {
            "backgroundcolor": "white",
            "gridcolor": "#DFE8F3",
            "gridwidth": 2,
            "linecolor": "#EBF0F8",
            "showbackground": true,
            "ticks": "",
            "zerolinecolor": "#EBF0F8"
           },
           "yaxis": {
            "backgroundcolor": "white",
            "gridcolor": "#DFE8F3",
            "gridwidth": 2,
            "linecolor": "#EBF0F8",
            "showbackground": true,
            "ticks": "",
            "zerolinecolor": "#EBF0F8"
           },
           "zaxis": {
            "backgroundcolor": "white",
            "gridcolor": "#DFE8F3",
            "gridwidth": 2,
            "linecolor": "#EBF0F8",
            "showbackground": true,
            "ticks": "",
            "zerolinecolor": "#EBF0F8"
           }
          },
          "shapedefaults": {
           "line": {
            "color": "#2a3f5f"
           }
          },
          "ternary": {
           "aaxis": {
            "gridcolor": "#DFE8F3",
            "linecolor": "#A2B1C6",
            "ticks": ""
           },
           "baxis": {
            "gridcolor": "#DFE8F3",
            "linecolor": "#A2B1C6",
            "ticks": ""
           },
           "bgcolor": "white",
           "caxis": {
            "gridcolor": "#DFE8F3",
            "linecolor": "#A2B1C6",
            "ticks": ""
           }
          },
          "title": {
           "x": 0.05
          },
          "xaxis": {
           "automargin": true,
           "gridcolor": "#EBF0F8",
           "linecolor": "#EBF0F8",
           "ticks": "",
           "title": {
            "standoff": 15
           },
           "zerolinecolor": "#EBF0F8",
           "zerolinewidth": 2
          },
          "yaxis": {
           "automargin": true,
           "gridcolor": "#EBF0F8",
           "linecolor": "#EBF0F8",
           "ticks": "",
           "title": {
            "standoff": 15
           },
           "zerolinecolor": "#EBF0F8",
           "zerolinewidth": 2
          }
         }
        },
        "width": 800,
        "xaxis": {
         "title": {
          "text": "Time since 2024-02-19T06:21:42.000 (s)"
         }
        },
        "yaxis": {
         "title": {
          "text": "Counts per second"
         }
        }
       }
      }
     },
     "metadata": {},
     "output_type": "display_data"
    },
    {
     "name": "stdout",
     "output_type": "stream",
     "text": [
      "\n",
      "+------------------------------------------------+\n",
      " extract spectrum for na\n",
      "+------------------------------------------------+\n"
     ]
    },
    {
     "data": {
      "application/vnd.plotly.v1+json": {
       "config": {
        "plotlyServerURL": "https://plot.ly"
       },
       "data": [
        {
         "mode": "lines",
         "name": "total lightcurve",
         "showlegend": true,
         "type": "scatter",
         "x": [
          -398,
          -394,
          -390,
          -386,
          -382,
          -378,
          -374,
          -370,
          -366,
          -362,
          -358,
          -354,
          -350,
          -346,
          -342,
          -338,
          -334,
          -330,
          -326,
          -322,
          -318,
          -314,
          -310,
          -306,
          -302,
          -298,
          -294,
          -290,
          -286,
          -282,
          -278,
          -274,
          -270,
          -266,
          -262,
          -258,
          -254,
          -250,
          -246,
          -242,
          -238,
          -234,
          -230,
          -226,
          -222,
          -218,
          -214,
          -210,
          -206,
          -202,
          -198,
          -194,
          -190,
          -186,
          -182,
          -178,
          -174,
          -170,
          -166,
          -162,
          -158,
          -154,
          -150,
          -146,
          -142,
          -138,
          -134,
          -130,
          -126,
          -122,
          -118,
          -114,
          -110,
          -106,
          -102,
          -98,
          -94,
          -90,
          -86,
          -82,
          -78,
          -74,
          -70,
          -66,
          -62,
          -58,
          -54,
          -50,
          -46,
          -42,
          -38,
          -34,
          -30,
          -26,
          -22,
          -18,
          -14,
          -10,
          -6,
          -2,
          2,
          6,
          10,
          14,
          18,
          22,
          26,
          30,
          34,
          38,
          42,
          46,
          50,
          54,
          58,
          62,
          66,
          70,
          74,
          78,
          82,
          86,
          90,
          94,
          98,
          102,
          106,
          110,
          114,
          118,
          122,
          126,
          130,
          134,
          138,
          142,
          146,
          150,
          154,
          158,
          162,
          166,
          170,
          174,
          178,
          182,
          186,
          190,
          194,
          198,
          202,
          206,
          210,
          214,
          218,
          222,
          226,
          230,
          234,
          238,
          242,
          246,
          250,
          254,
          258,
          262,
          266,
          270,
          274,
          278,
          282,
          286,
          290,
          294,
          298,
          302,
          306,
          310,
          314,
          318,
          322,
          326,
          330,
          334,
          338,
          342,
          346,
          350,
          354,
          358,
          362,
          366,
          370,
          374,
          378,
          382,
          386,
          390,
          394,
          398
         ],
         "y": [
          1057.5,
          1099.5,
          1080.5,
          1102.5,
          1102.75,
          1090.75,
          1062.5,
          1104.75,
          1118.5,
          1104.5,
          1101,
          1073,
          1090.5,
          1079.5,
          1096.25,
          1112.5,
          1128,
          1072.75,
          1108.25,
          1095.75,
          1111,
          1118.75,
          1128.75,
          1142.25,
          1132.5,
          1129,
          1101.25,
          1114.25,
          1119.25,
          1106,
          1112,
          1115.75,
          1102.25,
          1111.75,
          1098.25,
          1108.5,
          1123.5,
          1113.25,
          1106.75,
          1129.25,
          1118.25,
          1144.75,
          1128.25,
          1135.5,
          1107.5,
          1148,
          1117.5,
          1105.75,
          1139.5,
          1145,
          1141,
          1153.75,
          1144.75,
          1127.25,
          1127,
          1138.25,
          1110.25,
          1171,
          1165.5,
          1153.5,
          1152.5,
          1153.25,
          1125,
          1105.25,
          1147,
          1172.25,
          1142,
          1146.5,
          1140.75,
          1104.5,
          1161,
          1178.25,
          1128.25,
          1162.5,
          1154,
          1179.25,
          1134.5,
          1118.75,
          1165.5,
          1138.5,
          1144.75,
          1146.75,
          1157,
          1166.25,
          1169,
          1167.5,
          1161,
          1145.5,
          1123.75,
          1166,
          1144.5,
          1171.75,
          1164,
          1157,
          1167.75,
          1181,
          1164.5,
          1170.5,
          1180.25,
          1171.25,
          1159.5,
          1167,
          1203,
          1186.75,
          1207.75,
          1231.25,
          1217.5,
          1203.25,
          1213.75,
          1225.25,
          1262.75,
          1252,
          1248.75,
          1229.75,
          1232.25,
          1177.75,
          1206.5,
          1198,
          1214,
          1178.25,
          1201.75,
          1209.75,
          1203.75,
          1185.5,
          1183.5,
          1169.75,
          1180.75,
          1205.75,
          1169.75,
          1193.5,
          1208,
          1188.5,
          1167.5,
          1194.75,
          1207.25,
          1194,
          1182.75,
          1175.5,
          1190.5,
          1218,
          1211.25,
          1190.75,
          1188,
          1182.25,
          1161,
          1215,
          1194.25,
          1187.25,
          1173.25,
          1192,
          1167,
          1183.25,
          1183,
          1199,
          1197.25,
          1198.5,
          1175.75,
          1170,
          1195.75,
          1210.75,
          1217.25,
          1216.5,
          1148.5,
          1218.25,
          1209.75,
          1212.75,
          1209.25,
          1175,
          1210.25,
          1218.75,
          1202.75,
          1209.5,
          1223.75,
          1199.25,
          1189.5,
          1207.25,
          1199,
          1186,
          1211.5,
          1194.75,
          1190.75,
          1218.25,
          1203.75,
          1204.5,
          1228,
          1202.25,
          1206.25,
          1204.75,
          1227,
          1199.75,
          1181.5,
          1214.25,
          1205.25,
          1233,
          1187.25,
          1201,
          1191.5,
          1193,
          1200.25,
          1197.25
         ]
        },
        {
         "mode": "lines",
         "name": "total background",
         "showlegend": true,
         "type": "scatter",
         "x": [
          -300,
          -293.93939393939394,
          -287.8787878787879,
          -281.8181818181818,
          -275.75757575757575,
          -269.6969696969697,
          -263.6363636363636,
          -257.57575757575756,
          -251.5151515151515,
          -245.45454545454544,
          -239.39393939393938,
          -233.33333333333331,
          -227.27272727272728,
          -221.21212121212122,
          -215.15151515151516,
          -209.0909090909091,
          -203.03030303030303,
          -196.96969696969697,
          -190.9090909090909,
          -184.84848484848484,
          -178.78787878787878,
          -172.72727272727275,
          -166.66666666666666,
          -160.6060606060606,
          -154.54545454545456,
          -148.4848484848485,
          -142.42424242424244,
          -136.36363636363637,
          -130.3030303030303,
          -124.24242424242425,
          -118.18181818181819,
          -112.12121212121212,
          -106.06060606060606,
          -100,
          -93.93939393939394,
          -87.87878787878788,
          -81.81818181818181,
          -75.75757575757575,
          -69.69696969696969,
          -63.636363636363626,
          -57.575757575757564,
          -51.51515151515153,
          -45.45454545454547,
          -39.39393939393938,
          -33.333333333333314,
          -27.272727272727252,
          -21.21212121212119,
          -15.151515151515127,
          -9.090909090909122,
          -3.0303030303030596,
          3.0303030303030027,
          9.090909090909065,
          15.151515151515127,
          21.21212121212119,
          27.272727272727252,
          33.333333333333314,
          39.39393939393938,
          45.45454545454544,
          51.5151515151515,
          57.575757575757564,
          63.636363636363626,
          69.69696969696969,
          75.75757575757575,
          81.81818181818181,
          87.87878787878788,
          93.93939393939394,
          100,
          106.06060606060606,
          112.12121212121212,
          118.18181818181819,
          124.24242424242425,
          130.3030303030303,
          136.36363636363637,
          142.42424242424244,
          148.4848484848485,
          154.54545454545456,
          160.60606060606062,
          166.66666666666669,
          172.72727272727275,
          178.7878787878788,
          184.84848484848487,
          190.90909090909088,
          196.96969696969694,
          203.030303030303,
          209.09090909090907,
          215.15151515151513,
          221.21212121212125,
          227.27272727272725,
          233.33333333333337,
          239.39393939393938,
          245.4545454545455,
          251.5151515151515,
          257.5757575757576,
          263.6363636363636,
          269.69696969696975,
          275.75757575757575,
          281.81818181818176,
          287.8787878787879,
          293.9393939393939,
          300
         ],
         "y": [
          1110.2036934418825,
          1111.5973759640203,
          1112.98683611155,
          1114.3719114204466,
          1115.752439426684,
          1117.128257666237,
          1118.49920367508,
          1119.8651149891875,
          1121.225829144534,
          1122.5811836770943,
          1123.9310161228425,
          1125.2751640177532,
          1126.6134648978011,
          1127.9457562989605,
          1129.2718757572059,
          1130.591660808512,
          1131.9049489888532,
          1133.211577834204,
          1134.5113848805388,
          1135.8042076638321,
          1137.0898837200589,
          1138.368250585193,
          1139.6391457952093,
          1140.9024068860822,
          1142.157871393786,
          1143.4053768542958,
          1144.6447608035858,
          1145.8758607776301,
          1147.0985143124037,
          1148.312558943881,
          1149.5178322080362,
          1150.7141716408446,
          1151.9014147782798,
          1153.0793991563166,
          1154.2479623109298,
          1155.4069417780934,
          1156.5561750937825,
          1157.6954997939713,
          1158.824753414634,
          1159.9437734917456,
          1161.0523975612803,
          1162.1504631592127,
          1163.2378078215174,
          1164.3142690841687,
          1165.3796844831413,
          1166.43389155441,
          1167.4767278339484,
          1168.5080308577317,
          1169.5276381617343,
          1170.5353872819308,
          1171.5311157542953,
          1172.5146611148027,
          1173.4858608994273,
          1174.4445526441434,
          1175.3905738849262,
          1176.3237621577496,
          1177.2439549985884,
          1178.1509899434168,
          1179.0447045282096,
          1179.9249362889411,
          1180.7915227615863,
          1181.6443014821189,
          1182.483109986514,
          1183.3077858107456,
          1184.118166490789,
          1184.9140895626178,
          1185.6953925622072,
          1186.4619130255317,
          1187.213488488565,
          1187.9499564872824,
          1188.6711545576582,
          1189.3769202356668,
          1190.0670910572828,
          1190.7415045584805,
          1191.3999982752348,
          1192.0424097435198,
          1192.6685764993103,
          1193.2783360785804,
          1193.8715260173053,
          1194.447983851459,
          1195.0075471170157,
          1195.550053349951,
          1196.0753400862382,
          1196.5832448618523,
          1197.0736052127681,
          1197.5462586749597,
          1198.0010427844018,
          1198.4377950770688,
          1198.8563530889353,
          1199.2565543559756,
          1199.6382364141643,
          1200.0012367994761,
          1200.3453930478854,
          1200.6705426953667,
          1200.976523277894,
          1201.2631723314428,
          1201.530327391987,
          1201.7778259955012,
          1202.00550567796,
          1202.2132039753374
         ]
        },
        {
         "mode": "lines",
         "name": "summing background",
         "showlegend": true,
         "type": "scatter",
         "x": [
          -300,
          -293.93939393939394,
          -287.8787878787879,
          -281.8181818181818,
          -275.75757575757575,
          -269.6969696969697,
          -263.6363636363636,
          -257.57575757575756,
          -251.5151515151515,
          -245.45454545454544,
          -239.39393939393938,
          -233.33333333333331,
          -227.27272727272728,
          -221.21212121212122,
          -215.15151515151516,
          -209.0909090909091,
          -203.03030303030303,
          -196.96969696969697,
          -190.9090909090909,
          -184.84848484848484,
          -178.78787878787878,
          -172.72727272727275,
          -166.66666666666666,
          -160.6060606060606,
          -154.54545454545456,
          -148.4848484848485,
          -142.42424242424244,
          -136.36363636363637,
          -130.3030303030303,
          -124.24242424242425,
          -118.18181818181819,
          -112.12121212121212,
          -106.06060606060606,
          -100,
          -93.93939393939394,
          -87.87878787878788,
          -81.81818181818181,
          -75.75757575757575,
          -69.69696969696969,
          -63.636363636363626,
          -57.575757575757564,
          -51.51515151515153,
          -45.45454545454547,
          -39.39393939393938,
          -33.333333333333314,
          -27.272727272727252,
          -21.21212121212119,
          -15.151515151515127,
          -9.090909090909122,
          -3.0303030303030596,
          3.0303030303030027,
          9.090909090909065,
          15.151515151515127,
          21.21212121212119,
          27.272727272727252,
          33.333333333333314,
          39.39393939393938,
          45.45454545454544,
          51.5151515151515,
          57.575757575757564,
          63.636363636363626,
          69.69696969696969,
          75.75757575757575,
          81.81818181818181,
          87.87878787878788,
          93.93939393939394,
          100,
          106.06060606060606,
          112.12121212121212,
          118.18181818181819,
          124.24242424242425,
          130.3030303030303,
          136.36363636363637,
          142.42424242424244,
          148.4848484848485,
          154.54545454545456,
          160.60606060606062,
          166.66666666666669,
          172.72727272727275,
          178.7878787878788,
          184.84848484848487,
          190.90909090909088,
          196.96969696969694,
          203.030303030303,
          209.09090909090907,
          215.15151515151513,
          221.21212121212125,
          227.27272727272725,
          233.33333333333337,
          239.39393939393938,
          245.4545454545455,
          251.5151515151515,
          257.5757575757576,
          263.6363636363636,
          269.69696969696975,
          275.75757575757575,
          281.81818181818176,
          287.8787878787879,
          293.9393939393939,
          300
         ],
         "y": [
          1110.1549388109513,
          1111.5495589500276,
          1112.9400221917824,
          1114.326164364397,
          1115.7078212960546,
          1117.084828814938,
          1118.4570227492286,
          1119.8242389271102,
          1121.1863131767648,
          1122.5430813263752,
          1123.8943792041239,
          1125.2400426381928,
          1126.579907456766,
          1127.913809488026,
          1129.2415845601527,
          1130.5630685013318,
          1131.878097139744,
          1133.1865063035732,
          1134.4881318210007,
          1135.7828095202103,
          1137.070375229384,
          1138.3506647767033,
          1139.6235139903533,
          1140.8887586985138,
          1142.1462347293686,
          1143.3957779111013,
          1144.6372240718927,
          1145.8704090399265,
          1147.0951686433853,
          1148.311338710451,
          1149.518755069306,
          1150.717253548134,
          1151.9066699751165,
          1153.086840178436,
          1154.2575999862763,
          1155.4187852268192,
          1156.570231728248,
          1157.7117753187445,
          1158.8432518264904,
          1159.9644970796692,
          1161.0753469064648,
          1162.1756371350577,
          1163.265203593631,
          1164.343882110368,
          1165.4115085134504,
          1166.4679186310632,
          1167.512948291385,
          1168.5464333226005,
          1169.5682095528925,
          1170.5781128104427,
          1171.5759789234346,
          1172.5616437200513,
          1173.534943028474,
          1174.495712676884,
          1175.443788493468,
          1176.3790063064046,
          1177.3012019438788,
          1178.210211234071,
          1179.1058700051658,
          1179.9880140853443,
          1180.8564793027915,
          1181.7111014856873,
          1182.551716462215,
          1183.378160060559,
          1184.1902681088989,
          1184.9878764354205,
          1185.7708208683025,
          1186.53893723573,
          1187.2920613658848,
          1188.030029086951,
          1188.752676227109,
          1189.4598386145424,
          1190.1513520774347,
          1190.827052443966,
          1191.4867755423218,
          1192.1303572006825,
          1192.7576332472322,
          1193.3684395101516,
          1193.9626118176252,
          1194.5399859978343,
          1195.1003978789613,
          1195.6436832891914,
          1196.1696780567036,
          1196.678218009682,
          1197.1691389763093,
          1197.642276784768,
          1198.097467263241,
          1198.534546239911,
          1198.95334954296,
          1199.3537130005698,
          1199.7354724409247,
          1200.0984636922065,
          1200.4425225825978,
          1200.7674849402802,
          1201.0731865934376,
          1201.3594633702517,
          1201.6261510989063,
          1201.8730856075827,
          1202.1001027244636,
          1202.3070382777328
         ]
        }
       ],
       "layout": {
        "height": 600,
        "legend": {
         "x": 1,
         "xanchor": "right",
         "y": 1,
         "yanchor": "bottom"
        },
        "template": {
         "data": {
          "bar": [
           {
            "error_x": {
             "color": "#2a3f5f"
            },
            "error_y": {
             "color": "#2a3f5f"
            },
            "marker": {
             "line": {
              "color": "white",
              "width": 0.5
             },
             "pattern": {
              "fillmode": "overlay",
              "size": 10,
              "solidity": 0.2
             }
            },
            "type": "bar"
           }
          ],
          "barpolar": [
           {
            "marker": {
             "line": {
              "color": "white",
              "width": 0.5
             },
             "pattern": {
              "fillmode": "overlay",
              "size": 10,
              "solidity": 0.2
             }
            },
            "type": "barpolar"
           }
          ],
          "carpet": [
           {
            "aaxis": {
             "endlinecolor": "#2a3f5f",
             "gridcolor": "#C8D4E3",
             "linecolor": "#C8D4E3",
             "minorgridcolor": "#C8D4E3",
             "startlinecolor": "#2a3f5f"
            },
            "baxis": {
             "endlinecolor": "#2a3f5f",
             "gridcolor": "#C8D4E3",
             "linecolor": "#C8D4E3",
             "minorgridcolor": "#C8D4E3",
             "startlinecolor": "#2a3f5f"
            },
            "type": "carpet"
           }
          ],
          "choropleth": [
           {
            "colorbar": {
             "outlinewidth": 0,
             "ticks": ""
            },
            "type": "choropleth"
           }
          ],
          "contour": [
           {
            "colorbar": {
             "outlinewidth": 0,
             "ticks": ""
            },
            "colorscale": [
             [
              0,
              "#0d0887"
             ],
             [
              0.1111111111111111,
              "#46039f"
             ],
             [
              0.2222222222222222,
              "#7201a8"
             ],
             [
              0.3333333333333333,
              "#9c179e"
             ],
             [
              0.4444444444444444,
              "#bd3786"
             ],
             [
              0.5555555555555556,
              "#d8576b"
             ],
             [
              0.6666666666666666,
              "#ed7953"
             ],
             [
              0.7777777777777778,
              "#fb9f3a"
             ],
             [
              0.8888888888888888,
              "#fdca26"
             ],
             [
              1,
              "#f0f921"
             ]
            ],
            "type": "contour"
           }
          ],
          "contourcarpet": [
           {
            "colorbar": {
             "outlinewidth": 0,
             "ticks": ""
            },
            "type": "contourcarpet"
           }
          ],
          "heatmap": [
           {
            "colorbar": {
             "outlinewidth": 0,
             "ticks": ""
            },
            "colorscale": [
             [
              0,
              "#0d0887"
             ],
             [
              0.1111111111111111,
              "#46039f"
             ],
             [
              0.2222222222222222,
              "#7201a8"
             ],
             [
              0.3333333333333333,
              "#9c179e"
             ],
             [
              0.4444444444444444,
              "#bd3786"
             ],
             [
              0.5555555555555556,
              "#d8576b"
             ],
             [
              0.6666666666666666,
              "#ed7953"
             ],
             [
              0.7777777777777778,
              "#fb9f3a"
             ],
             [
              0.8888888888888888,
              "#fdca26"
             ],
             [
              1,
              "#f0f921"
             ]
            ],
            "type": "heatmap"
           }
          ],
          "heatmapgl": [
           {
            "colorbar": {
             "outlinewidth": 0,
             "ticks": ""
            },
            "colorscale": [
             [
              0,
              "#0d0887"
             ],
             [
              0.1111111111111111,
              "#46039f"
             ],
             [
              0.2222222222222222,
              "#7201a8"
             ],
             [
              0.3333333333333333,
              "#9c179e"
             ],
             [
              0.4444444444444444,
              "#bd3786"
             ],
             [
              0.5555555555555556,
              "#d8576b"
             ],
             [
              0.6666666666666666,
              "#ed7953"
             ],
             [
              0.7777777777777778,
              "#fb9f3a"
             ],
             [
              0.8888888888888888,
              "#fdca26"
             ],
             [
              1,
              "#f0f921"
             ]
            ],
            "type": "heatmapgl"
           }
          ],
          "histogram": [
           {
            "marker": {
             "pattern": {
              "fillmode": "overlay",
              "size": 10,
              "solidity": 0.2
             }
            },
            "type": "histogram"
           }
          ],
          "histogram2d": [
           {
            "colorbar": {
             "outlinewidth": 0,
             "ticks": ""
            },
            "colorscale": [
             [
              0,
              "#0d0887"
             ],
             [
              0.1111111111111111,
              "#46039f"
             ],
             [
              0.2222222222222222,
              "#7201a8"
             ],
             [
              0.3333333333333333,
              "#9c179e"
             ],
             [
              0.4444444444444444,
              "#bd3786"
             ],
             [
              0.5555555555555556,
              "#d8576b"
             ],
             [
              0.6666666666666666,
              "#ed7953"
             ],
             [
              0.7777777777777778,
              "#fb9f3a"
             ],
             [
              0.8888888888888888,
              "#fdca26"
             ],
             [
              1,
              "#f0f921"
             ]
            ],
            "type": "histogram2d"
           }
          ],
          "histogram2dcontour": [
           {
            "colorbar": {
             "outlinewidth": 0,
             "ticks": ""
            },
            "colorscale": [
             [
              0,
              "#0d0887"
             ],
             [
              0.1111111111111111,
              "#46039f"
             ],
             [
              0.2222222222222222,
              "#7201a8"
             ],
             [
              0.3333333333333333,
              "#9c179e"
             ],
             [
              0.4444444444444444,
              "#bd3786"
             ],
             [
              0.5555555555555556,
              "#d8576b"
             ],
             [
              0.6666666666666666,
              "#ed7953"
             ],
             [
              0.7777777777777778,
              "#fb9f3a"
             ],
             [
              0.8888888888888888,
              "#fdca26"
             ],
             [
              1,
              "#f0f921"
             ]
            ],
            "type": "histogram2dcontour"
           }
          ],
          "mesh3d": [
           {
            "colorbar": {
             "outlinewidth": 0,
             "ticks": ""
            },
            "type": "mesh3d"
           }
          ],
          "parcoords": [
           {
            "line": {
             "colorbar": {
              "outlinewidth": 0,
              "ticks": ""
             }
            },
            "type": "parcoords"
           }
          ],
          "pie": [
           {
            "automargin": true,
            "type": "pie"
           }
          ],
          "scatter": [
           {
            "fillpattern": {
             "fillmode": "overlay",
             "size": 10,
             "solidity": 0.2
            },
            "type": "scatter"
           }
          ],
          "scatter3d": [
           {
            "line": {
             "colorbar": {
              "outlinewidth": 0,
              "ticks": ""
             }
            },
            "marker": {
             "colorbar": {
              "outlinewidth": 0,
              "ticks": ""
             }
            },
            "type": "scatter3d"
           }
          ],
          "scattercarpet": [
           {
            "marker": {
             "colorbar": {
              "outlinewidth": 0,
              "ticks": ""
             }
            },
            "type": "scattercarpet"
           }
          ],
          "scattergeo": [
           {
            "marker": {
             "colorbar": {
              "outlinewidth": 0,
              "ticks": ""
             }
            },
            "type": "scattergeo"
           }
          ],
          "scattergl": [
           {
            "marker": {
             "colorbar": {
              "outlinewidth": 0,
              "ticks": ""
             }
            },
            "type": "scattergl"
           }
          ],
          "scattermapbox": [
           {
            "marker": {
             "colorbar": {
              "outlinewidth": 0,
              "ticks": ""
             }
            },
            "type": "scattermapbox"
           }
          ],
          "scatterpolar": [
           {
            "marker": {
             "colorbar": {
              "outlinewidth": 0,
              "ticks": ""
             }
            },
            "type": "scatterpolar"
           }
          ],
          "scatterpolargl": [
           {
            "marker": {
             "colorbar": {
              "outlinewidth": 0,
              "ticks": ""
             }
            },
            "type": "scatterpolargl"
           }
          ],
          "scatterternary": [
           {
            "marker": {
             "colorbar": {
              "outlinewidth": 0,
              "ticks": ""
             }
            },
            "type": "scatterternary"
           }
          ],
          "surface": [
           {
            "colorbar": {
             "outlinewidth": 0,
             "ticks": ""
            },
            "colorscale": [
             [
              0,
              "#0d0887"
             ],
             [
              0.1111111111111111,
              "#46039f"
             ],
             [
              0.2222222222222222,
              "#7201a8"
             ],
             [
              0.3333333333333333,
              "#9c179e"
             ],
             [
              0.4444444444444444,
              "#bd3786"
             ],
             [
              0.5555555555555556,
              "#d8576b"
             ],
             [
              0.6666666666666666,
              "#ed7953"
             ],
             [
              0.7777777777777778,
              "#fb9f3a"
             ],
             [
              0.8888888888888888,
              "#fdca26"
             ],
             [
              1,
              "#f0f921"
             ]
            ],
            "type": "surface"
           }
          ],
          "table": [
           {
            "cells": {
             "fill": {
              "color": "#EBF0F8"
             },
             "line": {
              "color": "white"
             }
            },
            "header": {
             "fill": {
              "color": "#C8D4E3"
             },
             "line": {
              "color": "white"
             }
            },
            "type": "table"
           }
          ]
         },
         "layout": {
          "annotationdefaults": {
           "arrowcolor": "#2a3f5f",
           "arrowhead": 0,
           "arrowwidth": 1
          },
          "autotypenumbers": "strict",
          "coloraxis": {
           "colorbar": {
            "outlinewidth": 0,
            "ticks": ""
           }
          },
          "colorscale": {
           "diverging": [
            [
             0,
             "#8e0152"
            ],
            [
             0.1,
             "#c51b7d"
            ],
            [
             0.2,
             "#de77ae"
            ],
            [
             0.3,
             "#f1b6da"
            ],
            [
             0.4,
             "#fde0ef"
            ],
            [
             0.5,
             "#f7f7f7"
            ],
            [
             0.6,
             "#e6f5d0"
            ],
            [
             0.7,
             "#b8e186"
            ],
            [
             0.8,
             "#7fbc41"
            ],
            [
             0.9,
             "#4d9221"
            ],
            [
             1,
             "#276419"
            ]
           ],
           "sequential": [
            [
             0,
             "#0d0887"
            ],
            [
             0.1111111111111111,
             "#46039f"
            ],
            [
             0.2222222222222222,
             "#7201a8"
            ],
            [
             0.3333333333333333,
             "#9c179e"
            ],
            [
             0.4444444444444444,
             "#bd3786"
            ],
            [
             0.5555555555555556,
             "#d8576b"
            ],
            [
             0.6666666666666666,
             "#ed7953"
            ],
            [
             0.7777777777777778,
             "#fb9f3a"
            ],
            [
             0.8888888888888888,
             "#fdca26"
            ],
            [
             1,
             "#f0f921"
            ]
           ],
           "sequentialminus": [
            [
             0,
             "#0d0887"
            ],
            [
             0.1111111111111111,
             "#46039f"
            ],
            [
             0.2222222222222222,
             "#7201a8"
            ],
            [
             0.3333333333333333,
             "#9c179e"
            ],
            [
             0.4444444444444444,
             "#bd3786"
            ],
            [
             0.5555555555555556,
             "#d8576b"
            ],
            [
             0.6666666666666666,
             "#ed7953"
            ],
            [
             0.7777777777777778,
             "#fb9f3a"
            ],
            [
             0.8888888888888888,
             "#fdca26"
            ],
            [
             1,
             "#f0f921"
            ]
           ]
          },
          "colorway": [
           "#636efa",
           "#EF553B",
           "#00cc96",
           "#ab63fa",
           "#FFA15A",
           "#19d3f3",
           "#FF6692",
           "#B6E880",
           "#FF97FF",
           "#FECB52"
          ],
          "font": {
           "color": "#2a3f5f"
          },
          "geo": {
           "bgcolor": "white",
           "lakecolor": "white",
           "landcolor": "white",
           "showlakes": true,
           "showland": true,
           "subunitcolor": "#C8D4E3"
          },
          "hoverlabel": {
           "align": "left"
          },
          "hovermode": "closest",
          "mapbox": {
           "style": "light"
          },
          "paper_bgcolor": "white",
          "plot_bgcolor": "white",
          "polar": {
           "angularaxis": {
            "gridcolor": "#EBF0F8",
            "linecolor": "#EBF0F8",
            "ticks": ""
           },
           "bgcolor": "white",
           "radialaxis": {
            "gridcolor": "#EBF0F8",
            "linecolor": "#EBF0F8",
            "ticks": ""
           }
          },
          "scene": {
           "xaxis": {
            "backgroundcolor": "white",
            "gridcolor": "#DFE8F3",
            "gridwidth": 2,
            "linecolor": "#EBF0F8",
            "showbackground": true,
            "ticks": "",
            "zerolinecolor": "#EBF0F8"
           },
           "yaxis": {
            "backgroundcolor": "white",
            "gridcolor": "#DFE8F3",
            "gridwidth": 2,
            "linecolor": "#EBF0F8",
            "showbackground": true,
            "ticks": "",
            "zerolinecolor": "#EBF0F8"
           },
           "zaxis": {
            "backgroundcolor": "white",
            "gridcolor": "#DFE8F3",
            "gridwidth": 2,
            "linecolor": "#EBF0F8",
            "showbackground": true,
            "ticks": "",
            "zerolinecolor": "#EBF0F8"
           }
          },
          "shapedefaults": {
           "line": {
            "color": "#2a3f5f"
           }
          },
          "ternary": {
           "aaxis": {
            "gridcolor": "#DFE8F3",
            "linecolor": "#A2B1C6",
            "ticks": ""
           },
           "baxis": {
            "gridcolor": "#DFE8F3",
            "linecolor": "#A2B1C6",
            "ticks": ""
           },
           "bgcolor": "white",
           "caxis": {
            "gridcolor": "#DFE8F3",
            "linecolor": "#A2B1C6",
            "ticks": ""
           }
          },
          "title": {
           "x": 0.05
          },
          "xaxis": {
           "automargin": true,
           "gridcolor": "#EBF0F8",
           "linecolor": "#EBF0F8",
           "ticks": "",
           "title": {
            "standoff": 15
           },
           "zerolinecolor": "#EBF0F8",
           "zerolinewidth": 2
          },
          "yaxis": {
           "automargin": true,
           "gridcolor": "#EBF0F8",
           "linecolor": "#EBF0F8",
           "ticks": "",
           "title": {
            "standoff": 15
           },
           "zerolinecolor": "#EBF0F8",
           "zerolinewidth": 2
          }
         }
        },
        "width": 800,
        "xaxis": {
         "title": {
          "text": "Time since 2024-02-19T06:21:42.000 (s)"
         }
        },
        "yaxis": {
         "title": {
          "text": "Counts per second"
         }
        }
       }
      }
     },
     "metadata": {},
     "output_type": "display_data"
    },
    {
     "name": "stdout",
     "output_type": "stream",
     "text": [
      "\n",
      "+------------------------------------------------+\n",
      " extract spectrum for b1\n",
      "+------------------------------------------------+\n"
     ]
    },
    {
     "data": {
      "application/vnd.plotly.v1+json": {
       "config": {
        "plotlyServerURL": "https://plot.ly"
       },
       "data": [
        {
         "mode": "lines",
         "name": "total lightcurve",
         "showlegend": true,
         "type": "scatter",
         "x": [
          -398,
          -394,
          -390,
          -386,
          -382,
          -378,
          -374,
          -370,
          -366,
          -362,
          -358,
          -354,
          -350,
          -346,
          -342,
          -338,
          -334,
          -330,
          -326,
          -322,
          -318,
          -314,
          -310,
          -306,
          -302,
          -298,
          -294,
          -290,
          -286,
          -282,
          -278,
          -274,
          -270,
          -266,
          -262,
          -258,
          -254,
          -250,
          -246,
          -242,
          -238,
          -234,
          -230,
          -226,
          -222,
          -218,
          -214,
          -210,
          -206,
          -202,
          -198,
          -194,
          -190,
          -186,
          -182,
          -178,
          -174,
          -170,
          -166,
          -162,
          -158,
          -154,
          -150,
          -146,
          -142,
          -138,
          -134,
          -130,
          -126,
          -122,
          -118,
          -114,
          -110,
          -106,
          -102,
          -98,
          -94,
          -90,
          -86,
          -82,
          -78,
          -74,
          -70,
          -66,
          -62,
          -58,
          -54,
          -50,
          -46,
          -42,
          -38,
          -34,
          -30,
          -26,
          -22,
          -18,
          -14,
          -10,
          -6,
          -2,
          2,
          6,
          10,
          14,
          18,
          22,
          26,
          30,
          34,
          38,
          42,
          46,
          50,
          54,
          58,
          62,
          66,
          70,
          74,
          78,
          82,
          86,
          90,
          94,
          98,
          102,
          106,
          110,
          114,
          118,
          122,
          126,
          130,
          134,
          138,
          142,
          146,
          150,
          154,
          158,
          162,
          166,
          170,
          174,
          178,
          182,
          186,
          190,
          194,
          198,
          202,
          206,
          210,
          214,
          218,
          222,
          226,
          230,
          234,
          238,
          242,
          246,
          250,
          254,
          258,
          262,
          266,
          270,
          274,
          278,
          282,
          286,
          290,
          294,
          298,
          302,
          306,
          310,
          314,
          318,
          322,
          326,
          330,
          334,
          338,
          342,
          346,
          350,
          354,
          358,
          362,
          366,
          370,
          374,
          378,
          382,
          386,
          390,
          394,
          398
         ],
         "y": [
          2140,
          2182.25,
          2182.75,
          2187.25,
          2191.5,
          2214,
          2189.75,
          2173,
          2153.5,
          2157.25,
          2176.25,
          2204.75,
          2145,
          2191.75,
          2178,
          2205,
          2184.25,
          2146.5,
          2180.25,
          2148,
          2161.75,
          2123.25,
          2182.75,
          2196,
          2162.75,
          2142.75,
          2117,
          2162.5,
          2166.5,
          2166.25,
          2161,
          2160.5,
          2185.75,
          2164.25,
          2150.5,
          2149.25,
          2169.5,
          2149.25,
          2155.5,
          2147.25,
          2159.25,
          2151,
          2114.5,
          2158.5,
          2148.5,
          2130.25,
          2177.25,
          2172.75,
          2162,
          2209.5,
          2183.5,
          2195.5,
          2132.25,
          2138.5,
          2141.75,
          2140,
          2141,
          2138.75,
          2186.25,
          2147.75,
          2157,
          2122.5,
          2153.75,
          2192.25,
          2166.5,
          2155.25,
          2152.25,
          2180.25,
          2156,
          2141.75,
          2115.5,
          2153.25,
          2179.5,
          2147,
          2143,
          2157.5,
          2119.5,
          2129.25,
          2130,
          2084,
          2129.75,
          2117.75,
          2140,
          2084.25,
          2158.75,
          2143.75,
          2127,
          2156,
          2149.5,
          2139.25,
          2131.5,
          2090.25,
          2177.75,
          2169,
          2136.5,
          2163,
          2156.25,
          2135.75,
          2144,
          2130.75,
          2123.25,
          2091,
          2103.75,
          2165.25,
          2148,
          2156.5,
          2164.5,
          2179.5,
          2146.75,
          2172.5,
          2187.5,
          2155.75,
          2142.75,
          2116.75,
          2131,
          2119,
          2160.25,
          2135.75,
          2149,
          2173.75,
          2092.75,
          2173,
          2118.5,
          2123.25,
          2165,
          2123.5,
          2148,
          2175.25,
          2102.5,
          2180.75,
          2149,
          2127.5,
          2178.5,
          2156.5,
          2101.75,
          2134.75,
          2104,
          2120.5,
          2080,
          2119.5,
          2123.75,
          2092,
          2101.25,
          2077.25,
          2113,
          2132.5,
          2113.5,
          2116.25,
          2090.75,
          2117.25,
          2085,
          2087.25,
          2118.75,
          2106,
          2118.5,
          2085.75,
          2090.5,
          2102,
          2102.75,
          2095.5,
          2087.5,
          2112.25,
          2125,
          2042.75,
          2107,
          2158.25,
          2106.25,
          2082.5,
          2097.75,
          2078.75,
          2088.5,
          2096.5,
          2117.5,
          2121,
          2095,
          2105,
          2088.75,
          2105.25,
          2073,
          2080.75,
          2072.5,
          2118,
          2140,
          2074.5,
          2095,
          2069.25,
          2101.25,
          2074.5,
          2111.75,
          2110,
          2119.25,
          2134.5,
          2136.25,
          2095.25,
          2093,
          2057.75,
          2124.5,
          2103.5,
          2121.25,
          2109
         ]
        },
        {
         "mode": "lines",
         "name": "total background",
         "showlegend": true,
         "type": "scatter",
         "x": [
          -300,
          -293.93939393939394,
          -287.8787878787879,
          -281.8181818181818,
          -275.75757575757575,
          -269.6969696969697,
          -263.6363636363636,
          -257.57575757575756,
          -251.5151515151515,
          -245.45454545454544,
          -239.39393939393938,
          -233.33333333333331,
          -227.27272727272728,
          -221.21212121212122,
          -215.15151515151516,
          -209.0909090909091,
          -203.03030303030303,
          -196.96969696969697,
          -190.9090909090909,
          -184.84848484848484,
          -178.78787878787878,
          -172.72727272727275,
          -166.66666666666666,
          -160.6060606060606,
          -154.54545454545456,
          -148.4848484848485,
          -142.42424242424244,
          -136.36363636363637,
          -130.3030303030303,
          -124.24242424242425,
          -118.18181818181819,
          -112.12121212121212,
          -106.06060606060606,
          -100,
          -93.93939393939394,
          -87.87878787878788,
          -81.81818181818181,
          -75.75757575757575,
          -69.69696969696969,
          -63.636363636363626,
          -57.575757575757564,
          -51.51515151515153,
          -45.45454545454547,
          -39.39393939393938,
          -33.333333333333314,
          -27.272727272727252,
          -21.21212121212119,
          -15.151515151515127,
          -9.090909090909122,
          -3.0303030303030596,
          3.0303030303030027,
          9.090909090909065,
          15.151515151515127,
          21.21212121212119,
          27.272727272727252,
          33.333333333333314,
          39.39393939393938,
          45.45454545454544,
          51.5151515151515,
          57.575757575757564,
          63.636363636363626,
          69.69696969696969,
          75.75757575757575,
          81.81818181818181,
          87.87878787878788,
          93.93939393939394,
          100,
          106.06060606060606,
          112.12121212121212,
          118.18181818181819,
          124.24242424242425,
          130.3030303030303,
          136.36363636363637,
          142.42424242424244,
          148.4848484848485,
          154.54545454545456,
          160.60606060606062,
          166.66666666666669,
          172.72727272727275,
          178.7878787878788,
          184.84848484848487,
          190.90909090909088,
          196.96969696969694,
          203.030303030303,
          209.09090909090907,
          215.15151515151513,
          221.21212121212125,
          227.27272727272725,
          233.33333333333337,
          239.39393939393938,
          245.4545454545455,
          251.5151515151515,
          257.5757575757576,
          263.6363636363636,
          269.69696969696975,
          275.75757575757575,
          281.81818181818176,
          287.8787878787879,
          293.9393939393939,
          300
         ],
         "y": [
          2166.528848912256,
          2166.0093511248024,
          2165.4868406197215,
          2164.9613400353396,
          2164.4328720099834,
          2163.9014591819796,
          2163.367124189654,
          2162.829889671334,
          2162.289778265346,
          2161.7468126100152,
          2161.2010153436695,
          2160.6524091046354,
          2160.1010165312387,
          2159.5468602618057,
          2158.989962934664,
          2158.4303471881394,
          2157.8680356605587,
          2157.303050990248,
          2156.7354158155335,
          2156.165152774743,
          2155.592284506202,
          2155.016833648237,
          2154.438822839175,
          2153.858274717342,
          2153.2752119210654,
          2152.6896570886706,
          2152.101632858484,
          2151.511161868834,
          2150.918266758045,
          2150.3229701644436,
          2149.725294726358,
          2149.125263082113,
          2148.522897870036,
          2147.918221728454,
          2147.311257295692,
          2146.702027210077,
          2146.0905541099364,
          2145.476860633596,
          2144.860969419383,
          2144.2429031056226,
          2143.622684330642,
          2143.0003357327682,
          2142.375879950327,
          2141.749339621645,
          2141.1207373850493,
          2140.4900958788658,
          2139.8574377414207,
          2139.2227856110417,
          2138.586162126054,
          2137.947589924785,
          2137.3070916455604,
          2136.6646899267075,
          2136.0204074065527,
          2135.374266723422,
          2134.726290515642,
          2134.0765014215403,
          2133.424922079442,
          2132.771575127674,
          2132.116483204563,
          2131.459668948435,
          2130.8011549976172,
          2130.140963990436,
          2129.479118565218,
          2128.815641360289,
          2128.1505550139764,
          2127.483882164606,
          2126.8156454505047,
          2126.1458675099984,
          2125.4745709814147,
          2124.801778503079,
          2124.127512713318,
          2123.451796250459,
          2122.774651752828,
          2122.096101858752,
          2121.416169206556,
          2120.734876434568,
          2120.052246181114,
          2119.36830108452,
          2118.683063783114,
          2117.9965569152205,
          2117.308803119168,
          2116.6198250332814,
          2115.9296452958883,
          2115.238286545314,
          2114.5457714198865,
          2113.852122557931,
          2113.1573625977753,
          2112.4615141777444,
          2111.764599936166,
          2111.066642511366,
          2110.3676645416713,
          2109.667688665408,
          2108.966737520903,
          2108.264833746482,
          2107.561999980473,
          2106.858258861201,
          2106.1536330269932,
          2105.448145116176,
          2104.741817767076,
          2104.03467361802
         ]
        },
        {
         "mode": "lines",
         "name": "summing background",
         "showlegend": true,
         "type": "scatter",
         "x": [
          -300,
          -293.93939393939394,
          -287.8787878787879,
          -281.8181818181818,
          -275.75757575757575,
          -269.6969696969697,
          -263.6363636363636,
          -257.57575757575756,
          -251.5151515151515,
          -245.45454545454544,
          -239.39393939393938,
          -233.33333333333331,
          -227.27272727272728,
          -221.21212121212122,
          -215.15151515151516,
          -209.0909090909091,
          -203.03030303030303,
          -196.96969696969697,
          -190.9090909090909,
          -184.84848484848484,
          -178.78787878787878,
          -172.72727272727275,
          -166.66666666666666,
          -160.6060606060606,
          -154.54545454545456,
          -148.4848484848485,
          -142.42424242424244,
          -136.36363636363637,
          -130.3030303030303,
          -124.24242424242425,
          -118.18181818181819,
          -112.12121212121212,
          -106.06060606060606,
          -100,
          -93.93939393939394,
          -87.87878787878788,
          -81.81818181818181,
          -75.75757575757575,
          -69.69696969696969,
          -63.636363636363626,
          -57.575757575757564,
          -51.51515151515153,
          -45.45454545454547,
          -39.39393939393938,
          -33.333333333333314,
          -27.272727272727252,
          -21.21212121212119,
          -15.151515151515127,
          -9.090909090909122,
          -3.0303030303030596,
          3.0303030303030027,
          9.090909090909065,
          15.151515151515127,
          21.21212121212119,
          27.272727272727252,
          33.333333333333314,
          39.39393939393938,
          45.45454545454544,
          51.5151515151515,
          57.575757575757564,
          63.636363636363626,
          69.69696969696969,
          75.75757575757575,
          81.81818181818181,
          87.87878787878788,
          93.93939393939394,
          100,
          106.06060606060606,
          112.12121212121212,
          118.18181818181819,
          124.24242424242425,
          130.3030303030303,
          136.36363636363637,
          142.42424242424244,
          148.4848484848485,
          154.54545454545456,
          160.60606060606062,
          166.66666666666669,
          172.72727272727275,
          178.7878787878788,
          184.84848484848487,
          190.90909090909088,
          196.96969696969694,
          203.030303030303,
          209.09090909090907,
          215.15151515151513,
          221.21212121212125,
          227.27272727272725,
          233.33333333333337,
          239.39393939393938,
          245.4545454545455,
          251.5151515151515,
          257.5757575757576,
          263.6363636363636,
          269.69696969696975,
          275.75757575757575,
          281.81818181818176,
          287.8787878787879,
          293.9393939393939,
          300
         ],
         "y": [
          2166.5472695694857,
          2166.0269694389885,
          2165.503697958932,
          2164.9774767248377,
          2164.4483273322207,
          2163.916271376594,
          2163.3813304534783,
          2162.843526158391,
          2162.3028800868424,
          2161.75941383436,
          2161.2131489964545,
          2160.664107168643,
          2160.112309946445,
          2159.557778925377,
          2159.000535700952,
          2158.4406018686914,
          2157.8779990241105,
          2157.3127487627257,
          2156.744872680055,
          2156.1743923716153,
          2155.6013294329246,
          2155.0257054594995,
          2154.447542046853,
          2153.866860790507,
          2153.283683285977,
          2152.6980311287803,
          2152.109925914434,
          2151.519389238453,
          2150.9264426963564,
          2150.3311078836596,
          2149.7334063958815,
          2149.133359828539,
          2148.5309897771463,
          2147.9263178372235,
          2147.3193656042863,
          2146.710154673852,
          2146.098706641436,
          2145.485043102559,
          2144.869185652733,
          2144.2511558874808,
          2143.6309754023137,
          2143.00866579275,
          2142.3842486543117,
          2141.7577455825103,
          2141.1291781728646,
          2140.49856802089,
          2139.865936722105,
          2139.231305872028,
          2138.5946970661744,
          2137.956131900062,
          2137.3156319692066,
          2136.673218869125,
          2136.028914195334,
          2135.3827395433527,
          2134.7347165086976,
          2134.0848666868824,
          2133.433211673429,
          2132.779773063852,
          2132.124572453667,
          2131.4676314383923,
          2130.8089716135455,
          2130.1486145746435,
          2129.486581917202,
          2128.8228952367404,
          2128.157576128772,
          2127.4906461888177,
          2126.822127012391,
          2126.1520401950115,
          2125.480407332195,
          2124.8072500194594,
          2124.1325898523205,
          2123.456448426297,
          2122.7788473369023,
          2122.099808179659,
          2121.4193525500773,
          2120.73750204368,
          2120.0542782559814,
          2119.369702782498,
          2118.683797218748,
          2117.9965831602494,
          2117.308082202517,
          2116.61831594107,
          2115.9273059714224,
          2115.2350738890937,
          2114.5416412896,
          2113.847029768457,
          2113.151260921185,
          2112.4543563432967,
          2111.756337630314,
          2111.057226377749,
          2110.3570441811225,
          2109.6558126359496,
          2108.9535533377466,
          2108.2502878820324,
          2107.5460378643243,
          2106.840824880136,
          2106.1346705249885,
          2105.427596394397,
          2104.7196240838757,
          2104.010775188947
         ]
        }
       ],
       "layout": {
        "height": 600,
        "legend": {
         "x": 1,
         "xanchor": "right",
         "y": 1,
         "yanchor": "bottom"
        },
        "template": {
         "data": {
          "bar": [
           {
            "error_x": {
             "color": "#2a3f5f"
            },
            "error_y": {
             "color": "#2a3f5f"
            },
            "marker": {
             "line": {
              "color": "white",
              "width": 0.5
             },
             "pattern": {
              "fillmode": "overlay",
              "size": 10,
              "solidity": 0.2
             }
            },
            "type": "bar"
           }
          ],
          "barpolar": [
           {
            "marker": {
             "line": {
              "color": "white",
              "width": 0.5
             },
             "pattern": {
              "fillmode": "overlay",
              "size": 10,
              "solidity": 0.2
             }
            },
            "type": "barpolar"
           }
          ],
          "carpet": [
           {
            "aaxis": {
             "endlinecolor": "#2a3f5f",
             "gridcolor": "#C8D4E3",
             "linecolor": "#C8D4E3",
             "minorgridcolor": "#C8D4E3",
             "startlinecolor": "#2a3f5f"
            },
            "baxis": {
             "endlinecolor": "#2a3f5f",
             "gridcolor": "#C8D4E3",
             "linecolor": "#C8D4E3",
             "minorgridcolor": "#C8D4E3",
             "startlinecolor": "#2a3f5f"
            },
            "type": "carpet"
           }
          ],
          "choropleth": [
           {
            "colorbar": {
             "outlinewidth": 0,
             "ticks": ""
            },
            "type": "choropleth"
           }
          ],
          "contour": [
           {
            "colorbar": {
             "outlinewidth": 0,
             "ticks": ""
            },
            "colorscale": [
             [
              0,
              "#0d0887"
             ],
             [
              0.1111111111111111,
              "#46039f"
             ],
             [
              0.2222222222222222,
              "#7201a8"
             ],
             [
              0.3333333333333333,
              "#9c179e"
             ],
             [
              0.4444444444444444,
              "#bd3786"
             ],
             [
              0.5555555555555556,
              "#d8576b"
             ],
             [
              0.6666666666666666,
              "#ed7953"
             ],
             [
              0.7777777777777778,
              "#fb9f3a"
             ],
             [
              0.8888888888888888,
              "#fdca26"
             ],
             [
              1,
              "#f0f921"
             ]
            ],
            "type": "contour"
           }
          ],
          "contourcarpet": [
           {
            "colorbar": {
             "outlinewidth": 0,
             "ticks": ""
            },
            "type": "contourcarpet"
           }
          ],
          "heatmap": [
           {
            "colorbar": {
             "outlinewidth": 0,
             "ticks": ""
            },
            "colorscale": [
             [
              0,
              "#0d0887"
             ],
             [
              0.1111111111111111,
              "#46039f"
             ],
             [
              0.2222222222222222,
              "#7201a8"
             ],
             [
              0.3333333333333333,
              "#9c179e"
             ],
             [
              0.4444444444444444,
              "#bd3786"
             ],
             [
              0.5555555555555556,
              "#d8576b"
             ],
             [
              0.6666666666666666,
              "#ed7953"
             ],
             [
              0.7777777777777778,
              "#fb9f3a"
             ],
             [
              0.8888888888888888,
              "#fdca26"
             ],
             [
              1,
              "#f0f921"
             ]
            ],
            "type": "heatmap"
           }
          ],
          "heatmapgl": [
           {
            "colorbar": {
             "outlinewidth": 0,
             "ticks": ""
            },
            "colorscale": [
             [
              0,
              "#0d0887"
             ],
             [
              0.1111111111111111,
              "#46039f"
             ],
             [
              0.2222222222222222,
              "#7201a8"
             ],
             [
              0.3333333333333333,
              "#9c179e"
             ],
             [
              0.4444444444444444,
              "#bd3786"
             ],
             [
              0.5555555555555556,
              "#d8576b"
             ],
             [
              0.6666666666666666,
              "#ed7953"
             ],
             [
              0.7777777777777778,
              "#fb9f3a"
             ],
             [
              0.8888888888888888,
              "#fdca26"
             ],
             [
              1,
              "#f0f921"
             ]
            ],
            "type": "heatmapgl"
           }
          ],
          "histogram": [
           {
            "marker": {
             "pattern": {
              "fillmode": "overlay",
              "size": 10,
              "solidity": 0.2
             }
            },
            "type": "histogram"
           }
          ],
          "histogram2d": [
           {
            "colorbar": {
             "outlinewidth": 0,
             "ticks": ""
            },
            "colorscale": [
             [
              0,
              "#0d0887"
             ],
             [
              0.1111111111111111,
              "#46039f"
             ],
             [
              0.2222222222222222,
              "#7201a8"
             ],
             [
              0.3333333333333333,
              "#9c179e"
             ],
             [
              0.4444444444444444,
              "#bd3786"
             ],
             [
              0.5555555555555556,
              "#d8576b"
             ],
             [
              0.6666666666666666,
              "#ed7953"
             ],
             [
              0.7777777777777778,
              "#fb9f3a"
             ],
             [
              0.8888888888888888,
              "#fdca26"
             ],
             [
              1,
              "#f0f921"
             ]
            ],
            "type": "histogram2d"
           }
          ],
          "histogram2dcontour": [
           {
            "colorbar": {
             "outlinewidth": 0,
             "ticks": ""
            },
            "colorscale": [
             [
              0,
              "#0d0887"
             ],
             [
              0.1111111111111111,
              "#46039f"
             ],
             [
              0.2222222222222222,
              "#7201a8"
             ],
             [
              0.3333333333333333,
              "#9c179e"
             ],
             [
              0.4444444444444444,
              "#bd3786"
             ],
             [
              0.5555555555555556,
              "#d8576b"
             ],
             [
              0.6666666666666666,
              "#ed7953"
             ],
             [
              0.7777777777777778,
              "#fb9f3a"
             ],
             [
              0.8888888888888888,
              "#fdca26"
             ],
             [
              1,
              "#f0f921"
             ]
            ],
            "type": "histogram2dcontour"
           }
          ],
          "mesh3d": [
           {
            "colorbar": {
             "outlinewidth": 0,
             "ticks": ""
            },
            "type": "mesh3d"
           }
          ],
          "parcoords": [
           {
            "line": {
             "colorbar": {
              "outlinewidth": 0,
              "ticks": ""
             }
            },
            "type": "parcoords"
           }
          ],
          "pie": [
           {
            "automargin": true,
            "type": "pie"
           }
          ],
          "scatter": [
           {
            "fillpattern": {
             "fillmode": "overlay",
             "size": 10,
             "solidity": 0.2
            },
            "type": "scatter"
           }
          ],
          "scatter3d": [
           {
            "line": {
             "colorbar": {
              "outlinewidth": 0,
              "ticks": ""
             }
            },
            "marker": {
             "colorbar": {
              "outlinewidth": 0,
              "ticks": ""
             }
            },
            "type": "scatter3d"
           }
          ],
          "scattercarpet": [
           {
            "marker": {
             "colorbar": {
              "outlinewidth": 0,
              "ticks": ""
             }
            },
            "type": "scattercarpet"
           }
          ],
          "scattergeo": [
           {
            "marker": {
             "colorbar": {
              "outlinewidth": 0,
              "ticks": ""
             }
            },
            "type": "scattergeo"
           }
          ],
          "scattergl": [
           {
            "marker": {
             "colorbar": {
              "outlinewidth": 0,
              "ticks": ""
             }
            },
            "type": "scattergl"
           }
          ],
          "scattermapbox": [
           {
            "marker": {
             "colorbar": {
              "outlinewidth": 0,
              "ticks": ""
             }
            },
            "type": "scattermapbox"
           }
          ],
          "scatterpolar": [
           {
            "marker": {
             "colorbar": {
              "outlinewidth": 0,
              "ticks": ""
             }
            },
            "type": "scatterpolar"
           }
          ],
          "scatterpolargl": [
           {
            "marker": {
             "colorbar": {
              "outlinewidth": 0,
              "ticks": ""
             }
            },
            "type": "scatterpolargl"
           }
          ],
          "scatterternary": [
           {
            "marker": {
             "colorbar": {
              "outlinewidth": 0,
              "ticks": ""
             }
            },
            "type": "scatterternary"
           }
          ],
          "surface": [
           {
            "colorbar": {
             "outlinewidth": 0,
             "ticks": ""
            },
            "colorscale": [
             [
              0,
              "#0d0887"
             ],
             [
              0.1111111111111111,
              "#46039f"
             ],
             [
              0.2222222222222222,
              "#7201a8"
             ],
             [
              0.3333333333333333,
              "#9c179e"
             ],
             [
              0.4444444444444444,
              "#bd3786"
             ],
             [
              0.5555555555555556,
              "#d8576b"
             ],
             [
              0.6666666666666666,
              "#ed7953"
             ],
             [
              0.7777777777777778,
              "#fb9f3a"
             ],
             [
              0.8888888888888888,
              "#fdca26"
             ],
             [
              1,
              "#f0f921"
             ]
            ],
            "type": "surface"
           }
          ],
          "table": [
           {
            "cells": {
             "fill": {
              "color": "#EBF0F8"
             },
             "line": {
              "color": "white"
             }
            },
            "header": {
             "fill": {
              "color": "#C8D4E3"
             },
             "line": {
              "color": "white"
             }
            },
            "type": "table"
           }
          ]
         },
         "layout": {
          "annotationdefaults": {
           "arrowcolor": "#2a3f5f",
           "arrowhead": 0,
           "arrowwidth": 1
          },
          "autotypenumbers": "strict",
          "coloraxis": {
           "colorbar": {
            "outlinewidth": 0,
            "ticks": ""
           }
          },
          "colorscale": {
           "diverging": [
            [
             0,
             "#8e0152"
            ],
            [
             0.1,
             "#c51b7d"
            ],
            [
             0.2,
             "#de77ae"
            ],
            [
             0.3,
             "#f1b6da"
            ],
            [
             0.4,
             "#fde0ef"
            ],
            [
             0.5,
             "#f7f7f7"
            ],
            [
             0.6,
             "#e6f5d0"
            ],
            [
             0.7,
             "#b8e186"
            ],
            [
             0.8,
             "#7fbc41"
            ],
            [
             0.9,
             "#4d9221"
            ],
            [
             1,
             "#276419"
            ]
           ],
           "sequential": [
            [
             0,
             "#0d0887"
            ],
            [
             0.1111111111111111,
             "#46039f"
            ],
            [
             0.2222222222222222,
             "#7201a8"
            ],
            [
             0.3333333333333333,
             "#9c179e"
            ],
            [
             0.4444444444444444,
             "#bd3786"
            ],
            [
             0.5555555555555556,
             "#d8576b"
            ],
            [
             0.6666666666666666,
             "#ed7953"
            ],
            [
             0.7777777777777778,
             "#fb9f3a"
            ],
            [
             0.8888888888888888,
             "#fdca26"
            ],
            [
             1,
             "#f0f921"
            ]
           ],
           "sequentialminus": [
            [
             0,
             "#0d0887"
            ],
            [
             0.1111111111111111,
             "#46039f"
            ],
            [
             0.2222222222222222,
             "#7201a8"
            ],
            [
             0.3333333333333333,
             "#9c179e"
            ],
            [
             0.4444444444444444,
             "#bd3786"
            ],
            [
             0.5555555555555556,
             "#d8576b"
            ],
            [
             0.6666666666666666,
             "#ed7953"
            ],
            [
             0.7777777777777778,
             "#fb9f3a"
            ],
            [
             0.8888888888888888,
             "#fdca26"
            ],
            [
             1,
             "#f0f921"
            ]
           ]
          },
          "colorway": [
           "#636efa",
           "#EF553B",
           "#00cc96",
           "#ab63fa",
           "#FFA15A",
           "#19d3f3",
           "#FF6692",
           "#B6E880",
           "#FF97FF",
           "#FECB52"
          ],
          "font": {
           "color": "#2a3f5f"
          },
          "geo": {
           "bgcolor": "white",
           "lakecolor": "white",
           "landcolor": "white",
           "showlakes": true,
           "showland": true,
           "subunitcolor": "#C8D4E3"
          },
          "hoverlabel": {
           "align": "left"
          },
          "hovermode": "closest",
          "mapbox": {
           "style": "light"
          },
          "paper_bgcolor": "white",
          "plot_bgcolor": "white",
          "polar": {
           "angularaxis": {
            "gridcolor": "#EBF0F8",
            "linecolor": "#EBF0F8",
            "ticks": ""
           },
           "bgcolor": "white",
           "radialaxis": {
            "gridcolor": "#EBF0F8",
            "linecolor": "#EBF0F8",
            "ticks": ""
           }
          },
          "scene": {
           "xaxis": {
            "backgroundcolor": "white",
            "gridcolor": "#DFE8F3",
            "gridwidth": 2,
            "linecolor": "#EBF0F8",
            "showbackground": true,
            "ticks": "",
            "zerolinecolor": "#EBF0F8"
           },
           "yaxis": {
            "backgroundcolor": "white",
            "gridcolor": "#DFE8F3",
            "gridwidth": 2,
            "linecolor": "#EBF0F8",
            "showbackground": true,
            "ticks": "",
            "zerolinecolor": "#EBF0F8"
           },
           "zaxis": {
            "backgroundcolor": "white",
            "gridcolor": "#DFE8F3",
            "gridwidth": 2,
            "linecolor": "#EBF0F8",
            "showbackground": true,
            "ticks": "",
            "zerolinecolor": "#EBF0F8"
           }
          },
          "shapedefaults": {
           "line": {
            "color": "#2a3f5f"
           }
          },
          "ternary": {
           "aaxis": {
            "gridcolor": "#DFE8F3",
            "linecolor": "#A2B1C6",
            "ticks": ""
           },
           "baxis": {
            "gridcolor": "#DFE8F3",
            "linecolor": "#A2B1C6",
            "ticks": ""
           },
           "bgcolor": "white",
           "caxis": {
            "gridcolor": "#DFE8F3",
            "linecolor": "#A2B1C6",
            "ticks": ""
           }
          },
          "title": {
           "x": 0.05
          },
          "xaxis": {
           "automargin": true,
           "gridcolor": "#EBF0F8",
           "linecolor": "#EBF0F8",
           "ticks": "",
           "title": {
            "standoff": 15
           },
           "zerolinecolor": "#EBF0F8",
           "zerolinewidth": 2
          },
          "yaxis": {
           "automargin": true,
           "gridcolor": "#EBF0F8",
           "linecolor": "#EBF0F8",
           "ticks": "",
           "title": {
            "standoff": 15
           },
           "zerolinecolor": "#EBF0F8",
           "zerolinewidth": 2
          }
         }
        },
        "width": 800,
        "xaxis": {
         "title": {
          "text": "Time since 2024-02-19T06:21:42.000 (s)"
         }
        },
        "yaxis": {
         "title": {
          "text": "Counts per second"
         }
        }
       }
      }
     },
     "metadata": {},
     "output_type": "display_data"
    }
   ],
   "source": [
    "for det in ['n9', 'na', 'b1']:\n",
    "    gbm_tte = gbmTTE(gbm_rtv.rtv_res['tte'][det])\n",
    "    gbm_tte.timezero = fermi_met\n",
    "    gbm_tte.filter_time([-400, 400])\n",
    "    \n",
    "    print(msg_format(f'extract spectrum for {det}'))\n",
    "    \n",
    "    gbm_tte.spec_slices = [[0, 70]]\n",
    "    gbm_tte.extract_spectrum(savepath=f'./{det}/spectrum', show=True)"
   ]
  },
  {
   "cell_type": "code",
   "execution_count": 20,
   "id": "f2b1b0de-328e-474b-b97d-e45c41e3a307",
   "metadata": {},
   "outputs": [
    {
     "name": "stderr",
     "output_type": "stream",
     "text": [
      "/Users/jyang/miniforge3/lib/python3.10/site-packages/responsum/response.py:108: RuntimeWarning:\n",
      "\n",
      "Minimum MC energy (5.0) is larger than minimum EBOUNDS energy (3.668320417404175)\n",
      "\n"
     ]
    }
   ],
   "source": [
    "for det in ['n9', 'na', 'b1']:\n",
    "    gbm_resp = gbmResponse(utc, \n",
    "                           det, \n",
    "                           gbm_rtv.rtv_res['cspec_pha'][det][0], \n",
    "                           gbm_rtv.rtv_res['poshist'][0])\n",
    "    gbm_resp.extract_response(ra=80.016, \n",
    "                              dec=25.541, \n",
    "                              spec_slices=[[0, 70]], \n",
    "                              savepath=f'./{det}/spectrum')"
   ]
  },
  {
   "cell_type": "code",
   "execution_count": null,
   "id": "4fd89645-bb46-4d9a-9489-f1c30a030ab3",
   "metadata": {},
   "outputs": [],
   "source": []
  }
 ],
 "metadata": {
  "kernelspec": {
   "display_name": "base",
   "language": "python",
   "name": "python3"
  },
  "language_info": {
   "codemirror_mode": {
    "name": "ipython",
    "version": 3
   },
   "file_extension": ".py",
   "mimetype": "text/x-python",
   "name": "python",
   "nbconvert_exporter": "python",
   "pygments_lexer": "ipython3",
   "version": "3.10.14"
  }
 },
 "nbformat": 4,
 "nbformat_minor": 5
}
