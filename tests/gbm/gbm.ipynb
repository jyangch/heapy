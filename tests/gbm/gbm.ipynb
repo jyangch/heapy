{
 "cells": [
  {
   "cell_type": "code",
   "execution_count": 1,
   "id": "546e89de-cf55-48c9-9527-fc636afdaa8d",
   "metadata": {},
   "outputs": [],
   "source": [
    "from heapy.util.data import msg_format\n",
    "from heapy.util.time import fermi_utc_to_met\n",
    "from heapy.data.retrieve import gbmRetrieve\n",
    "from heapy.data.geometry import gbmGeometry\n",
    "from heapy.data.event import gbmTTE\n",
    "from heapy.data.response import gbmResponse"
   ]
  },
  {
   "cell_type": "code",
   "execution_count": 2,
   "id": "2367793a-ebc8-4105-8365-3f3ac294cb12",
   "metadata": {},
   "outputs": [],
   "source": [
    "utc = '2024-02-19T06:21:42'\n",
    "fermi_met = fermi_utc_to_met(utc)"
   ]
  },
  {
   "cell_type": "code",
   "execution_count": 3,
   "id": "003e92d0-c470-4cad-9877-7425536e989e",
   "metadata": {},
   "outputs": [
    {
     "data": {
      "text/plain": [
       "{'utc': '2024-02-19T06:21:42.000',\n",
       " 't1': -400.0,\n",
       " 't2': 400.0,\n",
       " 'datapath': '/Users/jyang/Documents/fermi/data/gbm/daily',\n",
       " 'tte': {'n0': ['/Users/jyang/Documents/fermi/data/gbm/daily/2024/02/19/current/glg_tte_n0_240219_06z_v00.fit.gz'],\n",
       "  'n1': ['/Users/jyang/Documents/fermi/data/gbm/daily/2024/02/19/current/glg_tte_n1_240219_06z_v00.fit.gz'],\n",
       "  'n2': ['/Users/jyang/Documents/fermi/data/gbm/daily/2024/02/19/current/glg_tte_n2_240219_06z_v00.fit.gz'],\n",
       "  'n3': ['/Users/jyang/Documents/fermi/data/gbm/daily/2024/02/19/current/glg_tte_n3_240219_06z_v00.fit.gz'],\n",
       "  'n4': ['/Users/jyang/Documents/fermi/data/gbm/daily/2024/02/19/current/glg_tte_n4_240219_06z_v00.fit.gz'],\n",
       "  'n5': ['/Users/jyang/Documents/fermi/data/gbm/daily/2024/02/19/current/glg_tte_n5_240219_06z_v00.fit.gz'],\n",
       "  'n6': ['/Users/jyang/Documents/fermi/data/gbm/daily/2024/02/19/current/glg_tte_n6_240219_06z_v00.fit.gz'],\n",
       "  'n7': ['/Users/jyang/Documents/fermi/data/gbm/daily/2024/02/19/current/glg_tte_n7_240219_06z_v00.fit.gz'],\n",
       "  'n8': ['/Users/jyang/Documents/fermi/data/gbm/daily/2024/02/19/current/glg_tte_n8_240219_06z_v00.fit.gz'],\n",
       "  'n9': ['/Users/jyang/Documents/fermi/data/gbm/daily/2024/02/19/current/glg_tte_n9_240219_06z_v00.fit.gz'],\n",
       "  'na': ['/Users/jyang/Documents/fermi/data/gbm/daily/2024/02/19/current/glg_tte_na_240219_06z_v00.fit.gz'],\n",
       "  'nb': ['/Users/jyang/Documents/fermi/data/gbm/daily/2024/02/19/current/glg_tte_nb_240219_06z_v00.fit.gz'],\n",
       "  'b0': ['/Users/jyang/Documents/fermi/data/gbm/daily/2024/02/19/current/glg_tte_b0_240219_06z_v00.fit.gz'],\n",
       "  'b1': ['/Users/jyang/Documents/fermi/data/gbm/daily/2024/02/19/current/glg_tte_b1_240219_06z_v00.fit.gz']},\n",
       " 'cspec_pha': {'n0': ['/Users/jyang/Documents/fermi/data/gbm/daily/2024/02/19/current/glg_cspec_n0_240219_v00.pha'],\n",
       "  'n1': ['/Users/jyang/Documents/fermi/data/gbm/daily/2024/02/19/current/glg_cspec_n1_240219_v00.pha'],\n",
       "  'n2': ['/Users/jyang/Documents/fermi/data/gbm/daily/2024/02/19/current/glg_cspec_n2_240219_v00.pha'],\n",
       "  'n3': ['/Users/jyang/Documents/fermi/data/gbm/daily/2024/02/19/current/glg_cspec_n3_240219_v00.pha'],\n",
       "  'n4': ['/Users/jyang/Documents/fermi/data/gbm/daily/2024/02/19/current/glg_cspec_n4_240219_v00.pha'],\n",
       "  'n5': ['/Users/jyang/Documents/fermi/data/gbm/daily/2024/02/19/current/glg_cspec_n5_240219_v00.pha'],\n",
       "  'n6': ['/Users/jyang/Documents/fermi/data/gbm/daily/2024/02/19/current/glg_cspec_n6_240219_v00.pha'],\n",
       "  'n7': ['/Users/jyang/Documents/fermi/data/gbm/daily/2024/02/19/current/glg_cspec_n7_240219_v00.pha'],\n",
       "  'n8': ['/Users/jyang/Documents/fermi/data/gbm/daily/2024/02/19/current/glg_cspec_n8_240219_v00.pha'],\n",
       "  'n9': ['/Users/jyang/Documents/fermi/data/gbm/daily/2024/02/19/current/glg_cspec_n9_240219_v00.pha'],\n",
       "  'na': ['/Users/jyang/Documents/fermi/data/gbm/daily/2024/02/19/current/glg_cspec_na_240219_v00.pha'],\n",
       "  'nb': ['/Users/jyang/Documents/fermi/data/gbm/daily/2024/02/19/current/glg_cspec_nb_240219_v00.pha'],\n",
       "  'b0': ['/Users/jyang/Documents/fermi/data/gbm/daily/2024/02/19/current/glg_cspec_b0_240219_v00.pha'],\n",
       "  'b1': ['/Users/jyang/Documents/fermi/data/gbm/daily/2024/02/19/current/glg_cspec_b1_240219_v00.pha']},\n",
       " 'ctime_pha': {'n0': ['/Users/jyang/Documents/fermi/data/gbm/daily/2024/02/19/current/glg_ctime_n0_240219_v00.pha'],\n",
       "  'n1': ['/Users/jyang/Documents/fermi/data/gbm/daily/2024/02/19/current/glg_ctime_n1_240219_v00.pha'],\n",
       "  'n2': ['/Users/jyang/Documents/fermi/data/gbm/daily/2024/02/19/current/glg_ctime_n2_240219_v00.pha'],\n",
       "  'n3': ['/Users/jyang/Documents/fermi/data/gbm/daily/2024/02/19/current/glg_ctime_n3_240219_v00.pha'],\n",
       "  'n4': ['/Users/jyang/Documents/fermi/data/gbm/daily/2024/02/19/current/glg_ctime_n4_240219_v00.pha'],\n",
       "  'n5': ['/Users/jyang/Documents/fermi/data/gbm/daily/2024/02/19/current/glg_ctime_n5_240219_v00.pha'],\n",
       "  'n6': ['/Users/jyang/Documents/fermi/data/gbm/daily/2024/02/19/current/glg_ctime_n6_240219_v00.pha'],\n",
       "  'n7': ['/Users/jyang/Documents/fermi/data/gbm/daily/2024/02/19/current/glg_ctime_n7_240219_v00.pha'],\n",
       "  'n8': ['/Users/jyang/Documents/fermi/data/gbm/daily/2024/02/19/current/glg_ctime_n8_240219_v00.pha'],\n",
       "  'n9': ['/Users/jyang/Documents/fermi/data/gbm/daily/2024/02/19/current/glg_ctime_n9_240219_v00.pha'],\n",
       "  'na': ['/Users/jyang/Documents/fermi/data/gbm/daily/2024/02/19/current/glg_ctime_na_240219_v00.pha'],\n",
       "  'nb': ['/Users/jyang/Documents/fermi/data/gbm/daily/2024/02/19/current/glg_ctime_nb_240219_v00.pha'],\n",
       "  'b0': ['/Users/jyang/Documents/fermi/data/gbm/daily/2024/02/19/current/glg_ctime_b0_240219_v00.pha'],\n",
       "  'b1': ['/Users/jyang/Documents/fermi/data/gbm/daily/2024/02/19/current/glg_ctime_b1_240219_v00.pha']},\n",
       " 'poshist': ['/Users/jyang/Documents/fermi/data/gbm/daily/2024/02/19/current/glg_poshist_all_240219_v00.fit']}"
      ]
     },
     "execution_count": 3,
     "metadata": {},
     "output_type": "execute_result"
    }
   ],
   "source": [
    "gbm_rtv = gbmRetrieve.from_utc(utc=utc, t1=-400, t2=400)\n",
    "gbm_rtv.rtv_res"
   ]
  },
  {
   "cell_type": "code",
   "execution_count": 4,
   "id": "df5f0b84",
   "metadata": {},
   "outputs": [],
   "source": [
    "gbm_geo = gbmGeometry(utc, poshist_file=gbm_rtv.rtv_res['poshist'][0])"
   ]
  },
  {
   "cell_type": "code",
   "execution_count": 5,
   "id": "4c73dc12",
   "metadata": {},
   "outputs": [
    {
     "data": {
      "text/plain": [
       "array(False)"
      ]
     },
     "execution_count": 5,
     "metadata": {},
     "output_type": "execute_result"
    }
   ],
   "source": [
    "gbm_geo.saa_passage()"
   ]
  },
  {
   "cell_type": "code",
   "execution_count": 6,
   "id": "bacc3eb2",
   "metadata": {},
   "outputs": [
    {
     "data": {
      "text/plain": [
       "array([ True])"
      ]
     },
     "execution_count": 6,
     "metadata": {},
     "output_type": "execute_result"
    }
   ],
   "source": [
    "gbm_geo.location_visible(ra=80.016, dec=25.541)"
   ]
  },
  {
   "cell_type": "code",
   "execution_count": 7,
   "id": "265e0952",
   "metadata": {},
   "outputs": [
    {
     "name": "stdout",
     "output_type": "stream",
     "text": [
      "n0 57.40267111984303\n",
      "n1 57.59842957622196\n",
      "n2 61.09974603073652\n",
      "n3 105.78367734887475\n",
      "n4 151.96659750908262\n",
      "n5 109.3588447183001\n",
      "n6 70.98824728203138\n",
      "n7 83.91454465303927\n",
      "n8 117.43231754979529\n",
      "n9 23.381040023779185\n",
      "na 28.851258514959255\n",
      "nb 71.03535099237897\n",
      "b0 112.3796119823658\n",
      "b1 67.62038801763423\n"
     ]
    }
   ],
   "source": [
    "dets = ['n0','n1','n2','n3','n4','n5','n6','n7','n8','n9','na','nb','b0','b1']\n",
    "\n",
    "for det in dets:\n",
    "    angle = gbm_geo.detector_angle(ra=80.016, dec=25.541, det=det)\n",
    "    print(det, angle)"
   ]
  },
  {
   "cell_type": "code",
   "execution_count": 8,
   "id": "311873b9",
   "metadata": {},
   "outputs": [
    {
     "data": {
      "image/png": "[encoded data removed]",
      "text/plain": [
       "<Figure size 1000x500 with 1 Axes>"
      ]
     },
     "metadata": {},
     "output_type": "display_data"
    }
   ],
   "source": [
    "gbm_geo.extract_skymap(ra=80.016, dec=25.541, savepath='./geometry')"
   ]
  },
  {
   "cell_type": "code",
   "execution_count": 9,
   "id": "bbb12962",
   "metadata": {},
   "outputs": [
    {
     "data": {
      "text/html": [
       "<div><i>Table length=4098617</i>\n",
       "<table id=\"table5891109888\" class=\"table-striped table-bordered table-condensed\">\n",
       "<thead><tr><th>TIME</th><th>PHA</th><th>ENERGY</th><th>DEAD_TIME</th></tr></thead>\n",
       "<thead><tr><th>s</th><th>none</th><th>keV</th><th></th></tr></thead>\n",
       "<thead><tr><th>float64</th><th>int16</th><th>float64</th><th>float64</th></tr></thead>\n",
       "<tr><td>730015085.000096</td><td>15</td><td>20.0</td><td>2.6</td></tr>\n",
       "<tr><td>730015085.000168</td><td>24</td><td>35.0</td><td>2.6</td></tr>\n",
       "<tr><td>730015085.000454</td><td>49</td><td>97.0</td><td>2.6</td></tr>\n",
       "<tr><td>730015085.000886</td><td>23</td><td>33.0</td><td>2.6</td></tr>\n",
       "<tr><td>730015085.00157</td><td>21</td><td>28.0</td><td>2.6</td></tr>\n",
       "<tr><td>730015085.003632</td><td>62</td><td>150.0</td><td>2.6</td></tr>\n",
       "<tr><td>730015085.004286</td><td>126</td><td>954.0</td><td>2.6</td></tr>\n",
       "<tr><td>730015085.005996</td><td>61</td><td>145.0</td><td>2.6</td></tr>\n",
       "<tr><td>730015085.006344</td><td>20</td><td>27.0</td><td>2.6</td></tr>\n",
       "<tr><td>...</td><td>...</td><td>...</td><td>...</td></tr>\n",
       "<tr><td>730018744.600708</td><td>42</td><td>73.0</td><td>2.6</td></tr>\n",
       "<tr><td>730018744.60935</td><td>11</td><td>15.0</td><td>2.6</td></tr>\n",
       "<tr><td>730018744.6107861</td><td>10</td><td>14.0</td><td>2.6</td></tr>\n",
       "<tr><td>730018744.610826</td><td>127</td><td>1194.0</td><td>10.0</td></tr>\n",
       "<tr><td>730018744.6112441</td><td>3</td><td>7.0</td><td>2.6</td></tr>\n",
       "<tr><td>730018744.6226721</td><td>13</td><td>17.0</td><td>2.6</td></tr>\n",
       "<tr><td>730018744.625094</td><td>9</td><td>13.0</td><td>2.6</td></tr>\n",
       "<tr><td>730018744.6261641</td><td>3</td><td>7.0</td><td>2.6</td></tr>\n",
       "<tr><td>730018744.722854</td><td>3</td><td>7.0</td><td>2.6</td></tr>\n",
       "</table></div>"
      ],
      "text/plain": [
       "<Table length=4098617>\n",
       "       TIME        PHA   ENERGY DEAD_TIME\n",
       "        s          none   keV            \n",
       "     float64      int16 float64  float64 \n",
       "----------------- ----- ------- ---------\n",
       " 730015085.000096    15    20.0       2.6\n",
       " 730015085.000168    24    35.0       2.6\n",
       " 730015085.000454    49    97.0       2.6\n",
       " 730015085.000886    23    33.0       2.6\n",
       "  730015085.00157    21    28.0       2.6\n",
       " 730015085.003632    62   150.0       2.6\n",
       " 730015085.004286   126   954.0       2.6\n",
       " 730015085.005996    61   145.0       2.6\n",
       " 730015085.006344    20    27.0       2.6\n",
       "              ...   ...     ...       ...\n",
       " 730018744.600708    42    73.0       2.6\n",
       "  730018744.60935    11    15.0       2.6\n",
       "730018744.6107861    10    14.0       2.6\n",
       " 730018744.610826   127  1194.0      10.0\n",
       "730018744.6112441     3     7.0       2.6\n",
       "730018744.6226721    13    17.0       2.6\n",
       " 730018744.625094     9    13.0       2.6\n",
       "730018744.6261641     3     7.0       2.6\n",
       " 730018744.722854     3     7.0       2.6"
      ]
     },
     "execution_count": 9,
     "metadata": {},
     "output_type": "execute_result"
    }
   ],
   "source": [
    "gbm_tte = gbmTTE(gbm_rtv.rtv_res['tte']['n9'])\n",
    "gbm_tte.event"
   ]
  },
  {
   "cell_type": "code",
   "execution_count": 10,
   "id": "21b479b7",
   "metadata": {},
   "outputs": [],
   "source": [
    "gbm_tte.timezero = fermi_met"
   ]
  },
  {
   "cell_type": "code",
   "execution_count": 11,
   "id": "23d6e281",
   "metadata": {},
   "outputs": [
    {
     "data": {
      "text/html": [
       "<div><i>Table length=584494</i>\n",
       "<table id=\"table5871874448\" class=\"table-striped table-bordered table-condensed\">\n",
       "<thead><tr><th>TIME</th><th>PHA</th><th>ENERGY</th><th>DEAD_TIME</th></tr></thead>\n",
       "<thead><tr><th>s</th><th>none</th><th>keV</th><th></th></tr></thead>\n",
       "<thead><tr><th>float64</th><th>int16</th><th>float64</th><th>float64</th></tr></thead>\n",
       "<tr><td>730016307.000038</td><td>1</td><td>6.0</td><td>2.6</td></tr>\n",
       "<tr><td>730016307.001172</td><td>40</td><td>67.0</td><td>2.6</td></tr>\n",
       "<tr><td>730016307.001322</td><td>7</td><td>11.0</td><td>2.6</td></tr>\n",
       "<tr><td>730016307.001628</td><td>44</td><td>80.0</td><td>2.6</td></tr>\n",
       "<tr><td>730016307.002356</td><td>21</td><td>28.0</td><td>2.6</td></tr>\n",
       "<tr><td>730016307.00277</td><td>101</td><td>472.0</td><td>2.6</td></tr>\n",
       "<tr><td>730016307.004216</td><td>8</td><td>11.0</td><td>2.6</td></tr>\n",
       "<tr><td>730016307.004846</td><td>29</td><td>43.0</td><td>2.6</td></tr>\n",
       "<tr><td>730016307.00625</td><td>17</td><td>22.0</td><td>2.6</td></tr>\n",
       "<tr><td>...</td><td>...</td><td>...</td><td>...</td></tr>\n",
       "<tr><td>730016806.99088</td><td>4</td><td>8.0</td><td>2.6</td></tr>\n",
       "<tr><td>730016806.99211</td><td>14</td><td>19.0</td><td>2.6</td></tr>\n",
       "<tr><td>730016806.993956</td><td>125</td><td>930.0</td><td>2.6</td></tr>\n",
       "<tr><td>730016806.995522</td><td>43</td><td>77.0</td><td>2.6</td></tr>\n",
       "<tr><td>730016806.995656</td><td>18</td><td>24.0</td><td>2.6</td></tr>\n",
       "<tr><td>730016806.996218</td><td>105</td><td>528.0</td><td>2.6</td></tr>\n",
       "<tr><td>730016806.99658</td><td>20</td><td>28.0</td><td>2.6</td></tr>\n",
       "<tr><td>730016806.997754</td><td>60</td><td>138.0</td><td>2.6</td></tr>\n",
       "<tr><td>730016806.997886</td><td>66</td><td>167.0</td><td>2.6</td></tr>\n",
       "</table></div>"
      ],
      "text/plain": [
       "<Table length=584494>\n",
       "      TIME        PHA   ENERGY DEAD_TIME\n",
       "       s          none   keV            \n",
       "    float64      int16 float64  float64 \n",
       "---------------- ----- ------- ---------\n",
       "730016307.000038     1     6.0       2.6\n",
       "730016307.001172    40    67.0       2.6\n",
       "730016307.001322     7    11.0       2.6\n",
       "730016307.001628    44    80.0       2.6\n",
       "730016307.002356    21    28.0       2.6\n",
       " 730016307.00277   101   472.0       2.6\n",
       "730016307.004216     8    11.0       2.6\n",
       "730016307.004846    29    43.0       2.6\n",
       " 730016307.00625    17    22.0       2.6\n",
       "             ...   ...     ...       ...\n",
       " 730016806.99088     4     8.0       2.6\n",
       " 730016806.99211    14    19.0       2.6\n",
       "730016806.993956   125   930.0       2.6\n",
       "730016806.995522    43    77.0       2.6\n",
       "730016806.995656    18    24.0       2.6\n",
       "730016806.996218   105   528.0       2.6\n",
       " 730016806.99658    20    28.0       2.6\n",
       "730016806.997754    60   138.0       2.6\n",
       "730016806.997886    66   167.0       2.6"
      ]
     },
     "execution_count": 11,
     "metadata": {},
     "output_type": "execute_result"
    }
   ],
   "source": [
    "gbm_tte.filter_time([-200, 300])\n",
    "gbm_tte.event"
   ]
  },
  {
   "cell_type": "code",
   "execution_count": 12,
   "id": "e2cf776a",
   "metadata": {},
   "outputs": [
    {
     "data": {
      "text/html": [
       "<div><i>Table length=551204</i>\n",
       "<table id=\"table5872335744\" class=\"table-striped table-bordered table-condensed\">\n",
       "<thead><tr><th>TIME</th><th>PHA</th><th>ENERGY</th><th>DEAD_TIME</th></tr></thead>\n",
       "<thead><tr><th>s</th><th>none</th><th>keV</th><th></th></tr></thead>\n",
       "<thead><tr><th>float64</th><th>int16</th><th>float64</th><th>float64</th></tr></thead>\n",
       "<tr><td>730016307.001172</td><td>40</td><td>67.0</td><td>2.6</td></tr>\n",
       "<tr><td>730016307.001322</td><td>7</td><td>11.0</td><td>2.6</td></tr>\n",
       "<tr><td>730016307.001628</td><td>44</td><td>80.0</td><td>2.6</td></tr>\n",
       "<tr><td>730016307.002356</td><td>21</td><td>28.0</td><td>2.6</td></tr>\n",
       "<tr><td>730016307.00277</td><td>101</td><td>472.0</td><td>2.6</td></tr>\n",
       "<tr><td>730016307.004216</td><td>8</td><td>11.0</td><td>2.6</td></tr>\n",
       "<tr><td>730016307.004846</td><td>29</td><td>43.0</td><td>2.6</td></tr>\n",
       "<tr><td>730016307.00625</td><td>17</td><td>22.0</td><td>2.6</td></tr>\n",
       "<tr><td>730016307.006452</td><td>63</td><td>152.0</td><td>2.6</td></tr>\n",
       "<tr><td>...</td><td>...</td><td>...</td><td>...</td></tr>\n",
       "<tr><td>730016806.9902819</td><td>126</td><td>946.0</td><td>2.6</td></tr>\n",
       "<tr><td>730016806.99211</td><td>14</td><td>19.0</td><td>2.6</td></tr>\n",
       "<tr><td>730016806.993956</td><td>125</td><td>930.0</td><td>2.6</td></tr>\n",
       "<tr><td>730016806.995522</td><td>43</td><td>77.0</td><td>2.6</td></tr>\n",
       "<tr><td>730016806.995656</td><td>18</td><td>24.0</td><td>2.6</td></tr>\n",
       "<tr><td>730016806.996218</td><td>105</td><td>528.0</td><td>2.6</td></tr>\n",
       "<tr><td>730016806.99658</td><td>20</td><td>28.0</td><td>2.6</td></tr>\n",
       "<tr><td>730016806.997754</td><td>60</td><td>138.0</td><td>2.6</td></tr>\n",
       "<tr><td>730016806.997886</td><td>66</td><td>167.0</td><td>2.6</td></tr>\n",
       "</table></div>"
      ],
      "text/plain": [
       "<Table length=551204>\n",
       "       TIME        PHA   ENERGY DEAD_TIME\n",
       "        s          none   keV            \n",
       "     float64      int16 float64  float64 \n",
       "----------------- ----- ------- ---------\n",
       " 730016307.001172    40    67.0       2.6\n",
       " 730016307.001322     7    11.0       2.6\n",
       " 730016307.001628    44    80.0       2.6\n",
       " 730016307.002356    21    28.0       2.6\n",
       "  730016307.00277   101   472.0       2.6\n",
       " 730016307.004216     8    11.0       2.6\n",
       " 730016307.004846    29    43.0       2.6\n",
       "  730016307.00625    17    22.0       2.6\n",
       " 730016307.006452    63   152.0       2.6\n",
       "              ...   ...     ...       ...\n",
       "730016806.9902819   126   946.0       2.6\n",
       "  730016806.99211    14    19.0       2.6\n",
       " 730016806.993956   125   930.0       2.6\n",
       " 730016806.995522    43    77.0       2.6\n",
       " 730016806.995656    18    24.0       2.6\n",
       " 730016806.996218   105   528.0       2.6\n",
       "  730016806.99658    20    28.0       2.6\n",
       " 730016806.997754    60   138.0       2.6\n",
       " 730016806.997886    66   167.0       2.6"
      ]
     },
     "execution_count": 12,
     "metadata": {},
     "output_type": "execute_result"
    }
   ],
   "source": [
    "gbm_tte.filter_energy([10, 1000])\n",
    "gbm_tte.event"
   ]
  },
  {
   "cell_type": "code",
   "execution_count": 13,
   "id": "16877221",
   "metadata": {},
   "outputs": [
    {
     "name": "stdout",
     "output_type": "stream",
     "text": [
      "\n",
      "+------------------------------------------------+\n",
      " extract light curve for n9\n",
      "+------------------------------------------------+\n"
     ]
    },
    {
     "data": {
      "application/vnd.plotly.v1+json": {
       "config": {
        "plotlyServerURL": "https://plot.ly"
       },
       "data": [
        {
         "error_y": {
          "array": [
           23.431964092555212,
           23.230909476498926,
           22.856227531590534,
           23.419841306322926,
           23.230529611503357,
           22.751392655818705,
           22.657713531169506,
           23.110829669138067,
           23.01041329611526,
           22.84017767475755,
           23.435440161574537,
           23.446575341200845,
           23.06013925797631,
           23.267402691963174,
           23.640297711977055,
           23.413947716172956,
           23.299928274603733,
           23.30663073539028,
           23.398521398057337,
           23.180045495121668,
           23.077178781769323,
           23.596828737661895,
           23.365630686651926,
           23.070963978100238,
           23.130871868678778,
           23.11974396625837,
           23.379820393761573,
           23.167110378787676,
           23.35497309279868,
           23.301202169770484,
           23.082186337352855,
           22.993754468166482,
           22.801168661578405,
           23.478959706295957,
           23.458056638158247,
           23.24063675822354,
           22.916012356230766,
           23.24618139894328,
           23.55992364569755,
           23.262782477483718,
           23.66040349083343,
           23.56653025305936,
           23.5056922262449,
           23.125412911831216,
           23.20795368346274,
           22.944117193375252,
           23.528475759909576,
           23.45676706392112,
           23.05990794659658,
           23.14161652278343,
           23.485391502724617,
           22.883969998381755,
           23.15346841442273,
           23.367939741724808,
           22.822542488345565,
           23.245962199291217,
           23.512178103730847,
           23.310563766617804,
           23.284859995205107,
           23.290969850725702,
           23.197681501757437,
           23.322485535336,
           23.50133461170808,
           23.369461878783405,
           23.59863746547245,
           23.516282777311933,
           23.251722510989303,
           23.656704497321417,
           22.956601228592266,
           23.301024517315824,
           23.51219225685136,
           23.234058424618876,
           23.14239650278049,
           23.21957820660366,
           23.27365086682044,
           23.05041451888639,
           23.3112559374284,
           23.076350072061135,
           23.846837396731758,
           23.230709055382576,
           23.661134585165367,
           23.01170128255742,
           23.147570843590383,
           23.437539776849377,
           24.154552486401172,
           23.54508172222424,
           23.854390967149833,
           23.489899579621103,
           23.306326786645837,
           23.278814643799336,
           23.130908992351568,
           23.431479832938752,
           23.239480459389846,
           23.115859230575218,
           23.32742231180213,
           23.305686182178217,
           23.467177055701647,
           23.827943061079903,
           23.3710748102696,
           23.580732086371743,
           23.993106095601465,
           23.97579814274508,
           23.789001956306578,
           24.288563103442215,
           23.656407825935222,
           24.10582506618452,
           23.43043850748788,
           24.08630636183591,
           23.60519071816682,
           24.037910661532873,
           23.82702744029954,
           23.81102683828415,
           23.651371158429995,
           23.993007387696963,
           23.50573467189678,
           24.424946578878277,
           24.011293891887295,
           24.185708630124626,
           24.148551794165986,
           24.080199103112918,
           24.31810696178049,
           24.080849042575544,
           24.158809473357394,
           24.770916941169343,
           24.20794422939549,
           24.16424327881472,
           24.653520316404695,
           23.890862054758415,
           24.16536590086708,
           24.064714773637657,
           23.279809492482823,
           24.091441151109464,
           23.76385691609143,
           23.479249425296473,
           23.77384342721668,
           24.127189743701443,
           23.25684248139026,
           23.858198177914748,
           23.415545026165162,
           23.82148314142197,
           23.923741425027945,
           23.581266732852818,
           23.5697120703462,
           23.89685010382599,
           23.617986008276556,
           23.22925261045529,
           23.12567039875091,
           23.806229204241752,
           23.420912713015802,
           23.645920385960107,
           23.431736064902466,
           23.468544879829263,
           23.493972448803962,
           23.794657794604817,
           23.559382392464094,
           23.392942457979473,
           23.468834474063627,
           23.179171257675485,
           23.4899137188105,
           23.810546670577725,
           23.751093713009734,
           23.6086425876885,
           23.87476375176955,
           23.360154886326463,
           23.582480423030475,
           23.47907276651865,
           23.580514449614697,
           23.694789100974425,
           23.634133381172713,
           23.33849488435592,
           23.762726833680567,
           23.347398591177704,
           23.8056798596692,
           23.66115594899083,
           23.746105961275287,
           23.779746084986947,
           23.60745126000295,
           23.489197354630633,
           23.615911702401405,
           23.398375863420338,
           23.364805632464545,
           23.929224417375192,
           23.68300408969846,
           23.472654427777236,
           23.709375554237567,
           23.59861142161249,
           23.592725119420802,
           24.01203831615368,
           23.54838136390249,
           23.5542829697998,
           23.76936355108209,
           23.747926167173823,
           23.927049287167915,
           23.10844661229081,
           23.874857171877434,
           23.553779659522693,
           23.349108339546845,
           23.53836754204949,
           24.431216868561805,
           23.758125135875122,
           24.011932311174355,
           23.230776638860938,
           23.274981740084034,
           23.554041945293033,
           23.431418714215557,
           23.396732856020133,
           23.23549182395609,
           23.62422205032177,
           24.05357837138786,
           23.542552040057412,
           23.63181354984195,
           23.955431322701738,
           24.0131441966355,
           23.629042087237213,
           23.515877012434256,
           23.56476181795779,
           23.807657618792202,
           23.544472281297164,
           23.28415691154917,
           23.565383577050614,
           23.677603128473468,
           23.752833251668754,
           23.54997606577451,
           23.344113711913646,
           23.42527801409136,
           23.453034122753106,
           23.63466449872077,
           23.710179561682864,
           23.948072415142384,
           23.704275372272477,
           23.964002564632064,
           23.77818107129398,
           23.693476898260244,
           23.926792427037334,
           23.661182060385453,
           23.639640766541415,
           23.650365106742147,
           23.995543610420633,
           23.538301422356323,
           24.142477701337338,
           24.142172497878672,
           23.97586550045983,
           23.344748365366883,
           23.825076900650078,
           23.884312473686613,
           23.343912316185644,
           23.57569684743775,
           23.955452955538014,
           23.89545472640495,
           23.830959168086995
          ],
          "thickness": 1.5,
          "type": "data",
          "width": 0
         },
         "marker": {
          "size": 0,
          "symbol": "cross-thin"
         },
         "mode": "lines+markers",
         "name": "source lightcurve",
         "showlegend": true,
         "type": "scatter",
         "x": [
          -199,
          -197,
          -195,
          -193,
          -191,
          -189,
          -187,
          -185,
          -183,
          -181,
          -179,
          -177,
          -175,
          -173,
          -171,
          -169,
          -167,
          -165,
          -163,
          -161,
          -159,
          -157,
          -155,
          -153,
          -151,
          -149,
          -147,
          -145,
          -143,
          -141,
          -139,
          -137,
          -135,
          -133,
          -131,
          -129,
          -127,
          -125,
          -123,
          -121,
          -119,
          -117,
          -115,
          -113,
          -111,
          -109,
          -107,
          -105,
          -103,
          -101,
          -99,
          -97,
          -95,
          -93,
          -91,
          -89,
          -87,
          -85,
          -83,
          -81,
          -79,
          -77,
          -75,
          -73,
          -71,
          -69,
          -67,
          -65,
          -63,
          -61,
          -59,
          -57,
          -55,
          -53,
          -51,
          -49,
          -47,
          -45,
          -43,
          -41,
          -39,
          -37,
          -35,
          -33,
          -31,
          -29,
          -27,
          -25,
          -23,
          -21,
          -19,
          -17,
          -15,
          -13,
          -11,
          -9,
          -7,
          -5,
          -3,
          -1,
          1,
          3,
          5,
          7,
          9,
          11,
          13,
          15,
          17,
          19,
          21,
          23,
          25,
          27,
          29,
          31,
          33,
          35,
          37,
          39,
          41,
          43,
          45,
          47,
          49,
          51,
          53,
          55,
          57,
          59,
          61,
          63,
          65,
          67,
          69,
          71,
          73,
          75,
          77,
          79,
          81,
          83,
          85,
          87,
          89,
          91,
          93,
          95,
          97,
          99,
          101,
          103,
          105,
          107,
          109,
          111,
          113,
          115,
          117,
          119,
          121,
          123,
          125,
          127,
          129,
          131,
          133,
          135,
          137,
          139,
          141,
          143,
          145,
          147,
          149,
          151,
          153,
          155,
          157,
          159,
          161,
          163,
          165,
          167,
          169,
          171,
          173,
          175,
          177,
          179,
          181,
          183,
          185,
          187,
          189,
          191,
          193,
          195,
          197,
          199,
          201,
          203,
          205,
          207,
          209,
          211,
          213,
          215,
          217,
          219,
          221,
          223,
          225,
          227,
          229,
          231,
          233,
          235,
          237,
          239,
          241,
          243,
          245,
          247,
          249,
          251,
          253,
          255,
          257,
          259,
          261,
          263,
          265,
          267,
          269,
          271,
          273,
          275,
          277,
          279,
          281,
          283,
          285,
          287,
          289,
          291,
          293,
          295,
          297,
          299
         ],
         "y": [
          1094.5511617893092,
          1075.919703184602,
          1041.6523525144144,
          1093.4834007213378,
          1075.9021100622276,
          1032.1211343101538,
          1023.6172215247092,
          1064.8551455927336,
          1055.7241816507615,
          1040.1688744760913,
          1094.9643577314264,
          1095.9863325237582,
          1060.2649799793483,
          1079.3667608002881,
          1114.1078153384103,
          1092.9574616341336,
          1082.3813593666614,
          1082.9435438808323,
          1091.485221460646,
          1071.3093818113534,
          1061.8010332322156,
          1110.0546168942187,
          1088.4472211942443,
          1061.264342992611,
          1066.7821686984346,
          1065.7675366907401,
          1089.8608037605566,
          1069.9593927085052,
          1087.4492803724133,
          1082.4405372476415,
          1062.2822396641143,
          1054.2078490639165,
          1036.6385268037511,
          1099.005938845511,
          1097.0247404911981,
          1076.8719012973422,
          1047.1389035773636,
          1077.3796321681482,
          1106.564243428082,
          1078.9016690724184,
          1116.059000546844,
          1107.1253928113,
          1101.511950551945,
          1066.2796629874167,
          1073.8538603767286,
          1049.6776892687233,
          1103.583335089034,
          1096.9644330725296,
          1060.254344685578,
          1067.7793639826637,
          1099.557839300625,
          1044.1712525110013,
          1068.8279025574027,
          1088.5547845042772,
          1038.6137640646657,
          1077.3694730268915,
          1102.066728760962,
          1083.3771031058016,
          1080.9292480394051,
          1081.463711976719,
          1072.8770952326638,
          1084.4328807272302,
          1101.0569645238945,
          1088.8764971299502,
          1110.1397040336446,
          1102.5099506789816,
          1077.8872607168025,
          1115.6337306240155,
          1050.7504966614222,
          1082.4322845310194,
          1102.0673921483844,
          1076.3163459250643,
          1067.8153531083308,
          1074.8934385856148,
          1079.907431919937,
          1059.3164018593009,
          1083.4092722980677,
          1061.7629035789887,
          1133.6657080670348,
          1075.9104208520166,
          1116.0934861975102,
          1055.7832748280603,
          1068.3049080635856,
          1095.0624571857165,
          1162.9357233685964,
          1105.1149414850918,
          1134.2756634007621,
          1100.0197331401284,
          1082.9294208900747,
          1080.3978512421565,
          1066.7838808203292,
          1094.5285411108332,
          1076.8183233452207,
          1065.3377030235729,
          1084.9132455618621,
          1082.8996551774642,
          1097.952952239498,
          1131.7645885508969,
          1088.9516500451482,
          1108.5452385273343,
          1147.41244696165,
          1145.8324658485235,
          1128.1606556956012,
          1175.927716164762,
          1115.6197398077804,
          1158.334434478454,
          1094.4798988383566,
          1156.393577174346,
          1110.6988493079652,
          1151.8148106528822,
          1131.7210989734247,
          1130.2088935049258,
          1115.1314254870988,
          1147.4077264941209,
          1101.5139396187778,
          1189.071022459595,
          1149.2859778682937,
          1165.9418160918433,
          1162.3960026821899,
          1155.84955694942,
          1178.613124080416,
          1155.880754043626,
          1163.3915447170787,
          1222.8405949759267,
          1168.017630242746,
          1163.904083467174,
          1211.2884456128477,
          1137.7670328691263,
          1163.958156105653,
          1154.3540418394896,
          1080.4440233688906,
          1156.8909714041235,
          1125.7147460906244,
          1099.0195000469505,
          1126.6895703359792,
          1160.3648271297209,
          1078.3754229112546,
          1134.7075434273947,
          1093.0320236813238,
          1131.2069652250425,
          1140.8389229758136,
          1108.5703725990297,
          1107.5256973048001,
          1138.3030705587369,
          1112.0535671739042,
          1075.842966850896,
          1066.2915353404424,
          1129.7303696806857,
          1093.5334252035175,
          1114.6236414583811,
          1094.5405101883061,
          1098.016948285358,
          1100.46128086671,
          1128.679721628453,
          1106.5388218060177,
          1090.9742073633486,
          1098.0304974584783,
          1071.2689772841827,
          1100.0203952709858,
          1130.1861019715802,
          1124.6086442175654,
          1111.1121143726139,
          1136.2481417451747,
          1087.9413761610726,
          1108.6274289475164,
          1099.011230981864,
          1108.5350072847302,
          1119.1869375282995,
          1113.5665308851187,
          1085.9299096195332,
          1125.6612130955934,
          1086.8458549645081,
          1129.704300401015,
          1116.0944939271417,
          1124.1216952778461,
          1127.220164709591,
          1111.056045980766,
          1099.9868483104592,
          1111.7050907263729,
          1091.4784326169067,
          1088.4087874815134,
          1141.3512615618884,
          1118.1287751267964,
          1098.4600392777209,
          1120.628595391879,
          1110.1384788644784,
          1109.6107844536907,
          1149.3216092830269,
          1105.5206410334351,
          1106.0485355164976,
          1126.2264581045765,
          1124.2078623716743,
          1141.2475144632429,
          1064.7453438079267,
          1136.2525877964567,
          1106.0249013606365,
          1086.9254455416244,
          1104.549026476973,
          1189.6271735532082,
          1125.1924314831551,
          1149.3165354191665,
          1075.9135509230134,
          1079.9691850130173,
          1106.0372176256888,
          1094.525686140195,
          1091.401790239999,
          1076.3827480623356,
          1112.5980307717127,
          1153.3182908655685,
          1104.9962080021187,
          1113.2064207779802,
          1143.8561679132692,
          1149.374541579665,
          1113.0758675320335,
          1102.4909272721145,
          1107.0423139963254,
          1129.7981554389546,
          1105.086336688455,
          1080.8966095057108,
          1107.0715234417755,
          1117.6229984741537,
          1124.6910109597677,
          1105.5955071487986,
          1086.442174742236,
          1093.9880715673855,
          1096.5390798803137,
          1113.5915554847495,
          1120.666596971973,
          1143.2539887976159,
          1120.1367479796656,
          1144.7671999014358,
          1127.1459790985903,
          1119.1249576503253,
          1141.235263015851,
          1116.0957255991627,
          1114.0768551511483,
          1115.0839914569417,
          1147.7798686634826,
          1104.545923779108,
          1161.8528201368558,
          1161.8381322699538,
          1145.8356849553882,
          1086.4717117075904,
          1131.6284534732165,
          1137.2043293825307,
          1086.432801723606,
          1108.0577518295743,
          1143.8572008670437,
          1138.2366031207248,
          1132.1586840032248
         ]
        },
        {
         "error_y": {
          "array": [
           5.741282488244097,
           5.564847317962612,
           5.3931214003473755,
           5.22613224466237,
           5.063910210214742,
           4.906488476294409,
           4.753902963169594,
           4.606192193100525,
           4.463397078969933,
           4.325560626873874,
           4.192727537996924,
           4.0649436944791475,
           3.9422555139766557,
           3.824709158471779,
           3.7123495848816077,
           3.605219428436036,
           3.5033577149205732,
           3.406798404913033,
           3.3155687821728677,
           3.22968770926296,
           3.1491637859328714,
           3.073993459091816,
           3.0041591463322757,
           2.9396274466043866,
           2.8803475202480144,
           2.826249724587087,
           2.7772445893049515,
           2.7332222069505168,
           2.6940520979999936,
           2.6595835876386196,
           2.6296467044695033,
           2.6040535821081443,
           2.582600315938735,
           2.5650692020756067,
           2.5512312662531564,
           2.540848978632335,
           2.5336790470274764,
           2.5294751854617394,
           2.5279907660194803,
           2.528981277859958,
           2.532206535918877,
           2.5374326012478123,
           2.5444333934279,
           2.5529919917920645,
           2.562901635537633,
           2.573966442899399,
           2.586001876439268,
           2.5988349855075756,
           2.612304458509204,
           2.6262605172911213,
           2.6405646842755583,
           2.6550894503612787,
           2.6697178684950464,
           2.684343094483782,
           2.6988678933017605,
           2.713204126002519,
           2.727272229469061,
           2.7410006986802413,
           2.7543255789537757,
           2.76718997374181,
           2.7795435719829005,
           2.7913421977253714,
           2.8025473836980304,
           2.8131259696810096,
           2.8230497258891543,
           2.8322950010925645,
           2.8408423948364425,
           2.8486764528616155,
           2.8557853846475627,
           2.8621608018844675,
           2.8677974766153094,
           2.872693117761703,
           2.8768481647484694,
           2.880265596964194,
           2.8829507578321203,
           2.8849111923129036,
           2.8861564967142828,
           2.8866981797396956,
           2.886549533766188,
           2.8857255154000088,
           2.884242634414871,
           2.88211885023227,
           2.8793734751549014,
           2.876027083612828,
           2.8721014267275353,
           2.8676193515413146,
           2.8626047242986794,
           2.857082357202935,
           2.8510779381048286,
           2.8446179626116814,
           2.8377296681349216,
           2.8304409694218085,
           2.822780395143785,
           2.814777025139697,
           2.8064604279374494,
           2.797860598203033,
           2.7890078937915206,
           2.779932972101174,
           2.7706667254594377,
           2.76124021529885,
           2.7516846049120067,
           2.74203109060803,
           2.7323108311287725,
           2.7225548752213955,
           2.7127940873051317,
           2.703059071214051,
           2.6933800920443387,
           2.683786996183893,
           2.674309129653595,
           2.6649752549429877,
           2.655813466577766,
           2.6468511057117516,
           2.638114674091019,
           2.629629747791666,
           2.621420891184275,
           2.6135115716262636,
           2.6059240754268513,
           2.598679425667041,
           2.5917973024876235,
           2.5852959664805533,
           2.5791921858321065,
           2.5735011678690665,
           2.5682364956511208,
           2.563410070233184,
           2.5590320591903457,
           2.555110851955699,
           2.551653022467825,
           2.548663299561083,
           2.5461445454590437,
           2.544097742650938,
           2.542521989344415,
           2.5414145035971507,
           2.540770636136885,
           2.5405838917864445,
           2.5408459593192307,
           2.5415467494837025,
           2.542674440854332,
           2.5442155330931593,
           2.54615490714188,
           2.5484758918104924,
           2.551160336185847,
           2.5541886872524397,
           2.5575400720987345,
           2.5611923840750257,
           2.565122372272983,
           2.569305733711872,
           2.5737172076411827,
           2.578330671402905,
           2.583119237337914,
           2.588055350268527,
           2.5931108851421074,
           2.598257244477354,
           2.603465455314435,
           2.6087062654313553,
           2.6139502386508915,
           2.619167849124219,
           2.624329574538317,
           2.6294059882537484,
           2.634367850437109,
           2.6391861983079,
           2.6438324356728096,
           2.6482784219711055,
           2.652496561103292,
           2.656459890361311,
           2.660142169822673,
           2.663517972613138,
           2.6665627764832474,
           2.669253057183341,
           2.671566384160038,
           2.673481519134637,
           2.6749785181608,
           2.6760388377952955,
           2.6766454460515017,
           2.676782938840788,
           2.6764376626414865,
           2.6755978441685317,
           2.6742537278483103,
           2.6723977219318673,
           2.6700245541040157,
           2.6671314374644086,
           2.6637182477669623,
           2.659787712803345,
           2.6553456148010253,
           2.6504010066721295,
           2.6449664428908375,
           2.6390582256876205,
           2.632696667120722,
           2.6259063674096272,
           2.6187165096814007,
           2.6111611709764952,
           2.60327964897238,
           2.595116803396115,
           2.5867234104950225,
           2.5781565282013754,
           2.5694798687471123,
           2.560764174444024,
           2.552087591133938,
           2.5435360324288028,
           2.5352035263085955,
           2.5271925339459482,
           2.5196142288189667,
           2.512588722320278,
           2.5062452202618726,
           2.5007220930360963,
           2.496166840883117,
           2.492735934929702,
           2.4905945146288406,
           2.489915923188436,
           2.4908810647732262,
           2.4936775709105587,
           2.4984987687753217,
           2.505542450911398,
           2.515009454355053,
           2.5271020667605426,
           2.542022287484608,
           2.559969981958817,
           2.5811409772013048,
           2.605725154045684,
           2.6339045966757255,
           2.665851861589398,
           2.701728425699491,
           2.741683366821144,
           2.785852319644026,
           2.834356737201797,
           2.887303472928101,
           2.9447846829115814,
           3.0068780332364544,
           3.0736471844763793,
           3.145142515369566,
           3.2214020409510082,
           3.302452477079429,
           3.3883104031552587,
           3.4789834774023034,
           3.574471663738891,
           3.674768435293518,
           3.7798619263516415,
           3.88973601137019,
           4.004371296205982,
           4.123746012551911,
           4.247836811569977,
           4.376619456772867,
           4.510069419342908,
           4.648162381356253,
           4.790874653905486,
           4.938183518007383,
           5.090067496569847,
           5.246506565690558,
           5.407482313275877,
           5.572978052490125,
           5.7429788969467985
          ],
          "thickness": 1.5,
          "type": "data",
          "width": 0
         },
         "marker": {
          "size": 0,
          "symbol": "cross-thin"
         },
         "mode": "lines+markers",
         "name": "background lightcurve",
         "showlegend": true,
         "type": "scatter",
         "x": [
          -199,
          -197,
          -195,
          -193,
          -191,
          -189,
          -187,
          -185,
          -183,
          -181,
          -179,
          -177,
          -175,
          -173,
          -171,
          -169,
          -167,
          -165,
          -163,
          -161,
          -159,
          -157,
          -155,
          -153,
          -151,
          -149,
          -147,
          -145,
          -143,
          -141,
          -139,
          -137,
          -135,
          -133,
          -131,
          -129,
          -127,
          -125,
          -123,
          -121,
          -119,
          -117,
          -115,
          -113,
          -111,
          -109,
          -107,
          -105,
          -103,
          -101,
          -99,
          -97,
          -95,
          -93,
          -91,
          -89,
          -87,
          -85,
          -83,
          -81,
          -79,
          -77,
          -75,
          -73,
          -71,
          -69,
          -67,
          -65,
          -63,
          -61,
          -59,
          -57,
          -55,
          -53,
          -51,
          -49,
          -47,
          -45,
          -43,
          -41,
          -39,
          -37,
          -35,
          -33,
          -31,
          -29,
          -27,
          -25,
          -23,
          -21,
          -19,
          -17,
          -15,
          -13,
          -11,
          -9,
          -7,
          -5,
          -3,
          -1,
          1,
          3,
          5,
          7,
          9,
          11,
          13,
          15,
          17,
          19,
          21,
          23,
          25,
          27,
          29,
          31,
          33,
          35,
          37,
          39,
          41,
          43,
          45,
          47,
          49,
          51,
          53,
          55,
          57,
          59,
          61,
          63,
          65,
          67,
          69,
          71,
          73,
          75,
          77,
          79,
          81,
          83,
          85,
          87,
          89,
          91,
          93,
          95,
          97,
          99,
          101,
          103,
          105,
          107,
          109,
          111,
          113,
          115,
          117,
          119,
          121,
          123,
          125,
          127,
          129,
          131,
          133,
          135,
          137,
          139,
          141,
          143,
          145,
          147,
          149,
          151,
          153,
          155,
          157,
          159,
          161,
          163,
          165,
          167,
          169,
          171,
          173,
          175,
          177,
          179,
          181,
          183,
          185,
          187,
          189,
          191,
          193,
          195,
          197,
          199,
          201,
          203,
          205,
          207,
          209,
          211,
          213,
          215,
          217,
          219,
          221,
          223,
          225,
          227,
          229,
          231,
          233,
          235,
          237,
          239,
          241,
          243,
          245,
          247,
          249,
          251,
          253,
          255,
          257,
          259,
          261,
          263,
          265,
          267,
          269,
          271,
          273,
          275,
          277,
          279,
          281,
          283,
          285,
          287,
          289,
          291,
          293,
          295,
          297,
          299
         ],
         "y": [
          1067.9823201531105,
          1068.301494256009,
          1068.6197575026858,
          1068.9371116501854,
          1069.253558455553,
          1069.569099675833,
          1069.88373706807,
          1070.1974723893093,
          1070.510307396595,
          1070.8222438469718,
          1071.1332834974846,
          1071.443428105178,
          1071.7526794270968,
          1072.0610392202857,
          1072.3685092417893,
          1072.6750912486523,
          1072.9807869979195,
          1073.2855982466356,
          1073.5895267518451,
          1073.8925742705928,
          1074.1947425599235,
          1074.4960333768818,
          1074.7964484785123,
          1075.0959896218599,
          1075.394658563969,
          1075.6924570618846,
          1075.9893868726515,
          1076.2854497533142,
          1076.5806474609171,
          1076.8749817525054,
          1077.1684543851236,
          1077.4610671158161,
          1077.7528217016284,
          1078.0437198996042,
          1078.3337634667887,
          1078.6229541602265,
          1078.9112937369625,
          1079.1987839540413,
          1079.4854265685078,
          1079.7712233374061,
          1080.0561760177814,
          1080.3402863666781,
          1080.623556141141,
          1080.905987098215,
          1081.1875809949445,
          1081.4683395883744,
          1081.7482646355493,
          1082.0273578935141,
          1082.305621119313,
          1082.5830560699912,
          1082.8596645025932,
          1083.1354481741637,
          1083.4104088417473,
          1083.684548262389,
          1083.9578681931332,
          1084.2303703910245,
          1084.502056613108,
          1084.7729286164283,
          1085.0429881580296,
          1085.3122369949574,
          1085.5806768842556,
          1085.8483095829695,
          1086.1151368481435,
          1086.3811604368225,
          1086.6463821060509,
          1086.9108036128735,
          1087.1744267143351,
          1087.4372531674805,
          1087.699284729354,
          1087.9605231570006,
          1088.2209702074651,
          1088.480627637792,
          1088.7394972050258,
          1088.9975806662117,
          1089.254879778394,
          1089.5113962986175,
          1089.7671319839271,
          1090.022088591367,
          1090.2762678779825,
          1090.529671600818,
          1090.7823015169179,
          1091.0341593833273,
          1091.285246957091,
          1091.5355659952534,
          1091.785118254859,
          1092.0339054929532,
          1092.28192946658,
          1092.5291919327847,
          1092.7756946486113,
          1093.021439371105,
          1093.2664278573104,
          1093.5106618642722,
          1093.7541431490351,
          1093.9968734686436,
          1094.2388545801427,
          1094.4800882405766,
          1094.720576206991,
          1094.9603202364294,
          1095.1993220859372,
          1095.4375835125588,
          1095.6751062733392,
          1095.911892125323,
          1096.1479428255545,
          1096.383260131079,
          1096.6178457989408,
          1096.8517015861848,
          1097.0848292498554,
          1097.3172305469977,
          1097.5489072346563,
          1097.7798610698758,
          1098.0100938097005,
          1098.2396072111758,
          1098.468403031346,
          1098.696483027256,
          1098.9238489559502,
          1099.1505025744734,
          1099.3764456398708,
          1099.6016799091865,
          1099.8262071394652,
          1100.0500290877517,
          1100.2731475110909,
          1100.4955641665272,
          1100.7172808111056,
          1100.9382992018707,
          1101.1586210958671,
          1101.3782482501394,
          1101.597182421733,
          1101.8154253676914,
          1102.0329788450601,
          1102.2498446108834,
          1102.4660244222066,
          1102.6815200360738,
          1102.8963332095302,
          1103.1104656996201,
          1103.323919263388,
          1103.5366956578794,
          1103.7487966401382,
          1103.9602239672092,
          1104.1709793961375,
          1104.3810646839677,
          1104.5904815877443,
          1104.7992318645122,
          1105.0073172713157,
          1105.2147395652,
          1105.4215005032095,
          1105.627601842389,
          1105.833045339783,
          1106.0378327524365,
          1106.2419658373942,
          1106.4454463517004,
          1106.6482760524002,
          1106.850456696538,
          1107.051990041159,
          1107.252877843307,
          1107.4531218600277,
          1107.6527238483652,
          1107.8516855653643,
          1108.0500087680696,
          1108.247695213526,
          1108.4447466587783,
          1108.6411648608707,
          1108.8369515768484,
          1109.0321085637559,
          1109.2266375786378,
          1109.420540378539,
          1109.6138187205042,
          1109.8064743615778,
          1109.9985090588048,
          1110.1899245692298,
          1110.3807226498973,
          1110.5709050578525,
          1110.7604735501395,
          1110.9494298838033,
          1111.1377758158885,
          1111.32551310344,
          1111.5126435035024,
          1111.6991687731204,
          1111.8850906693385,
          1112.0704109492017,
          1112.2551313697543,
          1112.4392536880414,
          1112.6227796611076,
          1112.8057110459974,
          1112.9880495997559,
          1113.169797079427,
          1113.3509552420567,
          1113.531525844688,
          1113.7115106443673,
          1113.890911398138,
          1114.0697298630457,
          1114.2479677961344,
          1114.4256269544492,
          1114.602709095035,
          1114.7792159749358,
          1114.9551493511967,
          1115.1305109808627,
          1115.305302620978,
          1115.4795260285873,
          1115.6531829607356,
          1115.8262751744676,
          1115.9988044268277,
          1116.1707724748608,
          1116.342181075612,
          1116.513031986125,
          1116.6833269634453,
          1116.8530677646172,
          1117.0222561466858,
          1117.1908938666952,
          1117.3589826816906,
          1117.5265243487167,
          1117.693520624818,
          1117.859973267039,
          1118.0258840324248,
          1118.19125467802,
          1118.356086960869,
          1118.5203826380168,
          1118.684143466508,
          1118.8473712033874,
          1119.0100676056995,
          1119.1722344304892,
          1119.333873434801,
          1119.4949863756797,
          1119.6555750101702,
          1119.815641095317,
          1119.9751863881645,
          1120.1342126457578,
          1120.2927216251414,
          1120.4507150833604,
          1120.6081947774587,
          1120.7651624644818,
          1120.921619901474,
          1121.0775688454798,
          1121.2330110535445,
          1121.3879482827124,
          1121.542382290028,
          1121.6963148325367,
          1121.8497476672821,
          1122.00268255131,
          1122.1551212416646,
          1122.3070654953904,
          1122.4585170695327,
          1122.6094777211354,
          1122.759949207244,
          1122.9099332849025,
          1123.059431711156,
          1123.2084462430494,
          1123.356978637627,
          1123.5050306519333,
          1123.6526040430135,
          1123.7997005679122
         ]
        }
       ],
       "layout": {
        "height": 600,
        "legend": {
         "x": 1,
         "xanchor": "right",
         "y": 1,
         "yanchor": "bottom"
        },
        "template": {
         "data": {
          "bar": [
           {
            "error_x": {
             "color": "#2a3f5f"
            },
            "error_y": {
             "color": "#2a3f5f"
            },
            "marker": {
             "line": {
              "color": "white",
              "width": 0.5
             },
             "pattern": {
              "fillmode": "overlay",
              "size": 10,
              "solidity": 0.2
             }
            },
            "type": "bar"
           }
          ],
          "barpolar": [
           {
            "marker": {
             "line": {
              "color": "white",
              "width": 0.5
             },
             "pattern": {
              "fillmode": "overlay",
              "size": 10,
              "solidity": 0.2
             }
            },
            "type": "barpolar"
           }
          ],
          "carpet": [
           {
            "aaxis": {
             "endlinecolor": "#2a3f5f",
             "gridcolor": "#C8D4E3",
             "linecolor": "#C8D4E3",
             "minorgridcolor": "#C8D4E3",
             "startlinecolor": "#2a3f5f"
            },
            "baxis": {
             "endlinecolor": "#2a3f5f",
             "gridcolor": "#C8D4E3",
             "linecolor": "#C8D4E3",
             "minorgridcolor": "#C8D4E3",
             "startlinecolor": "#2a3f5f"
            },
            "type": "carpet"
           }
          ],
          "choropleth": [
           {
            "colorbar": {
             "outlinewidth": 0,
             "ticks": ""
            },
            "type": "choropleth"
           }
          ],
          "contour": [
           {
            "colorbar": {
             "outlinewidth": 0,
             "ticks": ""
            },
            "colorscale": [
             [
              0,
              "#0d0887"
             ],
             [
              0.1111111111111111,
              "#46039f"
             ],
             [
              0.2222222222222222,
              "#7201a8"
             ],
             [
              0.3333333333333333,
              "#9c179e"
             ],
             [
              0.4444444444444444,
              "#bd3786"
             ],
             [
              0.5555555555555556,
              "#d8576b"
             ],
             [
              0.6666666666666666,
              "#ed7953"
             ],
             [
              0.7777777777777778,
              "#fb9f3a"
             ],
             [
              0.8888888888888888,
              "#fdca26"
             ],
             [
              1,
              "#f0f921"
             ]
            ],
            "type": "contour"
           }
          ],
          "contourcarpet": [
           {
            "colorbar": {
             "outlinewidth": 0,
             "ticks": ""
            },
            "type": "contourcarpet"
           }
          ],
          "heatmap": [
           {
            "colorbar": {
             "outlinewidth": 0,
             "ticks": ""
            },
            "colorscale": [
             [
              0,
              "#0d0887"
             ],
             [
              0.1111111111111111,
              "#46039f"
             ],
             [
              0.2222222222222222,
              "#7201a8"
             ],
             [
              0.3333333333333333,
              "#9c179e"
             ],
             [
              0.4444444444444444,
              "#bd3786"
             ],
             [
              0.5555555555555556,
              "#d8576b"
             ],
             [
              0.6666666666666666,
              "#ed7953"
             ],
             [
              0.7777777777777778,
              "#fb9f3a"
             ],
             [
              0.8888888888888888,
              "#fdca26"
             ],
             [
              1,
              "#f0f921"
             ]
            ],
            "type": "heatmap"
           }
          ],
          "heatmapgl": [
           {
            "colorbar": {
             "outlinewidth": 0,
             "ticks": ""
            },
            "colorscale": [
             [
              0,
              "#0d0887"
             ],
             [
              0.1111111111111111,
              "#46039f"
             ],
             [
              0.2222222222222222,
              "#7201a8"
             ],
             [
              0.3333333333333333,
              "#9c179e"
             ],
             [
              0.4444444444444444,
              "#bd3786"
             ],
             [
              0.5555555555555556,
              "#d8576b"
             ],
             [
              0.6666666666666666,
              "#ed7953"
             ],
             [
              0.7777777777777778,
              "#fb9f3a"
             ],
             [
              0.8888888888888888,
              "#fdca26"
             ],
             [
              1,
              "#f0f921"
             ]
            ],
            "type": "heatmapgl"
           }
          ],
          "histogram": [
           {
            "marker": {
             "pattern": {
              "fillmode": "overlay",
              "size": 10,
              "solidity": 0.2
             }
            },
            "type": "histogram"
           }
          ],
          "histogram2d": [
           {
            "colorbar": {
             "outlinewidth": 0,
             "ticks": ""
            },
            "colorscale": [
             [
              0,
              "#0d0887"
             ],
             [
              0.1111111111111111,
              "#46039f"
             ],
             [
              0.2222222222222222,
              "#7201a8"
             ],
             [
              0.3333333333333333,
              "#9c179e"
             ],
             [
              0.4444444444444444,
              "#bd3786"
             ],
             [
              0.5555555555555556,
              "#d8576b"
             ],
             [
              0.6666666666666666,
              "#ed7953"
             ],
             [
              0.7777777777777778,
              "#fb9f3a"
             ],
             [
              0.8888888888888888,
              "#fdca26"
             ],
             [
              1,
              "#f0f921"
             ]
            ],
            "type": "histogram2d"
           }
          ],
          "histogram2dcontour": [
           {
            "colorbar": {
             "outlinewidth": 0,
             "ticks": ""
            },
            "colorscale": [
             [
              0,
              "#0d0887"
             ],
             [
              0.1111111111111111,
              "#46039f"
             ],
             [
              0.2222222222222222,
              "#7201a8"
             ],
             [
              0.3333333333333333,
              "#9c179e"
             ],
             [
              0.4444444444444444,
              "#bd3786"
             ],
             [
              0.5555555555555556,
              "#d8576b"
             ],
             [
              0.6666666666666666,
              "#ed7953"
             ],
             [
              0.7777777777777778,
              "#fb9f3a"
             ],
             [
              0.8888888888888888,
              "#fdca26"
             ],
             [
              1,
              "#f0f921"
             ]
            ],
            "type": "histogram2dcontour"
           }
          ],
          "mesh3d": [
           {
            "colorbar": {
             "outlinewidth": 0,
             "ticks": ""
            },
            "type": "mesh3d"
           }
          ],
          "parcoords": [
           {
            "line": {
             "colorbar": {
              "outlinewidth": 0,
              "ticks": ""
             }
            },
            "type": "parcoords"
           }
          ],
          "pie": [
           {
            "automargin": true,
            "type": "pie"
           }
          ],
          "scatter": [
           {
            "fillpattern": {
             "fillmode": "overlay",
             "size": 10,
             "solidity": 0.2
            },
            "type": "scatter"
           }
          ],
          "scatter3d": [
           {
            "line": {
             "colorbar": {
              "outlinewidth": 0,
              "ticks": ""
             }
            },
            "marker": {
             "colorbar": {
              "outlinewidth": 0,
              "ticks": ""
             }
            },
            "type": "scatter3d"
           }
          ],
          "scattercarpet": [
           {
            "marker": {
             "colorbar": {
              "outlinewidth": 0,
              "ticks": ""
             }
            },
            "type": "scattercarpet"
           }
          ],
          "scattergeo": [
           {
            "marker": {
             "colorbar": {
              "outlinewidth": 0,
              "ticks": ""
             }
            },
            "type": "scattergeo"
           }
          ],
          "scattergl": [
           {
            "marker": {
             "colorbar": {
              "outlinewidth": 0,
              "ticks": ""
             }
            },
            "type": "scattergl"
           }
          ],
          "scattermapbox": [
           {
            "marker": {
             "colorbar": {
              "outlinewidth": 0,
              "ticks": ""
             }
            },
            "type": "scattermapbox"
           }
          ],
          "scatterpolar": [
           {
            "marker": {
             "colorbar": {
              "outlinewidth": 0,
              "ticks": ""
             }
            },
            "type": "scatterpolar"
           }
          ],
          "scatterpolargl": [
           {
            "marker": {
             "colorbar": {
              "outlinewidth": 0,
              "ticks": ""
             }
            },
            "type": "scatterpolargl"
           }
          ],
          "scatterternary": [
           {
            "marker": {
             "colorbar": {
              "outlinewidth": 0,
              "ticks": ""
             }
            },
            "type": "scatterternary"
           }
          ],
          "surface": [
           {
            "colorbar": {
             "outlinewidth": 0,
             "ticks": ""
            },
            "colorscale": [
             [
              0,
              "#0d0887"
             ],
             [
              0.1111111111111111,
              "#46039f"
             ],
             [
              0.2222222222222222,
              "#7201a8"
             ],
             [
              0.3333333333333333,
              "#9c179e"
             ],
             [
              0.4444444444444444,
              "#bd3786"
             ],
             [
              0.5555555555555556,
              "#d8576b"
             ],
             [
              0.6666666666666666,
              "#ed7953"
             ],
             [
              0.7777777777777778,
              "#fb9f3a"
             ],
             [
              0.8888888888888888,
              "#fdca26"
             ],
             [
              1,
              "#f0f921"
             ]
            ],
            "type": "surface"
           }
          ],
          "table": [
           {
            "cells": {
             "fill": {
              "color": "#EBF0F8"
             },
             "line": {
              "color": "white"
             }
            },
            "header": {
             "fill": {
              "color": "#C8D4E3"
             },
             "line": {
              "color": "white"
             }
            },
            "type": "table"
           }
          ]
         },
         "layout": {
          "annotationdefaults": {
           "arrowcolor": "#2a3f5f",
           "arrowhead": 0,
           "arrowwidth": 1
          },
          "autotypenumbers": "strict",
          "coloraxis": {
           "colorbar": {
            "outlinewidth": 0,
            "ticks": ""
           }
          },
          "colorscale": {
           "diverging": [
            [
             0,
             "#8e0152"
            ],
            [
             0.1,
             "#c51b7d"
            ],
            [
             0.2,
             "#de77ae"
            ],
            [
             0.3,
             "#f1b6da"
            ],
            [
             0.4,
             "#fde0ef"
            ],
            [
             0.5,
             "#f7f7f7"
            ],
            [
             0.6,
             "#e6f5d0"
            ],
            [
             0.7,
             "#b8e186"
            ],
            [
             0.8,
             "#7fbc41"
            ],
            [
             0.9,
             "#4d9221"
            ],
            [
             1,
             "#276419"
            ]
           ],
           "sequential": [
            [
             0,
             "#0d0887"
            ],
            [
             0.1111111111111111,
             "#46039f"
            ],
            [
             0.2222222222222222,
             "#7201a8"
            ],
            [
             0.3333333333333333,
             "#9c179e"
            ],
            [
             0.4444444444444444,
             "#bd3786"
            ],
            [
             0.5555555555555556,
             "#d8576b"
            ],
            [
             0.6666666666666666,
             "#ed7953"
            ],
            [
             0.7777777777777778,
             "#fb9f3a"
            ],
            [
             0.8888888888888888,
             "#fdca26"
            ],
            [
             1,
             "#f0f921"
            ]
           ],
           "sequentialminus": [
            [
             0,
             "#0d0887"
            ],
            [
             0.1111111111111111,
             "#46039f"
            ],
            [
             0.2222222222222222,
             "#7201a8"
            ],
            [
             0.3333333333333333,
             "#9c179e"
            ],
            [
             0.4444444444444444,
             "#bd3786"
            ],
            [
             0.5555555555555556,
             "#d8576b"
            ],
            [
             0.6666666666666666,
             "#ed7953"
            ],
            [
             0.7777777777777778,
             "#fb9f3a"
            ],
            [
             0.8888888888888888,
             "#fdca26"
            ],
            [
             1,
             "#f0f921"
            ]
           ]
          },
          "colorway": [
           "#636efa",
           "#EF553B",
           "#00cc96",
           "#ab63fa",
           "#FFA15A",
           "#19d3f3",
           "#FF6692",
           "#B6E880",
           "#FF97FF",
           "#FECB52"
          ],
          "font": {
           "color": "#2a3f5f"
          },
          "geo": {
           "bgcolor": "white",
           "lakecolor": "white",
           "landcolor": "white",
           "showlakes": true,
           "showland": true,
           "subunitcolor": "#C8D4E3"
          },
          "hoverlabel": {
           "align": "left"
          },
          "hovermode": "closest",
          "mapbox": {
           "style": "light"
          },
          "paper_bgcolor": "white",
          "plot_bgcolor": "white",
          "polar": {
           "angularaxis": {
            "gridcolor": "#EBF0F8",
            "linecolor": "#EBF0F8",
            "ticks": ""
           },
           "bgcolor": "white",
           "radialaxis": {
            "gridcolor": "#EBF0F8",
            "linecolor": "#EBF0F8",
            "ticks": ""
           }
          },
          "scene": {
           "xaxis": {
            "backgroundcolor": "white",
            "gridcolor": "#DFE8F3",
            "gridwidth": 2,
            "linecolor": "#EBF0F8",
            "showbackground": true,
            "ticks": "",
            "zerolinecolor": "#EBF0F8"
           },
           "yaxis": {
            "backgroundcolor": "white",
            "gridcolor": "#DFE8F3",
            "gridwidth": 2,
            "linecolor": "#EBF0F8",
            "showbackground": true,
            "ticks": "",
            "zerolinecolor": "#EBF0F8"
           },
           "zaxis": {
            "backgroundcolor": "white",
            "gridcolor": "#DFE8F3",
            "gridwidth": 2,
            "linecolor": "#EBF0F8",
            "showbackground": true,
            "ticks": "",
            "zerolinecolor": "#EBF0F8"
           }
          },
          "shapedefaults": {
           "line": {
            "color": "#2a3f5f"
           }
          },
          "ternary": {
           "aaxis": {
            "gridcolor": "#DFE8F3",
            "linecolor": "#A2B1C6",
            "ticks": ""
           },
           "baxis": {
            "gridcolor": "#DFE8F3",
            "linecolor": "#A2B1C6",
            "ticks": ""
           },
           "bgcolor": "white",
           "caxis": {
            "gridcolor": "#DFE8F3",
            "linecolor": "#A2B1C6",
            "ticks": ""
           }
          },
          "title": {
           "x": 0.05
          },
          "xaxis": {
           "automargin": true,
           "gridcolor": "#EBF0F8",
           "linecolor": "#EBF0F8",
           "ticks": "",
           "title": {
            "standoff": 15
           },
           "zerolinecolor": "#EBF0F8",
           "zerolinewidth": 2
          },
          "yaxis": {
           "automargin": true,
           "gridcolor": "#EBF0F8",
           "linecolor": "#EBF0F8",
           "ticks": "",
           "title": {
            "standoff": 15
           },
           "zerolinecolor": "#EBF0F8",
           "zerolinewidth": 2
          }
         }
        },
        "width": 800,
        "xaxis": {
         "title": {
          "text": "Time since 2024-02-19T06:21:42.000 (s)"
         }
        },
        "yaxis": {
         "title": {
          "text": "Counts per second (binsize=2 s)"
         }
        }
       }
      }
     },
     "metadata": {},
     "output_type": "display_data"
    }
   ],
   "source": [
    "print(msg_format('extract light curve for n9'))\n",
    "\n",
    "gbm_tte.lc_binsize = 2\n",
    "gbm_tte.extract_curve(savepath='./n9/curve', show=True)"
   ]
  },
  {
   "cell_type": "code",
   "execution_count": 14,
   "id": "b2b06bac",
   "metadata": {},
   "outputs": [
    {
     "data": {
      "application/vnd.plotly.v1+json": {
       "config": {
        "plotlyServerURL": "https://plot.ly"
       },
       "data": [
        {
         "error_y": {
          "array": [
           2.2078374751963628,
           17.049850201255328,
           24.15228922171713,
           24.324918020389504,
           24.287238768799952,
           24.218582619134853,
           24.454499760495086,
           24.217972641662943,
           24.294935971670665,
           24.9032005431929,
           24.34282664140478,
           24.298955629893317,
           24.785217310696474,
           17.08592660459497,
           24.198820848559876,
           2.1759092927205863
          ],
          "thickness": 1.5,
          "type": "data",
          "width": 0
         },
         "marker": {
          "size": 0,
          "symbol": "cross-thin"
         },
         "mode": "lines+markers",
         "name": "net lightcurve",
         "showlegend": true,
         "type": "scatter",
         "x": [
          -86,
          30,
          33,
          35,
          37,
          39,
          41,
          43,
          45,
          47,
          49,
          51,
          53,
          56,
          59,
          180
         ],
         "y": [
          4.413445019202916,
          46.25018825543939,
          49.90953222842287,
          66.34013618265669,
          62.569795542724634,
          55.79952786166841,
          78.33997656932502,
          55.38518987709895,
          62.67426390597306,
          121.902295774056,
          66.85900914687878,
          62.52583521703448,
          109.69126319111477,
          48.93780796254955,
          52.10419722860609,
          0.7378783063500622
         ]
        }
       ],
       "layout": {
        "height": 600,
        "legend": {
         "x": 1,
         "xanchor": "right",
         "y": 1,
         "yanchor": "bottom"
        },
        "template": {
         "data": {
          "bar": [
           {
            "error_x": {
             "color": "#2a3f5f"
            },
            "error_y": {
             "color": "#2a3f5f"
            },
            "marker": {
             "line": {
              "color": "white",
              "width": 0.5
             },
             "pattern": {
              "fillmode": "overlay",
              "size": 10,
              "solidity": 0.2
             }
            },
            "type": "bar"
           }
          ],
          "barpolar": [
           {
            "marker": {
             "line": {
              "color": "white",
              "width": 0.5
             },
             "pattern": {
              "fillmode": "overlay",
              "size": 10,
              "solidity": 0.2
             }
            },
            "type": "barpolar"
           }
          ],
          "carpet": [
           {
            "aaxis": {
             "endlinecolor": "#2a3f5f",
             "gridcolor": "#C8D4E3",
             "linecolor": "#C8D4E3",
             "minorgridcolor": "#C8D4E3",
             "startlinecolor": "#2a3f5f"
            },
            "baxis": {
             "endlinecolor": "#2a3f5f",
             "gridcolor": "#C8D4E3",
             "linecolor": "#C8D4E3",
             "minorgridcolor": "#C8D4E3",
             "startlinecolor": "#2a3f5f"
            },
            "type": "carpet"
           }
          ],
          "choropleth": [
           {
            "colorbar": {
             "outlinewidth": 0,
             "ticks": ""
            },
            "type": "choropleth"
           }
          ],
          "contour": [
           {
            "colorbar": {
             "outlinewidth": 0,
             "ticks": ""
            },
            "colorscale": [
             [
              0,
              "#0d0887"
             ],
             [
              0.1111111111111111,
              "#46039f"
             ],
             [
              0.2222222222222222,
              "#7201a8"
             ],
             [
              0.3333333333333333,
              "#9c179e"
             ],
             [
              0.4444444444444444,
              "#bd3786"
             ],
             [
              0.5555555555555556,
              "#d8576b"
             ],
             [
              0.6666666666666666,
              "#ed7953"
             ],
             [
              0.7777777777777778,
              "#fb9f3a"
             ],
             [
              0.8888888888888888,
              "#fdca26"
             ],
             [
              1,
              "#f0f921"
             ]
            ],
            "type": "contour"
           }
          ],
          "contourcarpet": [
           {
            "colorbar": {
             "outlinewidth": 0,
             "ticks": ""
            },
            "type": "contourcarpet"
           }
          ],
          "heatmap": [
           {
            "colorbar": {
             "outlinewidth": 0,
             "ticks": ""
            },
            "colorscale": [
             [
              0,
              "#0d0887"
             ],
             [
              0.1111111111111111,
              "#46039f"
             ],
             [
              0.2222222222222222,
              "#7201a8"
             ],
             [
              0.3333333333333333,
              "#9c179e"
             ],
             [
              0.4444444444444444,
              "#bd3786"
             ],
             [
              0.5555555555555556,
              "#d8576b"
             ],
             [
              0.6666666666666666,
              "#ed7953"
             ],
             [
              0.7777777777777778,
              "#fb9f3a"
             ],
             [
              0.8888888888888888,
              "#fdca26"
             ],
             [
              1,
              "#f0f921"
             ]
            ],
            "type": "heatmap"
           }
          ],
          "heatmapgl": [
           {
            "colorbar": {
             "outlinewidth": 0,
             "ticks": ""
            },
            "colorscale": [
             [
              0,
              "#0d0887"
             ],
             [
              0.1111111111111111,
              "#46039f"
             ],
             [
              0.2222222222222222,
              "#7201a8"
             ],
             [
              0.3333333333333333,
              "#9c179e"
             ],
             [
              0.4444444444444444,
              "#bd3786"
             ],
             [
              0.5555555555555556,
              "#d8576b"
             ],
             [
              0.6666666666666666,
              "#ed7953"
             ],
             [
              0.7777777777777778,
              "#fb9f3a"
             ],
             [
              0.8888888888888888,
              "#fdca26"
             ],
             [
              1,
              "#f0f921"
             ]
            ],
            "type": "heatmapgl"
           }
          ],
          "histogram": [
           {
            "marker": {
             "pattern": {
              "fillmode": "overlay",
              "size": 10,
              "solidity": 0.2
             }
            },
            "type": "histogram"
           }
          ],
          "histogram2d": [
           {
            "colorbar": {
             "outlinewidth": 0,
             "ticks": ""
            },
            "colorscale": [
             [
              0,
              "#0d0887"
             ],
             [
              0.1111111111111111,
              "#46039f"
             ],
             [
              0.2222222222222222,
              "#7201a8"
             ],
             [
              0.3333333333333333,
              "#9c179e"
             ],
             [
              0.4444444444444444,
              "#bd3786"
             ],
             [
              0.5555555555555556,
              "#d8576b"
             ],
             [
              0.6666666666666666,
              "#ed7953"
             ],
             [
              0.7777777777777778,
              "#fb9f3a"
             ],
             [
              0.8888888888888888,
              "#fdca26"
             ],
             [
              1,
              "#f0f921"
             ]
            ],
            "type": "histogram2d"
           }
          ],
          "histogram2dcontour": [
           {
            "colorbar": {
             "outlinewidth": 0,
             "ticks": ""
            },
            "colorscale": [
             [
              0,
              "#0d0887"
             ],
             [
              0.1111111111111111,
              "#46039f"
             ],
             [
              0.2222222222222222,
              "#7201a8"
             ],
             [
              0.3333333333333333,
              "#9c179e"
             ],
             [
              0.4444444444444444,
              "#bd3786"
             ],
             [
              0.5555555555555556,
              "#d8576b"
             ],
             [
              0.6666666666666666,
              "#ed7953"
             ],
             [
              0.7777777777777778,
              "#fb9f3a"
             ],
             [
              0.8888888888888888,
              "#fdca26"
             ],
             [
              1,
              "#f0f921"
             ]
            ],
            "type": "histogram2dcontour"
           }
          ],
          "mesh3d": [
           {
            "colorbar": {
             "outlinewidth": 0,
             "ticks": ""
            },
            "type": "mesh3d"
           }
          ],
          "parcoords": [
           {
            "line": {
             "colorbar": {
              "outlinewidth": 0,
              "ticks": ""
             }
            },
            "type": "parcoords"
           }
          ],
          "pie": [
           {
            "automargin": true,
            "type": "pie"
           }
          ],
          "scatter": [
           {
            "fillpattern": {
             "fillmode": "overlay",
             "size": 10,
             "solidity": 0.2
            },
            "type": "scatter"
           }
          ],
          "scatter3d": [
           {
            "line": {
             "colorbar": {
              "outlinewidth": 0,
              "ticks": ""
             }
            },
            "marker": {
             "colorbar": {
              "outlinewidth": 0,
              "ticks": ""
             }
            },
            "type": "scatter3d"
           }
          ],
          "scattercarpet": [
           {
            "marker": {
             "colorbar": {
              "outlinewidth": 0,
              "ticks": ""
             }
            },
            "type": "scattercarpet"
           }
          ],
          "scattergeo": [
           {
            "marker": {
             "colorbar": {
              "outlinewidth": 0,
              "ticks": ""
             }
            },
            "type": "scattergeo"
           }
          ],
          "scattergl": [
           {
            "marker": {
             "colorbar": {
              "outlinewidth": 0,
              "ticks": ""
             }
            },
            "type": "scattergl"
           }
          ],
          "scattermapbox": [
           {
            "marker": {
             "colorbar": {
              "outlinewidth": 0,
              "ticks": ""
             }
            },
            "type": "scattermapbox"
           }
          ],
          "scatterpolar": [
           {
            "marker": {
             "colorbar": {
              "outlinewidth": 0,
              "ticks": ""
             }
            },
            "type": "scatterpolar"
           }
          ],
          "scatterpolargl": [
           {
            "marker": {
             "colorbar": {
              "outlinewidth": 0,
              "ticks": ""
             }
            },
            "type": "scatterpolargl"
           }
          ],
          "scatterternary": [
           {
            "marker": {
             "colorbar": {
              "outlinewidth": 0,
              "ticks": ""
             }
            },
            "type": "scatterternary"
           }
          ],
          "surface": [
           {
            "colorbar": {
             "outlinewidth": 0,
             "ticks": ""
            },
            "colorscale": [
             [
              0,
              "#0d0887"
             ],
             [
              0.1111111111111111,
              "#46039f"
             ],
             [
              0.2222222222222222,
              "#7201a8"
             ],
             [
              0.3333333333333333,
              "#9c179e"
             ],
             [
              0.4444444444444444,
              "#bd3786"
             ],
             [
              0.5555555555555556,
              "#d8576b"
             ],
             [
              0.6666666666666666,
              "#ed7953"
             ],
             [
              0.7777777777777778,
              "#fb9f3a"
             ],
             [
              0.8888888888888888,
              "#fdca26"
             ],
             [
              1,
              "#f0f921"
             ]
            ],
            "type": "surface"
           }
          ],
          "table": [
           {
            "cells": {
             "fill": {
              "color": "#EBF0F8"
             },
             "line": {
              "color": "white"
             }
            },
            "header": {
             "fill": {
              "color": "#C8D4E3"
             },
             "line": {
              "color": "white"
             }
            },
            "type": "table"
           }
          ]
         },
         "layout": {
          "annotationdefaults": {
           "arrowcolor": "#2a3f5f",
           "arrowhead": 0,
           "arrowwidth": 1
          },
          "autotypenumbers": "strict",
          "coloraxis": {
           "colorbar": {
            "outlinewidth": 0,
            "ticks": ""
           }
          },
          "colorscale": {
           "diverging": [
            [
             0,
             "#8e0152"
            ],
            [
             0.1,
             "#c51b7d"
            ],
            [
             0.2,
             "#de77ae"
            ],
            [
             0.3,
             "#f1b6da"
            ],
            [
             0.4,
             "#fde0ef"
            ],
            [
             0.5,
             "#f7f7f7"
            ],
            [
             0.6,
             "#e6f5d0"
            ],
            [
             0.7,
             "#b8e186"
            ],
            [
             0.8,
             "#7fbc41"
            ],
            [
             0.9,
             "#4d9221"
            ],
            [
             1,
             "#276419"
            ]
           ],
           "sequential": [
            [
             0,
             "#0d0887"
            ],
            [
             0.1111111111111111,
             "#46039f"
            ],
            [
             0.2222222222222222,
             "#7201a8"
            ],
            [
             0.3333333333333333,
             "#9c179e"
            ],
            [
             0.4444444444444444,
             "#bd3786"
            ],
            [
             0.5555555555555556,
             "#d8576b"
            ],
            [
             0.6666666666666666,
             "#ed7953"
            ],
            [
             0.7777777777777778,
             "#fb9f3a"
            ],
            [
             0.8888888888888888,
             "#fdca26"
            ],
            [
             1,
             "#f0f921"
            ]
           ],
           "sequentialminus": [
            [
             0,
             "#0d0887"
            ],
            [
             0.1111111111111111,
             "#46039f"
            ],
            [
             0.2222222222222222,
             "#7201a8"
            ],
            [
             0.3333333333333333,
             "#9c179e"
            ],
            [
             0.4444444444444444,
             "#bd3786"
            ],
            [
             0.5555555555555556,
             "#d8576b"
            ],
            [
             0.6666666666666666,
             "#ed7953"
            ],
            [
             0.7777777777777778,
             "#fb9f3a"
            ],
            [
             0.8888888888888888,
             "#fdca26"
            ],
            [
             1,
             "#f0f921"
            ]
           ]
          },
          "colorway": [
           "#636efa",
           "#EF553B",
           "#00cc96",
           "#ab63fa",
           "#FFA15A",
           "#19d3f3",
           "#FF6692",
           "#B6E880",
           "#FF97FF",
           "#FECB52"
          ],
          "font": {
           "color": "#2a3f5f"
          },
          "geo": {
           "bgcolor": "white",
           "lakecolor": "white",
           "landcolor": "white",
           "showlakes": true,
           "showland": true,
           "subunitcolor": "#C8D4E3"
          },
          "hoverlabel": {
           "align": "left"
          },
          "hovermode": "closest",
          "mapbox": {
           "style": "light"
          },
          "paper_bgcolor": "white",
          "plot_bgcolor": "white",
          "polar": {
           "angularaxis": {
            "gridcolor": "#EBF0F8",
            "linecolor": "#EBF0F8",
            "ticks": ""
           },
           "bgcolor": "white",
           "radialaxis": {
            "gridcolor": "#EBF0F8",
            "linecolor": "#EBF0F8",
            "ticks": ""
           }
          },
          "scene": {
           "xaxis": {
            "backgroundcolor": "white",
            "gridcolor": "#DFE8F3",
            "gridwidth": 2,
            "linecolor": "#EBF0F8",
            "showbackground": true,
            "ticks": "",
            "zerolinecolor": "#EBF0F8"
           },
           "yaxis": {
            "backgroundcolor": "white",
            "gridcolor": "#DFE8F3",
            "gridwidth": 2,
            "linecolor": "#EBF0F8",
            "showbackground": true,
            "ticks": "",
            "zerolinecolor": "#EBF0F8"
           },
           "zaxis": {
            "backgroundcolor": "white",
            "gridcolor": "#DFE8F3",
            "gridwidth": 2,
            "linecolor": "#EBF0F8",
            "showbackground": true,
            "ticks": "",
            "zerolinecolor": "#EBF0F8"
           }
          },
          "shapedefaults": {
           "line": {
            "color": "#2a3f5f"
           }
          },
          "ternary": {
           "aaxis": {
            "gridcolor": "#DFE8F3",
            "linecolor": "#A2B1C6",
            "ticks": ""
           },
           "baxis": {
            "gridcolor": "#DFE8F3",
            "linecolor": "#A2B1C6",
            "ticks": ""
           },
           "bgcolor": "white",
           "caxis": {
            "gridcolor": "#DFE8F3",
            "linecolor": "#A2B1C6",
            "ticks": ""
           }
          },
          "title": {
           "x": 0.05
          },
          "xaxis": {
           "automargin": true,
           "gridcolor": "#EBF0F8",
           "linecolor": "#EBF0F8",
           "ticks": "",
           "title": {
            "standoff": 15
           },
           "zerolinecolor": "#EBF0F8",
           "zerolinewidth": 2
          },
          "yaxis": {
           "automargin": true,
           "gridcolor": "#EBF0F8",
           "linecolor": "#EBF0F8",
           "ticks": "",
           "title": {
            "standoff": 15
           },
           "zerolinecolor": "#EBF0F8",
           "zerolinewidth": 2
          }
         }
        },
        "width": 800,
        "xaxis": {
         "title": {
          "text": "Time since 2024-02-19T06:21:42.000 (s)"
         },
         "type": "log"
        },
        "yaxis": {
         "title": {
          "text": "Counts per second"
         },
         "type": "log"
        }
       }
      }
     },
     "metadata": {},
     "output_type": "display_data"
    }
   ],
   "source": [
    "gbm_tte.rebin_curve(min_sigma=2)\n",
    "gbm_tte.extract_rebin_curve(savepath='./n9/curve', loglog=True, show=True)"
   ]
  },
  {
   "cell_type": "code",
   "execution_count": 15,
   "id": "2dd9fe3b",
   "metadata": {},
   "outputs": [
    {
     "name": "stdout",
     "output_type": "stream",
     "text": [
      "\n",
      "+------------------------------------------------+\n",
      " calculate txx for n9\n",
      "+------------------------------------------------+\n",
      "\n",
      "+------------------------------------------------+\n",
      " id#  Txx       Txx-    Txx+    Txx1    Txx2    \n",
      "+-----------------------------------------------+\n",
      " 1    57.822    5.418   7.440   4.874   62.696  \n",
      "+------------------------------------------------+\n"
     ]
    }
   ],
   "source": [
    "print(msg_format('calculate txx for n9'))\n",
    "gbm_tte.calculate_txx(xx=0.9, savepath='./n9/curve/t90')"
   ]
  },
  {
   "cell_type": "code",
   "execution_count": 16,
   "id": "3d40c54d",
   "metadata": {},
   "outputs": [
    {
     "name": "stdout",
     "output_type": "stream",
     "text": [
      "\n",
      "+------------------------------------------------+\n",
      " extract spectrum for n9\n",
      "+------------------------------------------------+\n"
     ]
    },
    {
     "data": {
      "application/vnd.plotly.v1+json": {
       "config": {
        "plotlyServerURL": "https://plot.ly"
       },
       "data": [
        {
         "mode": "lines",
         "name": "total lightcurve",
         "showlegend": true,
         "type": "scatter",
         "x": [
          -398,
          -394,
          -390,
          -386,
          -382,
          -378,
          -374,
          -370,
          -366,
          -362,
          -358,
          -354,
          -350,
          -346,
          -342,
          -338,
          -334,
          -330,
          -326,
          -322,
          -318,
          -314,
          -310,
          -306,
          -302,
          -298,
          -294,
          -290,
          -286,
          -282,
          -278,
          -274,
          -270,
          -266,
          -262,
          -258,
          -254,
          -250,
          -246,
          -242,
          -238,
          -234,
          -230,
          -226,
          -222,
          -218,
          -214,
          -210,
          -206,
          -202,
          -198,
          -194,
          -190,
          -186,
          -182,
          -178,
          -174,
          -170,
          -166,
          -162,
          -158,
          -154,
          -150,
          -146,
          -142,
          -138,
          -134,
          -130,
          -126,
          -122,
          -118,
          -114,
          -110,
          -106,
          -102,
          -98,
          -94,
          -90,
          -86,
          -82,
          -78,
          -74,
          -70,
          -66,
          -62,
          -58,
          -54,
          -50,
          -46,
          -42,
          -38,
          -34,
          -30,
          -26,
          -22,
          -18,
          -14,
          -10,
          -6,
          -2,
          2,
          6,
          10,
          14,
          18,
          22,
          26,
          30,
          34,
          38,
          42,
          46,
          50,
          54,
          58,
          62,
          66,
          70,
          74,
          78,
          82,
          86,
          90,
          94,
          98,
          102,
          106,
          110,
          114,
          118,
          122,
          126,
          130,
          134,
          138,
          142,
          146,
          150,
          154,
          158,
          162,
          166,
          170,
          174,
          178,
          182,
          186,
          190,
          194,
          198,
          202,
          206,
          210,
          214,
          218,
          222,
          226,
          230,
          234,
          238,
          242,
          246,
          250,
          254,
          258,
          262,
          266,
          270,
          274,
          278,
          282,
          286,
          290,
          294,
          298,
          302,
          306,
          310,
          314,
          318,
          322,
          326,
          330,
          334,
          338,
          342,
          346,
          350,
          354,
          358,
          362,
          366,
          370,
          374,
          378,
          382,
          386,
          390,
          394,
          398
         ],
         "y": [
          1108.75,
          1092.5,
          1118.5,
          1060.25,
          1083,
          1112.5,
          1080,
          1089.5,
          1132,
          1096.5,
          1106.5,
          1090.5,
          1082,
          1105.75,
          1126,
          1108.75,
          1087.75,
          1104.75,
          1078.25,
          1125.25,
          1128.5,
          1079.5,
          1094.75,
          1130,
          1129.25,
          1109.5,
          1112.75,
          1098.75,
          1145,
          1115.5,
          1111.75,
          1104,
          1098,
          1120.75,
          1120.25,
          1129,
          1122,
          1127.25,
          1091.5,
          1121,
          1126,
          1135.75,
          1132.25,
          1134.75,
          1109,
          1136.5,
          1113.5,
          1129.25,
          1111.25,
          1144,
          1154.75,
          1127,
          1113.5,
          1114,
          1107,
          1154,
          1128,
          1163.5,
          1143.25,
          1136.25,
          1147.5,
          1137.25,
          1121.5,
          1141.5,
          1151.5,
          1116.75,
          1130.25,
          1146.75,
          1114.25,
          1161,
          1173.25,
          1147,
          1118.75,
          1162.75,
          1123.25,
          1138,
          1148.5,
          1117.5,
          1154.25,
          1147.75,
          1146.5,
          1154.25,
          1173,
          1160.25,
          1134.25,
          1151,
          1133.75,
          1132,
          1129.25,
          1169.5,
          1151.75,
          1147.25,
          1203.75,
          1180.75,
          1145.5,
          1141.5,
          1132.5,
          1144,
          1179,
          1161.25,
          1219.25,
          1212.25,
          1192.25,
          1188.5,
          1200.5,
          1196.5,
          1201.5,
          1205,
          1221.75,
          1221,
          1238.5,
          1259,
          1233.25,
          1240,
          1227,
          1186.5,
          1180,
          1201.25,
          1166.25,
          1179.75,
          1187.5,
          1193.5,
          1148.75,
          1161.75,
          1174,
          1159.75,
          1177.75,
          1161.25,
          1143.25,
          1180.75,
          1177.5,
          1176.5,
          1167.5,
          1177.75,
          1160,
          1162,
          1183.75,
          1189.5,
          1166.75,
          1171.25,
          1180.75,
          1167.25,
          1183.25,
          1195.5,
          1167.5,
          1188.75,
          1160,
          1183.25,
          1158.5,
          1224.25,
          1179,
          1154.5,
          1156.25,
          1157.25,
          1187.5,
          1202.5,
          1193.5,
          1164.5,
          1184.5,
          1159.25,
          1185.5,
          1164.25,
          1161.25,
          1183.25,
          1192.5,
          1193,
          1189,
          1176.5,
          1189.5,
          1191.75,
          1215,
          1168.5,
          1175,
          1195.5,
          1193,
          1213.5,
          1189,
          1222.25,
          1227.5,
          1178.25,
          1143.5,
          1162.75,
          1181.5,
          1191,
          1157,
          1179.5,
          1195.25,
          1182.75,
          1158.25,
          1218.25,
          1192,
          1189,
          1197,
          1198.25,
          1164.5,
          1174,
          1190.75,
          1199.25,
          1175,
          1158.25
         ]
        },
        {
         "mode": "lines",
         "name": "total background",
         "showlegend": true,
         "type": "scatter",
         "x": [
          -300,
          -293.93939393939394,
          -287.8787878787879,
          -281.8181818181818,
          -275.75757575757575,
          -269.6969696969697,
          -263.6363636363636,
          -257.57575757575756,
          -251.5151515151515,
          -245.45454545454544,
          -239.39393939393938,
          -233.33333333333331,
          -227.27272727272728,
          -221.21212121212122,
          -215.15151515151516,
          -209.0909090909091,
          -203.03030303030303,
          -196.96969696969697,
          -190.9090909090909,
          -184.84848484848484,
          -178.78787878787878,
          -172.72727272727275,
          -166.66666666666666,
          -160.6060606060606,
          -154.54545454545456,
          -148.4848484848485,
          -142.42424242424244,
          -136.36363636363637,
          -130.3030303030303,
          -124.24242424242425,
          -118.18181818181819,
          -112.12121212121212,
          -106.06060606060606,
          -100,
          -93.93939393939394,
          -87.87878787878788,
          -81.81818181818181,
          -75.75757575757575,
          -69.69696969696969,
          -63.636363636363626,
          -57.575757575757564,
          -51.51515151515153,
          -45.45454545454547,
          -39.39393939393938,
          -33.333333333333314,
          -27.272727272727252,
          -21.21212121212119,
          -15.151515151515127,
          -9.090909090909122,
          -3.0303030303030596,
          3.0303030303030027,
          9.090909090909065,
          15.151515151515127,
          21.21212121212119,
          27.272727272727252,
          33.333333333333314,
          39.39393939393938,
          45.45454545454544,
          51.5151515151515,
          57.575757575757564,
          63.636363636363626,
          69.69696969696969,
          75.75757575757575,
          81.81818181818181,
          87.87878787878788,
          93.93939393939394,
          100,
          106.06060606060606,
          112.12121212121212,
          118.18181818181819,
          124.24242424242425,
          130.3030303030303,
          136.36363636363637,
          142.42424242424244,
          148.4848484848485,
          154.54545454545456,
          160.60606060606062,
          166.66666666666669,
          172.72727272727275,
          178.7878787878788,
          184.84848484848487,
          190.90909090909088,
          196.96969696969694,
          203.030303030303,
          209.09090909090907,
          215.15151515151513,
          221.21212121212125,
          227.27272727272725,
          233.33333333333337,
          239.39393939393938,
          245.4545454545455,
          251.5151515151515,
          257.5757575757576,
          263.6363636363636,
          269.69696969696975,
          275.75757575757575,
          281.81818181818176,
          287.8787878787879,
          293.9393939393939,
          300
         ],
         "y": [
          1111.0280228605056,
          1112.109731481318,
          1113.1899473373965,
          1114.268501432467,
          1115.3452247702564,
          1116.419948354491,
          1117.4925031888965,
          1118.5627202772,
          1119.630430623127,
          1120.6954652304041,
          1121.7576551027578,
          1122.8168312439143,
          1123.8728246575997,
          1124.9254663475404,
          1125.974587317463,
          1127.0200185710933,
          1128.0615911121579,
          1129.0991359443829,
          1130.132484071495,
          1131.16146649722,
          1132.1859142252845,
          1133.2056582594148,
          1134.2205296033371,
          1135.2303592607775,
          1136.2349782354624,
          1137.2342175311187,
          1138.2279081514719,
          1139.2158811002485,
          1140.197967381175,
          1141.1739979979777,
          1142.1438039543827,
          1143.107216254116,
          1144.0640659009048,
          1145.0141838984748,
          1145.9574012505525,
          1146.8935489608637,
          1147.8224580331353,
          1148.7439594710934,
          1149.657884278464,
          1150.5640634589738,
          1151.4623280163491,
          1152.352508954316,
          1153.2344372766006,
          1154.1079439869297,
          1154.9728600890294,
          1155.8290165866256,
          1156.676244483445,
          1157.5143747832142,
          1158.343238489659,
          1159.1626666065056,
          1159.9724901374805,
          1160.7725400863103,
          1161.562647456721,
          1162.3426432524386,
          1163.11235847719,
          1163.871624134701,
          1164.6202712286984,
          1165.3581307629079,
          1166.0850337410561,
          1166.8008111668696,
          1167.505294044074,
          1168.1983133763963,
          1168.8797001675623,
          1169.5492854212985,
          1170.2069001413313,
          1170.8523753313868,
          1171.4855419951916,
          1172.1062311364715,
          1172.7142737589531,
          1173.3095008663627,
          1173.8917434624266,
          1174.460832550871,
          1175.0165991354222,
          1175.5588742198067,
          1176.0874888077506,
          1176.6022739029802,
          1177.1030605092217,
          1177.5896796302018,
          1178.0619622696465,
          1178.519739431282,
          1178.9628421188347,
          1179.391101336031,
          1179.8043480865972,
          1180.2024133742595,
          1180.5851282027443,
          1180.9523235757774,
          1181.303830497086,
          1181.6394799703958,
          1181.959102999433,
          1182.2625305879242,
          1182.5495937395956,
          1182.8201234581736,
          1183.073950747384,
          1183.3109066109541,
          1183.5308220526092,
          1183.733528076076,
          1183.9188556850809,
          1184.08663588335,
          1184.2366996746098,
          1184.3688780625862
         ]
        },
        {
         "mode": "lines",
         "name": "summing background",
         "showlegend": true,
         "type": "scatter",
         "x": [
          -300,
          -293.93939393939394,
          -287.8787878787879,
          -281.8181818181818,
          -275.75757575757575,
          -269.6969696969697,
          -263.6363636363636,
          -257.57575757575756,
          -251.5151515151515,
          -245.45454545454544,
          -239.39393939393938,
          -233.33333333333331,
          -227.27272727272728,
          -221.21212121212122,
          -215.15151515151516,
          -209.0909090909091,
          -203.03030303030303,
          -196.96969696969697,
          -190.9090909090909,
          -184.84848484848484,
          -178.78787878787878,
          -172.72727272727275,
          -166.66666666666666,
          -160.6060606060606,
          -154.54545454545456,
          -148.4848484848485,
          -142.42424242424244,
          -136.36363636363637,
          -130.3030303030303,
          -124.24242424242425,
          -118.18181818181819,
          -112.12121212121212,
          -106.06060606060606,
          -100,
          -93.93939393939394,
          -87.87878787878788,
          -81.81818181818181,
          -75.75757575757575,
          -69.69696969696969,
          -63.636363636363626,
          -57.575757575757564,
          -51.51515151515153,
          -45.45454545454547,
          -39.39393939393938,
          -33.333333333333314,
          -27.272727272727252,
          -21.21212121212119,
          -15.151515151515127,
          -9.090909090909122,
          -3.0303030303030596,
          3.0303030303030027,
          9.090909090909065,
          15.151515151515127,
          21.21212121212119,
          27.272727272727252,
          33.333333333333314,
          39.39393939393938,
          45.45454545454544,
          51.5151515151515,
          57.575757575757564,
          63.636363636363626,
          69.69696969696969,
          75.75757575757575,
          81.81818181818181,
          87.87878787878788,
          93.93939393939394,
          100,
          106.06060606060606,
          112.12121212121212,
          118.18181818181819,
          124.24242424242425,
          130.3030303030303,
          136.36363636363637,
          142.42424242424244,
          148.4848484848485,
          154.54545454545456,
          160.60606060606062,
          166.66666666666669,
          172.72727272727275,
          178.7878787878788,
          184.84848484848487,
          190.90909090909088,
          196.96969696969694,
          203.030303030303,
          209.09090909090907,
          215.15151515151513,
          221.21212121212125,
          227.27272727272725,
          233.33333333333337,
          239.39393939393938,
          245.4545454545455,
          251.5151515151515,
          257.5757575757576,
          263.6363636363636,
          269.69696969696975,
          275.75757575757575,
          281.81818181818176,
          287.8787878787879,
          293.9393939393939,
          300
         ],
         "y": [
          1111.0094073852656,
          1112.0954635129158,
          1113.1798119251496,
          1114.2622877969688,
          1115.3427263033743,
          1116.4209626193685,
          1117.496831919951,
          1118.5701693801257,
          1119.6408101748927,
          1120.708589479254,
          1121.7733424682117,
          1122.834904316765,
          1123.8931101999178,
          1124.9477952926695,
          1125.9987947700233,
          1127.045943806979,
          1128.0890775785401,
          1129.1280312597078,
          1130.1626400254818,
          1131.1927390508654,
          1132.2181635108584,
          1133.238748580463,
          1134.254329434682,
          1135.2647412485142,
          1136.2698191969641,
          1137.2693984550315,
          1138.2633141977174,
          1139.2514016000237,
          1140.2334958369538,
          1141.2094320835063,
          1142.1790455146836,
          1143.142171305488,
          1144.0986446309198,
          1145.0483006659817,
          1145.9909745856746,
          1146.926501565,
          1147.8547167789595,
          1148.7754554025532,
          1149.6885526107853,
          1150.593843578655,
          1151.4911634811647,
          1152.3803474933159,
          1153.2612307901093,
          1154.1336485465483,
          1154.9974359376313,
          1155.8524281383632,
          1156.6984603237422,
          1157.5353676687728,
          1158.3629853484551,
          1159.1811485377896,
          1159.989692411779,
          1160.7884521454248,
          1161.577262913728,
          1162.3559598916904,
          1163.1243782543127,
          1163.8823531765984,
          1164.6297198335465,
          1165.3663134001604,
          1166.0919690514404,
          1166.8065219623875,
          1167.5098073080044,
          1168.2016602632925,
          1168.8819160032529,
          1169.5504097028866,
          1170.206976537197,
          1170.8514516811833,
          1171.4836703098479,
          1172.1034675981916,
          1172.7106787212178,
          1173.305138853926,
          1173.8866831713178,
          1174.455146848397,
          1175.0103650601616,
          1175.5521729816164,
          1176.08040578776,
          1176.5948986535948,
          1177.0954867541238,
          1177.5820052643467,
          1178.0542893592649,
          1178.5121742138826,
          1178.9554950031984,
          1179.3840869022144,
          1179.7977850859318,
          1180.1964247293513,
          1180.5798410074797,
          1180.947869095312,
          1181.3003441678527,
          1181.6371014001018,
          1181.957975967062,
          1182.2628030437347,
          1182.5514178051199,
          1182.823655426222,
          1183.079351082042,
          1183.3183399475772,
          1183.540457197833,
          1183.7455380078109,
          1183.93341755251,
          1184.1039310069352,
          1184.2569135460833,
          1184.392200344959
         ]
        }
       ],
       "layout": {
        "height": 600,
        "legend": {
         "x": 1,
         "xanchor": "right",
         "y": 1,
         "yanchor": "bottom"
        },
        "template": {
         "data": {
          "bar": [
           {
            "error_x": {
             "color": "#2a3f5f"
            },
            "error_y": {
             "color": "#2a3f5f"
            },
            "marker": {
             "line": {
              "color": "white",
              "width": 0.5
             },
             "pattern": {
              "fillmode": "overlay",
              "size": 10,
              "solidity": 0.2
             }
            },
            "type": "bar"
           }
          ],
          "barpolar": [
           {
            "marker": {
             "line": {
              "color": "white",
              "width": 0.5
             },
             "pattern": {
              "fillmode": "overlay",
              "size": 10,
              "solidity": 0.2
             }
            },
            "type": "barpolar"
           }
          ],
          "carpet": [
           {
            "aaxis": {
             "endlinecolor": "#2a3f5f",
             "gridcolor": "#C8D4E3",
             "linecolor": "#C8D4E3",
             "minorgridcolor": "#C8D4E3",
             "startlinecolor": "#2a3f5f"
            },
            "baxis": {
             "endlinecolor": "#2a3f5f",
             "gridcolor": "#C8D4E3",
             "linecolor": "#C8D4E3",
             "minorgridcolor": "#C8D4E3",
             "startlinecolor": "#2a3f5f"
            },
            "type": "carpet"
           }
          ],
          "choropleth": [
           {
            "colorbar": {
             "outlinewidth": 0,
             "ticks": ""
            },
            "type": "choropleth"
           }
          ],
          "contour": [
           {
            "colorbar": {
             "outlinewidth": 0,
             "ticks": ""
            },
            "colorscale": [
             [
              0,
              "#0d0887"
             ],
             [
              0.1111111111111111,
              "#46039f"
             ],
             [
              0.2222222222222222,
              "#7201a8"
             ],
             [
              0.3333333333333333,
              "#9c179e"
             ],
             [
              0.4444444444444444,
              "#bd3786"
             ],
             [
              0.5555555555555556,
              "#d8576b"
             ],
             [
              0.6666666666666666,
              "#ed7953"
             ],
             [
              0.7777777777777778,
              "#fb9f3a"
             ],
             [
              0.8888888888888888,
              "#fdca26"
             ],
             [
              1,
              "#f0f921"
             ]
            ],
            "type": "contour"
           }
          ],
          "contourcarpet": [
           {
            "colorbar": {
             "outlinewidth": 0,
             "ticks": ""
            },
            "type": "contourcarpet"
           }
          ],
          "heatmap": [
           {
            "colorbar": {
             "outlinewidth": 0,
             "ticks": ""
            },
            "colorscale": [
             [
              0,
              "#0d0887"
             ],
             [
              0.1111111111111111,
              "#46039f"
             ],
             [
              0.2222222222222222,
              "#7201a8"
             ],
             [
              0.3333333333333333,
              "#9c179e"
             ],
             [
              0.4444444444444444,
              "#bd3786"
             ],
             [
              0.5555555555555556,
              "#d8576b"
             ],
             [
              0.6666666666666666,
              "#ed7953"
             ],
             [
              0.7777777777777778,
              "#fb9f3a"
             ],
             [
              0.8888888888888888,
              "#fdca26"
             ],
             [
              1,
              "#f0f921"
             ]
            ],
            "type": "heatmap"
           }
          ],
          "heatmapgl": [
           {
            "colorbar": {
             "outlinewidth": 0,
             "ticks": ""
            },
            "colorscale": [
             [
              0,
              "#0d0887"
             ],
             [
              0.1111111111111111,
              "#46039f"
             ],
             [
              0.2222222222222222,
              "#7201a8"
             ],
             [
              0.3333333333333333,
              "#9c179e"
             ],
             [
              0.4444444444444444,
              "#bd3786"
             ],
             [
              0.5555555555555556,
              "#d8576b"
             ],
             [
              0.6666666666666666,
              "#ed7953"
             ],
             [
              0.7777777777777778,
              "#fb9f3a"
             ],
             [
              0.8888888888888888,
              "#fdca26"
             ],
             [
              1,
              "#f0f921"
             ]
            ],
            "type": "heatmapgl"
           }
          ],
          "histogram": [
           {
            "marker": {
             "pattern": {
              "fillmode": "overlay",
              "size": 10,
              "solidity": 0.2
             }
            },
            "type": "histogram"
           }
          ],
          "histogram2d": [
           {
            "colorbar": {
             "outlinewidth": 0,
             "ticks": ""
            },
            "colorscale": [
             [
              0,
              "#0d0887"
             ],
             [
              0.1111111111111111,
              "#46039f"
             ],
             [
              0.2222222222222222,
              "#7201a8"
             ],
             [
              0.3333333333333333,
              "#9c179e"
             ],
             [
              0.4444444444444444,
              "#bd3786"
             ],
             [
              0.5555555555555556,
              "#d8576b"
             ],
             [
              0.6666666666666666,
              "#ed7953"
             ],
             [
              0.7777777777777778,
              "#fb9f3a"
             ],
             [
              0.8888888888888888,
              "#fdca26"
             ],
             [
              1,
              "#f0f921"
             ]
            ],
            "type": "histogram2d"
           }
          ],
          "histogram2dcontour": [
           {
            "colorbar": {
             "outlinewidth": 0,
             "ticks": ""
            },
            "colorscale": [
             [
              0,
              "#0d0887"
             ],
             [
              0.1111111111111111,
              "#46039f"
             ],
             [
              0.2222222222222222,
              "#7201a8"
             ],
             [
              0.3333333333333333,
              "#9c179e"
             ],
             [
              0.4444444444444444,
              "#bd3786"
             ],
             [
              0.5555555555555556,
              "#d8576b"
             ],
             [
              0.6666666666666666,
              "#ed7953"
             ],
             [
              0.7777777777777778,
              "#fb9f3a"
             ],
             [
              0.8888888888888888,
              "#fdca26"
             ],
             [
              1,
              "#f0f921"
             ]
            ],
            "type": "histogram2dcontour"
           }
          ],
          "mesh3d": [
           {
            "colorbar": {
             "outlinewidth": 0,
             "ticks": ""
            },
            "type": "mesh3d"
           }
          ],
          "parcoords": [
           {
            "line": {
             "colorbar": {
              "outlinewidth": 0,
              "ticks": ""
             }
            },
            "type": "parcoords"
           }
          ],
          "pie": [
           {
            "automargin": true,
            "type": "pie"
           }
          ],
          "scatter": [
           {
            "fillpattern": {
             "fillmode": "overlay",
             "size": 10,
             "solidity": 0.2
            },
            "type": "scatter"
           }
          ],
          "scatter3d": [
           {
            "line": {
             "colorbar": {
              "outlinewidth": 0,
              "ticks": ""
             }
            },
            "marker": {
             "colorbar": {
              "outlinewidth": 0,
              "ticks": ""
             }
            },
            "type": "scatter3d"
           }
          ],
          "scattercarpet": [
           {
            "marker": {
             "colorbar": {
              "outlinewidth": 0,
              "ticks": ""
             }
            },
            "type": "scattercarpet"
           }
          ],
          "scattergeo": [
           {
            "marker": {
             "colorbar": {
              "outlinewidth": 0,
              "ticks": ""
             }
            },
            "type": "scattergeo"
           }
          ],
          "scattergl": [
           {
            "marker": {
             "colorbar": {
              "outlinewidth": 0,
              "ticks": ""
             }
            },
            "type": "scattergl"
           }
          ],
          "scattermapbox": [
           {
            "marker": {
             "colorbar": {
              "outlinewidth": 0,
              "ticks": ""
             }
            },
            "type": "scattermapbox"
           }
          ],
          "scatterpolar": [
           {
            "marker": {
             "colorbar": {
              "outlinewidth": 0,
              "ticks": ""
             }
            },
            "type": "scatterpolar"
           }
          ],
          "scatterpolargl": [
           {
            "marker": {
             "colorbar": {
              "outlinewidth": 0,
              "ticks": ""
             }
            },
            "type": "scatterpolargl"
           }
          ],
          "scatterternary": [
           {
            "marker": {
             "colorbar": {
              "outlinewidth": 0,
              "ticks": ""
             }
            },
            "type": "scatterternary"
           }
          ],
          "surface": [
           {
            "colorbar": {
             "outlinewidth": 0,
             "ticks": ""
            },
            "colorscale": [
             [
              0,
              "#0d0887"
             ],
             [
              0.1111111111111111,
              "#46039f"
             ],
             [
              0.2222222222222222,
              "#7201a8"
             ],
             [
              0.3333333333333333,
              "#9c179e"
             ],
             [
              0.4444444444444444,
              "#bd3786"
             ],
             [
              0.5555555555555556,
              "#d8576b"
             ],
             [
              0.6666666666666666,
              "#ed7953"
             ],
             [
              0.7777777777777778,
              "#fb9f3a"
             ],
             [
              0.8888888888888888,
              "#fdca26"
             ],
             [
              1,
              "#f0f921"
             ]
            ],
            "type": "surface"
           }
          ],
          "table": [
           {
            "cells": {
             "fill": {
              "color": "#EBF0F8"
             },
             "line": {
              "color": "white"
             }
            },
            "header": {
             "fill": {
              "color": "#C8D4E3"
             },
             "line": {
              "color": "white"
             }
            },
            "type": "table"
           }
          ]
         },
         "layout": {
          "annotationdefaults": {
           "arrowcolor": "#2a3f5f",
           "arrowhead": 0,
           "arrowwidth": 1
          },
          "autotypenumbers": "strict",
          "coloraxis": {
           "colorbar": {
            "outlinewidth": 0,
            "ticks": ""
           }
          },
          "colorscale": {
           "diverging": [
            [
             0,
             "#8e0152"
            ],
            [
             0.1,
             "#c51b7d"
            ],
            [
             0.2,
             "#de77ae"
            ],
            [
             0.3,
             "#f1b6da"
            ],
            [
             0.4,
             "#fde0ef"
            ],
            [
             0.5,
             "#f7f7f7"
            ],
            [
             0.6,
             "#e6f5d0"
            ],
            [
             0.7,
             "#b8e186"
            ],
            [
             0.8,
             "#7fbc41"
            ],
            [
             0.9,
             "#4d9221"
            ],
            [
             1,
             "#276419"
            ]
           ],
           "sequential": [
            [
             0,
             "#0d0887"
            ],
            [
             0.1111111111111111,
             "#46039f"
            ],
            [
             0.2222222222222222,
             "#7201a8"
            ],
            [
             0.3333333333333333,
             "#9c179e"
            ],
            [
             0.4444444444444444,
             "#bd3786"
            ],
            [
             0.5555555555555556,
             "#d8576b"
            ],
            [
             0.6666666666666666,
             "#ed7953"
            ],
            [
             0.7777777777777778,
             "#fb9f3a"
            ],
            [
             0.8888888888888888,
             "#fdca26"
            ],
            [
             1,
             "#f0f921"
            ]
           ],
           "sequentialminus": [
            [
             0,
             "#0d0887"
            ],
            [
             0.1111111111111111,
             "#46039f"
            ],
            [
             0.2222222222222222,
             "#7201a8"
            ],
            [
             0.3333333333333333,
             "#9c179e"
            ],
            [
             0.4444444444444444,
             "#bd3786"
            ],
            [
             0.5555555555555556,
             "#d8576b"
            ],
            [
             0.6666666666666666,
             "#ed7953"
            ],
            [
             0.7777777777777778,
             "#fb9f3a"
            ],
            [
             0.8888888888888888,
             "#fdca26"
            ],
            [
             1,
             "#f0f921"
            ]
           ]
          },
          "colorway": [
           "#636efa",
           "#EF553B",
           "#00cc96",
           "#ab63fa",
           "#FFA15A",
           "#19d3f3",
           "#FF6692",
           "#B6E880",
           "#FF97FF",
           "#FECB52"
          ],
          "font": {
           "color": "#2a3f5f"
          },
          "geo": {
           "bgcolor": "white",
           "lakecolor": "white",
           "landcolor": "white",
           "showlakes": true,
           "showland": true,
           "subunitcolor": "#C8D4E3"
          },
          "hoverlabel": {
           "align": "left"
          },
          "hovermode": "closest",
          "mapbox": {
           "style": "light"
          },
          "paper_bgcolor": "white",
          "plot_bgcolor": "white",
          "polar": {
           "angularaxis": {
            "gridcolor": "#EBF0F8",
            "linecolor": "#EBF0F8",
            "ticks": ""
           },
           "bgcolor": "white",
           "radialaxis": {
            "gridcolor": "#EBF0F8",
            "linecolor": "#EBF0F8",
            "ticks": ""
           }
          },
          "scene": {
           "xaxis": {
            "backgroundcolor": "white",
            "gridcolor": "#DFE8F3",
            "gridwidth": 2,
            "linecolor": "#EBF0F8",
            "showbackground": true,
            "ticks": "",
            "zerolinecolor": "#EBF0F8"
           },
           "yaxis": {
            "backgroundcolor": "white",
            "gridcolor": "#DFE8F3",
            "gridwidth": 2,
            "linecolor": "#EBF0F8",
            "showbackground": true,
            "ticks": "",
            "zerolinecolor": "#EBF0F8"
           },
           "zaxis": {
            "backgroundcolor": "white",
            "gridcolor": "#DFE8F3",
            "gridwidth": 2,
            "linecolor": "#EBF0F8",
            "showbackground": true,
            "ticks": "",
            "zerolinecolor": "#EBF0F8"
           }
          },
          "shapedefaults": {
           "line": {
            "color": "#2a3f5f"
           }
          },
          "ternary": {
           "aaxis": {
            "gridcolor": "#DFE8F3",
            "linecolor": "#A2B1C6",
            "ticks": ""
           },
           "baxis": {
            "gridcolor": "#DFE8F3",
            "linecolor": "#A2B1C6",
            "ticks": ""
           },
           "bgcolor": "white",
           "caxis": {
            "gridcolor": "#DFE8F3",
            "linecolor": "#A2B1C6",
            "ticks": ""
           }
          },
          "title": {
           "x": 0.05
          },
          "xaxis": {
           "automargin": true,
           "gridcolor": "#EBF0F8",
           "linecolor": "#EBF0F8",
           "ticks": "",
           "title": {
            "standoff": 15
           },
           "zerolinecolor": "#EBF0F8",
           "zerolinewidth": 2
          },
          "yaxis": {
           "automargin": true,
           "gridcolor": "#EBF0F8",
           "linecolor": "#EBF0F8",
           "ticks": "",
           "title": {
            "standoff": 15
           },
           "zerolinecolor": "#EBF0F8",
           "zerolinewidth": 2
          }
         }
        },
        "width": 800,
        "xaxis": {
         "title": {
          "text": "Time since 2024-02-19T06:21:42.000 (s)"
         }
        },
        "yaxis": {
         "title": {
          "text": "Counts per second"
         }
        }
       }
      }
     },
     "metadata": {},
     "output_type": "display_data"
    }
   ],
   "source": [
    "print(msg_format('extract spectrum for n9'))\n",
    "\n",
    "gbm_tte.filter_time([-400, 400])\n",
    "\n",
    "gbm_tte.spec_slices = [[0, 70]]\n",
    "gbm_tte.extract_spectrum(savepath='./n9/spectrum', show=True)"
   ]
  },
  {
   "cell_type": "code",
   "execution_count": 17,
   "id": "6cbdb580",
   "metadata": {},
   "outputs": [
    {
     "name": "stderr",
     "output_type": "stream",
     "text": [
      "/Users/jyang/miniforge3/lib/python3.10/site-packages/responsum/response.py:108: RuntimeWarning:\n",
      "\n",
      "Minimum MC energy (5.0) is larger than minimum EBOUNDS energy (4.380217552185059)\n",
      "\n"
     ]
    }
   ],
   "source": [
    "gbm_resp = gbmResponse(utc, \n",
    "                       'n9', \n",
    "                       gbm_rtv.rtv_res['cspec_pha']['n9'][0], \n",
    "                       gbm_rtv.rtv_res['poshist'][0])\n",
    "gbm_resp.extract_response(ra=80.016, \n",
    "                          dec=25.541, \n",
    "                          spec_slices=[[0, 70]], \n",
    "                          savepath=f'./n9/spectrum')"
   ]
  },
  {
   "cell_type": "code",
   "execution_count": 18,
   "id": "c05c39e6-ecb0-459b-8b24-6200c8cdc936",
   "metadata": {},
   "outputs": [
    {
     "name": "stdout",
     "output_type": "stream",
     "text": [
      "\n",
      "+------------------------------------------------+\n",
      " extract light curve for n9\n",
      "+------------------------------------------------+\n"
     ]
    },
    {
     "data": {
      "application/vnd.plotly.v1+json": {
       "config": {
        "plotlyServerURL": "https://plot.ly"
       },
       "data": [
        {
         "error_y": {
          "array": [
           23.437332855162623,
           23.24714919150321,
           22.90020299799458,
           23.40909579471973,
           23.21969700209574,
           22.740334870156623,
           22.657713531169506,
           23.110829669138067,
           23.02680442721872,
           22.82365276411137,
           23.403211716125057,
           23.44120937812767,
           23.054684464462273,
           23.278212171148834,
           23.634975118706404,
           23.397824256634642,
           23.28912877076768,
           23.338993580049525,
           23.393144281728024,
           23.21257890831795,
           23.0880770958511,
           23.618144757128384,
           23.40328684434112,
           23.087312838527836,
           23.158043112474545,
           23.13605802965471,
           23.385199393118093,
           23.145377625055986,
           23.398023770980377,
           23.306600340159083,
           23.07673664152968,
           23.004690856165656,
           22.768051478287997,
           23.46288006073475,
           23.468780321752963,
           23.229809533429897,
           22.948914042027486,
           23.21369196112512,
           23.51716512834047,
           23.27899912809556,
           23.671034991478162,
           23.56653025305936,
           23.489630938256635,
           23.136287783305484,
           23.18626400238469,
           22.949597694395344,
           23.52312777125999,
           23.44603906561752,
           23.02716013180656,
           23.163345744962907,
           23.496103198379735,
           22.883969998381755,
           23.16976029054283,
           23.38946709750314,
           22.83355988820927,
           23.229723313481735,
           23.485407995877107,
           23.310563766617804,
           23.27405244763047,
           23.280164482549296,
           23.18683385959228,
           23.34405048264806,
           23.51738926548423,
           23.364079070493926,
           23.587971414095747,
           23.52697929038602,
           23.246311987935023,
           23.656704497321417,
           22.940158632789075,
           23.338785202261533,
           23.554961173065003,
           23.212394962169707,
           23.158695880199236,
           23.241238265610722,
           23.24661048256858,
           23.01764916540968,
           23.295061940380233,
           23.03816674593865,
           23.836283363288636,
           23.241536699436065,
           23.693015760081824,
           23.02809333113917,
           23.19642261268897,
           23.448273709070833,
           24.17538435960172,
           23.555767033290387,
           23.849115197768235,
           23.47382711822537,
           23.27391936408254,
           23.262598121703217,
           23.158080279755563,
           23.474394667123054,
           23.282736858774317,
           23.115859230575218,
           23.332814065557667,
           23.33265724337587,
           23.46181619279773,
           23.843780844856536,
           23.360307210154062,
           23.5433574167572,
           23.982612718281032,
           23.954794373367246,
           23.799577196640577,
           24.288563103442215,
           23.672357759981875,
           24.116262748018595,
           23.419697989615486,
           24.10197565094536,
           23.60519071816682,
           24.043144828314897,
           23.82702744029954,
           23.80574195821944,
           23.646050863422087,
           24.013980300257227,
           23.50573467189678,
           24.424946578878277,
           24.02177230996926,
           24.190911536203984,
           24.148551794165986,
           24.07497279830842,
           24.31293014278372,
           24.080849042575544,
           24.164017797115946,
           24.801391732608863,
           24.22873250650189,
           24.169450528800564,
           24.663730927866034,
           23.890862054758415,
           24.144524701732642,
           24.043788930746604,
           23.285212720939587,
           24.11754522329333,
           23.75326460136146,
           23.48996320610743,
           23.768550352804596,
           24.116756363864955,
           23.25684248139026,
           23.858198177914748,
           23.44239464515219,
           23.82676448128099,
           23.902691054541723,
           23.57593100097484,
           23.585718667824644,
           23.88104704901457,
           23.59667013208523,
           23.22925261045529,
           23.120230984257525,
           23.848476316807524,
           23.415540327875043,
           23.656559720755368,
           23.426366124173096,
           23.457821303815965,
           23.493972448803962,
           23.78936950521967,
           23.548700286998855,
           23.40369536245816,
           23.442016005157228,
           23.168317044363068,
           23.505975200153014,
           23.810546670577725,
           23.751093713009734,
           23.597981651228128,
           23.858947411012938,
           23.360154886326463,
           23.58781522242527,
           23.446902293176958,
           23.596513895840598,
           23.694789100974425,
           23.644776990530623,
           23.37619410454128,
           23.736238444181662,
           23.315053992053453,
           23.83209247165396,
           23.63987792674724,
           23.746105961275287,
           23.779746084986947,
           23.591458855823642,
           23.49990590196359,
           23.615911702401405,
           23.355324537413917,
           23.370188608145337,
           23.939740447070854,
           23.704244456380053,
           23.48337008888222,
           23.704068475143835,
           23.630580654723612,
           23.60871838198701,
           23.980574614083526,
           23.532349331159814,
           23.559623471618753,
           23.7269749956365,
           23.758520825816944,
           23.937564360972424,
           23.097559239902132,
           23.8695862021318,
           23.564459224641624,
           23.381410556983663,
           23.522327766734,
           24.395125571431404,
           23.75282848546132,
           23.99620568642571,
           23.225360908133688,
           23.280386356838658,
           23.575396475468196,
           23.40993185163656,
           23.407482561552168,
           23.230077518436012,
           23.602910163214002,
           24.064038723424556,
           23.52116915459184,
           23.605174139334096,
           23.955431322701738,
           24.007902868580782,
           23.634365742162768,
           23.515877012434256,
           23.55408211570161,
           23.802371139850866,
           23.54981540454337,
           23.300358344736367,
           23.570721754393308,
           23.677603128473468,
           23.763425374046566,
           23.56599827608635,
           23.32794182655605,
           23.39303398227111,
           23.453034122753106,
           23.629340776500122,
           23.704872302621038,
           23.94281776397323,
           23.704275372272477,
           23.964002564632064,
           23.762302484500637,
           23.693476898260244,
           23.895219781975513,
           23.666498582654636,
           23.650282063846753,
           23.639723772072177,
           23.969310363690283,
           23.538301422356323,
           24.152899665000554,
           24.142172497878672,
           23.944352848724552,
           23.355523694057624,
           23.814513797980286,
           23.868503770924043,
           23.354687258977822,
           23.58103252632183,
           23.950198990576144,
           23.890188510423332,
           23.80454781211899
          ],
          "thickness": 1.5,
          "type": "data",
          "width": 0
         },
         "marker": {
          "size": 0,
          "symbol": "cross-thin"
         },
         "mode": "lines+markers",
         "name": "source lightcurve",
         "showlegend": true,
         "type": "scatter",
         "x": [
          -199,
          -197,
          -195,
          -193,
          -191,
          -189,
          -187,
          -185,
          -183,
          -181,
          -179,
          -177,
          -175,
          -173,
          -171,
          -169,
          -167,
          -165,
          -163,
          -161,
          -159,
          -157,
          -155,
          -153,
          -151,
          -149,
          -147,
          -145,
          -143,
          -141,
          -139,
          -137,
          -135,
          -133,
          -131,
          -129,
          -127,
          -125,
          -123,
          -121,
          -119,
          -117,
          -115,
          -113,
          -111,
          -109,
          -107,
          -105,
          -103,
          -101,
          -99,
          -97,
          -95,
          -93,
          -91,
          -89,
          -87,
          -85,
          -83,
          -81,
          -79,
          -77,
          -75,
          -73,
          -71,
          -69,
          -67,
          -65,
          -63,
          -61,
          -59,
          -57,
          -55,
          -53,
          -51,
          -49,
          -47,
          -45,
          -43,
          -41,
          -39,
          -37,
          -35,
          -33,
          -31,
          -29,
          -27,
          -25,
          -23,
          -21,
          -19,
          -17,
          -15,
          -13,
          -11,
          -9,
          -7,
          -5,
          -3,
          -1,
          1,
          3,
          5,
          7,
          9,
          11,
          13,
          15,
          17,
          19,
          21,
          23,
          25,
          27,
          29,
          31,
          33,
          35,
          37,
          39,
          41,
          43,
          45,
          47,
          49,
          51,
          53,
          55,
          57,
          59,
          61,
          63,
          65,
          67,
          69,
          71,
          73,
          75,
          77,
          79,
          81,
          83,
          85,
          87,
          89,
          91,
          93,
          95,
          97,
          99,
          101,
          103,
          105,
          107,
          109,
          111,
          113,
          115,
          117,
          119,
          121,
          123,
          125,
          127,
          129,
          131,
          133,
          135,
          137,
          139,
          141,
          143,
          145,
          147,
          149,
          151,
          153,
          155,
          157,
          159,
          161,
          163,
          165,
          167,
          169,
          171,
          173,
          175,
          177,
          179,
          181,
          183,
          185,
          187,
          189,
          191,
          193,
          195,
          197,
          199,
          201,
          203,
          205,
          207,
          209,
          211,
          213,
          215,
          217,
          219,
          221,
          223,
          225,
          227,
          229,
          231,
          233,
          235,
          237,
          239,
          241,
          243,
          245,
          247,
          249,
          251,
          253,
          255,
          257,
          259,
          261,
          263,
          265,
          267,
          269,
          271,
          273,
          275,
          277,
          279,
          281,
          283,
          285,
          287,
          289,
          291,
          293,
          295,
          297,
          299
         ],
         "y": [
          1095.052789269506,
          1077.4244859862588,
          1045.664494459583,
          1092.4802049408597,
          1074.8989379316336,
          1031.1181011378408,
          1023.6172215247092,
          1064.8551455927336,
          1057.228776683993,
          1038.664290761806,
          1091.9548359053208,
          1095.4847369482322,
          1059.7634355233506,
          1080.3698897601398,
          1113.6061909280825,
          1091.4527014758487,
          1081.3782255767017,
          1085.9531137109782,
          1090.9836197963718,
          1074.3186778276774,
          1062.8041518276168,
          1112.0610418682706,
          1091.9583412626127,
          1062.7689710781392,
          1069.2898841866772,
          1067.2721496837153,
          1090.3623503798665,
          1067.9529053335243,
          1091.4620083442671,
          1082.9421315651798,
          1061.7806899758875,
          1055.210901251418,
          1033.6294164211567,
          1097.5011383815508,
          1098.0279638478432,
          1075.8687602621328,
          1050.1479234152296,
          1074.3701918548295,
          1102.5513177946166,
          1080.406413380748,
          1117.062199648459,
          1107.1253928113,
          1100.0071528052893,
          1067.2827482771509,
          1071.8475944068514,
          1050.1792075149099,
          1103.0817063003572,
          1095.961264866702,
          1057.2451081349093,
          1069.7855253053178,
          1100.5610855043665,
          1044.1712525110013,
          1070.332587544579,
          1090.5613371024417,
          1039.616771079697,
          1075.864767058977,
          1099.558611490227,
          1083.3771031058016,
          1079.9260654426166,
          1080.4604988858314,
          1071.8739375933626,
          1086.4392320329234,
          1102.5618259788246,
          1088.374941857205,
          1109.1364146490685,
          1103.5131444466604,
          1077.385684513584,
          1115.6337306240155,
          1049.2458420122648,
          1085.9434179840857,
          1106.0803821971722,
          1074.310164478792,
          1069.3200248130395,
          1076.8997725820416,
          1077.3995187013584,
          1056.3069802631098,
          1081.9045371976536,
          1058.2521145732953,
          1132.662464077595,
          1076.913600731599,
          1119.1031764973686,
          1057.2879540795968,
          1072.8188724638542,
          1096.0657210035688,
          1164.9425149533567,
          1106.118223320303,
          1133.7739934921372,
          1098.5149181837126,
          1079.9198903086294,
          1078.893118858811,
          1069.291600333306,
          1098.5414780168308,
          1080.8306878476715,
          1065.3377030235729,
          1085.414823576454,
          1085.4075283946422,
          1097.4513748286988,
          1133.2695946526933,
          1087.9484702662028,
          1105.0340092650304,
          1146.4090254951334,
          1143.8257539994017,
          1129.163911058603,
          1175.927716164762,
          1117.1246225503269,
          1159.3377557729352,
          1093.4767091968915,
          1157.8986447368288,
          1110.6988493079652,
          1152.3164721557798,
          1131.7210989734247,
          1129.7072473027488,
          1114.629791917379,
          1149.41456117098,
          1101.5139396187778,
          1189.071022459595,
          1150.2892829559134,
          1166.443512226134,
          1162.3960026821899,
          1155.347886134772,
          1178.1113730697386,
          1155.880754043626,
          1163.8932228303677,
          1225.8512817095564,
          1170.024533387493,
          1164.405766261772,
          1212.2919985918145,
          1137.7670328691263,
          1161.9513316985742,
          1152.3473420709724,
          1080.9456222655335,
          1159.399408029024,
          1124.7114352652318,
          1100.0227127352634,
          1126.187927606533,
          1159.3614852990856,
          1078.3754229112546,
          1134.7075434273947,
          1095.5401283708175,
          1131.7086091120602,
          1138.832170252901,
          1108.0687570458174,
          1109.030487654399,
          1136.798042259188,
          1110.0471556859945,
          1075.842966850896,
          1065.7899871112136,
          1133.7436214379882,
          1093.0318043662683,
          1115.6269030618541,
          1094.0388875896865,
          1097.013734993183,
          1100.46128086671,
          1128.1780861966183,
          1105.5356134453596,
          1091.977402036786,
          1095.5224332797243,
          1070.265916444029,
          1101.5252111331895,
          1130.1861019715802,
          1124.6086442175654,
          1110.1088528697944,
          1134.7431773190222,
          1087.9413761610726,
          1109.1290703180807,
          1096.0016155615576,
          1110.039805937153,
          1119.1869375282995,
          1114.5697439760063,
          1089.4409993965942,
          1123.1530553124037,
          1083.8365909452248,
          1132.2125248690456,
          1114.0880319155874,
          1124.1216952778461,
          1127.220164709591,
          1109.551229665668,
          1100.9900282906785,
          1111.7050907263729,
          1087.4656442616977,
          1088.9103583513204,
          1142.3546472863384,
          1120.1352870606265,
          1099.4631991309427,
          1120.1269711325272,
          1113.1483436964652,
          1111.1156815392972,
          1146.3116007034992,
          1104.0158488723187,
          1106.550144829657,
          1122.2131789665646,
          1125.2111714857945,
          1142.2508089814523,
          1063.7422864892192,
          1135.7509310248026,
          1107.0280985500792,
          1089.9349299316796,
          1103.0441912910371,
          1186.1149887304025,
          1124.6907852809782,
          1147.8115377734844,
          1075.4119595239817,
          1080.47079633908,
          1108.043634347005,
          1092.5192229208728,
          1092.4049168854401,
          1075.8811717584854,
          1110.5915419876337,
          1154.3216125627114,
          1102.9898599167768,
          1110.698069221473,
          1143.8561679132692,
          1148.8728503786263,
          1113.5774790090645,
          1102.4909272721145,
          1106.0391039247384,
          1129.296468869044,
          1105.5879646215865,
          1082.4013379644193,
          1107.5731417124787,
          1117.6229984741537,
          1125.694303565441,
          1107.1004012147905,
          1084.9374071871912,
          1090.9784757721518,
          1096.5390798803137,
          1113.0899376669636,
          1120.164955702066,
          1142.752341588841,
          1120.1367479796656,
          1144.7671999014358,
          1125.641111302731,
          1119.1249576503253,
          1138.225411772732,
          1116.597341655612,
          1115.0800760923019,
          1114.0807669931928,
          1145.2716084609838,
          1104.545923779108,
          1162.8561472699619,
          1161.8381322699538,
          1142.8256087252075,
          1087.474917350903,
          1130.6252367591446,
          1135.6994273145344,
          1087.4359714389557,
          1108.5593624007963,
          1143.3555091122776,
          1137.7349563145897,
          1129.650578810484
         ]
        },
        {
         "error_y": {
          "array": [
           5.727265188719229,
           5.551265871181317,
           5.379964042936049,
           5.213387145765807,
           5.05156546428699,
           4.894532095966129,
           4.742322872318352,
           4.5949762202791895,
           4.452532951380792,
           4.315035965111741,
           4.182529851822897,
           4.055060379926569,
           3.9326738521307236,
           3.8154163163016936,
           3.703332618536129,
           3.5964652894360185,
           3.4948532596907644,
           3.398530408085185,
           3.3075239540576016,
           3.2218527178239253,
           3.14152528349962,
           3.0665381139155055,
           2.996873678921685,
           2.9324986705833087,
           2.873362387257558,
           2.8193953725308156,
           2.7705083930174133,
           2.7265918301793524,
           2.6875155454469364,
           2.653129255721694,
           2.6232634294588446,
           2.597730684355679,
           2.57632763906415,
           2.558837146176711,
           2.5450308144606972,
           2.5346717166066197,
           2.5275171752746743,
           2.5233215246110476,
           2.5218387554320016,
           2.522824968124759,
           2.526040575925626,
           2.5312522206081964,
           2.5382343810534427,
           2.5467706714307723,
           2.5566548390343873,
           2.567691481884022,
           2.579696513070022,
           2.5924974028138315,
           2.6059332307910426,
           2.6198545809502516,
           2.634123309374222,
           2.6486122131357965,
           2.663204624989254,
           2.6777939554151238,
           2.692283200228971,
           2.706584428827998,
           2.720618265280489,
           2.734313371913715,
           2.7476059428439235,
           2.7604392130120847,
           2.7727629867207204,
           2.784533188381301,
           2.795711437145147,
           2.8062646462694345,
           2.816164647431014,
           2.825387839714021,
           2.833914862635607,
           2.8417302923138434,
           2.8488223597027473,
           2.8551826897042023,
           2.86080605990121,
           2.8656901776295807,
           2.869835474106435,
           2.8732449143560417,
           2.875923821710504,
           2.8778797157098728,
           2.8791221622795855,
           2.8796626351200088,
           2.8795143873009974,
           2.8786923321122733,
           2.8772129322768896,
           2.8750940966892937,
           2.872355083891038,
           2.869016411545665,
           2.8650997712196755,
           2.86062794781866,
           2.8556247430668633,
           2.8501149024547696,
           2.8441240451129834,
           2.8376785961021223,
           2.830805720637825,
           2.8235332597978102,
           2.815889667284462,
           2.807903946842161,
           2.7996055899538317,
           2.7910245134664384,
           2.782190996820793,
           2.7731356185874207,
           2.7638891920378517,
           2.7544826995097886,
           2.744947225355656,
           2.735313887297208,
           2.725613766044537,
           2.7158778330761137,
           2.7061368765175193,
           2.6964214251003984,
           2.686761670229709,
           2.677187386236488,
           2.6677278489447573,
           2.6584117527344002,
           2.6492671263363996,
           2.640321247651903,
           2.6316005579414834,
           2.623130575784643,
           2.6149358112610623,
           2.607039680853163,
           2.599464423613008,
           2.5922310191742097,
           2.585359108220098,
           2.57886691604177,
           2.5727711798327646,
           2.5670870803700057,
           2.5618281787227306,
           2.5570063586117815,
           2.5526317750108296,
           2.548712809538821,
           2.5452560331397147,
           2.5422661764821806,
           2.5397461084393687,
           2.537696822928668,
           2.5361174343050354,
           2.5350051814109915,
           2.5343554402936563,
           2.534161745506377,
           2.5344158198216635,
           2.5351076120953224,
           2.5362253429408,
           2.537755557799502,
           2.5396831869287118,
           2.541991611774899,
           2.544662737157498,
           2.5476770686572405,
           2.5510137945839895,
           2.554650871891678,
           2.5585651154119855,
           2.5627322897930997,
           2.5671272035545214,
           2.571723804702222,
           2.57649527738952,
           2.5814141391564864,
           2.5864523383333284,
           2.5915813512498054,
           2.596772278952075,
           2.6019959431894595,
           2.6072229814954007,
           2.6124239412485184,
           2.6175693726605234,
           2.622629920697118,
           2.6275764159955695,
           2.6323799648980395,
           2.6370120387728226,
           2.641444562846311,
           2.645650004816833,
           2.6496014635675667,
           2.653272758339745,
           2.6566385187695296,
           2.6596742762325154,
           2.6623565569791268,
           2.6646629775823754,
           2.6665723432569077,
           2.6680647496450858,
           2.6691216887021607,
           2.6697261593485067,
           2.669862783592193,
           2.6695179288597104,
           2.6686798373060077,
           2.6673387629063834,
           2.665487117161386,
           2.663119624270245,
           2.6602334866469137,
           2.6568285616631755,
           2.6529075505027215,
           2.6484761999950233,
           2.6435435182638534,
           2.6381220049670917,
           2.6322278968155235,
           2.6258814289309615,
           2.6191071124291776,
           2.611934028380187,
           2.604396137995342,
           2.5965326085038782,
           2.588388153696093,
           2.5800133875104354,
           2.5714651883110013,
           2.5628070706248756,
           2.5541095600713453,
           2.5454505660077786,
           2.5369157450361497,
           2.5285988469663896,
           2.5206020331379433,
           2.5130361551975393,
           2.5060209805814218,
           2.499685349144757,
           2.494167243743317,
           2.489613756262491,
           2.486180929800814,
           2.4840334576745873,
           2.4833442208604293,
           2.484293647676073,
           2.4870688831302563,
           2.4918627605974772,
           2.4988725753330394,
           2.508298667727598,
           2.5203428338109837,
           2.535206590849317,
           2.5530893362335005,
           2.574186447368325,
           2.598687377994206,
           2.626773811390534,
           2.6586179324601975,
           2.6943808783031162,
           2.734211420460701,
           2.778244921896231,
           2.8266025987273,
           2.8793911018374,
           2.936702418046134,
           2.998614075814277,
           3.0651896276553607,
           3.136479371392377,
           3.2125212656451825,
           3.2933419915891626,
           3.3789581128730832,
           3.469377288146539,
           3.5645994952852265,
           3.6646182324162893,
           3.769421667563544,
           3.878993715569571,
           3.9933150274506395,
           4.1123638831795235,
           4.236116983879626,
           4.364550143471731,
           4.497638882948305,
           4.635358932727332,
           4.77768665006202,
           4.924599359375814,
           5.0760756237801115,
           5.23209545603121,
           5.392640476900057,
           5.55769402845137,
           5.727241249131213
          ],
          "thickness": 1.5,
          "type": "data",
          "width": 0
         },
         "marker": {
          "size": 0,
          "symbol": "cross-thin"
         },
         "mode": "lines+markers",
         "name": "background lightcurve",
         "showlegend": true,
         "type": "scatter",
         "x": [
          -199,
          -197,
          -195,
          -193,
          -191,
          -189,
          -187,
          -185,
          -183,
          -181,
          -179,
          -177,
          -175,
          -173,
          -171,
          -169,
          -167,
          -165,
          -163,
          -161,
          -159,
          -157,
          -155,
          -153,
          -151,
          -149,
          -147,
          -145,
          -143,
          -141,
          -139,
          -137,
          -135,
          -133,
          -131,
          -129,
          -127,
          -125,
          -123,
          -121,
          -119,
          -117,
          -115,
          -113,
          -111,
          -109,
          -107,
          -105,
          -103,
          -101,
          -99,
          -97,
          -95,
          -93,
          -91,
          -89,
          -87,
          -85,
          -83,
          -81,
          -79,
          -77,
          -75,
          -73,
          -71,
          -69,
          -67,
          -65,
          -63,
          -61,
          -59,
          -57,
          -55,
          -53,
          -51,
          -49,
          -47,
          -45,
          -43,
          -41,
          -39,
          -37,
          -35,
          -33,
          -31,
          -29,
          -27,
          -25,
          -23,
          -21,
          -19,
          -17,
          -15,
          -13,
          -11,
          -9,
          -7,
          -5,
          -3,
          -1,
          1,
          3,
          5,
          7,
          9,
          11,
          13,
          15,
          17,
          19,
          21,
          23,
          25,
          27,
          29,
          31,
          33,
          35,
          37,
          39,
          41,
          43,
          45,
          47,
          49,
          51,
          53,
          55,
          57,
          59,
          61,
          63,
          65,
          67,
          69,
          71,
          73,
          75,
          77,
          79,
          81,
          83,
          85,
          87,
          89,
          91,
          93,
          95,
          97,
          99,
          101,
          103,
          105,
          107,
          109,
          111,
          113,
          115,
          117,
          119,
          121,
          123,
          125,
          127,
          129,
          131,
          133,
          135,
          137,
          139,
          141,
          143,
          145,
          147,
          149,
          151,
          153,
          155,
          157,
          159,
          161,
          163,
          165,
          167,
          169,
          171,
          173,
          175,
          177,
          179,
          181,
          183,
          185,
          187,
          189,
          191,
          193,
          195,
          197,
          199,
          201,
          203,
          205,
          207,
          209,
          211,
          213,
          215,
          217,
          219,
          221,
          223,
          225,
          227,
          229,
          231,
          233,
          235,
          237,
          239,
          241,
          243,
          245,
          247,
          249,
          251,
          253,
          255,
          257,
          259,
          261,
          263,
          265,
          267,
          269,
          271,
          273,
          275,
          277,
          279,
          281,
          283,
          285,
          287,
          289,
          291,
          293,
          295,
          297,
          299
         ],
         "y": [
          1068.1880773576936,
          1068.5091467711538,
          1068.8292623211448,
          1069.1484257648365,
          1069.4666388593982,
          1069.7839033619998,
          1070.100221029811,
          1070.4155936200011,
          1070.7300228897398,
          1071.043510596197,
          1071.3560584965417,
          1071.6676683479438,
          1071.9783419075732,
          1072.2880809325989,
          1072.596887180191,
          1072.9047624075192,
          1073.2117083717528,
          1073.5177268300615,
          1073.8228195396146,
          1074.1269882575823,
          1074.4302347411335,
          1074.7325607474386,
          1075.0339680336667,
          1075.3344583569876,
          1075.6340334745705,
          1075.9326951435855,
          1076.230445121202,
          1076.5272851645896,
          1076.823217030918,
          1077.1182424773567,
          1077.4123632610751,
          1077.7055811392433,
          1077.9978978690306,
          1078.2893152076067,
          1078.579834912141,
          1078.8694587398036,
          1079.1581884477635,
          1079.4460257931908,
          1079.7329725332545,
          1080.0190304251248,
          1080.3042012259712,
          1080.588486692963,
          1080.8718885832702,
          1081.154408654062,
          1081.4360486625083,
          1081.7168103657787,
          1081.9966955210427,
          1082.2757058854697,
          1082.5538432162298,
          1082.8311092704923,
          1083.1075058054266,
          1083.383034578203,
          1083.6576973459903,
          1083.9314958659584,
          1084.2044318952771,
          1084.476507191116,
          1084.7477235106444,
          1085.0180826110322,
          1085.2875862494486,
          1085.556236183064,
          1085.824034169047,
          1086.0909819645678,
          1086.357081326796,
          1086.622334012901,
          1086.8867417800527,
          1087.1503063854207,
          1087.413029586174,
          1087.6749131394827,
          1087.9359588025163,
          1088.1961683324448,
          1088.455543486437,
          1088.7140860216632,
          1088.9717976952927,
          1089.2286802644953,
          1089.4847354864403,
          1089.7399651182975,
          1089.9943709172364,
          1090.2479546404268,
          1090.500718045038,
          1090.75266288824,
          1091.003790927202,
          1091.254103919094,
          1091.5036036210854,
          1091.7522917903457,
          1092.0001701840447,
          1092.2472405593517,
          1092.4935046734367,
          1092.7389642834692,
          1092.9836211466186,
          1093.2274770200547,
          1093.470533660947,
          1093.7127928264654,
          1093.954256273779,
          1094.1949257600577,
          1094.434803042471,
          1094.673889878189,
          1094.9121880243804,
          1095.1496992382154,
          1095.3864252768633,
          1095.6223678974943,
          1095.8575288572774,
          1096.0919099133823,
          1096.325512822979,
          1096.5583393432364,
          1096.7903912313247,
          1097.0216702444134,
          1097.2521781396722,
          1097.4819166742702,
          1097.7108876053776,
          1097.9390926901635,
          1098.1665336857977,
          1098.39321234945,
          1098.61913043829,
          1098.844289709487,
          1099.0686919202108,
          1099.2923388276308,
          1099.5152321889173,
          1099.7373737612388,
          1099.9587653017659,
          1100.1794085676677,
          1100.3993053161137,
          1100.6184573042738,
          1100.8368662893174,
          1101.0545340284145,
          1101.2714622787341,
          1101.4876527974463,
          1101.7031073417206,
          1101.9178276687264,
          1102.1318155356335,
          1102.3450726996116,
          1102.5576009178299,
          1102.7694019474584,
          1102.9804775456664,
          1103.1908294696238,
          1103.4004594765001,
          1103.609369323465,
          1103.8175607676878,
          1104.0250355663384,
          1104.231795476586,
          1104.4378422556006,
          1104.6431776605518,
          1104.847803448609,
          1105.0517213769422,
          1105.2549332027206,
          1105.4574406831139,
          1105.6592455752916,
          1105.8603496364235,
          1106.060754623679,
          1106.260462294228,
          1106.4594744052401,
          1106.6577927138844,
          1106.8554189773313,
          1107.0523549527495,
          1107.2486023973095,
          1107.44416306818,
          1107.6390387225315,
          1107.8332311175332,
          1108.0267420103544,
          1108.2195731581648,
          1108.4117263181347,
          1108.603203247433,
          1108.7940057032295,
          1108.9841354426937,
          1109.1735942229955,
          1109.3623838013045,
          1109.5505059347897,
          1109.7379623806214,
          1109.9247548959688,
          1110.1108852380016,
          1110.2963551638898,
          1110.4811664308024,
          1110.6653207959093,
          1110.8488200163802,
          1111.0316658493841,
          1111.2138600520916,
          1111.3954043816716,
          1111.5763005952938,
          1111.7565504501279,
          1111.9361557033435,
          1112.1151181121104,
          1112.2934394335978,
          1112.4711214249755,
          1112.6481658434134,
          1112.8245744460803,
          1113.000348990147,
          1113.175491232782,
          1113.3500029311554,
          1113.5238858424366,
          1113.6971417237958,
          1113.8697723324017,
          1114.0417794254245,
          1114.2131647600336,
          1114.383930093399,
          1114.5540771826895,
          1114.7236077850753,
          1114.892523657726,
          1115.060826557811,
          1115.2285182425,
          1115.3956004689628,
          1115.5620749943687,
          1115.7279435758874,
          1115.8932079706883,
          1116.0578699359417,
          1116.2219312288162,
          1116.3853936064822,
          1116.548258826109,
          1116.7105286448661,
          1116.8722048199234,
          1117.0332891084504,
          1117.1937832676167,
          1117.3536890545915,
          1117.513008226545,
          1117.6717425406466,
          1117.8298937540658,
          1117.9874636239724,
          1118.144453907536,
          1118.3008663619257,
          1118.4567027443118,
          1118.6119648118636,
          1118.7666543217506,
          1118.9207730311423,
          1119.0743226972088,
          1119.2273050771194,
          1119.3797219280436,
          1119.531575007151,
          1119.682866071612,
          1119.8335968785948,
          1119.9837691852701,
          1120.133384748807,
          1120.2824453263754,
          1120.4309526751447,
          1120.5789085522847,
          1120.7263147149647,
          1120.8731729203546,
          1121.0194849256236,
          1121.1652524879419,
          1121.3104773644786,
          1121.4551613124038,
          1121.5993060888864,
          1121.7429134510965,
          1121.8859851562038,
          1122.0285229613776,
          1122.1705286237877,
          1122.3120039006035,
          1122.4529505489947,
          1122.5933703261312,
          1122.7332649891823,
          1122.8726362953175,
          1123.0114860017065,
          1123.149815865519
         ]
        }
       ],
       "layout": {
        "height": 600,
        "legend": {
         "x": 1,
         "xanchor": "right",
         "y": 1,
         "yanchor": "bottom"
        },
        "template": {
         "data": {
          "bar": [
           {
            "error_x": {
             "color": "#2a3f5f"
            },
            "error_y": {
             "color": "#2a3f5f"
            },
            "marker": {
             "line": {
              "color": "white",
              "width": 0.5
             },
             "pattern": {
              "fillmode": "overlay",
              "size": 10,
              "solidity": 0.2
             }
            },
            "type": "bar"
           }
          ],
          "barpolar": [
           {
            "marker": {
             "line": {
              "color": "white",
              "width": 0.5
             },
             "pattern": {
              "fillmode": "overlay",
              "size": 10,
              "solidity": 0.2
             }
            },
            "type": "barpolar"
           }
          ],
          "carpet": [
           {
            "aaxis": {
             "endlinecolor": "#2a3f5f",
             "gridcolor": "#C8D4E3",
             "linecolor": "#C8D4E3",
             "minorgridcolor": "#C8D4E3",
             "startlinecolor": "#2a3f5f"
            },
            "baxis": {
             "endlinecolor": "#2a3f5f",
             "gridcolor": "#C8D4E3",
             "linecolor": "#C8D4E3",
             "minorgridcolor": "#C8D4E3",
             "startlinecolor": "#2a3f5f"
            },
            "type": "carpet"
           }
          ],
          "choropleth": [
           {
            "colorbar": {
             "outlinewidth": 0,
             "ticks": ""
            },
            "type": "choropleth"
           }
          ],
          "contour": [
           {
            "colorbar": {
             "outlinewidth": 0,
             "ticks": ""
            },
            "colorscale": [
             [
              0,
              "#0d0887"
             ],
             [
              0.1111111111111111,
              "#46039f"
             ],
             [
              0.2222222222222222,
              "#7201a8"
             ],
             [
              0.3333333333333333,
              "#9c179e"
             ],
             [
              0.4444444444444444,
              "#bd3786"
             ],
             [
              0.5555555555555556,
              "#d8576b"
             ],
             [
              0.6666666666666666,
              "#ed7953"
             ],
             [
              0.7777777777777778,
              "#fb9f3a"
             ],
             [
              0.8888888888888888,
              "#fdca26"
             ],
             [
              1,
              "#f0f921"
             ]
            ],
            "type": "contour"
           }
          ],
          "contourcarpet": [
           {
            "colorbar": {
             "outlinewidth": 0,
             "ticks": ""
            },
            "type": "contourcarpet"
           }
          ],
          "heatmap": [
           {
            "colorbar": {
             "outlinewidth": 0,
             "ticks": ""
            },
            "colorscale": [
             [
              0,
              "#0d0887"
             ],
             [
              0.1111111111111111,
              "#46039f"
             ],
             [
              0.2222222222222222,
              "#7201a8"
             ],
             [
              0.3333333333333333,
              "#9c179e"
             ],
             [
              0.4444444444444444,
              "#bd3786"
             ],
             [
              0.5555555555555556,
              "#d8576b"
             ],
             [
              0.6666666666666666,
              "#ed7953"
             ],
             [
              0.7777777777777778,
              "#fb9f3a"
             ],
             [
              0.8888888888888888,
              "#fdca26"
             ],
             [
              1,
              "#f0f921"
             ]
            ],
            "type": "heatmap"
           }
          ],
          "heatmapgl": [
           {
            "colorbar": {
             "outlinewidth": 0,
             "ticks": ""
            },
            "colorscale": [
             [
              0,
              "#0d0887"
             ],
             [
              0.1111111111111111,
              "#46039f"
             ],
             [
              0.2222222222222222,
              "#7201a8"
             ],
             [
              0.3333333333333333,
              "#9c179e"
             ],
             [
              0.4444444444444444,
              "#bd3786"
             ],
             [
              0.5555555555555556,
              "#d8576b"
             ],
             [
              0.6666666666666666,
              "#ed7953"
             ],
             [
              0.7777777777777778,
              "#fb9f3a"
             ],
             [
              0.8888888888888888,
              "#fdca26"
             ],
             [
              1,
              "#f0f921"
             ]
            ],
            "type": "heatmapgl"
           }
          ],
          "histogram": [
           {
            "marker": {
             "pattern": {
              "fillmode": "overlay",
              "size": 10,
              "solidity": 0.2
             }
            },
            "type": "histogram"
           }
          ],
          "histogram2d": [
           {
            "colorbar": {
             "outlinewidth": 0,
             "ticks": ""
            },
            "colorscale": [
             [
              0,
              "#0d0887"
             ],
             [
              0.1111111111111111,
              "#46039f"
             ],
             [
              0.2222222222222222,
              "#7201a8"
             ],
             [
              0.3333333333333333,
              "#9c179e"
             ],
             [
              0.4444444444444444,
              "#bd3786"
             ],
             [
              0.5555555555555556,
              "#d8576b"
             ],
             [
              0.6666666666666666,
              "#ed7953"
             ],
             [
              0.7777777777777778,
              "#fb9f3a"
             ],
             [
              0.8888888888888888,
              "#fdca26"
             ],
             [
              1,
              "#f0f921"
             ]
            ],
            "type": "histogram2d"
           }
          ],
          "histogram2dcontour": [
           {
            "colorbar": {
             "outlinewidth": 0,
             "ticks": ""
            },
            "colorscale": [
             [
              0,
              "#0d0887"
             ],
             [
              0.1111111111111111,
              "#46039f"
             ],
             [
              0.2222222222222222,
              "#7201a8"
             ],
             [
              0.3333333333333333,
              "#9c179e"
             ],
             [
              0.4444444444444444,
              "#bd3786"
             ],
             [
              0.5555555555555556,
              "#d8576b"
             ],
             [
              0.6666666666666666,
              "#ed7953"
             ],
             [
              0.7777777777777778,
              "#fb9f3a"
             ],
             [
              0.8888888888888888,
              "#fdca26"
             ],
             [
              1,
              "#f0f921"
             ]
            ],
            "type": "histogram2dcontour"
           }
          ],
          "mesh3d": [
           {
            "colorbar": {
             "outlinewidth": 0,
             "ticks": ""
            },
            "type": "mesh3d"
           }
          ],
          "parcoords": [
           {
            "line": {
             "colorbar": {
              "outlinewidth": 0,
              "ticks": ""
             }
            },
            "type": "parcoords"
           }
          ],
          "pie": [
           {
            "automargin": true,
            "type": "pie"
           }
          ],
          "scatter": [
           {
            "fillpattern": {
             "fillmode": "overlay",
             "size": 10,
             "solidity": 0.2
            },
            "type": "scatter"
           }
          ],
          "scatter3d": [
           {
            "line": {
             "colorbar": {
              "outlinewidth": 0,
              "ticks": ""
             }
            },
            "marker": {
             "colorbar": {
              "outlinewidth": 0,
              "ticks": ""
             }
            },
            "type": "scatter3d"
           }
          ],
          "scattercarpet": [
           {
            "marker": {
             "colorbar": {
              "outlinewidth": 0,
              "ticks": ""
             }
            },
            "type": "scattercarpet"
           }
          ],
          "scattergeo": [
           {
            "marker": {
             "colorbar": {
              "outlinewidth": 0,
              "ticks": ""
             }
            },
            "type": "scattergeo"
           }
          ],
          "scattergl": [
           {
            "marker": {
             "colorbar": {
              "outlinewidth": 0,
              "ticks": ""
             }
            },
            "type": "scattergl"
           }
          ],
          "scattermapbox": [
           {
            "marker": {
             "colorbar": {
              "outlinewidth": 0,
              "ticks": ""
             }
            },
            "type": "scattermapbox"
           }
          ],
          "scatterpolar": [
           {
            "marker": {
             "colorbar": {
              "outlinewidth": 0,
              "ticks": ""
             }
            },
            "type": "scatterpolar"
           }
          ],
          "scatterpolargl": [
           {
            "marker": {
             "colorbar": {
              "outlinewidth": 0,
              "ticks": ""
             }
            },
            "type": "scatterpolargl"
           }
          ],
          "scatterternary": [
           {
            "marker": {
             "colorbar": {
              "outlinewidth": 0,
              "ticks": ""
             }
            },
            "type": "scatterternary"
           }
          ],
          "surface": [
           {
            "colorbar": {
             "outlinewidth": 0,
             "ticks": ""
            },
            "colorscale": [
             [
              0,
              "#0d0887"
             ],
             [
              0.1111111111111111,
              "#46039f"
             ],
             [
              0.2222222222222222,
              "#7201a8"
             ],
             [
              0.3333333333333333,
              "#9c179e"
             ],
             [
              0.4444444444444444,
              "#bd3786"
             ],
             [
              0.5555555555555556,
              "#d8576b"
             ],
             [
              0.6666666666666666,
              "#ed7953"
             ],
             [
              0.7777777777777778,
              "#fb9f3a"
             ],
             [
              0.8888888888888888,
              "#fdca26"
             ],
             [
              1,
              "#f0f921"
             ]
            ],
            "type": "surface"
           }
          ],
          "table": [
           {
            "cells": {
             "fill": {
              "color": "#EBF0F8"
             },
             "line": {
              "color": "white"
             }
            },
            "header": {
             "fill": {
              "color": "#C8D4E3"
             },
             "line": {
              "color": "white"
             }
            },
            "type": "table"
           }
          ]
         },
         "layout": {
          "annotationdefaults": {
           "arrowcolor": "#2a3f5f",
           "arrowhead": 0,
           "arrowwidth": 1
          },
          "autotypenumbers": "strict",
          "coloraxis": {
           "colorbar": {
            "outlinewidth": 0,
            "ticks": ""
           }
          },
          "colorscale": {
           "diverging": [
            [
             0,
             "#8e0152"
            ],
            [
             0.1,
             "#c51b7d"
            ],
            [
             0.2,
             "#de77ae"
            ],
            [
             0.3,
             "#f1b6da"
            ],
            [
             0.4,
             "#fde0ef"
            ],
            [
             0.5,
             "#f7f7f7"
            ],
            [
             0.6,
             "#e6f5d0"
            ],
            [
             0.7,
             "#b8e186"
            ],
            [
             0.8,
             "#7fbc41"
            ],
            [
             0.9,
             "#4d9221"
            ],
            [
             1,
             "#276419"
            ]
           ],
           "sequential": [
            [
             0,
             "#0d0887"
            ],
            [
             0.1111111111111111,
             "#46039f"
            ],
            [
             0.2222222222222222,
             "#7201a8"
            ],
            [
             0.3333333333333333,
             "#9c179e"
            ],
            [
             0.4444444444444444,
             "#bd3786"
            ],
            [
             0.5555555555555556,
             "#d8576b"
            ],
            [
             0.6666666666666666,
             "#ed7953"
            ],
            [
             0.7777777777777778,
             "#fb9f3a"
            ],
            [
             0.8888888888888888,
             "#fdca26"
            ],
            [
             1,
             "#f0f921"
            ]
           ],
           "sequentialminus": [
            [
             0,
             "#0d0887"
            ],
            [
             0.1111111111111111,
             "#46039f"
            ],
            [
             0.2222222222222222,
             "#7201a8"
            ],
            [
             0.3333333333333333,
             "#9c179e"
            ],
            [
             0.4444444444444444,
             "#bd3786"
            ],
            [
             0.5555555555555556,
             "#d8576b"
            ],
            [
             0.6666666666666666,
             "#ed7953"
            ],
            [
             0.7777777777777778,
             "#fb9f3a"
            ],
            [
             0.8888888888888888,
             "#fdca26"
            ],
            [
             1,
             "#f0f921"
            ]
           ]
          },
          "colorway": [
           "#636efa",
           "#EF553B",
           "#00cc96",
           "#ab63fa",
           "#FFA15A",
           "#19d3f3",
           "#FF6692",
           "#B6E880",
           "#FF97FF",
           "#FECB52"
          ],
          "font": {
           "color": "#2a3f5f"
          },
          "geo": {
           "bgcolor": "white",
           "lakecolor": "white",
           "landcolor": "white",
           "showlakes": true,
           "showland": true,
           "subunitcolor": "#C8D4E3"
          },
          "hoverlabel": {
           "align": "left"
          },
          "hovermode": "closest",
          "mapbox": {
           "style": "light"
          },
          "paper_bgcolor": "white",
          "plot_bgcolor": "white",
          "polar": {
           "angularaxis": {
            "gridcolor": "#EBF0F8",
            "linecolor": "#EBF0F8",
            "ticks": ""
           },
           "bgcolor": "white",
           "radialaxis": {
            "gridcolor": "#EBF0F8",
            "linecolor": "#EBF0F8",
            "ticks": ""
           }
          },
          "scene": {
           "xaxis": {
            "backgroundcolor": "white",
            "gridcolor": "#DFE8F3",
            "gridwidth": 2,
            "linecolor": "#EBF0F8",
            "showbackground": true,
            "ticks": "",
            "zerolinecolor": "#EBF0F8"
           },
           "yaxis": {
            "backgroundcolor": "white",
            "gridcolor": "#DFE8F3",
            "gridwidth": 2,
            "linecolor": "#EBF0F8",
            "showbackground": true,
            "ticks": "",
            "zerolinecolor": "#EBF0F8"
           },
           "zaxis": {
            "backgroundcolor": "white",
            "gridcolor": "#DFE8F3",
            "gridwidth": 2,
            "linecolor": "#EBF0F8",
            "showbackground": true,
            "ticks": "",
            "zerolinecolor": "#EBF0F8"
           }
          },
          "shapedefaults": {
           "line": {
            "color": "#2a3f5f"
           }
          },
          "ternary": {
           "aaxis": {
            "gridcolor": "#DFE8F3",
            "linecolor": "#A2B1C6",
            "ticks": ""
           },
           "baxis": {
            "gridcolor": "#DFE8F3",
            "linecolor": "#A2B1C6",
            "ticks": ""
           },
           "bgcolor": "white",
           "caxis": {
            "gridcolor": "#DFE8F3",
            "linecolor": "#A2B1C6",
            "ticks": ""
           }
          },
          "title": {
           "x": 0.05
          },
          "xaxis": {
           "automargin": true,
           "gridcolor": "#EBF0F8",
           "linecolor": "#EBF0F8",
           "ticks": "",
           "title": {
            "standoff": 15
           },
           "zerolinecolor": "#EBF0F8",
           "zerolinewidth": 2
          },
          "yaxis": {
           "automargin": true,
           "gridcolor": "#EBF0F8",
           "linecolor": "#EBF0F8",
           "ticks": "",
           "title": {
            "standoff": 15
           },
           "zerolinecolor": "#EBF0F8",
           "zerolinewidth": 2
          }
         }
        },
        "width": 800,
        "xaxis": {
         "title": {
          "text": "Time since 2024-02-19T06:21:42.000 (s)"
         }
        },
        "yaxis": {
         "title": {
          "text": "Counts per second (binsize=2 s)"
         }
        }
       }
      }
     },
     "metadata": {},
     "output_type": "display_data"
    },
    {
     "name": "stdout",
     "output_type": "stream",
     "text": [
      "\n",
      "+------------------------------------------------+\n",
      " extract light curve for na\n",
      "+------------------------------------------------+\n"
     ]
    },
    {
     "data": {
      "application/vnd.plotly.v1+json": {
       "config": {
        "plotlyServerURL": "https://plot.ly"
       },
       "data": [
        {
         "error_y": {
          "array": [
           22.57705640749634,
           22.986926260341637,
           22.651230863457386,
           23.184224609987815,
           22.889617997948733,
           22.749006474668093,
           22.76720643060737,
           22.402387339229765,
           22.54764872066899,
           22.757300109226076,
           22.965147927336332,
           22.381664262993528,
           22.50891644526057,
           22.381156831156446,
           23.196218777676233,
           22.911482916635787,
           23.185841310629964,
           22.8774690717448,
           22.91080482497336,
           22.865648692081287,
           22.902185676759448,
           22.62191619393035,
           22.739529882241772,
           22.944536225662752,
           22.66593260042537,
           22.58940062735555,
           22.244358782789277,
           22.382270517035373,
           22.873430782272834,
           22.628245999466607,
           23.217758538211555,
           22.926887170699864,
           22.60084500462909,
           22.80529294256908,
           22.516166231877158,
           23.11400397789467,
           22.716164360704646,
           22.82704607004548,
           22.200226690405504,
           22.21602874496175,
           22.86789693406008,
           23.014827211174627,
           23.147925189233746,
           23.03850962008917,
           22.814881351450495,
           22.53883382339731,
           22.7159478713048,
           23.132819689643345,
           23.003175783198557,
           22.999279608080865,
           22.751434905311182,
           23.327809465422465,
           22.62093585053911,
           22.76232143434568,
           22.385909867394766,
           22.65629597965798,
           22.732767208500892,
           23.36851883522778,
           22.53619313792323,
           22.977881604229786,
           22.81699400407832,
           22.792981291331934,
           22.784281341979,
           22.883077997546746,
           23.021097009358225,
           22.953633684533187,
           23.18435021606011,
           22.81752051145978,
           22.78993083672189,
           23.27728194129159,
           23.030569909898137,
           23.342021331050262,
           23.091438112586165,
           22.82846826139923,
           22.531730191577932,
           23.031420201549796,
           22.301446165985965,
           22.881755727302483,
           22.53841326185201,
           23.440655800792076,
           22.677848745697492,
           22.932755959057918,
           22.986188325204772,
           23.180548175449363,
           22.717431476154058,
           23.240728147692664,
           23.02096073872218,
           22.970717781647792,
           23.1123575876688,
           23.203198024046348,
           23.010257870231055,
           23.169978828446542,
           23.25536645030815,
           22.947767760704576,
           23.107365669341164,
           23.157324536718203,
           23.461203511973366,
           22.824057559984645,
           22.98281059321849,
           23.12021717281503,
           23.02832711217631,
           22.667417479012258,
           22.902991861143068,
           23.28865878277676,
           23.4143409259385,
           23.277676640797946,
           23.26712151592784,
           23.147065875195462,
           23.019090370060155,
           23.654643791137204,
           23.57531253286637,
           23.726670242322463,
           23.415097471063746,
           23.5848206189106,
           23.66943833010426,
           23.267940956603947,
           23.256085108366825,
           23.752382560790114,
           23.676528892110632,
           23.500820977976872,
           24.09663941189352,
           23.87937574518317,
           23.693569294838817,
           23.948795854038252,
           24.180554733913297,
           23.552580028440634,
           23.90064386062621,
           23.579266419923858,
           23.654643791137204,
           23.714152824927307,
           23.63401885616297,
           22.648892696395592,
           23.44514426764721,
           23.47359850081556,
           22.97186779319297,
           23.761839419248965,
           23.634445737186542,
           23.446567550562204,
           22.95063424700704,
           23.300400551407353,
           23.613041831056798,
           23.172910026870497,
           23.364130016910394,
           23.65605137287908,
           23.298757101812022,
           23.521006722008014,
           23.014483178921793,
           23.64929191116914,
           23.088117530452845,
           23.1532331186388,
           22.94846762381422,
           23.152434007956934,
           23.25199402949621,
           23.08137880132468,
           23.298880995337008,
           23.76112412677882,
           22.827648361337374,
           23.326629800559672,
           23.70474369563572,
           22.859900804124024,
           23.54341735021759,
           23.274530639661926,
           23.337229357966027,
           23.08230282552424,
           23.052202050329573,
           22.994461034879855,
           23.03170672700975,
           23.597268218891994,
           23.49027448747217,
           23.255851772958856,
           23.357712297850803,
           23.3758914857972,
           23.336878133566017,
           23.195555503667546,
           23.091394095706455,
           23.320600380962034,
           23.40682780856244,
           23.223384925512082,
           23.451739424955047,
           23.67097973345387,
           23.426616783903107,
           23.301368495066487,
           23.336039920721674,
           23.49226813122285,
           23.296410681023524,
           23.249829114736496,
           23.073112371580407,
           23.04525651367663,
           22.71622589002396,
           23.185834331581503,
           23.40872553003534,
           23.51173991821624,
           23.033141772258602,
           23.483202566225593,
           23.082617798047796,
           23.214478759528728,
           23.081631221643573,
           23.16252495281612,
           23.1850782928798,
           23.338580499713242,
           23.244015395242545,
           22.88854328573529,
           23.098248744884728,
           23.278386666505153,
           23.434632580997054,
           23.129941806445892,
           23.616992238458046,
           23.282617012297866,
           22.966295351237527,
           23.640755087995895,
           23.505060447571555,
           23.229161642989133,
           23.358598166305665,
           22.849918890772503,
           22.877409397559695,
           23.28890880795999,
           23.44588529421323,
           23.401392556262234,
           23.3913328011025,
           23.692570745496067,
           23.820141485918825,
           23.417382202103695,
           23.671915598602954,
           23.359050500715977,
           22.629624048625626,
           22.981201226327613,
           23.47713624407765,
           23.698486395606647,
           23.699387711761396,
           23.342386681262877,
           23.283275779745818,
           23.618193740033586,
           23.381717946171396,
           23.468455176095965,
           23.137256571777698,
           22.983315584301536,
           23.68722463816218,
           23.132406530130563,
           23.23214470622251,
           24.01549844701179,
           23.465733209429384,
           23.48773611894315,
           23.269657574313882,
           23.768519046127857,
           23.681613585545396,
           23.586664234698947,
           23.504013321192357,
           23.34135155203012,
           23.38666573179099,
           23.25483915154289
          ],
          "thickness": 1.5,
          "type": "data",
          "width": 0
         },
         "marker": {
          "size": 0,
          "symbol": "cross-thin"
         },
         "mode": "lines+markers",
         "name": "source lightcurve",
         "showlegend": true,
         "type": "scatter",
         "x": [
          -199,
          -197,
          -195,
          -193,
          -191,
          -189,
          -187,
          -185,
          -183,
          -181,
          -179,
          -177,
          -175,
          -173,
          -171,
          -169,
          -167,
          -165,
          -163,
          -161,
          -159,
          -157,
          -155,
          -153,
          -151,
          -149,
          -147,
          -145,
          -143,
          -141,
          -139,
          -137,
          -135,
          -133,
          -131,
          -129,
          -127,
          -125,
          -123,
          -121,
          -119,
          -117,
          -115,
          -113,
          -111,
          -109,
          -107,
          -105,
          -103,
          -101,
          -99,
          -97,
          -95,
          -93,
          -91,
          -89,
          -87,
          -85,
          -83,
          -81,
          -79,
          -77,
          -75,
          -73,
          -71,
          -69,
          -67,
          -65,
          -63,
          -61,
          -59,
          -57,
          -55,
          -53,
          -51,
          -49,
          -47,
          -45,
          -43,
          -41,
          -39,
          -37,
          -35,
          -33,
          -31,
          -29,
          -27,
          -25,
          -23,
          -21,
          -19,
          -17,
          -15,
          -13,
          -11,
          -9,
          -7,
          -5,
          -3,
          -1,
          1,
          3,
          5,
          7,
          9,
          11,
          13,
          15,
          17,
          19,
          21,
          23,
          25,
          27,
          29,
          31,
          33,
          35,
          37,
          39,
          41,
          43,
          45,
          47,
          49,
          51,
          53,
          55,
          57,
          59,
          61,
          63,
          65,
          67,
          69,
          71,
          73,
          75,
          77,
          79,
          81,
          83,
          85,
          87,
          89,
          91,
          93,
          95,
          97,
          99,
          101,
          103,
          105,
          107,
          109,
          111,
          113,
          115,
          117,
          119,
          121,
          123,
          125,
          127,
          129,
          131,
          133,
          135,
          137,
          139,
          141,
          143,
          145,
          147,
          149,
          151,
          153,
          155,
          157,
          159,
          161,
          163,
          165,
          167,
          169,
          171,
          173,
          175,
          177,
          179,
          181,
          183,
          185,
          187,
          189,
          191,
          193,
          195,
          197,
          199,
          201,
          203,
          205,
          207,
          209,
          211,
          213,
          215,
          217,
          219,
          221,
          223,
          225,
          227,
          229,
          231,
          233,
          235,
          237,
          239,
          241,
          243,
          245,
          247,
          249,
          251,
          253,
          255,
          257,
          259,
          261,
          263,
          265,
          267,
          269,
          271,
          273,
          275,
          277,
          279,
          281,
          283,
          285,
          287,
          289,
          291,
          293,
          295,
          297,
          299
         ],
         "y": [
          1016.2183635573863,
          1053.3932958238372,
          1022.8228445751713,
          1071.502527461767,
          1044.4289647341186,
          1031.7621223020826,
          1033.340272430632,
          1000.6121037651303,
          1013.6415793468698,
          1032.3891270262015,
          1051.392528270972,
          998.683803967047,
          1010.1464040192391,
          998.6611620423288,
          1072.5586423193513,
          1046.4304081640435,
          1071.5772463213948,
          1043.3731209627606,
          1046.3994378537554,
          1042.3325456148398,
          1045.504216482384,
          1020.2459123702057,
          1030.8308205473527,
          1049.4460660470788,
          1024.2393618296587,
          1017.2757295768102,
          986.5567474262253,
          998.7108554001113,
          1042.9381499049766,
          1020.7822231603498,
          1074.5584001420705,
          1047.8866649123302,
          1018.2928536006885,
          1036.8260342352232,
          1010.722587899258,
          1065.0014051196117,
          1028.7689132217622,
          1038.8187141460826,
          982.595174800622,
          984.047200561258,
          1042.4350319171735,
          1055.9266933051138,
          1068.0704527163857,
          1058.0170603118888,
          1037.7636629435913,
          1012.7438184504969,
          1028.7591088568586,
          1066.6211789023737,
          1054.890629461214,
          1054.4611633224897,
          1031.872261738588,
          1084.680429164197,
          1020.2016989919465,
          1032.8677686464487,
          999.1240611142922,
          1023.3024015101536,
          1030.273487953274,
          1088.5817605667928,
          1012.6251637804593,
          1052.4772796843492,
          1037.859759613822,
          1035.764834334305,
          1034.8679778338603,
          1043.8797695298067,
          1056.4652058752708,
          1050.3638954114447,
          1071.5083325825417,
          1037.8837084663421,
          1035.3754274309676,
          1080.0759153405093,
          1057.4016611439,
          1086.0939936343352,
          1062.9588681569828,
          1038.8834355729741,
          1012.1738736154961,
          1057.4407005514543,
          991.5996413187985,
          1043.8194502336883,
          1012.724921239194,
          1095.2080458809392,
          1025.279561734119,
          1048.4057460660956,
          1053.359479387611,
          1071.0818046629734,
          1028.8262983050502,
          1076.6253204415227,
          1056.45895225558,
          1051.898368057684,
          1064.9255460038305,
          1073.1322306611187,
          1055.4662567337393,
          1070.091870372091,
          1078.056183933943,
          1049.8447002304642,
          1064.4447561197549,
          1069.0059117883009,
          1097.1719052151836,
          1038.4319136313604,
          1052.9538993807487,
          1065.5385469606015,
          1057.0478754892922,
          1024.3064612569374,
          1045.7918389715308,
          1081.1055952707877,
          1092.7249902191581,
          1080.0942295677326,
          1079.1029087918744,
          1068.0308030317426,
          1056.1222882241511,
          1115.285725867886,
          1107.7888594571152,
          1121.9479103067877,
          1092.7602974595882,
          1108.7374430467662,
          1116.7360404232359,
          1079.1409135281526,
          1078.0894989868768,
          1124.4188244871025,
          1117.3214628672988,
          1100.7820670258875,
          1157.140596195366,
          1136.4676358101403,
          1118.878480364335,
          1143.0376662522694,
          1165.1916604794085,
          1105.7177548069876,
          1138.4837824515546,
          1108.2255217364213,
          1115.285725867886,
          1120.854394090398,
          1113.3103045172102,
          1022.7172639689936,
          1095.6686272646702,
          1098.2533907883583,
          1051.951030550825,
          1125.3683411358204,
          1113.3304132869137,
          1095.7351419518857,
          1049.975840020805,
          1082.1524810540536,
          1111.319159423274,
          1070.4780903633998,
          1088.1265080259489,
          1115.3520915184774,
          1082.076153479635,
          1102.7314225877524,
          1055.910909009373,
          1114.7825687339712,
          1062.5552034552409,
          1068.5662329458335,
          1049.8767184896783,
          1068.5293524511462,
          1077.6490273715829,
          1061.994279778756,
          1082.0819075303068,
          1125.3344646548649,
          1038.8461233633534,
          1084.625577919311,
          1119.908031065205,
          1041.819758660973,
          1104.7859911129449,
          1079.6974238278988,
          1085.620217740098,
          1062.036794934491,
          1059.3985505501648,
          1053.9894428484383,
          1057.453855783761,
          1109.8244550721786,
          1099.78645478518,
          1078.078682185515,
          1087.5768226543455,
          1089.1760781814703,
          1085.6038791977728,
          1072.5279735160839,
          1062.9568419456916,
          1084.0944234704587,
          1092.1235567489373,
          1075.0696613033917,
          1096.2277223699189,
          1116.8087646108288,
          1093.799750954842,
          1082.1974357590143,
          1085.5648865308788,
          1100.1306511750076,
          1081.7163446737611,
          1077.5486911044143,
          1061.1123447552504,
          1058.5777811848486,
          1028.7716997595753,
          1071.5769237715494,
          1092.2121012685816,
          1101.7953544574998,
          1057.5197429604955,
          1099.2045391378022,
          1062.0512870937841,
          1074.1557817877363,
          1062.0058938568002,
          1069.496826824987,
          1071.5419820215723,
          1085.6830712509116,
          1077.0284529145936,
          1044.3799267569636,
          1063.5232397887723,
          1080.1271750665912,
          1094.6758119088086,
          1066.48848383061,
          1111.755956322841,
          1080.574323748094,
          1051.4450597382324,
          1113.878525024134,
          1101.231523015739,
          1075.5879462711714,
          1087.6180702725687,
          1040.8633417160872,
          1043.3703994011858,
          1081.1172019342314,
          1095.7032578709523,
          1091.6191541436478,
          1090.6483277210598,
          1118.8313259927295,
          1130.8924186156332,
          1093.117782613337,
          1116.8529192006583,
          1087.6391317709927,
          1020.8443883005114,
          1052.8801664864882,
          1098.6697767884286,
          1119.361573556455,
          1119.4041458394443,
          1086.1109932191557,
          1080.6048979395262,
          1111.812516299643,
          1089.6984364934588,
          1097.761920324761,
          1067.076627439853,
          1052.9770354688217,
          1118.3280368702067,
          1066.6021287090762,
          1075.9769117927672,
          1149.4872263420125,
          1097.6345974425114,
          1099.6676114176,
          1079.471364012391,
          1125.935595279741,
          1117.8122988452117,
          1108.8241125995332,
          1101.1824642787947,
          1086.0628291108983,
          1090.179902260079,
          1078.031739782702
         ]
        },
        {
         "error_y": {
          "array": [
           5.953992198079435,
           5.774533258275136,
           5.599873576883202,
           5.430034550618808,
           5.265039864004477,
           5.104915417789176,
           4.949689210984887,
           4.799391167463421,
           4.654052897166252,
           4.513707381235,
           4.378388569872282,
           4.248130881619999,
           4.122968593148228,
           4.002935109757259,
           3.8880621087956193,
           3.778378551272926,
           3.6739095612580726,
           3.5746751783041195,
           3.4806889951417004,
           3.3919567011073224,
           3.3084745609219435,
           3.230227868004458,
           3.1571894207791447,
           3.089318078513434,
           3.026557459080073,
           2.9688348436425707,
           2.9160603517178347,
           2.868126443778946,
           2.8249077973820906,
           2.78626158715264,
           2.75202817984982,
           2.7220322346624046,
           2.6960841777222697,
           2.673982000502489,
           2.655513316051879,
           2.6404575962372663,
           2.628588508044022,
           2.6196762675842744,
           2.6134899362218253,
           2.609799593106975,
           2.608378331103546,
           2.6090040371883454,
           2.611460932616797,
           2.6155408614167137,
           2.6210443273352917,
           2.627781288776604,
           2.6355717283661697,
           2.6442460186305894,
           2.653645108108491,
           2.663620553332834,
           2.6740344219009335,
           2.684759090630193,
           2.695676960904968,
           2.7066801110256824,
           2.717669902893568,
           2.728556557868412,
           2.739258714239796,
           2.7497029765312493,
           2.7598234648559954,
           2.769561370782258,
           2.778864524647428,
           2.7876869779736206,
           2.7959886035647368,
           2.8037347149851404,
           2.8108957064093056,
           2.817446713266753,
           2.8233672936653313,
           2.828641130238047,
           2.833255751806144,
           2.8372022740681677,
           2.8404751583976955,
           2.8430719877497515,
           2.8449932586280218,
           2.8462421880438336,
           2.8468245343969545,
           2.8467484312222804,
           2.8460242327712244,
           2.8446643704286663,
           2.8426832190031006,
           2.8400969719670788,
           2.836923524765659,
           2.8331823653512154,
           2.8288944711428603,
           2.8240822116473314,
           2.818769256015213,
           2.8129804848416438,
           2.806741905554267,
           2.8000805707631726,
           2.7930244989782516,
           2.7856025971290017,
           2.777844584350791,
           2.7697809165302796,
           2.7614427111316497,
           2.752861671854934,
           2.7440700127085944,
           2.735100381111146,
           2.725985779671481,
           2.716759486335182,
           2.707454972624964,
           2.6981058197478216,
           2.688745632389863,
           2.6794079500723798,
           2.6701261559995526,
           2.660933383389357,
           2.65186241934445,
           2.6429456063888126,
           2.63421474186809,
           2.6257009754861764,
           2.6174347053266334,
           2.60944547278388,
           2.6017618569042873,
           2.5944113687098427,
           2.5874203461451817,
           2.5808138503506726,
           2.5746155640180675,
           2.568847692629048,
           2.563530869409122,
           2.5586840648480584,
           2.554324501642076,
           2.550467575901203,
           2.547126785437006,
           2.544313665900934,
           2.542037735482183,
           2.540306448796961,
           2.5391251605097054,
           2.538497099122822,
           2.538423351257298,
           2.5389028566244742,
           2.5399324137624486,
           2.541506696481924,
           2.543618280839098,
           2.5462576823303813,
           2.5494134028883653,
           2.5530719871531242,
           2.5572180873999413,
           2.5618345364257635,
           2.566902427633457,
           2.572401201506133,
           2.5783087376337535,
           2.5846014514407853,
           2.5912543947661995,
           2.598241359464626,
           2.6055349832286354,
           2.6131068568753126,
           2.620927632393771,
           2.6289671311121663,
           2.637194451411202,
           2.64557807548429,
           2.6540859747205934,
           2.6626857133646995,
           2.6713445501840534,
           2.6800295379514583,
           2.688707620623814,
           2.69734572816909,
           2.7059108690606855,
           2.7143702205214963,
           2.722691216658885,
           2.730841634686431,
           2.7387896794787956,
           2.7465040667525544,
           2.753954105208748,
           2.761109778012516,
           2.7679418240219906,
           2.7744218192130714,
           2.7805222587792966,
           2.7862166404171873,
           2.7914795493377382,
           2.7962867455744465,
           2.8006152541879277,
           2.804443458997007,
           2.8077512004964387,
           2.8105198786522694,
           2.812732561297338,
           2.8143740988813497,
           2.8154312463621416,
           2.8158927930565922,
           2.8157497013004518,
           2.81499525479504,
           2.8136252175439043,
           2.811638004302239,
           2.8090348634736984,
           2.805820073390248,
           2.802001152896887,
           2.797589087129936,
           2.7925985693192388,
           2.7870482593541754,
           2.7809610597226024,
           2.77436440925084,
           2.7672905948303415,
           2.7597770809995508,
           2.751866856843029,
           2.7436087991578697,
           2.7350580502024964,
           2.7262764075670227,
           2.717332722770077,
           2.708303304078787,
           2.6992723177546742,
           2.6903321804437743,
           2.6815839337594274,
           2.6731375902709513,
           2.665112438150157,
           2.657637289705456,
           2.650850657046137,
           2.644900836299333,
           2.6399458803209703,
           2.63615343891065,
           2.633700445404395,
           2.6327726294464995,
           2.6335638380018738,
           2.6362751505036672,
           2.641113779609828,
           2.6482917564227773,
           2.658024408102076,
           2.6705286462595215,
           2.6860210958297372,
           2.7047161054936226,
           2.72682369125133,
           2.7525474733523128,
           2.7820826724710104,
           2.8156142329130027,
           2.853315138201833,
           2.8953449775085023,
           2.9418488104033136,
           2.992956363157816,
           3.048781573502768,
           3.1094224837723403,
           3.174961466180553,
           3.2454657498682105,
           3.320988208299583,
           3.401568358147838,
           3.4872335171306417,
           3.578000068105248,
           3.6738747795754763,
           3.774856137891664,
           3.8809356530628087,
           3.992099107502309,
           4.108327724550377,
           4.229599240751336,
           4.355888872261499,
           4.487170171214458,
           4.623415772291673,
           4.764598033147603,
           4.910689574797294,
           5.0616637297078455,
           5.217494906278888,
           5.378158878790362,
           5.54363301186812,
           5.71389642818517,
           5.888930127576855,
           6.06871706508049
          ],
          "thickness": 1.5,
          "type": "data",
          "width": 0
         },
         "marker": {
          "size": 0,
          "symbol": "cross-thin"
         },
         "mode": "lines+markers",
         "name": "background lightcurve",
         "showlegend": true,
         "type": "scatter",
         "x": [
          -199,
          -197,
          -195,
          -193,
          -191,
          -189,
          -187,
          -185,
          -183,
          -181,
          -179,
          -177,
          -175,
          -173,
          -171,
          -169,
          -167,
          -165,
          -163,
          -161,
          -159,
          -157,
          -155,
          -153,
          -151,
          -149,
          -147,
          -145,
          -143,
          -141,
          -139,
          -137,
          -135,
          -133,
          -131,
          -129,
          -127,
          -125,
          -123,
          -121,
          -119,
          -117,
          -115,
          -113,
          -111,
          -109,
          -107,
          -105,
          -103,
          -101,
          -99,
          -97,
          -95,
          -93,
          -91,
          -89,
          -87,
          -85,
          -83,
          -81,
          -79,
          -77,
          -75,
          -73,
          -71,
          -69,
          -67,
          -65,
          -63,
          -61,
          -59,
          -57,
          -55,
          -53,
          -51,
          -49,
          -47,
          -45,
          -43,
          -41,
          -39,
          -37,
          -35,
          -33,
          -31,
          -29,
          -27,
          -25,
          -23,
          -21,
          -19,
          -17,
          -15,
          -13,
          -11,
          -9,
          -7,
          -5,
          -3,
          -1,
          1,
          3,
          5,
          7,
          9,
          11,
          13,
          15,
          17,
          19,
          21,
          23,
          25,
          27,
          29,
          31,
          33,
          35,
          37,
          39,
          41,
          43,
          45,
          47,
          49,
          51,
          53,
          55,
          57,
          59,
          61,
          63,
          65,
          67,
          69,
          71,
          73,
          75,
          77,
          79,
          81,
          83,
          85,
          87,
          89,
          91,
          93,
          95,
          97,
          99,
          101,
          103,
          105,
          107,
          109,
          111,
          113,
          115,
          117,
          119,
          121,
          123,
          125,
          127,
          129,
          131,
          133,
          135,
          137,
          139,
          141,
          143,
          145,
          147,
          149,
          151,
          153,
          155,
          157,
          159,
          161,
          163,
          165,
          167,
          169,
          171,
          173,
          175,
          177,
          179,
          181,
          183,
          185,
          187,
          189,
          191,
          193,
          195,
          197,
          199,
          201,
          203,
          205,
          207,
          209,
          211,
          213,
          215,
          217,
          219,
          221,
          223,
          225,
          227,
          229,
          231,
          233,
          235,
          237,
          239,
          241,
          243,
          245,
          247,
          249,
          251,
          253,
          255,
          257,
          259,
          261,
          263,
          265,
          267,
          269,
          271,
          273,
          275,
          277,
          279,
          281,
          283,
          285,
          287,
          289,
          291,
          293,
          295,
          297,
          299
         ],
         "y": [
          1025.154736195599,
          1025.514787488732,
          1025.8751824881072,
          1026.235907651497,
          1026.5969494366732,
          1026.9582943014077,
          1027.3199287034731,
          1027.6818391006414,
          1028.0440119506843,
          1028.4064337113741,
          1028.7690908404832,
          1029.1319697957833,
          1029.4950570350468,
          1029.8583390160454,
          1030.2218021965516,
          1030.585433034337,
          1030.9492179871743,
          1031.313143512835,
          1031.6771960690917,
          1032.0413621137163,
          1032.4056281044807,
          1032.769980499157,
          1033.1344057555177,
          1033.4988903313347,
          1033.8634206843797,
          1034.2279832724253,
          1034.5925645532436,
          1034.9571509846062,
          1035.3217290242858,
          1035.6862851300539,
          1036.0508057596828,
          1036.4152773709448,
          1036.7796864216118,
          1037.1440193694561,
          1037.5082626722497,
          1037.8724027877645,
          1038.2364261737725,
          1038.6003192880462,
          1038.9640685883576,
          1039.3276605324784,
          1039.6910815781814,
          1040.054318183238,
          1040.4173568054207,
          1040.7801839025012,
          1041.142785932252,
          1041.5051493524454,
          1041.867260620853,
          1042.2291061952465,
          1042.590672533399,
          1042.951946093082,
          1043.3129133320676,
          1043.673560708128,
          1044.0338746790355,
          1044.3938417025618,
          1044.7534482364792,
          1045.1126807385597,
          1045.4715256665756,
          1045.8299694782986,
          1046.1879986315012,
          1046.5455995839552,
          1046.902758793433,
          1047.2594627177064,
          1047.6156978145475,
          1047.9714505417287,
          1048.3267073570219,
          1048.681454718199,
          1049.0356790830324,
          1049.389366909294,
          1049.742504654756,
          1050.0950787771903,
          1050.4470757343693,
          1050.7984819840647,
          1051.149283984049,
          1051.4994681920937,
          1051.849021065972,
          1052.1979290634547,
          1052.5461786423145,
          1052.8937562603237,
          1053.2406483752543,
          1053.5868414448782,
          1053.9323219269672,
          1054.277076279294,
          1054.6210909596305,
          1054.9643524257485,
          1055.3068471354204,
          1055.6485615464183,
          1055.989482116514,
          1056.32959530348,
          1056.668887565088,
          1057.0073453591103,
          1057.344955143319,
          1057.6817033754862,
          1058.0175765133838,
          1058.3525610147842,
          1058.6866433374594,
          1059.0198099391812,
          1059.352047277722,
          1059.6833418108536,
          1060.0136799963486,
          1060.3430482919784,
          1060.6714331555158,
          1060.9988210447325,
          1061.3251984174008,
          1061.6505517312924,
          1061.9748674441796,
          1062.2981320138347,
          1062.6203318980295,
          1062.9414535545363,
          1063.2614834411272,
          1063.580408015574,
          1063.8982137356493,
          1064.2148870591245,
          1064.5304144437723,
          1064.8447823473643,
          1065.157977227673,
          1065.4699855424706,
          1065.7807937495286,
          1066.0903883066196,
          1066.3987556715153,
          1066.7058823019884,
          1067.0117546558104,
          1067.3163591907537,
          1067.61968236459,
          1067.9217106350918,
          1068.222430460031,
          1068.52182829718,
          1068.8198906043106,
          1069.1166038391948,
          1069.4119544596049,
          1069.705928923313,
          1069.998513688091,
          1070.2896952117112,
          1070.5794599519454,
          1070.8677943665662,
          1071.1546849133451,
          1071.4401180500545,
          1071.7240802344668,
          1072.0065579243535,
          1072.287537577487,
          1072.5670056516392,
          1072.8449486045824,
          1073.121352894089,
          1073.3962049779302,
          1073.6694913138788,
          1073.9411983597067,
          1074.211312573186,
          1074.4798204120887,
          1074.746708334187,
          1075.0119627972529,
          1075.275570259059,
          1075.5375171773762,
          1075.7977900099777,
          1076.0563752146354,
          1076.313259249121,
          1076.568428571207,
          1076.8218696386652,
          1077.0735689092678,
          1077.3235128407869,
          1077.5716878909946,
          1077.8180805176628,
          1078.062677178564,
          1078.3054643314697,
          1078.5464284341529,
          1078.7855559443847,
          1079.0228333199377,
          1079.258247018584,
          1079.4917834980956,
          1079.7234292162445,
          1079.953170630803,
          1080.1809941995432,
          1080.4068863802368,
          1080.6308336306563,
          1080.8528224085737,
          1081.072839171761,
          1081.2908703779904,
          1081.5069024850338,
          1081.7209219506635,
          1081.9329152326516,
          1082.14286878877,
          1082.3507690767908,
          1082.5566025544863,
          1082.7603556796284,
          1082.9620149099894,
          1083.1615667033414,
          1083.3589975174561,
          1083.554293810106,
          1083.747442039063,
          1083.938428662099,
          1084.1272401369865,
          1084.3138629214975,
          1084.4982834734042,
          1084.680488250478,
          1084.8604637104918,
          1085.0381963112172,
          1085.2136725104267,
          1085.386878765892,
          1085.5578015353856,
          1085.726427276679,
          1085.8927424475446,
          1086.056733505755,
          1086.2183869090816,
          1086.3776891152963,
          1086.534626582172,
          1086.6891857674805,
          1086.8413531289937,
          1086.9911151244835,
          1087.1384582117225,
          1087.2833688484825,
          1087.4258334925357,
          1087.565838601654,
          1087.7033706336097,
          1087.8384160461749,
          1087.9709612971217,
          1088.100992844222,
          1088.228497145248,
          1088.3534606579717,
          1088.4758698401654,
          1088.5957111496011,
          1088.7129710440508,
          1088.8276359812867,
          1088.9396924190808,
          1089.0491268152052,
          1089.1559256274322,
          1089.2600753135334,
          1089.3615623312817,
          1089.4603731384482,
          1089.5564941928058,
          1089.649911952126,
          1089.7406128741816,
          1089.828583416744,
          1089.9138100375858,
          1089.9962791944786,
          1090.0759773451948,
          1090.1528909475064,
          1090.2270064591858,
          1090.2983103380045,
          1090.366789041735,
          1090.4324290281493,
          1090.4952167550196,
          1090.5551386801178,
          1090.6121812612162,
          1090.6663309560865,
          1090.7175742225013,
          1090.7658975182324,
          1090.8112873010518,
          1090.853730028732,
          1090.8932121590447,
          1090.929720149762,
          1090.9632404586562,
          1090.9937595434992
         ]
        }
       ],
       "layout": {
        "height": 600,
        "legend": {
         "x": 1,
         "xanchor": "right",
         "y": 1,
         "yanchor": "bottom"
        },
        "template": {
         "data": {
          "bar": [
           {
            "error_x": {
             "color": "#2a3f5f"
            },
            "error_y": {
             "color": "#2a3f5f"
            },
            "marker": {
             "line": {
              "color": "white",
              "width": 0.5
             },
             "pattern": {
              "fillmode": "overlay",
              "size": 10,
              "solidity": 0.2
             }
            },
            "type": "bar"
           }
          ],
          "barpolar": [
           {
            "marker": {
             "line": {
              "color": "white",
              "width": 0.5
             },
             "pattern": {
              "fillmode": "overlay",
              "size": 10,
              "solidity": 0.2
             }
            },
            "type": "barpolar"
           }
          ],
          "carpet": [
           {
            "aaxis": {
             "endlinecolor": "#2a3f5f",
             "gridcolor": "#C8D4E3",
             "linecolor": "#C8D4E3",
             "minorgridcolor": "#C8D4E3",
             "startlinecolor": "#2a3f5f"
            },
            "baxis": {
             "endlinecolor": "#2a3f5f",
             "gridcolor": "#C8D4E3",
             "linecolor": "#C8D4E3",
             "minorgridcolor": "#C8D4E3",
             "startlinecolor": "#2a3f5f"
            },
            "type": "carpet"
           }
          ],
          "choropleth": [
           {
            "colorbar": {
             "outlinewidth": 0,
             "ticks": ""
            },
            "type": "choropleth"
           }
          ],
          "contour": [
           {
            "colorbar": {
             "outlinewidth": 0,
             "ticks": ""
            },
            "colorscale": [
             [
              0,
              "#0d0887"
             ],
             [
              0.1111111111111111,
              "#46039f"
             ],
             [
              0.2222222222222222,
              "#7201a8"
             ],
             [
              0.3333333333333333,
              "#9c179e"
             ],
             [
              0.4444444444444444,
              "#bd3786"
             ],
             [
              0.5555555555555556,
              "#d8576b"
             ],
             [
              0.6666666666666666,
              "#ed7953"
             ],
             [
              0.7777777777777778,
              "#fb9f3a"
             ],
             [
              0.8888888888888888,
              "#fdca26"
             ],
             [
              1,
              "#f0f921"
             ]
            ],
            "type": "contour"
           }
          ],
          "contourcarpet": [
           {
            "colorbar": {
             "outlinewidth": 0,
             "ticks": ""
            },
            "type": "contourcarpet"
           }
          ],
          "heatmap": [
           {
            "colorbar": {
             "outlinewidth": 0,
             "ticks": ""
            },
            "colorscale": [
             [
              0,
              "#0d0887"
             ],
             [
              0.1111111111111111,
              "#46039f"
             ],
             [
              0.2222222222222222,
              "#7201a8"
             ],
             [
              0.3333333333333333,
              "#9c179e"
             ],
             [
              0.4444444444444444,
              "#bd3786"
             ],
             [
              0.5555555555555556,
              "#d8576b"
             ],
             [
              0.6666666666666666,
              "#ed7953"
             ],
             [
              0.7777777777777778,
              "#fb9f3a"
             ],
             [
              0.8888888888888888,
              "#fdca26"
             ],
             [
              1,
              "#f0f921"
             ]
            ],
            "type": "heatmap"
           }
          ],
          "heatmapgl": [
           {
            "colorbar": {
             "outlinewidth": 0,
             "ticks": ""
            },
            "colorscale": [
             [
              0,
              "#0d0887"
             ],
             [
              0.1111111111111111,
              "#46039f"
             ],
             [
              0.2222222222222222,
              "#7201a8"
             ],
             [
              0.3333333333333333,
              "#9c179e"
             ],
             [
              0.4444444444444444,
              "#bd3786"
             ],
             [
              0.5555555555555556,
              "#d8576b"
             ],
             [
              0.6666666666666666,
              "#ed7953"
             ],
             [
              0.7777777777777778,
              "#fb9f3a"
             ],
             [
              0.8888888888888888,
              "#fdca26"
             ],
             [
              1,
              "#f0f921"
             ]
            ],
            "type": "heatmapgl"
           }
          ],
          "histogram": [
           {
            "marker": {
             "pattern": {
              "fillmode": "overlay",
              "size": 10,
              "solidity": 0.2
             }
            },
            "type": "histogram"
           }
          ],
          "histogram2d": [
           {
            "colorbar": {
             "outlinewidth": 0,
             "ticks": ""
            },
            "colorscale": [
             [
              0,
              "#0d0887"
             ],
             [
              0.1111111111111111,
              "#46039f"
             ],
             [
              0.2222222222222222,
              "#7201a8"
             ],
             [
              0.3333333333333333,
              "#9c179e"
             ],
             [
              0.4444444444444444,
              "#bd3786"
             ],
             [
              0.5555555555555556,
              "#d8576b"
             ],
             [
              0.6666666666666666,
              "#ed7953"
             ],
             [
              0.7777777777777778,
              "#fb9f3a"
             ],
             [
              0.8888888888888888,
              "#fdca26"
             ],
             [
              1,
              "#f0f921"
             ]
            ],
            "type": "histogram2d"
           }
          ],
          "histogram2dcontour": [
           {
            "colorbar": {
             "outlinewidth": 0,
             "ticks": ""
            },
            "colorscale": [
             [
              0,
              "#0d0887"
             ],
             [
              0.1111111111111111,
              "#46039f"
             ],
             [
              0.2222222222222222,
              "#7201a8"
             ],
             [
              0.3333333333333333,
              "#9c179e"
             ],
             [
              0.4444444444444444,
              "#bd3786"
             ],
             [
              0.5555555555555556,
              "#d8576b"
             ],
             [
              0.6666666666666666,
              "#ed7953"
             ],
             [
              0.7777777777777778,
              "#fb9f3a"
             ],
             [
              0.8888888888888888,
              "#fdca26"
             ],
             [
              1,
              "#f0f921"
             ]
            ],
            "type": "histogram2dcontour"
           }
          ],
          "mesh3d": [
           {
            "colorbar": {
             "outlinewidth": 0,
             "ticks": ""
            },
            "type": "mesh3d"
           }
          ],
          "parcoords": [
           {
            "line": {
             "colorbar": {
              "outlinewidth": 0,
              "ticks": ""
             }
            },
            "type": "parcoords"
           }
          ],
          "pie": [
           {
            "automargin": true,
            "type": "pie"
           }
          ],
          "scatter": [
           {
            "fillpattern": {
             "fillmode": "overlay",
             "size": 10,
             "solidity": 0.2
            },
            "type": "scatter"
           }
          ],
          "scatter3d": [
           {
            "line": {
             "colorbar": {
              "outlinewidth": 0,
              "ticks": ""
             }
            },
            "marker": {
             "colorbar": {
              "outlinewidth": 0,
              "ticks": ""
             }
            },
            "type": "scatter3d"
           }
          ],
          "scattercarpet": [
           {
            "marker": {
             "colorbar": {
              "outlinewidth": 0,
              "ticks": ""
             }
            },
            "type": "scattercarpet"
           }
          ],
          "scattergeo": [
           {
            "marker": {
             "colorbar": {
              "outlinewidth": 0,
              "ticks": ""
             }
            },
            "type": "scattergeo"
           }
          ],
          "scattergl": [
           {
            "marker": {
             "colorbar": {
              "outlinewidth": 0,
              "ticks": ""
             }
            },
            "type": "scattergl"
           }
          ],
          "scattermapbox": [
           {
            "marker": {
             "colorbar": {
              "outlinewidth": 0,
              "ticks": ""
             }
            },
            "type": "scattermapbox"
           }
          ],
          "scatterpolar": [
           {
            "marker": {
             "colorbar": {
              "outlinewidth": 0,
              "ticks": ""
             }
            },
            "type": "scatterpolar"
           }
          ],
          "scatterpolargl": [
           {
            "marker": {
             "colorbar": {
              "outlinewidth": 0,
              "ticks": ""
             }
            },
            "type": "scatterpolargl"
           }
          ],
          "scatterternary": [
           {
            "marker": {
             "colorbar": {
              "outlinewidth": 0,
              "ticks": ""
             }
            },
            "type": "scatterternary"
           }
          ],
          "surface": [
           {
            "colorbar": {
             "outlinewidth": 0,
             "ticks": ""
            },
            "colorscale": [
             [
              0,
              "#0d0887"
             ],
             [
              0.1111111111111111,
              "#46039f"
             ],
             [
              0.2222222222222222,
              "#7201a8"
             ],
             [
              0.3333333333333333,
              "#9c179e"
             ],
             [
              0.4444444444444444,
              "#bd3786"
             ],
             [
              0.5555555555555556,
              "#d8576b"
             ],
             [
              0.6666666666666666,
              "#ed7953"
             ],
             [
              0.7777777777777778,
              "#fb9f3a"
             ],
             [
              0.8888888888888888,
              "#fdca26"
             ],
             [
              1,
              "#f0f921"
             ]
            ],
            "type": "surface"
           }
          ],
          "table": [
           {
            "cells": {
             "fill": {
              "color": "#EBF0F8"
             },
             "line": {
              "color": "white"
             }
            },
            "header": {
             "fill": {
              "color": "#C8D4E3"
             },
             "line": {
              "color": "white"
             }
            },
            "type": "table"
           }
          ]
         },
         "layout": {
          "annotationdefaults": {
           "arrowcolor": "#2a3f5f",
           "arrowhead": 0,
           "arrowwidth": 1
          },
          "autotypenumbers": "strict",
          "coloraxis": {
           "colorbar": {
            "outlinewidth": 0,
            "ticks": ""
           }
          },
          "colorscale": {
           "diverging": [
            [
             0,
             "#8e0152"
            ],
            [
             0.1,
             "#c51b7d"
            ],
            [
             0.2,
             "#de77ae"
            ],
            [
             0.3,
             "#f1b6da"
            ],
            [
             0.4,
             "#fde0ef"
            ],
            [
             0.5,
             "#f7f7f7"
            ],
            [
             0.6,
             "#e6f5d0"
            ],
            [
             0.7,
             "#b8e186"
            ],
            [
             0.8,
             "#7fbc41"
            ],
            [
             0.9,
             "#4d9221"
            ],
            [
             1,
             "#276419"
            ]
           ],
           "sequential": [
            [
             0,
             "#0d0887"
            ],
            [
             0.1111111111111111,
             "#46039f"
            ],
            [
             0.2222222222222222,
             "#7201a8"
            ],
            [
             0.3333333333333333,
             "#9c179e"
            ],
            [
             0.4444444444444444,
             "#bd3786"
            ],
            [
             0.5555555555555556,
             "#d8576b"
            ],
            [
             0.6666666666666666,
             "#ed7953"
            ],
            [
             0.7777777777777778,
             "#fb9f3a"
            ],
            [
             0.8888888888888888,
             "#fdca26"
            ],
            [
             1,
             "#f0f921"
            ]
           ],
           "sequentialminus": [
            [
             0,
             "#0d0887"
            ],
            [
             0.1111111111111111,
             "#46039f"
            ],
            [
             0.2222222222222222,
             "#7201a8"
            ],
            [
             0.3333333333333333,
             "#9c179e"
            ],
            [
             0.4444444444444444,
             "#bd3786"
            ],
            [
             0.5555555555555556,
             "#d8576b"
            ],
            [
             0.6666666666666666,
             "#ed7953"
            ],
            [
             0.7777777777777778,
             "#fb9f3a"
            ],
            [
             0.8888888888888888,
             "#fdca26"
            ],
            [
             1,
             "#f0f921"
            ]
           ]
          },
          "colorway": [
           "#636efa",
           "#EF553B",
           "#00cc96",
           "#ab63fa",
           "#FFA15A",
           "#19d3f3",
           "#FF6692",
           "#B6E880",
           "#FF97FF",
           "#FECB52"
          ],
          "font": {
           "color": "#2a3f5f"
          },
          "geo": {
           "bgcolor": "white",
           "lakecolor": "white",
           "landcolor": "white",
           "showlakes": true,
           "showland": true,
           "subunitcolor": "#C8D4E3"
          },
          "hoverlabel": {
           "align": "left"
          },
          "hovermode": "closest",
          "mapbox": {
           "style": "light"
          },
          "paper_bgcolor": "white",
          "plot_bgcolor": "white",
          "polar": {
           "angularaxis": {
            "gridcolor": "#EBF0F8",
            "linecolor": "#EBF0F8",
            "ticks": ""
           },
           "bgcolor": "white",
           "radialaxis": {
            "gridcolor": "#EBF0F8",
            "linecolor": "#EBF0F8",
            "ticks": ""
           }
          },
          "scene": {
           "xaxis": {
            "backgroundcolor": "white",
            "gridcolor": "#DFE8F3",
            "gridwidth": 2,
            "linecolor": "#EBF0F8",
            "showbackground": true,
            "ticks": "",
            "zerolinecolor": "#EBF0F8"
           },
           "yaxis": {
            "backgroundcolor": "white",
            "gridcolor": "#DFE8F3",
            "gridwidth": 2,
            "linecolor": "#EBF0F8",
            "showbackground": true,
            "ticks": "",
            "zerolinecolor": "#EBF0F8"
           },
           "zaxis": {
            "backgroundcolor": "white",
            "gridcolor": "#DFE8F3",
            "gridwidth": 2,
            "linecolor": "#EBF0F8",
            "showbackground": true,
            "ticks": "",
            "zerolinecolor": "#EBF0F8"
           }
          },
          "shapedefaults": {
           "line": {
            "color": "#2a3f5f"
           }
          },
          "ternary": {
           "aaxis": {
            "gridcolor": "#DFE8F3",
            "linecolor": "#A2B1C6",
            "ticks": ""
           },
           "baxis": {
            "gridcolor": "#DFE8F3",
            "linecolor": "#A2B1C6",
            "ticks": ""
           },
           "bgcolor": "white",
           "caxis": {
            "gridcolor": "#DFE8F3",
            "linecolor": "#A2B1C6",
            "ticks": ""
           }
          },
          "title": {
           "x": 0.05
          },
          "xaxis": {
           "automargin": true,
           "gridcolor": "#EBF0F8",
           "linecolor": "#EBF0F8",
           "ticks": "",
           "title": {
            "standoff": 15
           },
           "zerolinecolor": "#EBF0F8",
           "zerolinewidth": 2
          },
          "yaxis": {
           "automargin": true,
           "gridcolor": "#EBF0F8",
           "linecolor": "#EBF0F8",
           "ticks": "",
           "title": {
            "standoff": 15
           },
           "zerolinecolor": "#EBF0F8",
           "zerolinewidth": 2
          }
         }
        },
        "width": 800,
        "xaxis": {
         "title": {
          "text": "Time since 2024-02-19T06:21:42.000 (s)"
         }
        },
        "yaxis": {
         "title": {
          "text": "Counts per second (binsize=2 s)"
         }
        }
       }
      }
     },
     "metadata": {},
     "output_type": "display_data"
    }
   ],
   "source": [
    "for det in ['n9', 'na']:\n",
    "    gbm_tte = gbmTTE(gbm_rtv.rtv_res['tte'][det])\n",
    "    gbm_tte.timezero = fermi_met\n",
    "    gbm_tte.filter_time([-200, 300])\n",
    "    gbm_tte.filter_energy([10, 1000])\n",
    "\n",
    "    print(msg_format(f'extract light curve for {det}'))\n",
    "    \n",
    "    gbm_tte.lc_binsize = 2\n",
    "    gbm_tte.extract_curve(savepath=f'./{det}/curve', show=True)"
   ]
  },
  {
   "cell_type": "code",
   "execution_count": 19,
   "id": "1769a64a-1f9d-4c3f-ad99-bf4e924ed385",
   "metadata": {},
   "outputs": [
    {
     "name": "stdout",
     "output_type": "stream",
     "text": [
      "\n",
      "+------------------------------------------------+\n",
      " calculate txx for n9\n",
      "+------------------------------------------------+\n",
      "\n",
      "+------------------------------------------------+\n",
      " id#  Txx       Txx-    Txx+    Txx1    Txx2    \n",
      "+-----------------------------------------------+\n",
      " 1    57.822    5.562   6.714   4.874   62.696  \n",
      "+------------------------------------------------+\n",
      "\n",
      "+------------------------------------------------+\n",
      " id#  Txx       Txx-    Txx+    Txx1    Txx2    \n",
      "+-----------------------------------------------+\n",
      " 1    68.789    7.090   9.075   0.886   69.675  \n",
      "+------------------------------------------------+\n",
      "\n",
      "+------------------------------------------------+\n",
      " calculate txx for na\n",
      "+------------------------------------------------+\n",
      "\n",
      "+------------------------------------------------+\n",
      " id#  Txx       Txx-    Txx+    Txx1    Txx2    \n",
      "+-----------------------------------------------+\n",
      " 1    49.849    11.572  16.624  20.834  70.683  \n",
      "+------------------------------------------------+\n",
      "\n",
      "+------------------------------------------------+\n",
      " id#  Txx       Txx-    Txx+    Txx1    Txx2    \n",
      "+-----------------------------------------------+\n",
      " 1    54.834    12.289  20.811  18.342  73.176  \n",
      "+------------------------------------------------+\n"
     ]
    }
   ],
   "source": [
    "for det in ['n9', 'na']:\n",
    "    gbm_tte = gbmTTE(gbm_rtv.rtv_res['tte'][det])\n",
    "    gbm_tte.timezero = fermi_met\n",
    "    gbm_tte.filter_time([-200, 300])\n",
    "    gbm_tte.filter_energy([10, 1000])\n",
    "\n",
    "    print(msg_format(f'calculate txx for {det}'))\n",
    "    \n",
    "    gbm_tte.lc_binsize = 2\n",
    "    gbm_tte.calculate_txx(xx=0.9, savepath=f'./{det}/curve/t90')\n",
    "    gbm_tte.calculate_txx(xx=1.0, savepath=f'./{det}/curve/t100')"
   ]
  },
  {
   "cell_type": "code",
   "execution_count": 20,
   "id": "5b8deb79-5097-49f6-95c8-946d36399d66",
   "metadata": {},
   "outputs": [
    {
     "name": "stdout",
     "output_type": "stream",
     "text": [
      "\n",
      "+------------------------------------------------+\n",
      " extract spectrum for n9\n",
      "+------------------------------------------------+\n"
     ]
    },
    {
     "data": {
      "application/vnd.plotly.v1+json": {
       "config": {
        "plotlyServerURL": "https://plot.ly"
       },
       "data": [
        {
         "mode": "lines",
         "name": "total lightcurve",
         "showlegend": true,
         "type": "scatter",
         "x": [
          -398,
          -394,
          -390,
          -386,
          -382,
          -378,
          -374,
          -370,
          -366,
          -362,
          -358,
          -354,
          -350,
          -346,
          -342,
          -338,
          -334,
          -330,
          -326,
          -322,
          -318,
          -314,
          -310,
          -306,
          -302,
          -298,
          -294,
          -290,
          -286,
          -282,
          -278,
          -274,
          -270,
          -266,
          -262,
          -258,
          -254,
          -250,
          -246,
          -242,
          -238,
          -234,
          -230,
          -226,
          -222,
          -218,
          -214,
          -210,
          -206,
          -202,
          -198,
          -194,
          -190,
          -186,
          -182,
          -178,
          -174,
          -170,
          -166,
          -162,
          -158,
          -154,
          -150,
          -146,
          -142,
          -138,
          -134,
          -130,
          -126,
          -122,
          -118,
          -114,
          -110,
          -106,
          -102,
          -98,
          -94,
          -90,
          -86,
          -82,
          -78,
          -74,
          -70,
          -66,
          -62,
          -58,
          -54,
          -50,
          -46,
          -42,
          -38,
          -34,
          -30,
          -26,
          -22,
          -18,
          -14,
          -10,
          -6,
          -2,
          2,
          6,
          10,
          14,
          18,
          22,
          26,
          30,
          34,
          38,
          42,
          46,
          50,
          54,
          58,
          62,
          66,
          70,
          74,
          78,
          82,
          86,
          90,
          94,
          98,
          102,
          106,
          110,
          114,
          118,
          122,
          126,
          130,
          134,
          138,
          142,
          146,
          150,
          154,
          158,
          162,
          166,
          170,
          174,
          178,
          182,
          186,
          190,
          194,
          198,
          202,
          206,
          210,
          214,
          218,
          222,
          226,
          230,
          234,
          238,
          242,
          246,
          250,
          254,
          258,
          262,
          266,
          270,
          274,
          278,
          282,
          286,
          290,
          294,
          298,
          302,
          306,
          310,
          314,
          318,
          322,
          326,
          330,
          334,
          338,
          342,
          346,
          350,
          354,
          358,
          362,
          366,
          370,
          374,
          378,
          382,
          386,
          390,
          394,
          398
         ],
         "y": [
          1108.75,
          1092.5,
          1118.5,
          1060.25,
          1083,
          1112.5,
          1080,
          1089.5,
          1132,
          1096.5,
          1106.5,
          1090.5,
          1082,
          1105.75,
          1126,
          1108.75,
          1087.75,
          1104.75,
          1078.25,
          1125.25,
          1128.5,
          1079.5,
          1094.75,
          1130,
          1129.25,
          1109.5,
          1112.75,
          1098.75,
          1145,
          1115.5,
          1111.75,
          1104,
          1098,
          1120.75,
          1120.25,
          1129,
          1122,
          1127.25,
          1091.5,
          1121,
          1126,
          1135.75,
          1132.25,
          1134.75,
          1109,
          1136.5,
          1113.5,
          1129.25,
          1111.25,
          1144,
          1154.75,
          1127,
          1113.5,
          1114,
          1107,
          1154,
          1128,
          1163.5,
          1143.25,
          1136.25,
          1147.5,
          1137.25,
          1121.5,
          1141.5,
          1151.5,
          1116.75,
          1130.25,
          1146.75,
          1114.25,
          1161,
          1173.25,
          1147,
          1118.75,
          1162.75,
          1123.25,
          1138,
          1148.5,
          1117.5,
          1154.25,
          1147.75,
          1146.5,
          1154.25,
          1173,
          1160.25,
          1134.25,
          1151,
          1133.75,
          1132,
          1129.25,
          1169.5,
          1151.75,
          1147.25,
          1203.75,
          1180.75,
          1145.5,
          1141.5,
          1132.5,
          1144,
          1179,
          1161.25,
          1219.25,
          1212.25,
          1192.25,
          1188.5,
          1200.5,
          1196.5,
          1201.5,
          1205,
          1221.75,
          1221,
          1238.5,
          1259,
          1233.25,
          1240,
          1227,
          1186.5,
          1180,
          1201.25,
          1166.25,
          1179.75,
          1187.5,
          1193.5,
          1148.75,
          1161.75,
          1174,
          1159.75,
          1177.75,
          1161.25,
          1143.25,
          1180.75,
          1177.5,
          1176.5,
          1167.5,
          1177.75,
          1160,
          1162,
          1183.75,
          1189.5,
          1166.75,
          1171.25,
          1180.75,
          1167.25,
          1183.25,
          1195.5,
          1167.5,
          1188.75,
          1160,
          1183.25,
          1158.5,
          1224.25,
          1179,
          1154.5,
          1156.25,
          1157.25,
          1187.5,
          1202.5,
          1193.5,
          1164.5,
          1184.5,
          1159.25,
          1185.5,
          1164.25,
          1161.25,
          1183.25,
          1192.5,
          1193,
          1189,
          1176.5,
          1189.5,
          1191.75,
          1215,
          1168.5,
          1175,
          1195.5,
          1193,
          1213.5,
          1189,
          1222.25,
          1227.5,
          1178.25,
          1143.5,
          1162.75,
          1181.5,
          1191,
          1157,
          1179.5,
          1195.25,
          1182.75,
          1158.25,
          1218.25,
          1192,
          1189,
          1197,
          1198.25,
          1164.5,
          1174,
          1190.75,
          1199.25,
          1175,
          1158.25
         ]
        },
        {
         "mode": "lines",
         "name": "total background",
         "showlegend": true,
         "type": "scatter",
         "x": [
          -300,
          -293.93939393939394,
          -287.8787878787879,
          -281.8181818181818,
          -275.75757575757575,
          -269.6969696969697,
          -263.6363636363636,
          -257.57575757575756,
          -251.5151515151515,
          -245.45454545454544,
          -239.39393939393938,
          -233.33333333333331,
          -227.27272727272728,
          -221.21212121212122,
          -215.15151515151516,
          -209.0909090909091,
          -203.03030303030303,
          -196.96969696969697,
          -190.9090909090909,
          -184.84848484848484,
          -178.78787878787878,
          -172.72727272727275,
          -166.66666666666666,
          -160.6060606060606,
          -154.54545454545456,
          -148.4848484848485,
          -142.42424242424244,
          -136.36363636363637,
          -130.3030303030303,
          -124.24242424242425,
          -118.18181818181819,
          -112.12121212121212,
          -106.06060606060606,
          -100,
          -93.93939393939394,
          -87.87878787878788,
          -81.81818181818181,
          -75.75757575757575,
          -69.69696969696969,
          -63.636363636363626,
          -57.575757575757564,
          -51.51515151515153,
          -45.45454545454547,
          -39.39393939393938,
          -33.333333333333314,
          -27.272727272727252,
          -21.21212121212119,
          -15.151515151515127,
          -9.090909090909122,
          -3.0303030303030596,
          3.0303030303030027,
          9.090909090909065,
          15.151515151515127,
          21.21212121212119,
          27.272727272727252,
          33.333333333333314,
          39.39393939393938,
          45.45454545454544,
          51.5151515151515,
          57.575757575757564,
          63.636363636363626,
          69.69696969696969,
          75.75757575757575,
          81.81818181818181,
          87.87878787878788,
          93.93939393939394,
          100,
          106.06060606060606,
          112.12121212121212,
          118.18181818181819,
          124.24242424242425,
          130.3030303030303,
          136.36363636363637,
          142.42424242424244,
          148.4848484848485,
          154.54545454545456,
          160.60606060606062,
          166.66666666666669,
          172.72727272727275,
          178.7878787878788,
          184.84848484848487,
          190.90909090909088,
          196.96969696969694,
          203.030303030303,
          209.09090909090907,
          215.15151515151513,
          221.21212121212125,
          227.27272727272725,
          233.33333333333337,
          239.39393939393938,
          245.4545454545455,
          251.5151515151515,
          257.5757575757576,
          263.6363636363636,
          269.69696969696975,
          275.75757575757575,
          281.81818181818176,
          287.8787878787879,
          293.9393939393939,
          300
         ],
         "y": [
          1111.0280228605056,
          1112.109731481318,
          1113.1899473373965,
          1114.268501432467,
          1115.3452247702564,
          1116.419948354491,
          1117.4925031888965,
          1118.5627202772,
          1119.630430623127,
          1120.6954652304041,
          1121.7576551027578,
          1122.8168312439143,
          1123.8728246575997,
          1124.9254663475404,
          1125.974587317463,
          1127.0200185710933,
          1128.0615911121579,
          1129.0991359443829,
          1130.132484071495,
          1131.16146649722,
          1132.1859142252845,
          1133.2056582594148,
          1134.2205296033371,
          1135.2303592607775,
          1136.2349782354624,
          1137.2342175311187,
          1138.2279081514719,
          1139.2158811002485,
          1140.197967381175,
          1141.1739979979777,
          1142.1438039543827,
          1143.107216254116,
          1144.0640659009048,
          1145.0141838984748,
          1145.9574012505525,
          1146.8935489608637,
          1147.8224580331353,
          1148.7439594710934,
          1149.657884278464,
          1150.5640634589738,
          1151.4623280163491,
          1152.352508954316,
          1153.2344372766006,
          1154.1079439869297,
          1154.9728600890294,
          1155.8290165866256,
          1156.676244483445,
          1157.5143747832142,
          1158.343238489659,
          1159.1626666065056,
          1159.9724901374805,
          1160.7725400863103,
          1161.562647456721,
          1162.3426432524386,
          1163.11235847719,
          1163.871624134701,
          1164.6202712286984,
          1165.3581307629079,
          1166.0850337410561,
          1166.8008111668696,
          1167.505294044074,
          1168.1983133763963,
          1168.8797001675623,
          1169.5492854212985,
          1170.2069001413313,
          1170.8523753313868,
          1171.4855419951916,
          1172.1062311364715,
          1172.7142737589531,
          1173.3095008663627,
          1173.8917434624266,
          1174.460832550871,
          1175.0165991354222,
          1175.5588742198067,
          1176.0874888077506,
          1176.6022739029802,
          1177.1030605092217,
          1177.5896796302018,
          1178.0619622696465,
          1178.519739431282,
          1178.9628421188347,
          1179.391101336031,
          1179.8043480865972,
          1180.2024133742595,
          1180.5851282027443,
          1180.9523235757774,
          1181.303830497086,
          1181.6394799703958,
          1181.959102999433,
          1182.2625305879242,
          1182.5495937395956,
          1182.8201234581736,
          1183.073950747384,
          1183.3109066109541,
          1183.5308220526092,
          1183.733528076076,
          1183.9188556850809,
          1184.08663588335,
          1184.2366996746098,
          1184.3688780625862
         ]
        },
        {
         "mode": "lines",
         "name": "summing background",
         "showlegend": true,
         "type": "scatter",
         "x": [
          -300,
          -293.93939393939394,
          -287.8787878787879,
          -281.8181818181818,
          -275.75757575757575,
          -269.6969696969697,
          -263.6363636363636,
          -257.57575757575756,
          -251.5151515151515,
          -245.45454545454544,
          -239.39393939393938,
          -233.33333333333331,
          -227.27272727272728,
          -221.21212121212122,
          -215.15151515151516,
          -209.0909090909091,
          -203.03030303030303,
          -196.96969696969697,
          -190.9090909090909,
          -184.84848484848484,
          -178.78787878787878,
          -172.72727272727275,
          -166.66666666666666,
          -160.6060606060606,
          -154.54545454545456,
          -148.4848484848485,
          -142.42424242424244,
          -136.36363636363637,
          -130.3030303030303,
          -124.24242424242425,
          -118.18181818181819,
          -112.12121212121212,
          -106.06060606060606,
          -100,
          -93.93939393939394,
          -87.87878787878788,
          -81.81818181818181,
          -75.75757575757575,
          -69.69696969696969,
          -63.636363636363626,
          -57.575757575757564,
          -51.51515151515153,
          -45.45454545454547,
          -39.39393939393938,
          -33.333333333333314,
          -27.272727272727252,
          -21.21212121212119,
          -15.151515151515127,
          -9.090909090909122,
          -3.0303030303030596,
          3.0303030303030027,
          9.090909090909065,
          15.151515151515127,
          21.21212121212119,
          27.272727272727252,
          33.333333333333314,
          39.39393939393938,
          45.45454545454544,
          51.5151515151515,
          57.575757575757564,
          63.636363636363626,
          69.69696969696969,
          75.75757575757575,
          81.81818181818181,
          87.87878787878788,
          93.93939393939394,
          100,
          106.06060606060606,
          112.12121212121212,
          118.18181818181819,
          124.24242424242425,
          130.3030303030303,
          136.36363636363637,
          142.42424242424244,
          148.4848484848485,
          154.54545454545456,
          160.60606060606062,
          166.66666666666669,
          172.72727272727275,
          178.7878787878788,
          184.84848484848487,
          190.90909090909088,
          196.96969696969694,
          203.030303030303,
          209.09090909090907,
          215.15151515151513,
          221.21212121212125,
          227.27272727272725,
          233.33333333333337,
          239.39393939393938,
          245.4545454545455,
          251.5151515151515,
          257.5757575757576,
          263.6363636363636,
          269.69696969696975,
          275.75757575757575,
          281.81818181818176,
          287.8787878787879,
          293.9393939393939,
          300
         ],
         "y": [
          1111.0094073852656,
          1112.0954635129158,
          1113.1798119251496,
          1114.2622877969688,
          1115.3427263033743,
          1116.4209626193685,
          1117.496831919951,
          1118.5701693801257,
          1119.6408101748927,
          1120.708589479254,
          1121.7733424682117,
          1122.834904316765,
          1123.8931101999178,
          1124.9477952926695,
          1125.9987947700233,
          1127.045943806979,
          1128.0890775785401,
          1129.1280312597078,
          1130.1626400254818,
          1131.1927390508654,
          1132.2181635108584,
          1133.238748580463,
          1134.254329434682,
          1135.2647412485142,
          1136.2698191969641,
          1137.2693984550315,
          1138.2633141977174,
          1139.2514016000237,
          1140.2334958369538,
          1141.2094320835063,
          1142.1790455146836,
          1143.142171305488,
          1144.0986446309198,
          1145.0483006659817,
          1145.9909745856746,
          1146.926501565,
          1147.8547167789595,
          1148.7754554025532,
          1149.6885526107853,
          1150.593843578655,
          1151.4911634811647,
          1152.3803474933159,
          1153.2612307901093,
          1154.1336485465483,
          1154.9974359376313,
          1155.8524281383632,
          1156.6984603237422,
          1157.5353676687728,
          1158.3629853484551,
          1159.1811485377896,
          1159.989692411779,
          1160.7884521454248,
          1161.577262913728,
          1162.3559598916904,
          1163.1243782543127,
          1163.8823531765984,
          1164.6297198335465,
          1165.3663134001604,
          1166.0919690514404,
          1166.8065219623875,
          1167.5098073080044,
          1168.2016602632925,
          1168.8819160032529,
          1169.5504097028866,
          1170.206976537197,
          1170.8514516811833,
          1171.4836703098479,
          1172.1034675981916,
          1172.7106787212178,
          1173.305138853926,
          1173.8866831713178,
          1174.455146848397,
          1175.0103650601616,
          1175.5521729816164,
          1176.08040578776,
          1176.5948986535948,
          1177.0954867541238,
          1177.5820052643467,
          1178.0542893592649,
          1178.5121742138826,
          1178.9554950031984,
          1179.3840869022144,
          1179.7977850859318,
          1180.1964247293513,
          1180.5798410074797,
          1180.947869095312,
          1181.3003441678527,
          1181.6371014001018,
          1181.957975967062,
          1182.2628030437347,
          1182.5514178051199,
          1182.823655426222,
          1183.079351082042,
          1183.3183399475772,
          1183.540457197833,
          1183.7455380078109,
          1183.93341755251,
          1184.1039310069352,
          1184.2569135460833,
          1184.392200344959
         ]
        }
       ],
       "layout": {
        "height": 600,
        "legend": {
         "x": 1,
         "xanchor": "right",
         "y": 1,
         "yanchor": "bottom"
        },
        "template": {
         "data": {
          "bar": [
           {
            "error_x": {
             "color": "#2a3f5f"
            },
            "error_y": {
             "color": "#2a3f5f"
            },
            "marker": {
             "line": {
              "color": "white",
              "width": 0.5
             },
             "pattern": {
              "fillmode": "overlay",
              "size": 10,
              "solidity": 0.2
             }
            },
            "type": "bar"
           }
          ],
          "barpolar": [
           {
            "marker": {
             "line": {
              "color": "white",
              "width": 0.5
             },
             "pattern": {
              "fillmode": "overlay",
              "size": 10,
              "solidity": 0.2
             }
            },
            "type": "barpolar"
           }
          ],
          "carpet": [
           {
            "aaxis": {
             "endlinecolor": "#2a3f5f",
             "gridcolor": "#C8D4E3",
             "linecolor": "#C8D4E3",
             "minorgridcolor": "#C8D4E3",
             "startlinecolor": "#2a3f5f"
            },
            "baxis": {
             "endlinecolor": "#2a3f5f",
             "gridcolor": "#C8D4E3",
             "linecolor": "#C8D4E3",
             "minorgridcolor": "#C8D4E3",
             "startlinecolor": "#2a3f5f"
            },
            "type": "carpet"
           }
          ],
          "choropleth": [
           {
            "colorbar": {
             "outlinewidth": 0,
             "ticks": ""
            },
            "type": "choropleth"
           }
          ],
          "contour": [
           {
            "colorbar": {
             "outlinewidth": 0,
             "ticks": ""
            },
            "colorscale": [
             [
              0,
              "#0d0887"
             ],
             [
              0.1111111111111111,
              "#46039f"
             ],
             [
              0.2222222222222222,
              "#7201a8"
             ],
             [
              0.3333333333333333,
              "#9c179e"
             ],
             [
              0.4444444444444444,
              "#bd3786"
             ],
             [
              0.5555555555555556,
              "#d8576b"
             ],
             [
              0.6666666666666666,
              "#ed7953"
             ],
             [
              0.7777777777777778,
              "#fb9f3a"
             ],
             [
              0.8888888888888888,
              "#fdca26"
             ],
             [
              1,
              "#f0f921"
             ]
            ],
            "type": "contour"
           }
          ],
          "contourcarpet": [
           {
            "colorbar": {
             "outlinewidth": 0,
             "ticks": ""
            },
            "type": "contourcarpet"
           }
          ],
          "heatmap": [
           {
            "colorbar": {
             "outlinewidth": 0,
             "ticks": ""
            },
            "colorscale": [
             [
              0,
              "#0d0887"
             ],
             [
              0.1111111111111111,
              "#46039f"
             ],
             [
              0.2222222222222222,
              "#7201a8"
             ],
             [
              0.3333333333333333,
              "#9c179e"
             ],
             [
              0.4444444444444444,
              "#bd3786"
             ],
             [
              0.5555555555555556,
              "#d8576b"
             ],
             [
              0.6666666666666666,
              "#ed7953"
             ],
             [
              0.7777777777777778,
              "#fb9f3a"
             ],
             [
              0.8888888888888888,
              "#fdca26"
             ],
             [
              1,
              "#f0f921"
             ]
            ],
            "type": "heatmap"
           }
          ],
          "heatmapgl": [
           {
            "colorbar": {
             "outlinewidth": 0,
             "ticks": ""
            },
            "colorscale": [
             [
              0,
              "#0d0887"
             ],
             [
              0.1111111111111111,
              "#46039f"
             ],
             [
              0.2222222222222222,
              "#7201a8"
             ],
             [
              0.3333333333333333,
              "#9c179e"
             ],
             [
              0.4444444444444444,
              "#bd3786"
             ],
             [
              0.5555555555555556,
              "#d8576b"
             ],
             [
              0.6666666666666666,
              "#ed7953"
             ],
             [
              0.7777777777777778,
              "#fb9f3a"
             ],
             [
              0.8888888888888888,
              "#fdca26"
             ],
             [
              1,
              "#f0f921"
             ]
            ],
            "type": "heatmapgl"
           }
          ],
          "histogram": [
           {
            "marker": {
             "pattern": {
              "fillmode": "overlay",
              "size": 10,
              "solidity": 0.2
             }
            },
            "type": "histogram"
           }
          ],
          "histogram2d": [
           {
            "colorbar": {
             "outlinewidth": 0,
             "ticks": ""
            },
            "colorscale": [
             [
              0,
              "#0d0887"
             ],
             [
              0.1111111111111111,
              "#46039f"
             ],
             [
              0.2222222222222222,
              "#7201a8"
             ],
             [
              0.3333333333333333,
              "#9c179e"
             ],
             [
              0.4444444444444444,
              "#bd3786"
             ],
             [
              0.5555555555555556,
              "#d8576b"
             ],
             [
              0.6666666666666666,
              "#ed7953"
             ],
             [
              0.7777777777777778,
              "#fb9f3a"
             ],
             [
              0.8888888888888888,
              "#fdca26"
             ],
             [
              1,
              "#f0f921"
             ]
            ],
            "type": "histogram2d"
           }
          ],
          "histogram2dcontour": [
           {
            "colorbar": {
             "outlinewidth": 0,
             "ticks": ""
            },
            "colorscale": [
             [
              0,
              "#0d0887"
             ],
             [
              0.1111111111111111,
              "#46039f"
             ],
             [
              0.2222222222222222,
              "#7201a8"
             ],
             [
              0.3333333333333333,
              "#9c179e"
             ],
             [
              0.4444444444444444,
              "#bd3786"
             ],
             [
              0.5555555555555556,
              "#d8576b"
             ],
             [
              0.6666666666666666,
              "#ed7953"
             ],
             [
              0.7777777777777778,
              "#fb9f3a"
             ],
             [
              0.8888888888888888,
              "#fdca26"
             ],
             [
              1,
              "#f0f921"
             ]
            ],
            "type": "histogram2dcontour"
           }
          ],
          "mesh3d": [
           {
            "colorbar": {
             "outlinewidth": 0,
             "ticks": ""
            },
            "type": "mesh3d"
           }
          ],
          "parcoords": [
           {
            "line": {
             "colorbar": {
              "outlinewidth": 0,
              "ticks": ""
             }
            },
            "type": "parcoords"
           }
          ],
          "pie": [
           {
            "automargin": true,
            "type": "pie"
           }
          ],
          "scatter": [
           {
            "fillpattern": {
             "fillmode": "overlay",
             "size": 10,
             "solidity": 0.2
            },
            "type": "scatter"
           }
          ],
          "scatter3d": [
           {
            "line": {
             "colorbar": {
              "outlinewidth": 0,
              "ticks": ""
             }
            },
            "marker": {
             "colorbar": {
              "outlinewidth": 0,
              "ticks": ""
             }
            },
            "type": "scatter3d"
           }
          ],
          "scattercarpet": [
           {
            "marker": {
             "colorbar": {
              "outlinewidth": 0,
              "ticks": ""
             }
            },
            "type": "scattercarpet"
           }
          ],
          "scattergeo": [
           {
            "marker": {
             "colorbar": {
              "outlinewidth": 0,
              "ticks": ""
             }
            },
            "type": "scattergeo"
           }
          ],
          "scattergl": [
           {
            "marker": {
             "colorbar": {
              "outlinewidth": 0,
              "ticks": ""
             }
            },
            "type": "scattergl"
           }
          ],
          "scattermapbox": [
           {
            "marker": {
             "colorbar": {
              "outlinewidth": 0,
              "ticks": ""
             }
            },
            "type": "scattermapbox"
           }
          ],
          "scatterpolar": [
           {
            "marker": {
             "colorbar": {
              "outlinewidth": 0,
              "ticks": ""
             }
            },
            "type": "scatterpolar"
           }
          ],
          "scatterpolargl": [
           {
            "marker": {
             "colorbar": {
              "outlinewidth": 0,
              "ticks": ""
             }
            },
            "type": "scatterpolargl"
           }
          ],
          "scatterternary": [
           {
            "marker": {
             "colorbar": {
              "outlinewidth": 0,
              "ticks": ""
             }
            },
            "type": "scatterternary"
           }
          ],
          "surface": [
           {
            "colorbar": {
             "outlinewidth": 0,
             "ticks": ""
            },
            "colorscale": [
             [
              0,
              "#0d0887"
             ],
             [
              0.1111111111111111,
              "#46039f"
             ],
             [
              0.2222222222222222,
              "#7201a8"
             ],
             [
              0.3333333333333333,
              "#9c179e"
             ],
             [
              0.4444444444444444,
              "#bd3786"
             ],
             [
              0.5555555555555556,
              "#d8576b"
             ],
             [
              0.6666666666666666,
              "#ed7953"
             ],
             [
              0.7777777777777778,
              "#fb9f3a"
             ],
             [
              0.8888888888888888,
              "#fdca26"
             ],
             [
              1,
              "#f0f921"
             ]
            ],
            "type": "surface"
           }
          ],
          "table": [
           {
            "cells": {
             "fill": {
              "color": "#EBF0F8"
             },
             "line": {
              "color": "white"
             }
            },
            "header": {
             "fill": {
              "color": "#C8D4E3"
             },
             "line": {
              "color": "white"
             }
            },
            "type": "table"
           }
          ]
         },
         "layout": {
          "annotationdefaults": {
           "arrowcolor": "#2a3f5f",
           "arrowhead": 0,
           "arrowwidth": 1
          },
          "autotypenumbers": "strict",
          "coloraxis": {
           "colorbar": {
            "outlinewidth": 0,
            "ticks": ""
           }
          },
          "colorscale": {
           "diverging": [
            [
             0,
             "#8e0152"
            ],
            [
             0.1,
             "#c51b7d"
            ],
            [
             0.2,
             "#de77ae"
            ],
            [
             0.3,
             "#f1b6da"
            ],
            [
             0.4,
             "#fde0ef"
            ],
            [
             0.5,
             "#f7f7f7"
            ],
            [
             0.6,
             "#e6f5d0"
            ],
            [
             0.7,
             "#b8e186"
            ],
            [
             0.8,
             "#7fbc41"
            ],
            [
             0.9,
             "#4d9221"
            ],
            [
             1,
             "#276419"
            ]
           ],
           "sequential": [
            [
             0,
             "#0d0887"
            ],
            [
             0.1111111111111111,
             "#46039f"
            ],
            [
             0.2222222222222222,
             "#7201a8"
            ],
            [
             0.3333333333333333,
             "#9c179e"
            ],
            [
             0.4444444444444444,
             "#bd3786"
            ],
            [
             0.5555555555555556,
             "#d8576b"
            ],
            [
             0.6666666666666666,
             "#ed7953"
            ],
            [
             0.7777777777777778,
             "#fb9f3a"
            ],
            [
             0.8888888888888888,
             "#fdca26"
            ],
            [
             1,
             "#f0f921"
            ]
           ],
           "sequentialminus": [
            [
             0,
             "#0d0887"
            ],
            [
             0.1111111111111111,
             "#46039f"
            ],
            [
             0.2222222222222222,
             "#7201a8"
            ],
            [
             0.3333333333333333,
             "#9c179e"
            ],
            [
             0.4444444444444444,
             "#bd3786"
            ],
            [
             0.5555555555555556,
             "#d8576b"
            ],
            [
             0.6666666666666666,
             "#ed7953"
            ],
            [
             0.7777777777777778,
             "#fb9f3a"
            ],
            [
             0.8888888888888888,
             "#fdca26"
            ],
            [
             1,
             "#f0f921"
            ]
           ]
          },
          "colorway": [
           "#636efa",
           "#EF553B",
           "#00cc96",
           "#ab63fa",
           "#FFA15A",
           "#19d3f3",
           "#FF6692",
           "#B6E880",
           "#FF97FF",
           "#FECB52"
          ],
          "font": {
           "color": "#2a3f5f"
          },
          "geo": {
           "bgcolor": "white",
           "lakecolor": "white",
           "landcolor": "white",
           "showlakes": true,
           "showland": true,
           "subunitcolor": "#C8D4E3"
          },
          "hoverlabel": {
           "align": "left"
          },
          "hovermode": "closest",
          "mapbox": {
           "style": "light"
          },
          "paper_bgcolor": "white",
          "plot_bgcolor": "white",
          "polar": {
           "angularaxis": {
            "gridcolor": "#EBF0F8",
            "linecolor": "#EBF0F8",
            "ticks": ""
           },
           "bgcolor": "white",
           "radialaxis": {
            "gridcolor": "#EBF0F8",
            "linecolor": "#EBF0F8",
            "ticks": ""
           }
          },
          "scene": {
           "xaxis": {
            "backgroundcolor": "white",
            "gridcolor": "#DFE8F3",
            "gridwidth": 2,
            "linecolor": "#EBF0F8",
            "showbackground": true,
            "ticks": "",
            "zerolinecolor": "#EBF0F8"
           },
           "yaxis": {
            "backgroundcolor": "white",
            "gridcolor": "#DFE8F3",
            "gridwidth": 2,
            "linecolor": "#EBF0F8",
            "showbackground": true,
            "ticks": "",
            "zerolinecolor": "#EBF0F8"
           },
           "zaxis": {
            "backgroundcolor": "white",
            "gridcolor": "#DFE8F3",
            "gridwidth": 2,
            "linecolor": "#EBF0F8",
            "showbackground": true,
            "ticks": "",
            "zerolinecolor": "#EBF0F8"
           }
          },
          "shapedefaults": {
           "line": {
            "color": "#2a3f5f"
           }
          },
          "ternary": {
           "aaxis": {
            "gridcolor": "#DFE8F3",
            "linecolor": "#A2B1C6",
            "ticks": ""
           },
           "baxis": {
            "gridcolor": "#DFE8F3",
            "linecolor": "#A2B1C6",
            "ticks": ""
           },
           "bgcolor": "white",
           "caxis": {
            "gridcolor": "#DFE8F3",
            "linecolor": "#A2B1C6",
            "ticks": ""
           }
          },
          "title": {
           "x": 0.05
          },
          "xaxis": {
           "automargin": true,
           "gridcolor": "#EBF0F8",
           "linecolor": "#EBF0F8",
           "ticks": "",
           "title": {
            "standoff": 15
           },
           "zerolinecolor": "#EBF0F8",
           "zerolinewidth": 2
          },
          "yaxis": {
           "automargin": true,
           "gridcolor": "#EBF0F8",
           "linecolor": "#EBF0F8",
           "ticks": "",
           "title": {
            "standoff": 15
           },
           "zerolinecolor": "#EBF0F8",
           "zerolinewidth": 2
          }
         }
        },
        "width": 800,
        "xaxis": {
         "title": {
          "text": "Time since 2024-02-19T06:21:42.000 (s)"
         }
        },
        "yaxis": {
         "title": {
          "text": "Counts per second"
         }
        }
       }
      }
     },
     "metadata": {},
     "output_type": "display_data"
    },
    {
     "name": "stdout",
     "output_type": "stream",
     "text": [
      "\n",
      "+------------------------------------------------+\n",
      " extract spectrum for na\n",
      "+------------------------------------------------+\n"
     ]
    },
    {
     "data": {
      "application/vnd.plotly.v1+json": {
       "config": {
        "plotlyServerURL": "https://plot.ly"
       },
       "data": [
        {
         "mode": "lines",
         "name": "total lightcurve",
         "showlegend": true,
         "type": "scatter",
         "x": [
          -398,
          -394,
          -390,
          -386,
          -382,
          -378,
          -374,
          -370,
          -366,
          -362,
          -358,
          -354,
          -350,
          -346,
          -342,
          -338,
          -334,
          -330,
          -326,
          -322,
          -318,
          -314,
          -310,
          -306,
          -302,
          -298,
          -294,
          -290,
          -286,
          -282,
          -278,
          -274,
          -270,
          -266,
          -262,
          -258,
          -254,
          -250,
          -246,
          -242,
          -238,
          -234,
          -230,
          -226,
          -222,
          -218,
          -214,
          -210,
          -206,
          -202,
          -198,
          -194,
          -190,
          -186,
          -182,
          -178,
          -174,
          -170,
          -166,
          -162,
          -158,
          -154,
          -150,
          -146,
          -142,
          -138,
          -134,
          -130,
          -126,
          -122,
          -118,
          -114,
          -110,
          -106,
          -102,
          -98,
          -94,
          -90,
          -86,
          -82,
          -78,
          -74,
          -70,
          -66,
          -62,
          -58,
          -54,
          -50,
          -46,
          -42,
          -38,
          -34,
          -30,
          -26,
          -22,
          -18,
          -14,
          -10,
          -6,
          -2,
          2,
          6,
          10,
          14,
          18,
          22,
          26,
          30,
          34,
          38,
          42,
          46,
          50,
          54,
          58,
          62,
          66,
          70,
          74,
          78,
          82,
          86,
          90,
          94,
          98,
          102,
          106,
          110,
          114,
          118,
          122,
          126,
          130,
          134,
          138,
          142,
          146,
          150,
          154,
          158,
          162,
          166,
          170,
          174,
          178,
          182,
          186,
          190,
          194,
          198,
          202,
          206,
          210,
          214,
          218,
          222,
          226,
          230,
          234,
          238,
          242,
          246,
          250,
          254,
          258,
          262,
          266,
          270,
          274,
          278,
          282,
          286,
          290,
          294,
          298,
          302,
          306,
          310,
          314,
          318,
          322,
          326,
          330,
          334,
          338,
          342,
          346,
          350,
          354,
          358,
          362,
          366,
          370,
          374,
          378,
          382,
          386,
          390,
          394,
          398
         ],
         "y": [
          1057.5,
          1099.5,
          1080.5,
          1102.5,
          1102.75,
          1090.75,
          1062.5,
          1104.75,
          1118.5,
          1104.5,
          1101,
          1073,
          1090.5,
          1079.5,
          1096.25,
          1112.5,
          1128,
          1072.75,
          1108.25,
          1095.75,
          1111,
          1118.75,
          1128.75,
          1142.25,
          1132.5,
          1129,
          1101.25,
          1114.25,
          1119.25,
          1106,
          1112,
          1115.75,
          1102.25,
          1111.75,
          1098.25,
          1108.5,
          1123.5,
          1113.25,
          1106.75,
          1129.25,
          1118.25,
          1144.75,
          1128.25,
          1135.5,
          1107.5,
          1148,
          1117.5,
          1105.75,
          1139.5,
          1145,
          1141,
          1153.75,
          1144.75,
          1127.25,
          1127,
          1138.25,
          1110.25,
          1171,
          1165.5,
          1153.5,
          1152.5,
          1153.25,
          1125,
          1105.25,
          1147,
          1172.25,
          1142,
          1146.5,
          1140.75,
          1104.5,
          1161,
          1178.25,
          1128.25,
          1162.5,
          1154,
          1179.25,
          1134.5,
          1118.75,
          1165.5,
          1138.5,
          1144.75,
          1146.75,
          1157,
          1166.25,
          1169,
          1167.5,
          1161,
          1145.5,
          1123.75,
          1166,
          1144.5,
          1171.75,
          1164,
          1157,
          1167.75,
          1181,
          1164.5,
          1170.5,
          1180.25,
          1171.25,
          1159.5,
          1167,
          1203,
          1186.75,
          1207.75,
          1231.25,
          1217.5,
          1203.25,
          1213.75,
          1225.25,
          1262.75,
          1252,
          1248.75,
          1229.75,
          1232.25,
          1177.75,
          1206.5,
          1198,
          1214,
          1178.25,
          1201.75,
          1209.75,
          1203.75,
          1185.5,
          1183.5,
          1169.75,
          1180.75,
          1205.75,
          1169.75,
          1193.5,
          1208,
          1188.5,
          1167.5,
          1194.75,
          1207.25,
          1194,
          1182.75,
          1175.5,
          1190.5,
          1218,
          1211.25,
          1190.75,
          1188,
          1182.25,
          1161,
          1215,
          1194.25,
          1187.25,
          1173.25,
          1192,
          1167,
          1183.25,
          1183,
          1199,
          1197.25,
          1198.5,
          1175.75,
          1170,
          1195.75,
          1210.75,
          1217.25,
          1216.5,
          1148.5,
          1218.25,
          1209.75,
          1212.75,
          1209.25,
          1175,
          1210.25,
          1218.75,
          1202.75,
          1209.5,
          1223.75,
          1199.25,
          1189.5,
          1207.25,
          1199,
          1186,
          1211.5,
          1194.75,
          1190.75,
          1218.25,
          1203.75,
          1204.5,
          1228,
          1202.25,
          1206.25,
          1204.75,
          1227,
          1199.75,
          1181.5,
          1214.25,
          1205.25,
          1233,
          1187.25,
          1201,
          1191.5,
          1193,
          1200.25,
          1197.25
         ]
        },
        {
         "mode": "lines",
         "name": "total background",
         "showlegend": true,
         "type": "scatter",
         "x": [
          -300,
          -293.93939393939394,
          -287.8787878787879,
          -281.8181818181818,
          -275.75757575757575,
          -269.6969696969697,
          -263.6363636363636,
          -257.57575757575756,
          -251.5151515151515,
          -245.45454545454544,
          -239.39393939393938,
          -233.33333333333331,
          -227.27272727272728,
          -221.21212121212122,
          -215.15151515151516,
          -209.0909090909091,
          -203.03030303030303,
          -196.96969696969697,
          -190.9090909090909,
          -184.84848484848484,
          -178.78787878787878,
          -172.72727272727275,
          -166.66666666666666,
          -160.6060606060606,
          -154.54545454545456,
          -148.4848484848485,
          -142.42424242424244,
          -136.36363636363637,
          -130.3030303030303,
          -124.24242424242425,
          -118.18181818181819,
          -112.12121212121212,
          -106.06060606060606,
          -100,
          -93.93939393939394,
          -87.87878787878788,
          -81.81818181818181,
          -75.75757575757575,
          -69.69696969696969,
          -63.636363636363626,
          -57.575757575757564,
          -51.51515151515153,
          -45.45454545454547,
          -39.39393939393938,
          -33.333333333333314,
          -27.272727272727252,
          -21.21212121212119,
          -15.151515151515127,
          -9.090909090909122,
          -3.0303030303030596,
          3.0303030303030027,
          9.090909090909065,
          15.151515151515127,
          21.21212121212119,
          27.272727272727252,
          33.333333333333314,
          39.39393939393938,
          45.45454545454544,
          51.5151515151515,
          57.575757575757564,
          63.636363636363626,
          69.69696969696969,
          75.75757575757575,
          81.81818181818181,
          87.87878787878788,
          93.93939393939394,
          100,
          106.06060606060606,
          112.12121212121212,
          118.18181818181819,
          124.24242424242425,
          130.3030303030303,
          136.36363636363637,
          142.42424242424244,
          148.4848484848485,
          154.54545454545456,
          160.60606060606062,
          166.66666666666669,
          172.72727272727275,
          178.7878787878788,
          184.84848484848487,
          190.90909090909088,
          196.96969696969694,
          203.030303030303,
          209.09090909090907,
          215.15151515151513,
          221.21212121212125,
          227.27272727272725,
          233.33333333333337,
          239.39393939393938,
          245.4545454545455,
          251.5151515151515,
          257.5757575757576,
          263.6363636363636,
          269.69696969696975,
          275.75757575757575,
          281.81818181818176,
          287.8787878787879,
          293.9393939393939,
          300
         ],
         "y": [
          1110.2036934418825,
          1111.5973759640203,
          1112.98683611155,
          1114.3719114204466,
          1115.752439426684,
          1117.128257666237,
          1118.49920367508,
          1119.8651149891875,
          1121.225829144534,
          1122.5811836770943,
          1123.9310161228425,
          1125.2751640177532,
          1126.6134648978011,
          1127.9457562989605,
          1129.2718757572059,
          1130.591660808512,
          1131.9049489888532,
          1133.211577834204,
          1134.5113848805388,
          1135.8042076638321,
          1137.0898837200589,
          1138.368250585193,
          1139.6391457952093,
          1140.9024068860822,
          1142.157871393786,
          1143.4053768542958,
          1144.6447608035858,
          1145.8758607776301,
          1147.0985143124037,
          1148.312558943881,
          1149.5178322080362,
          1150.7141716408446,
          1151.9014147782798,
          1153.0793991563166,
          1154.2479623109298,
          1155.4069417780934,
          1156.5561750937825,
          1157.6954997939713,
          1158.824753414634,
          1159.9437734917456,
          1161.0523975612803,
          1162.1504631592127,
          1163.2378078215174,
          1164.3142690841687,
          1165.3796844831413,
          1166.43389155441,
          1167.4767278339484,
          1168.5080308577317,
          1169.5276381617343,
          1170.5353872819308,
          1171.5311157542953,
          1172.5146611148027,
          1173.4858608994273,
          1174.4445526441434,
          1175.3905738849262,
          1176.3237621577496,
          1177.2439549985884,
          1178.1509899434168,
          1179.0447045282096,
          1179.9249362889411,
          1180.7915227615863,
          1181.6443014821189,
          1182.483109986514,
          1183.3077858107456,
          1184.118166490789,
          1184.9140895626178,
          1185.6953925622072,
          1186.4619130255317,
          1187.213488488565,
          1187.9499564872824,
          1188.6711545576582,
          1189.3769202356668,
          1190.0670910572828,
          1190.7415045584805,
          1191.3999982752348,
          1192.0424097435198,
          1192.6685764993103,
          1193.2783360785804,
          1193.8715260173053,
          1194.447983851459,
          1195.0075471170157,
          1195.550053349951,
          1196.0753400862382,
          1196.5832448618523,
          1197.0736052127681,
          1197.5462586749597,
          1198.0010427844018,
          1198.4377950770688,
          1198.8563530889353,
          1199.2565543559756,
          1199.6382364141643,
          1200.0012367994761,
          1200.3453930478854,
          1200.6705426953667,
          1200.976523277894,
          1201.2631723314428,
          1201.530327391987,
          1201.7778259955012,
          1202.00550567796,
          1202.2132039753374
         ]
        },
        {
         "mode": "lines",
         "name": "summing background",
         "showlegend": true,
         "type": "scatter",
         "x": [
          -300,
          -293.93939393939394,
          -287.8787878787879,
          -281.8181818181818,
          -275.75757575757575,
          -269.6969696969697,
          -263.6363636363636,
          -257.57575757575756,
          -251.5151515151515,
          -245.45454545454544,
          -239.39393939393938,
          -233.33333333333331,
          -227.27272727272728,
          -221.21212121212122,
          -215.15151515151516,
          -209.0909090909091,
          -203.03030303030303,
          -196.96969696969697,
          -190.9090909090909,
          -184.84848484848484,
          -178.78787878787878,
          -172.72727272727275,
          -166.66666666666666,
          -160.6060606060606,
          -154.54545454545456,
          -148.4848484848485,
          -142.42424242424244,
          -136.36363636363637,
          -130.3030303030303,
          -124.24242424242425,
          -118.18181818181819,
          -112.12121212121212,
          -106.06060606060606,
          -100,
          -93.93939393939394,
          -87.87878787878788,
          -81.81818181818181,
          -75.75757575757575,
          -69.69696969696969,
          -63.636363636363626,
          -57.575757575757564,
          -51.51515151515153,
          -45.45454545454547,
          -39.39393939393938,
          -33.333333333333314,
          -27.272727272727252,
          -21.21212121212119,
          -15.151515151515127,
          -9.090909090909122,
          -3.0303030303030596,
          3.0303030303030027,
          9.090909090909065,
          15.151515151515127,
          21.21212121212119,
          27.272727272727252,
          33.333333333333314,
          39.39393939393938,
          45.45454545454544,
          51.5151515151515,
          57.575757575757564,
          63.636363636363626,
          69.69696969696969,
          75.75757575757575,
          81.81818181818181,
          87.87878787878788,
          93.93939393939394,
          100,
          106.06060606060606,
          112.12121212121212,
          118.18181818181819,
          124.24242424242425,
          130.3030303030303,
          136.36363636363637,
          142.42424242424244,
          148.4848484848485,
          154.54545454545456,
          160.60606060606062,
          166.66666666666669,
          172.72727272727275,
          178.7878787878788,
          184.84848484848487,
          190.90909090909088,
          196.96969696969694,
          203.030303030303,
          209.09090909090907,
          215.15151515151513,
          221.21212121212125,
          227.27272727272725,
          233.33333333333337,
          239.39393939393938,
          245.4545454545455,
          251.5151515151515,
          257.5757575757576,
          263.6363636363636,
          269.69696969696975,
          275.75757575757575,
          281.81818181818176,
          287.8787878787879,
          293.9393939393939,
          300
         ],
         "y": [
          1110.1549388109513,
          1111.5495589500276,
          1112.9400221917824,
          1114.326164364397,
          1115.7078212960546,
          1117.084828814938,
          1118.4570227492286,
          1119.8242389271102,
          1121.1863131767648,
          1122.5430813263752,
          1123.8943792041239,
          1125.2400426381928,
          1126.579907456766,
          1127.913809488026,
          1129.2415845601527,
          1130.5630685013318,
          1131.878097139744,
          1133.1865063035732,
          1134.4881318210007,
          1135.7828095202103,
          1137.070375229384,
          1138.3506647767033,
          1139.6235139903533,
          1140.8887586985138,
          1142.1462347293686,
          1143.3957779111013,
          1144.6372240718927,
          1145.8704090399265,
          1147.0951686433853,
          1148.311338710451,
          1149.518755069306,
          1150.717253548134,
          1151.9066699751165,
          1153.086840178436,
          1154.2575999862763,
          1155.4187852268192,
          1156.570231728248,
          1157.7117753187445,
          1158.8432518264904,
          1159.9644970796692,
          1161.0753469064648,
          1162.1756371350577,
          1163.265203593631,
          1164.343882110368,
          1165.4115085134504,
          1166.4679186310632,
          1167.512948291385,
          1168.5464333226005,
          1169.5682095528925,
          1170.5781128104427,
          1171.5759789234346,
          1172.5616437200513,
          1173.534943028474,
          1174.495712676884,
          1175.443788493468,
          1176.3790063064046,
          1177.3012019438788,
          1178.210211234071,
          1179.1058700051658,
          1179.9880140853443,
          1180.8564793027915,
          1181.7111014856873,
          1182.551716462215,
          1183.378160060559,
          1184.1902681088989,
          1184.9878764354205,
          1185.7708208683025,
          1186.53893723573,
          1187.2920613658848,
          1188.030029086951,
          1188.752676227109,
          1189.4598386145424,
          1190.1513520774347,
          1190.827052443966,
          1191.4867755423218,
          1192.1303572006825,
          1192.7576332472322,
          1193.3684395101516,
          1193.9626118176252,
          1194.5399859978343,
          1195.1003978789613,
          1195.6436832891914,
          1196.1696780567036,
          1196.678218009682,
          1197.1691389763093,
          1197.642276784768,
          1198.097467263241,
          1198.534546239911,
          1198.95334954296,
          1199.3537130005698,
          1199.7354724409247,
          1200.0984636922065,
          1200.4425225825978,
          1200.7674849402802,
          1201.0731865934376,
          1201.3594633702517,
          1201.6261510989063,
          1201.8730856075827,
          1202.1001027244636,
          1202.3070382777328
         ]
        }
       ],
       "layout": {
        "height": 600,
        "legend": {
         "x": 1,
         "xanchor": "right",
         "y": 1,
         "yanchor": "bottom"
        },
        "template": {
         "data": {
          "bar": [
           {
            "error_x": {
             "color": "#2a3f5f"
            },
            "error_y": {
             "color": "#2a3f5f"
            },
            "marker": {
             "line": {
              "color": "white",
              "width": 0.5
             },
             "pattern": {
              "fillmode": "overlay",
              "size": 10,
              "solidity": 0.2
             }
            },
            "type": "bar"
           }
          ],
          "barpolar": [
           {
            "marker": {
             "line": {
              "color": "white",
              "width": 0.5
             },
             "pattern": {
              "fillmode": "overlay",
              "size": 10,
              "solidity": 0.2
             }
            },
            "type": "barpolar"
           }
          ],
          "carpet": [
           {
            "aaxis": {
             "endlinecolor": "#2a3f5f",
             "gridcolor": "#C8D4E3",
             "linecolor": "#C8D4E3",
             "minorgridcolor": "#C8D4E3",
             "startlinecolor": "#2a3f5f"
            },
            "baxis": {
             "endlinecolor": "#2a3f5f",
             "gridcolor": "#C8D4E3",
             "linecolor": "#C8D4E3",
             "minorgridcolor": "#C8D4E3",
             "startlinecolor": "#2a3f5f"
            },
            "type": "carpet"
           }
          ],
          "choropleth": [
           {
            "colorbar": {
             "outlinewidth": 0,
             "ticks": ""
            },
            "type": "choropleth"
           }
          ],
          "contour": [
           {
            "colorbar": {
             "outlinewidth": 0,
             "ticks": ""
            },
            "colorscale": [
             [
              0,
              "#0d0887"
             ],
             [
              0.1111111111111111,
              "#46039f"
             ],
             [
              0.2222222222222222,
              "#7201a8"
             ],
             [
              0.3333333333333333,
              "#9c179e"
             ],
             [
              0.4444444444444444,
              "#bd3786"
             ],
             [
              0.5555555555555556,
              "#d8576b"
             ],
             [
              0.6666666666666666,
              "#ed7953"
             ],
             [
              0.7777777777777778,
              "#fb9f3a"
             ],
             [
              0.8888888888888888,
              "#fdca26"
             ],
             [
              1,
              "#f0f921"
             ]
            ],
            "type": "contour"
           }
          ],
          "contourcarpet": [
           {
            "colorbar": {
             "outlinewidth": 0,
             "ticks": ""
            },
            "type": "contourcarpet"
           }
          ],
          "heatmap": [
           {
            "colorbar": {
             "outlinewidth": 0,
             "ticks": ""
            },
            "colorscale": [
             [
              0,
              "#0d0887"
             ],
             [
              0.1111111111111111,
              "#46039f"
             ],
             [
              0.2222222222222222,
              "#7201a8"
             ],
             [
              0.3333333333333333,
              "#9c179e"
             ],
             [
              0.4444444444444444,
              "#bd3786"
             ],
             [
              0.5555555555555556,
              "#d8576b"
             ],
             [
              0.6666666666666666,
              "#ed7953"
             ],
             [
              0.7777777777777778,
              "#fb9f3a"
             ],
             [
              0.8888888888888888,
              "#fdca26"
             ],
             [
              1,
              "#f0f921"
             ]
            ],
            "type": "heatmap"
           }
          ],
          "heatmapgl": [
           {
            "colorbar": {
             "outlinewidth": 0,
             "ticks": ""
            },
            "colorscale": [
             [
              0,
              "#0d0887"
             ],
             [
              0.1111111111111111,
              "#46039f"
             ],
             [
              0.2222222222222222,
              "#7201a8"
             ],
             [
              0.3333333333333333,
              "#9c179e"
             ],
             [
              0.4444444444444444,
              "#bd3786"
             ],
             [
              0.5555555555555556,
              "#d8576b"
             ],
             [
              0.6666666666666666,
              "#ed7953"
             ],
             [
              0.7777777777777778,
              "#fb9f3a"
             ],
             [
              0.8888888888888888,
              "#fdca26"
             ],
             [
              1,
              "#f0f921"
             ]
            ],
            "type": "heatmapgl"
           }
          ],
          "histogram": [
           {
            "marker": {
             "pattern": {
              "fillmode": "overlay",
              "size": 10,
              "solidity": 0.2
             }
            },
            "type": "histogram"
           }
          ],
          "histogram2d": [
           {
            "colorbar": {
             "outlinewidth": 0,
             "ticks": ""
            },
            "colorscale": [
             [
              0,
              "#0d0887"
             ],
             [
              0.1111111111111111,
              "#46039f"
             ],
             [
              0.2222222222222222,
              "#7201a8"
             ],
             [
              0.3333333333333333,
              "#9c179e"
             ],
             [
              0.4444444444444444,
              "#bd3786"
             ],
             [
              0.5555555555555556,
              "#d8576b"
             ],
             [
              0.6666666666666666,
              "#ed7953"
             ],
             [
              0.7777777777777778,
              "#fb9f3a"
             ],
             [
              0.8888888888888888,
              "#fdca26"
             ],
             [
              1,
              "#f0f921"
             ]
            ],
            "type": "histogram2d"
           }
          ],
          "histogram2dcontour": [
           {
            "colorbar": {
             "outlinewidth": 0,
             "ticks": ""
            },
            "colorscale": [
             [
              0,
              "#0d0887"
             ],
             [
              0.1111111111111111,
              "#46039f"
             ],
             [
              0.2222222222222222,
              "#7201a8"
             ],
             [
              0.3333333333333333,
              "#9c179e"
             ],
             [
              0.4444444444444444,
              "#bd3786"
             ],
             [
              0.5555555555555556,
              "#d8576b"
             ],
             [
              0.6666666666666666,
              "#ed7953"
             ],
             [
              0.7777777777777778,
              "#fb9f3a"
             ],
             [
              0.8888888888888888,
              "#fdca26"
             ],
             [
              1,
              "#f0f921"
             ]
            ],
            "type": "histogram2dcontour"
           }
          ],
          "mesh3d": [
           {
            "colorbar": {
             "outlinewidth": 0,
             "ticks": ""
            },
            "type": "mesh3d"
           }
          ],
          "parcoords": [
           {
            "line": {
             "colorbar": {
              "outlinewidth": 0,
              "ticks": ""
             }
            },
            "type": "parcoords"
           }
          ],
          "pie": [
           {
            "automargin": true,
            "type": "pie"
           }
          ],
          "scatter": [
           {
            "fillpattern": {
             "fillmode": "overlay",
             "size": 10,
             "solidity": 0.2
            },
            "type": "scatter"
           }
          ],
          "scatter3d": [
           {
            "line": {
             "colorbar": {
              "outlinewidth": 0,
              "ticks": ""
             }
            },
            "marker": {
             "colorbar": {
              "outlinewidth": 0,
              "ticks": ""
             }
            },
            "type": "scatter3d"
           }
          ],
          "scattercarpet": [
           {
            "marker": {
             "colorbar": {
              "outlinewidth": 0,
              "ticks": ""
             }
            },
            "type": "scattercarpet"
           }
          ],
          "scattergeo": [
           {
            "marker": {
             "colorbar": {
              "outlinewidth": 0,
              "ticks": ""
             }
            },
            "type": "scattergeo"
           }
          ],
          "scattergl": [
           {
            "marker": {
             "colorbar": {
              "outlinewidth": 0,
              "ticks": ""
             }
            },
            "type": "scattergl"
           }
          ],
          "scattermapbox": [
           {
            "marker": {
             "colorbar": {
              "outlinewidth": 0,
              "ticks": ""
             }
            },
            "type": "scattermapbox"
           }
          ],
          "scatterpolar": [
           {
            "marker": {
             "colorbar": {
              "outlinewidth": 0,
              "ticks": ""
             }
            },
            "type": "scatterpolar"
           }
          ],
          "scatterpolargl": [
           {
            "marker": {
             "colorbar": {
              "outlinewidth": 0,
              "ticks": ""
             }
            },
            "type": "scatterpolargl"
           }
          ],
          "scatterternary": [
           {
            "marker": {
             "colorbar": {
              "outlinewidth": 0,
              "ticks": ""
             }
            },
            "type": "scatterternary"
           }
          ],
          "surface": [
           {
            "colorbar": {
             "outlinewidth": 0,
             "ticks": ""
            },
            "colorscale": [
             [
              0,
              "#0d0887"
             ],
             [
              0.1111111111111111,
              "#46039f"
             ],
             [
              0.2222222222222222,
              "#7201a8"
             ],
             [
              0.3333333333333333,
              "#9c179e"
             ],
             [
              0.4444444444444444,
              "#bd3786"
             ],
             [
              0.5555555555555556,
              "#d8576b"
             ],
             [
              0.6666666666666666,
              "#ed7953"
             ],
             [
              0.7777777777777778,
              "#fb9f3a"
             ],
             [
              0.8888888888888888,
              "#fdca26"
             ],
             [
              1,
              "#f0f921"
             ]
            ],
            "type": "surface"
           }
          ],
          "table": [
           {
            "cells": {
             "fill": {
              "color": "#EBF0F8"
             },
             "line": {
              "color": "white"
             }
            },
            "header": {
             "fill": {
              "color": "#C8D4E3"
             },
             "line": {
              "color": "white"
             }
            },
            "type": "table"
           }
          ]
         },
         "layout": {
          "annotationdefaults": {
           "arrowcolor": "#2a3f5f",
           "arrowhead": 0,
           "arrowwidth": 1
          },
          "autotypenumbers": "strict",
          "coloraxis": {
           "colorbar": {
            "outlinewidth": 0,
            "ticks": ""
           }
          },
          "colorscale": {
           "diverging": [
            [
             0,
             "#8e0152"
            ],
            [
             0.1,
             "#c51b7d"
            ],
            [
             0.2,
             "#de77ae"
            ],
            [
             0.3,
             "#f1b6da"
            ],
            [
             0.4,
             "#fde0ef"
            ],
            [
             0.5,
             "#f7f7f7"
            ],
            [
             0.6,
             "#e6f5d0"
            ],
            [
             0.7,
             "#b8e186"
            ],
            [
             0.8,
             "#7fbc41"
            ],
            [
             0.9,
             "#4d9221"
            ],
            [
             1,
             "#276419"
            ]
           ],
           "sequential": [
            [
             0,
             "#0d0887"
            ],
            [
             0.1111111111111111,
             "#46039f"
            ],
            [
             0.2222222222222222,
             "#7201a8"
            ],
            [
             0.3333333333333333,
             "#9c179e"
            ],
            [
             0.4444444444444444,
             "#bd3786"
            ],
            [
             0.5555555555555556,
             "#d8576b"
            ],
            [
             0.6666666666666666,
             "#ed7953"
            ],
            [
             0.7777777777777778,
             "#fb9f3a"
            ],
            [
             0.8888888888888888,
             "#fdca26"
            ],
            [
             1,
             "#f0f921"
            ]
           ],
           "sequentialminus": [
            [
             0,
             "#0d0887"
            ],
            [
             0.1111111111111111,
             "#46039f"
            ],
            [
             0.2222222222222222,
             "#7201a8"
            ],
            [
             0.3333333333333333,
             "#9c179e"
            ],
            [
             0.4444444444444444,
             "#bd3786"
            ],
            [
             0.5555555555555556,
             "#d8576b"
            ],
            [
             0.6666666666666666,
             "#ed7953"
            ],
            [
             0.7777777777777778,
             "#fb9f3a"
            ],
            [
             0.8888888888888888,
             "#fdca26"
            ],
            [
             1,
             "#f0f921"
            ]
           ]
          },
          "colorway": [
           "#636efa",
           "#EF553B",
           "#00cc96",
           "#ab63fa",
           "#FFA15A",
           "#19d3f3",
           "#FF6692",
           "#B6E880",
           "#FF97FF",
           "#FECB52"
          ],
          "font": {
           "color": "#2a3f5f"
          },
          "geo": {
           "bgcolor": "white",
           "lakecolor": "white",
           "landcolor": "white",
           "showlakes": true,
           "showland": true,
           "subunitcolor": "#C8D4E3"
          },
          "hoverlabel": {
           "align": "left"
          },
          "hovermode": "closest",
          "mapbox": {
           "style": "light"
          },
          "paper_bgcolor": "white",
          "plot_bgcolor": "white",
          "polar": {
           "angularaxis": {
            "gridcolor": "#EBF0F8",
            "linecolor": "#EBF0F8",
            "ticks": ""
           },
           "bgcolor": "white",
           "radialaxis": {
            "gridcolor": "#EBF0F8",
            "linecolor": "#EBF0F8",
            "ticks": ""
           }
          },
          "scene": {
           "xaxis": {
            "backgroundcolor": "white",
            "gridcolor": "#DFE8F3",
            "gridwidth": 2,
            "linecolor": "#EBF0F8",
            "showbackground": true,
            "ticks": "",
            "zerolinecolor": "#EBF0F8"
           },
           "yaxis": {
            "backgroundcolor": "white",
            "gridcolor": "#DFE8F3",
            "gridwidth": 2,
            "linecolor": "#EBF0F8",
            "showbackground": true,
            "ticks": "",
            "zerolinecolor": "#EBF0F8"
           },
           "zaxis": {
            "backgroundcolor": "white",
            "gridcolor": "#DFE8F3",
            "gridwidth": 2,
            "linecolor": "#EBF0F8",
            "showbackground": true,
            "ticks": "",
            "zerolinecolor": "#EBF0F8"
           }
          },
          "shapedefaults": {
           "line": {
            "color": "#2a3f5f"
           }
          },
          "ternary": {
           "aaxis": {
            "gridcolor": "#DFE8F3",
            "linecolor": "#A2B1C6",
            "ticks": ""
           },
           "baxis": {
            "gridcolor": "#DFE8F3",
            "linecolor": "#A2B1C6",
            "ticks": ""
           },
           "bgcolor": "white",
           "caxis": {
            "gridcolor": "#DFE8F3",
            "linecolor": "#A2B1C6",
            "ticks": ""
           }
          },
          "title": {
           "x": 0.05
          },
          "xaxis": {
           "automargin": true,
           "gridcolor": "#EBF0F8",
           "linecolor": "#EBF0F8",
           "ticks": "",
           "title": {
            "standoff": 15
           },
           "zerolinecolor": "#EBF0F8",
           "zerolinewidth": 2
          },
          "yaxis": {
           "automargin": true,
           "gridcolor": "#EBF0F8",
           "linecolor": "#EBF0F8",
           "ticks": "",
           "title": {
            "standoff": 15
           },
           "zerolinecolor": "#EBF0F8",
           "zerolinewidth": 2
          }
         }
        },
        "width": 800,
        "xaxis": {
         "title": {
          "text": "Time since 2024-02-19T06:21:42.000 (s)"
         }
        },
        "yaxis": {
         "title": {
          "text": "Counts per second"
         }
        }
       }
      }
     },
     "metadata": {},
     "output_type": "display_data"
    },
    {
     "name": "stdout",
     "output_type": "stream",
     "text": [
      "\n",
      "+------------------------------------------------+\n",
      " extract spectrum for b1\n",
      "+------------------------------------------------+\n"
     ]
    },
    {
     "data": {
      "application/vnd.plotly.v1+json": {
       "config": {
        "plotlyServerURL": "https://plot.ly"
       },
       "data": [
        {
         "mode": "lines",
         "name": "total lightcurve",
         "showlegend": true,
         "type": "scatter",
         "x": [
          -398,
          -394,
          -390,
          -386,
          -382,
          -378,
          -374,
          -370,
          -366,
          -362,
          -358,
          -354,
          -350,
          -346,
          -342,
          -338,
          -334,
          -330,
          -326,
          -322,
          -318,
          -314,
          -310,
          -306,
          -302,
          -298,
          -294,
          -290,
          -286,
          -282,
          -278,
          -274,
          -270,
          -266,
          -262,
          -258,
          -254,
          -250,
          -246,
          -242,
          -238,
          -234,
          -230,
          -226,
          -222,
          -218,
          -214,
          -210,
          -206,
          -202,
          -198,
          -194,
          -190,
          -186,
          -182,
          -178,
          -174,
          -170,
          -166,
          -162,
          -158,
          -154,
          -150,
          -146,
          -142,
          -138,
          -134,
          -130,
          -126,
          -122,
          -118,
          -114,
          -110,
          -106,
          -102,
          -98,
          -94,
          -90,
          -86,
          -82,
          -78,
          -74,
          -70,
          -66,
          -62,
          -58,
          -54,
          -50,
          -46,
          -42,
          -38,
          -34,
          -30,
          -26,
          -22,
          -18,
          -14,
          -10,
          -6,
          -2,
          2,
          6,
          10,
          14,
          18,
          22,
          26,
          30,
          34,
          38,
          42,
          46,
          50,
          54,
          58,
          62,
          66,
          70,
          74,
          78,
          82,
          86,
          90,
          94,
          98,
          102,
          106,
          110,
          114,
          118,
          122,
          126,
          130,
          134,
          138,
          142,
          146,
          150,
          154,
          158,
          162,
          166,
          170,
          174,
          178,
          182,
          186,
          190,
          194,
          198,
          202,
          206,
          210,
          214,
          218,
          222,
          226,
          230,
          234,
          238,
          242,
          246,
          250,
          254,
          258,
          262,
          266,
          270,
          274,
          278,
          282,
          286,
          290,
          294,
          298,
          302,
          306,
          310,
          314,
          318,
          322,
          326,
          330,
          334,
          338,
          342,
          346,
          350,
          354,
          358,
          362,
          366,
          370,
          374,
          378,
          382,
          386,
          390,
          394,
          398
         ],
         "y": [
          2140,
          2182.25,
          2182.75,
          2187.25,
          2191.5,
          2214,
          2189.75,
          2173,
          2153.5,
          2157.25,
          2176.25,
          2204.75,
          2145,
          2191.75,
          2178,
          2205,
          2184.25,
          2146.5,
          2180.25,
          2148,
          2161.75,
          2123.25,
          2182.75,
          2196,
          2162.75,
          2142.75,
          2117,
          2162.5,
          2166.5,
          2166.25,
          2161,
          2160.5,
          2185.75,
          2164.25,
          2150.5,
          2149.25,
          2169.5,
          2149.25,
          2155.5,
          2147.25,
          2159.25,
          2151,
          2114.5,
          2158.5,
          2148.5,
          2130.25,
          2177.25,
          2172.75,
          2162,
          2209.5,
          2183.5,
          2195.5,
          2132.25,
          2138.5,
          2141.75,
          2140,
          2141,
          2138.75,
          2186.25,
          2147.75,
          2157,
          2122.5,
          2153.75,
          2192.25,
          2166.5,
          2155.25,
          2152.25,
          2180.25,
          2156,
          2141.75,
          2115.5,
          2153.25,
          2179.5,
          2147,
          2143,
          2157.5,
          2119.5,
          2129.25,
          2130,
          2084,
          2129.75,
          2117.75,
          2140,
          2084.25,
          2158.75,
          2143.75,
          2127,
          2156,
          2149.5,
          2139.25,
          2131.5,
          2090.25,
          2177.75,
          2169,
          2136.5,
          2163,
          2156.25,
          2135.75,
          2144,
          2130.75,
          2123.25,
          2091,
          2103.75,
          2165.25,
          2148,
          2156.5,
          2164.5,
          2179.5,
          2146.75,
          2172.5,
          2187.5,
          2155.75,
          2142.75,
          2116.75,
          2131,
          2119,
          2160.25,
          2135.75,
          2149,
          2173.75,
          2092.75,
          2173,
          2118.5,
          2123.25,
          2165,
          2123.5,
          2148,
          2175.25,
          2102.5,
          2180.75,
          2149,
          2127.5,
          2178.5,
          2156.5,
          2101.75,
          2134.75,
          2104,
          2120.5,
          2080,
          2119.5,
          2123.75,
          2092,
          2101.25,
          2077.25,
          2113,
          2132.5,
          2113.5,
          2116.25,
          2090.75,
          2117.25,
          2085,
          2087.25,
          2118.75,
          2106,
          2118.5,
          2085.75,
          2090.5,
          2102,
          2102.75,
          2095.5,
          2087.5,
          2112.25,
          2125,
          2042.75,
          2107,
          2158.25,
          2106.25,
          2082.5,
          2097.75,
          2078.75,
          2088.5,
          2096.5,
          2117.5,
          2121,
          2095,
          2105,
          2088.75,
          2105.25,
          2073,
          2080.75,
          2072.5,
          2118,
          2140,
          2074.5,
          2095,
          2069.25,
          2101.25,
          2074.5,
          2111.75,
          2110,
          2119.25,
          2134.5,
          2136.25,
          2095.25,
          2093,
          2057.75,
          2124.5,
          2103.5,
          2121.25,
          2109
         ]
        },
        {
         "mode": "lines",
         "name": "total background",
         "showlegend": true,
         "type": "scatter",
         "x": [
          -300,
          -293.93939393939394,
          -287.8787878787879,
          -281.8181818181818,
          -275.75757575757575,
          -269.6969696969697,
          -263.6363636363636,
          -257.57575757575756,
          -251.5151515151515,
          -245.45454545454544,
          -239.39393939393938,
          -233.33333333333331,
          -227.27272727272728,
          -221.21212121212122,
          -215.15151515151516,
          -209.0909090909091,
          -203.03030303030303,
          -196.96969696969697,
          -190.9090909090909,
          -184.84848484848484,
          -178.78787878787878,
          -172.72727272727275,
          -166.66666666666666,
          -160.6060606060606,
          -154.54545454545456,
          -148.4848484848485,
          -142.42424242424244,
          -136.36363636363637,
          -130.3030303030303,
          -124.24242424242425,
          -118.18181818181819,
          -112.12121212121212,
          -106.06060606060606,
          -100,
          -93.93939393939394,
          -87.87878787878788,
          -81.81818181818181,
          -75.75757575757575,
          -69.69696969696969,
          -63.636363636363626,
          -57.575757575757564,
          -51.51515151515153,
          -45.45454545454547,
          -39.39393939393938,
          -33.333333333333314,
          -27.272727272727252,
          -21.21212121212119,
          -15.151515151515127,
          -9.090909090909122,
          -3.0303030303030596,
          3.0303030303030027,
          9.090909090909065,
          15.151515151515127,
          21.21212121212119,
          27.272727272727252,
          33.333333333333314,
          39.39393939393938,
          45.45454545454544,
          51.5151515151515,
          57.575757575757564,
          63.636363636363626,
          69.69696969696969,
          75.75757575757575,
          81.81818181818181,
          87.87878787878788,
          93.93939393939394,
          100,
          106.06060606060606,
          112.12121212121212,
          118.18181818181819,
          124.24242424242425,
          130.3030303030303,
          136.36363636363637,
          142.42424242424244,
          148.4848484848485,
          154.54545454545456,
          160.60606060606062,
          166.66666666666669,
          172.72727272727275,
          178.7878787878788,
          184.84848484848487,
          190.90909090909088,
          196.96969696969694,
          203.030303030303,
          209.09090909090907,
          215.15151515151513,
          221.21212121212125,
          227.27272727272725,
          233.33333333333337,
          239.39393939393938,
          245.4545454545455,
          251.5151515151515,
          257.5757575757576,
          263.6363636363636,
          269.69696969696975,
          275.75757575757575,
          281.81818181818176,
          287.8787878787879,
          293.9393939393939,
          300
         ],
         "y": [
          2166.528848912256,
          2166.0093511248024,
          2165.4868406197215,
          2164.9613400353396,
          2164.4328720099834,
          2163.9014591819796,
          2163.367124189654,
          2162.829889671334,
          2162.289778265346,
          2161.7468126100152,
          2161.2010153436695,
          2160.6524091046354,
          2160.1010165312387,
          2159.5468602618057,
          2158.989962934664,
          2158.4303471881394,
          2157.8680356605587,
          2157.303050990248,
          2156.7354158155335,
          2156.165152774743,
          2155.592284506202,
          2155.016833648237,
          2154.438822839175,
          2153.858274717342,
          2153.2752119210654,
          2152.6896570886706,
          2152.101632858484,
          2151.511161868834,
          2150.918266758045,
          2150.3229701644436,
          2149.725294726358,
          2149.125263082113,
          2148.522897870036,
          2147.918221728454,
          2147.311257295692,
          2146.702027210077,
          2146.0905541099364,
          2145.476860633596,
          2144.860969419383,
          2144.2429031056226,
          2143.622684330642,
          2143.0003357327682,
          2142.375879950327,
          2141.749339621645,
          2141.1207373850493,
          2140.4900958788658,
          2139.8574377414207,
          2139.2227856110417,
          2138.586162126054,
          2137.947589924785,
          2137.3070916455604,
          2136.6646899267075,
          2136.0204074065527,
          2135.374266723422,
          2134.726290515642,
          2134.0765014215403,
          2133.424922079442,
          2132.771575127674,
          2132.116483204563,
          2131.459668948435,
          2130.8011549976172,
          2130.140963990436,
          2129.479118565218,
          2128.815641360289,
          2128.1505550139764,
          2127.483882164606,
          2126.8156454505047,
          2126.1458675099984,
          2125.4745709814147,
          2124.801778503079,
          2124.127512713318,
          2123.451796250459,
          2122.774651752828,
          2122.096101858752,
          2121.416169206556,
          2120.734876434568,
          2120.052246181114,
          2119.36830108452,
          2118.683063783114,
          2117.9965569152205,
          2117.308803119168,
          2116.6198250332814,
          2115.9296452958883,
          2115.238286545314,
          2114.5457714198865,
          2113.852122557931,
          2113.1573625977753,
          2112.4615141777444,
          2111.764599936166,
          2111.066642511366,
          2110.3676645416713,
          2109.667688665408,
          2108.966737520903,
          2108.264833746482,
          2107.561999980473,
          2106.858258861201,
          2106.1536330269932,
          2105.448145116176,
          2104.741817767076,
          2104.03467361802
         ]
        },
        {
         "mode": "lines",
         "name": "summing background",
         "showlegend": true,
         "type": "scatter",
         "x": [
          -300,
          -293.93939393939394,
          -287.8787878787879,
          -281.8181818181818,
          -275.75757575757575,
          -269.6969696969697,
          -263.6363636363636,
          -257.57575757575756,
          -251.5151515151515,
          -245.45454545454544,
          -239.39393939393938,
          -233.33333333333331,
          -227.27272727272728,
          -221.21212121212122,
          -215.15151515151516,
          -209.0909090909091,
          -203.03030303030303,
          -196.96969696969697,
          -190.9090909090909,
          -184.84848484848484,
          -178.78787878787878,
          -172.72727272727275,
          -166.66666666666666,
          -160.6060606060606,
          -154.54545454545456,
          -148.4848484848485,
          -142.42424242424244,
          -136.36363636363637,
          -130.3030303030303,
          -124.24242424242425,
          -118.18181818181819,
          -112.12121212121212,
          -106.06060606060606,
          -100,
          -93.93939393939394,
          -87.87878787878788,
          -81.81818181818181,
          -75.75757575757575,
          -69.69696969696969,
          -63.636363636363626,
          -57.575757575757564,
          -51.51515151515153,
          -45.45454545454547,
          -39.39393939393938,
          -33.333333333333314,
          -27.272727272727252,
          -21.21212121212119,
          -15.151515151515127,
          -9.090909090909122,
          -3.0303030303030596,
          3.0303030303030027,
          9.090909090909065,
          15.151515151515127,
          21.21212121212119,
          27.272727272727252,
          33.333333333333314,
          39.39393939393938,
          45.45454545454544,
          51.5151515151515,
          57.575757575757564,
          63.636363636363626,
          69.69696969696969,
          75.75757575757575,
          81.81818181818181,
          87.87878787878788,
          93.93939393939394,
          100,
          106.06060606060606,
          112.12121212121212,
          118.18181818181819,
          124.24242424242425,
          130.3030303030303,
          136.36363636363637,
          142.42424242424244,
          148.4848484848485,
          154.54545454545456,
          160.60606060606062,
          166.66666666666669,
          172.72727272727275,
          178.7878787878788,
          184.84848484848487,
          190.90909090909088,
          196.96969696969694,
          203.030303030303,
          209.09090909090907,
          215.15151515151513,
          221.21212121212125,
          227.27272727272725,
          233.33333333333337,
          239.39393939393938,
          245.4545454545455,
          251.5151515151515,
          257.5757575757576,
          263.6363636363636,
          269.69696969696975,
          275.75757575757575,
          281.81818181818176,
          287.8787878787879,
          293.9393939393939,
          300
         ],
         "y": [
          2166.5472695694857,
          2166.0269694389885,
          2165.503697958932,
          2164.9774767248377,
          2164.4483273322207,
          2163.916271376594,
          2163.3813304534783,
          2162.843526158391,
          2162.3028800868424,
          2161.75941383436,
          2161.2131489964545,
          2160.664107168643,
          2160.112309946445,
          2159.557778925377,
          2159.000535700952,
          2158.4406018686914,
          2157.8779990241105,
          2157.3127487627257,
          2156.744872680055,
          2156.1743923716153,
          2155.6013294329246,
          2155.0257054594995,
          2154.447542046853,
          2153.866860790507,
          2153.283683285977,
          2152.6980311287803,
          2152.109925914434,
          2151.519389238453,
          2150.9264426963564,
          2150.3311078836596,
          2149.7334063958815,
          2149.133359828539,
          2148.5309897771463,
          2147.9263178372235,
          2147.3193656042863,
          2146.710154673852,
          2146.098706641436,
          2145.485043102559,
          2144.869185652733,
          2144.2511558874808,
          2143.6309754023137,
          2143.00866579275,
          2142.3842486543117,
          2141.7577455825103,
          2141.1291781728646,
          2140.49856802089,
          2139.865936722105,
          2139.231305872028,
          2138.5946970661744,
          2137.956131900062,
          2137.3156319692066,
          2136.673218869125,
          2136.028914195334,
          2135.3827395433527,
          2134.7347165086976,
          2134.0848666868824,
          2133.433211673429,
          2132.779773063852,
          2132.124572453667,
          2131.4676314383923,
          2130.8089716135455,
          2130.1486145746435,
          2129.486581917202,
          2128.8228952367404,
          2128.157576128772,
          2127.4906461888177,
          2126.822127012391,
          2126.1520401950115,
          2125.480407332195,
          2124.8072500194594,
          2124.1325898523205,
          2123.456448426297,
          2122.7788473369023,
          2122.099808179659,
          2121.4193525500773,
          2120.73750204368,
          2120.0542782559814,
          2119.369702782498,
          2118.683797218748,
          2117.9965831602494,
          2117.308082202517,
          2116.61831594107,
          2115.9273059714224,
          2115.2350738890937,
          2114.5416412896,
          2113.847029768457,
          2113.151260921185,
          2112.4543563432967,
          2111.756337630314,
          2111.057226377749,
          2110.3570441811225,
          2109.6558126359496,
          2108.9535533377466,
          2108.2502878820324,
          2107.5460378643243,
          2106.840824880136,
          2106.1346705249885,
          2105.427596394397,
          2104.7196240838757,
          2104.010775188947
         ]
        }
       ],
       "layout": {
        "height": 600,
        "legend": {
         "x": 1,
         "xanchor": "right",
         "y": 1,
         "yanchor": "bottom"
        },
        "template": {
         "data": {
          "bar": [
           {
            "error_x": {
             "color": "#2a3f5f"
            },
            "error_y": {
             "color": "#2a3f5f"
            },
            "marker": {
             "line": {
              "color": "white",
              "width": 0.5
             },
             "pattern": {
              "fillmode": "overlay",
              "size": 10,
              "solidity": 0.2
             }
            },
            "type": "bar"
           }
          ],
          "barpolar": [
           {
            "marker": {
             "line": {
              "color": "white",
              "width": 0.5
             },
             "pattern": {
              "fillmode": "overlay",
              "size": 10,
              "solidity": 0.2
             }
            },
            "type": "barpolar"
           }
          ],
          "carpet": [
           {
            "aaxis": {
             "endlinecolor": "#2a3f5f",
             "gridcolor": "#C8D4E3",
             "linecolor": "#C8D4E3",
             "minorgridcolor": "#C8D4E3",
             "startlinecolor": "#2a3f5f"
            },
            "baxis": {
             "endlinecolor": "#2a3f5f",
             "gridcolor": "#C8D4E3",
             "linecolor": "#C8D4E3",
             "minorgridcolor": "#C8D4E3",
             "startlinecolor": "#2a3f5f"
            },
            "type": "carpet"
           }
          ],
          "choropleth": [
           {
            "colorbar": {
             "outlinewidth": 0,
             "ticks": ""
            },
            "type": "choropleth"
           }
          ],
          "contour": [
           {
            "colorbar": {
             "outlinewidth": 0,
             "ticks": ""
            },
            "colorscale": [
             [
              0,
              "#0d0887"
             ],
             [
              0.1111111111111111,
              "#46039f"
             ],
             [
              0.2222222222222222,
              "#7201a8"
             ],
             [
              0.3333333333333333,
              "#9c179e"
             ],
             [
              0.4444444444444444,
              "#bd3786"
             ],
             [
              0.5555555555555556,
              "#d8576b"
             ],
             [
              0.6666666666666666,
              "#ed7953"
             ],
             [
              0.7777777777777778,
              "#fb9f3a"
             ],
             [
              0.8888888888888888,
              "#fdca26"
             ],
             [
              1,
              "#f0f921"
             ]
            ],
            "type": "contour"
           }
          ],
          "contourcarpet": [
           {
            "colorbar": {
             "outlinewidth": 0,
             "ticks": ""
            },
            "type": "contourcarpet"
           }
          ],
          "heatmap": [
           {
            "colorbar": {
             "outlinewidth": 0,
             "ticks": ""
            },
            "colorscale": [
             [
              0,
              "#0d0887"
             ],
             [
              0.1111111111111111,
              "#46039f"
             ],
             [
              0.2222222222222222,
              "#7201a8"
             ],
             [
              0.3333333333333333,
              "#9c179e"
             ],
             [
              0.4444444444444444,
              "#bd3786"
             ],
             [
              0.5555555555555556,
              "#d8576b"
             ],
             [
              0.6666666666666666,
              "#ed7953"
             ],
             [
              0.7777777777777778,
              "#fb9f3a"
             ],
             [
              0.8888888888888888,
              "#fdca26"
             ],
             [
              1,
              "#f0f921"
             ]
            ],
            "type": "heatmap"
           }
          ],
          "heatmapgl": [
           {
            "colorbar": {
             "outlinewidth": 0,
             "ticks": ""
            },
            "colorscale": [
             [
              0,
              "#0d0887"
             ],
             [
              0.1111111111111111,
              "#46039f"
             ],
             [
              0.2222222222222222,
              "#7201a8"
             ],
             [
              0.3333333333333333,
              "#9c179e"
             ],
             [
              0.4444444444444444,
              "#bd3786"
             ],
             [
              0.5555555555555556,
              "#d8576b"
             ],
             [
              0.6666666666666666,
              "#ed7953"
             ],
             [
              0.7777777777777778,
              "#fb9f3a"
             ],
             [
              0.8888888888888888,
              "#fdca26"
             ],
             [
              1,
              "#f0f921"
             ]
            ],
            "type": "heatmapgl"
           }
          ],
          "histogram": [
           {
            "marker": {
             "pattern": {
              "fillmode": "overlay",
              "size": 10,
              "solidity": 0.2
             }
            },
            "type": "histogram"
           }
          ],
          "histogram2d": [
           {
            "colorbar": {
             "outlinewidth": 0,
             "ticks": ""
            },
            "colorscale": [
             [
              0,
              "#0d0887"
             ],
             [
              0.1111111111111111,
              "#46039f"
             ],
             [
              0.2222222222222222,
              "#7201a8"
             ],
             [
              0.3333333333333333,
              "#9c179e"
             ],
             [
              0.4444444444444444,
              "#bd3786"
             ],
             [
              0.5555555555555556,
              "#d8576b"
             ],
             [
              0.6666666666666666,
              "#ed7953"
             ],
             [
              0.7777777777777778,
              "#fb9f3a"
             ],
             [
              0.8888888888888888,
              "#fdca26"
             ],
             [
              1,
              "#f0f921"
             ]
            ],
            "type": "histogram2d"
           }
          ],
          "histogram2dcontour": [
           {
            "colorbar": {
             "outlinewidth": 0,
             "ticks": ""
            },
            "colorscale": [
             [
              0,
              "#0d0887"
             ],
             [
              0.1111111111111111,
              "#46039f"
             ],
             [
              0.2222222222222222,
              "#7201a8"
             ],
             [
              0.3333333333333333,
              "#9c179e"
             ],
             [
              0.4444444444444444,
              "#bd3786"
             ],
             [
              0.5555555555555556,
              "#d8576b"
             ],
             [
              0.6666666666666666,
              "#ed7953"
             ],
             [
              0.7777777777777778,
              "#fb9f3a"
             ],
             [
              0.8888888888888888,
              "#fdca26"
             ],
             [
              1,
              "#f0f921"
             ]
            ],
            "type": "histogram2dcontour"
           }
          ],
          "mesh3d": [
           {
            "colorbar": {
             "outlinewidth": 0,
             "ticks": ""
            },
            "type": "mesh3d"
           }
          ],
          "parcoords": [
           {
            "line": {
             "colorbar": {
              "outlinewidth": 0,
              "ticks": ""
             }
            },
            "type": "parcoords"
           }
          ],
          "pie": [
           {
            "automargin": true,
            "type": "pie"
           }
          ],
          "scatter": [
           {
            "fillpattern": {
             "fillmode": "overlay",
             "size": 10,
             "solidity": 0.2
            },
            "type": "scatter"
           }
          ],
          "scatter3d": [
           {
            "line": {
             "colorbar": {
              "outlinewidth": 0,
              "ticks": ""
             }
            },
            "marker": {
             "colorbar": {
              "outlinewidth": 0,
              "ticks": ""
             }
            },
            "type": "scatter3d"
           }
          ],
          "scattercarpet": [
           {
            "marker": {
             "colorbar": {
              "outlinewidth": 0,
              "ticks": ""
             }
            },
            "type": "scattercarpet"
           }
          ],
          "scattergeo": [
           {
            "marker": {
             "colorbar": {
              "outlinewidth": 0,
              "ticks": ""
             }
            },
            "type": "scattergeo"
           }
          ],
          "scattergl": [
           {
            "marker": {
             "colorbar": {
              "outlinewidth": 0,
              "ticks": ""
             }
            },
            "type": "scattergl"
           }
          ],
          "scattermapbox": [
           {
            "marker": {
             "colorbar": {
              "outlinewidth": 0,
              "ticks": ""
             }
            },
            "type": "scattermapbox"
           }
          ],
          "scatterpolar": [
           {
            "marker": {
             "colorbar": {
              "outlinewidth": 0,
              "ticks": ""
             }
            },
            "type": "scatterpolar"
           }
          ],
          "scatterpolargl": [
           {
            "marker": {
             "colorbar": {
              "outlinewidth": 0,
              "ticks": ""
             }
            },
            "type": "scatterpolargl"
           }
          ],
          "scatterternary": [
           {
            "marker": {
             "colorbar": {
              "outlinewidth": 0,
              "ticks": ""
             }
            },
            "type": "scatterternary"
           }
          ],
          "surface": [
           {
            "colorbar": {
             "outlinewidth": 0,
             "ticks": ""
            },
            "colorscale": [
             [
              0,
              "#0d0887"
             ],
             [
              0.1111111111111111,
              "#46039f"
             ],
             [
              0.2222222222222222,
              "#7201a8"
             ],
             [
              0.3333333333333333,
              "#9c179e"
             ],
             [
              0.4444444444444444,
              "#bd3786"
             ],
             [
              0.5555555555555556,
              "#d8576b"
             ],
             [
              0.6666666666666666,
              "#ed7953"
             ],
             [
              0.7777777777777778,
              "#fb9f3a"
             ],
             [
              0.8888888888888888,
              "#fdca26"
             ],
             [
              1,
              "#f0f921"
             ]
            ],
            "type": "surface"
           }
          ],
          "table": [
           {
            "cells": {
             "fill": {
              "color": "#EBF0F8"
             },
             "line": {
              "color": "white"
             }
            },
            "header": {
             "fill": {
              "color": "#C8D4E3"
             },
             "line": {
              "color": "white"
             }
            },
            "type": "table"
           }
          ]
         },
         "layout": {
          "annotationdefaults": {
           "arrowcolor": "#2a3f5f",
           "arrowhead": 0,
           "arrowwidth": 1
          },
          "autotypenumbers": "strict",
          "coloraxis": {
           "colorbar": {
            "outlinewidth": 0,
            "ticks": ""
           }
          },
          "colorscale": {
           "diverging": [
            [
             0,
             "#8e0152"
            ],
            [
             0.1,
             "#c51b7d"
            ],
            [
             0.2,
             "#de77ae"
            ],
            [
             0.3,
             "#f1b6da"
            ],
            [
             0.4,
             "#fde0ef"
            ],
            [
             0.5,
             "#f7f7f7"
            ],
            [
             0.6,
             "#e6f5d0"
            ],
            [
             0.7,
             "#b8e186"
            ],
            [
             0.8,
             "#7fbc41"
            ],
            [
             0.9,
             "#4d9221"
            ],
            [
             1,
             "#276419"
            ]
           ],
           "sequential": [
            [
             0,
             "#0d0887"
            ],
            [
             0.1111111111111111,
             "#46039f"
            ],
            [
             0.2222222222222222,
             "#7201a8"
            ],
            [
             0.3333333333333333,
             "#9c179e"
            ],
            [
             0.4444444444444444,
             "#bd3786"
            ],
            [
             0.5555555555555556,
             "#d8576b"
            ],
            [
             0.6666666666666666,
             "#ed7953"
            ],
            [
             0.7777777777777778,
             "#fb9f3a"
            ],
            [
             0.8888888888888888,
             "#fdca26"
            ],
            [
             1,
             "#f0f921"
            ]
           ],
           "sequentialminus": [
            [
             0,
             "#0d0887"
            ],
            [
             0.1111111111111111,
             "#46039f"
            ],
            [
             0.2222222222222222,
             "#7201a8"
            ],
            [
             0.3333333333333333,
             "#9c179e"
            ],
            [
             0.4444444444444444,
             "#bd3786"
            ],
            [
             0.5555555555555556,
             "#d8576b"
            ],
            [
             0.6666666666666666,
             "#ed7953"
            ],
            [
             0.7777777777777778,
             "#fb9f3a"
            ],
            [
             0.8888888888888888,
             "#fdca26"
            ],
            [
             1,
             "#f0f921"
            ]
           ]
          },
          "colorway": [
           "#636efa",
           "#EF553B",
           "#00cc96",
           "#ab63fa",
           "#FFA15A",
           "#19d3f3",
           "#FF6692",
           "#B6E880",
           "#FF97FF",
           "#FECB52"
          ],
          "font": {
           "color": "#2a3f5f"
          },
          "geo": {
           "bgcolor": "white",
           "lakecolor": "white",
           "landcolor": "white",
           "showlakes": true,
           "showland": true,
           "subunitcolor": "#C8D4E3"
          },
          "hoverlabel": {
           "align": "left"
          },
          "hovermode": "closest",
          "mapbox": {
           "style": "light"
          },
          "paper_bgcolor": "white",
          "plot_bgcolor": "white",
          "polar": {
           "angularaxis": {
            "gridcolor": "#EBF0F8",
            "linecolor": "#EBF0F8",
            "ticks": ""
           },
           "bgcolor": "white",
           "radialaxis": {
            "gridcolor": "#EBF0F8",
            "linecolor": "#EBF0F8",
            "ticks": ""
           }
          },
          "scene": {
           "xaxis": {
            "backgroundcolor": "white",
            "gridcolor": "#DFE8F3",
            "gridwidth": 2,
            "linecolor": "#EBF0F8",
            "showbackground": true,
            "ticks": "",
            "zerolinecolor": "#EBF0F8"
           },
           "yaxis": {
            "backgroundcolor": "white",
            "gridcolor": "#DFE8F3",
            "gridwidth": 2,
            "linecolor": "#EBF0F8",
            "showbackground": true,
            "ticks": "",
            "zerolinecolor": "#EBF0F8"
           },
           "zaxis": {
            "backgroundcolor": "white",
            "gridcolor": "#DFE8F3",
            "gridwidth": 2,
            "linecolor": "#EBF0F8",
            "showbackground": true,
            "ticks": "",
            "zerolinecolor": "#EBF0F8"
           }
          },
          "shapedefaults": {
           "line": {
            "color": "#2a3f5f"
           }
          },
          "ternary": {
           "aaxis": {
            "gridcolor": "#DFE8F3",
            "linecolor": "#A2B1C6",
            "ticks": ""
           },
           "baxis": {
            "gridcolor": "#DFE8F3",
            "linecolor": "#A2B1C6",
            "ticks": ""
           },
           "bgcolor": "white",
           "caxis": {
            "gridcolor": "#DFE8F3",
            "linecolor": "#A2B1C6",
            "ticks": ""
           }
          },
          "title": {
           "x": 0.05
          },
          "xaxis": {
           "automargin": true,
           "gridcolor": "#EBF0F8",
           "linecolor": "#EBF0F8",
           "ticks": "",
           "title": {
            "standoff": 15
           },
           "zerolinecolor": "#EBF0F8",
           "zerolinewidth": 2
          },
          "yaxis": {
           "automargin": true,
           "gridcolor": "#EBF0F8",
           "linecolor": "#EBF0F8",
           "ticks": "",
           "title": {
            "standoff": 15
           },
           "zerolinecolor": "#EBF0F8",
           "zerolinewidth": 2
          }
         }
        },
        "width": 800,
        "xaxis": {
         "title": {
          "text": "Time since 2024-02-19T06:21:42.000 (s)"
         }
        },
        "yaxis": {
         "title": {
          "text": "Counts per second"
         }
        }
       }
      }
     },
     "metadata": {},
     "output_type": "display_data"
    }
   ],
   "source": [
    "for det in ['n9', 'na', 'b1']:\n",
    "    gbm_tte = gbmTTE(gbm_rtv.rtv_res['tte'][det])\n",
    "    gbm_tte.timezero = fermi_met\n",
    "    gbm_tte.filter_time([-400, 400])\n",
    "    \n",
    "    print(msg_format(f'extract spectrum for {det}'))\n",
    "    \n",
    "    gbm_tte.spec_slices = [[0, 70]]\n",
    "    gbm_tte.extract_spectrum(savepath=f'./{det}/spectrum', show=True)"
   ]
  },
  {
   "cell_type": "code",
   "execution_count": 21,
   "id": "f2b1b0de-328e-474b-b97d-e45c41e3a307",
   "metadata": {},
   "outputs": [
    {
     "name": "stderr",
     "output_type": "stream",
     "text": [
      "/Users/jyang/miniforge3/lib/python3.10/site-packages/responsum/response.py:108: RuntimeWarning:\n",
      "\n",
      "Minimum MC energy (5.0) is larger than minimum EBOUNDS energy (4.380217552185059)\n",
      "\n",
      "/Users/jyang/miniforge3/lib/python3.10/site-packages/responsum/response.py:108: RuntimeWarning:\n",
      "\n",
      "Minimum MC energy (5.0) is larger than minimum EBOUNDS energy (3.668320417404175)\n",
      "\n"
     ]
    }
   ],
   "source": [
    "for det in ['n9', 'na', 'b1']:\n",
    "    gbm_resp = gbmResponse(utc, \n",
    "                           det, \n",
    "                           gbm_rtv.rtv_res['cspec_pha'][det][0], \n",
    "                           gbm_rtv.rtv_res['poshist'][0])\n",
    "    gbm_resp.extract_response(ra=80.016, \n",
    "                              dec=25.541, \n",
    "                              spec_slices=[[0, 70]], \n",
    "                              savepath=f'./{det}/spectrum')"
   ]
  },
  {
   "cell_type": "code",
   "execution_count": null,
   "id": "4fd89645-bb46-4d9a-9489-f1c30a030ab3",
   "metadata": {},
   "outputs": [],
   "source": []
  }
 ],
 "metadata": {
  "kernelspec": {
   "display_name": "base",
   "language": "python",
   "name": "python3"
  },
  "language_info": {
   "codemirror_mode": {
    "name": "ipython",
    "version": 3
   },
   "file_extension": ".py",
   "mimetype": "text/x-python",
   "name": "python",
   "nbconvert_exporter": "python",
   "pygments_lexer": "ipython3",
   "version": "3.10.14"
  }
 },
 "nbformat": 4,
 "nbformat_minor": 5
}
